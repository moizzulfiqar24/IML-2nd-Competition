{
 "cells": [
  {
   "cell_type": "code",
   "execution_count": 1,
   "metadata": {},
   "outputs": [],
   "source": [
    "import pandas as pd\n",
    "from sklearn.model_selection import train_test_split\n",
    "from sklearn.preprocessing import StandardScaler\n",
    "from keras.models import Sequential\n",
    "from keras.layers import Dense, Dropout\n",
    "from keras.callbacks import EarlyStopping\n",
    "import os\n",
    "import torch\n",
    "from sklearn.neural_network import MLPRegressor\n",
    "from sklearn.ensemble import GradientBoostingRegressor\n",
    "from sklearn.metrics import mean_squared_error\n",
    "from sklearn.model_selection import GridSearchCV\n",
    "from keras.optimizers import SGD, Adam, Adadelta, RMSprop, Adagrad, Nadam, Ftrl\n",
    "from keras.regularizers import l2\n",
    "import numpy as np\n",
    "from sklearn.decomposition import PCA"
   ]
  },
  {
   "cell_type": "code",
   "execution_count": 2,
   "metadata": {},
   "outputs": [],
   "source": [
    "# Load the training data\n",
    "train_data = pd.read_csv('../../2nd-Comp-Data/train.csv')\n",
    "test_data = pd.read_csv('../../2nd-Comp-Data/test.csv')\n",
    "\n",
    "used = []\n",
    "\n",
    "# Extract features and target variable\n",
    "X = train_data.drop('price_doc', axis=1)\n",
    "y = train_data['price_doc']\n",
    "X_test = test_data.drop(['row ID'], axis=1)"
   ]
  },
  {
   "cell_type": "code",
   "execution_count": 3,
   "metadata": {},
   "outputs": [],
   "source": [
    "# X = X.drop('sub_area', axis=1)\n",
    "# X_test = X_test.drop('sub_area', axis=1)\n",
    "# used.append('Removed sub_area')"
   ]
  },
  {
   "cell_type": "code",
   "execution_count": 4,
   "metadata": {},
   "outputs": [],
   "source": [
    "# X = pd.get_dummies(X)\n",
    "# X_test = pd.get_dummies(X_test) \n",
    "# used.append('OneHot Encoding')"
   ]
  },
  {
   "cell_type": "code",
   "execution_count": 5,
   "metadata": {},
   "outputs": [
    {
     "name": "stdout",
     "output_type": "stream",
     "text": [
      "Train: Categorical columns: ['product_type', 'sub_area', 'culture_objects_top_25', 'thermal_power_plant_raion', 'incineration_raion', 'oil_chemistry_raion', 'radiation_raion', 'railroad_terminal_raion', 'big_market_raion', 'nuclear_reactor_raion', 'detention_facility_raion', 'water_1line', 'big_road1_1line', 'railroad_1line', 'ecology']\n",
      "Test: Categorical columns: ['product_type', 'sub_area', 'culture_objects_top_25', 'thermal_power_plant_raion', 'incineration_raion', 'oil_chemistry_raion', 'radiation_raion', 'railroad_terminal_raion', 'big_market_raion', 'nuclear_reactor_raion', 'detention_facility_raion', 'water_1line', 'big_road1_1line', 'railroad_1line', 'ecology']\n"
     ]
    }
   ],
   "source": [
    "from sklearn.calibration import LabelEncoder\n",
    "\n",
    "categorical_columns = X.select_dtypes(include=['object']).columns.tolist()\n",
    "print(\"Train: Categorical columns:\", categorical_columns)\n",
    "\n",
    "label_encoder = LabelEncoder()\n",
    "\n",
    "for column in categorical_columns:\n",
    "    X[column] = label_encoder.fit_transform(X[column])\n",
    "\n",
    "categorical_columns_test = X_test.select_dtypes(include=['object']).columns.tolist()\n",
    "print(\"Test: Categorical columns:\", categorical_columns_test)\n",
    "\n",
    "label_encoder = LabelEncoder()\n",
    "\n",
    "for column in categorical_columns_test:\n",
    "    X_test[column] = label_encoder.fit_transform(X_test[column])\n",
    "\n",
    "used.append('Label Encoding')"
   ]
  },
  {
   "cell_type": "code",
   "execution_count": 6,
   "metadata": {},
   "outputs": [],
   "source": [
    "# # drop all columns in X_train with dtypes object\n",
    "# for col in X.columns:\n",
    "#     if X[col].dtype == 'object':\n",
    "#         X.drop(col, axis=1, inplace=True)\n",
    "\n",
    "# # drop all columns in X_test with dtypes object\n",
    "# for col in X_test.columns:\n",
    "#     if X_test[col].dtype == 'object':\n",
    "#         X_test.drop(col, axis=1, inplace=True)\n",
    "\n",
    "# used.append(\"Removed Object Dtypes\")"
   ]
  },
  {
   "cell_type": "code",
   "execution_count": 7,
   "metadata": {},
   "outputs": [],
   "source": [
    "X = X.astype('float32')\n",
    "X_test = X_test.astype('float32')\n",
    "used.append(\"Converted All Columns To float32\")"
   ]
  },
  {
   "cell_type": "code",
   "execution_count": 8,
   "metadata": {},
   "outputs": [],
   "source": [
    "X = np.log1p(X)\n",
    "X_test = np.log1p(X_test)\n",
    "used.append('log Normalization')"
   ]
  },
  {
   "cell_type": "code",
   "execution_count": 9,
   "metadata": {},
   "outputs": [],
   "source": [
    "# Split the data into training and validation sets\n",
    "X_train, X_val, y_train, y_val = train_test_split(X, y, test_size=0.3, random_state=42)"
   ]
  },
  {
   "cell_type": "code",
   "execution_count": 10,
   "metadata": {},
   "outputs": [],
   "source": [
    "# Standardize the data\n",
    "scaler = StandardScaler()\n",
    "X_train = scaler.fit_transform(X_train)\n",
    "X_val = scaler.transform(X_val)\n",
    "X_test = scaler.transform(X_test)\n",
    "used.append(\"StandardScaler\")"
   ]
  },
  {
   "cell_type": "code",
   "execution_count": 11,
   "metadata": {},
   "outputs": [
    {
     "data": {
      "text/plain": [
       "(127054, 271)"
      ]
     },
     "execution_count": 11,
     "metadata": {},
     "output_type": "execute_result"
    }
   ],
   "source": [
    "X_train.shape"
   ]
  },
  {
   "cell_type": "code",
   "execution_count": 12,
   "metadata": {},
   "outputs": [],
   "source": [
    "# from sklearn.preprocessing import PolynomialFeatures\n",
    "# poly = PolynomialFeatures(2)#, interaction_only=True)\n",
    "# X_train = poly.fit_transform(X_train)\n",
    "# X_test = poly.fit_transform(X_test)\n",
    "# used.append('PolynomialFeatures W/O Interaction')\n",
    "# # used.append('PolynomialFeatures With Interaction')"
   ]
  },
  {
   "cell_type": "code",
   "execution_count": 13,
   "metadata": {},
   "outputs": [],
   "source": [
    "# # save X_train to csv\n",
    "# X_train.to_csv('train with poly w/o int.2.csv', index=False)\n",
    "# X_test.to_csv('test with poly w/o int.csv', index=False)"
   ]
  },
  {
   "cell_type": "code",
   "execution_count": 14,
   "metadata": {},
   "outputs": [],
   "source": [
    "# pca = PCA(n_components=200)\n",
    "# principalComponents = pca.fit_transform(X_train)\n",
    "# X_train = pd.DataFrame(data = principalComponents)\n",
    "\n",
    "# pca2 = PCA(n_components=200)\n",
    "# principalComponents = pca2.fit_transform(X_test)\n",
    "# X_test = pd.DataFrame(data = principalComponents)\n",
    "\n",
    "# used.append('PCA (n=200)')"
   ]
  },
  {
   "cell_type": "markdown",
   "metadata": {},
   "source": [
    "<h1>With Keras<h1>"
   ]
  },
  {
   "cell_type": "code",
   "execution_count": 15,
   "metadata": {},
   "outputs": [],
   "source": [
    "# features_used = X_train.shape[1]\n",
    "\n",
    "# # Build the neural network\n",
    "# os.environ[\"KERAS_BACKEND\"] = \"torch\"\n",
    "# used.append(\"Keras With Torch Backend\")\n",
    "# model = Sequential()\n",
    "# model.add(Dense(300, input_dim=X_train.shape[1], activation='relu', kernel_regularizer=l2(0.01)))\n",
    "# model.add(Dropout(0.3))  # You can use either dropout or early stopping\n",
    "# model.add(Dense(210, activation='relu', kernel_regularizer=l2(0.01)))\n",
    "# model.add(Dropout(0.3))\n",
    "# model.add(Dense(150, activation='relu', kernel_regularizer=l2(0.01)))\n",
    "# model.add(Dropout(0.3))\n",
    "# model.add(Dense(60, activation='relu', kernel_regularizer=l2(0.01)))\n",
    "# model.add(Dropout(0.3))\n",
    "# model.add(Dense(1, activation='linear'))  # Output layer with linear activation for regression\n",
    "\n",
    "# used.append(\"4 Hidden Layers: Hidden Layer 1 with 300 neurons relu activation L2 regularization, \\n\" +\n",
    "#             \"Hidden Layer 2 with 210 neurons relu activation L2 regularization, \\n\" +\n",
    "#             \"Hidden Layer 3 with 150 neurons relu activation L2 regularization, \\n\" +\n",
    "#             \"Hidden Layer 4 with 60 neurons relu activation L2 regularization\")\n",
    "# used.append(\"Output linear\")\n",
    "\n",
    "# # optimizerUsing = Adam(lr=0.001)#, beta_1=0.9, beta_2=0.999, epsilon=1e-07, amsgrad=False)\n",
    "# # used.append(\"Optimizer: Adam(lr=0.01)\")\n",
    "# # optimizerUsing = RMSprop(lr=0.001)\n",
    "# # used.append(\"Optimizer: RMSprop(lr=0.001)\")\n",
    "# # optimizerUsing = Adagrad(lr=0.01)\n",
    "# # used.append(\"Optimizer: Adagrad(lr=0.01)\")\n",
    "# # optimizerUsing = Adadelta(lr=1.0, rho=0.95)\n",
    "# # used.append(\"Optimizer: Adadelta(lr=1.0, rho=0.95)\")\n",
    "# # optimizerUsing = Nadam(lr=0.002, beta_1=0.9, beta_2=0.999)\n",
    "# # used.append(\"Optimizer: Nadam(lr=0.002, beta_1=0.9, beta_2=0.999)\")\n",
    "# optimizerUsing = Ftrl(learning_rate=0.01, learning_rate_power=-0.5, initial_accumulator_value=0.1, l1_regularization_strength=0.01, l2_regularization_strength=0.01)\n",
    "# used.append(\"Optimizer: Ftrl(learning_rate=0.01, learning_rate_power=-0.5, initial_accumulator_value=0.1, l1_regularization_strength=0.01, l2_regularization_strength=0.01)\")\n",
    "\n",
    "# # Compile the model\n",
    "# model.compile(loss='mean_squared_error', optimizer=optimizerUsing)\n",
    "# used.append(\"Loss Calculation: Mean Squared Error\")\n",
    "\n",
    "# # Define early stopping\n",
    "# early_stopping = EarlyStopping(monitor='val_loss', patience=10, restore_best_weights=True)\n",
    "# used.append(\"EarlyStopping(monitor='val_loss', patience=10, restore_best_weights=True)\")\n",
    "\n",
    "# # Train the model\n",
    "# model.fit(X_train, y_train, epochs=100, batch_size=1800, validation_data=(X_val, y_val), callbacks=[early_stopping])\n",
    "# used.append(\"batch_size=1800, epochs=100, early_stopping (patience 10), dropout=0.3, L2 Regularization\")\n",
    "\n",
    "# # Train the model\n",
    "# # model.fit(X_train, y_train, epochs=100, batch_size=1800, validation_data=(X_val, y_val))#, callbacks=[early_stopping])\n",
    "# # used.append(\"batch_size=1800, epochs=100, dropout=0.3, L2 Regularization\")\n",
    "\n",
    "# # used.append(\"batch_size=1800, epochs=100, early_stopping\")\n",
    "\n",
    "# # Make predictions\n",
    "# predictions = model.predict(X_test)"
   ]
  },
  {
   "cell_type": "markdown",
   "metadata": {},
   "source": [
    "<h1>With Skilearn<h1>"
   ]
  },
  {
   "cell_type": "code",
   "execution_count": 16,
   "metadata": {},
   "outputs": [
    {
     "name": "stdout",
     "output_type": "stream",
     "text": [
      "Iteration 1, loss = 347403177285837.81250000\n",
      "Validation score: -0.442725\n",
      "Iteration 2, loss = 299121602927608.25000000\n",
      "Validation score: 0.220505\n",
      "Iteration 3, loss = 107411453187516.73437500\n",
      "Validation score: 0.614662\n",
      "Iteration 4, loss = 90889584881322.70312500\n",
      "Validation score: 0.620006\n",
      "Iteration 5, loss = 89787045572792.04687500\n",
      "Validation score: 0.623630\n",
      "Iteration 6, loss = 89036117106299.07812500\n",
      "Validation score: 0.626156\n",
      "Iteration 7, loss = 88501792754700.34375000\n",
      "Validation score: 0.627952\n",
      "Iteration 8, loss = 88102329678556.78125000\n",
      "Validation score: 0.629309\n",
      "Iteration 9, loss = 87784042239935.26562500\n",
      "Validation score: 0.630389\n",
      "Iteration 10, loss = 87521024881412.67187500\n",
      "Validation score: 0.631269\n",
      "Iteration 11, loss = 87296331973709.81250000\n",
      "Validation score: 0.632023\n",
      "Iteration 12, loss = 87097922685072.98437500\n",
      "Validation score: 0.632678\n",
      "Iteration 13, loss = 86919102897866.51562500\n",
      "Validation score: 0.633264\n",
      "Iteration 14, loss = 86753327684323.12500000\n",
      "Validation score: 0.633804\n",
      "Iteration 15, loss = 86598016812688.28125000\n",
      "Validation score: 0.634299\n",
      "Iteration 16, loss = 86451960042251.03125000\n",
      "Validation score: 0.634764\n",
      "Iteration 17, loss = 86311836079395.09375000\n",
      "Validation score: 0.635211\n",
      "Iteration 18, loss = 86176205231846.07812500\n",
      "Validation score: 0.635641\n",
      "Iteration 19, loss = 86044841817729.15625000\n",
      "Validation score: 0.636057\n",
      "Iteration 20, loss = 85917354675415.96875000\n",
      "Validation score: 0.636462\n",
      "Iteration 21, loss = 85793222689309.43750000\n",
      "Validation score: 0.636858\n",
      "Iteration 22, loss = 85671438678448.84375000\n",
      "Validation score: 0.637245\n",
      "Iteration 23, loss = 85551840769893.56250000\n",
      "Validation score: 0.637635\n",
      "Iteration 24, loss = 85433725632330.67187500\n",
      "Validation score: 0.638013\n",
      "Iteration 25, loss = 85316624644669.25000000\n",
      "Validation score: 0.638388\n",
      "Iteration 26, loss = 85200421823990.53125000\n",
      "Validation score: 0.638758\n",
      "Iteration 27, loss = 85085242367802.93750000\n",
      "Validation score: 0.639121\n",
      "Iteration 28, loss = 84970778527221.31250000\n",
      "Validation score: 0.639484\n",
      "Iteration 29, loss = 84855810492341.54687500\n",
      "Validation score: 0.639849\n",
      "Iteration 30, loss = 84740117178018.06250000\n",
      "Validation score: 0.640215\n",
      "Iteration 31, loss = 84623626041170.07812500\n",
      "Validation score: 0.640579\n",
      "Iteration 32, loss = 84506409936381.23437500\n",
      "Validation score: 0.640948\n",
      "Iteration 33, loss = 84388418341673.46875000\n",
      "Validation score: 0.641296\n",
      "Iteration 34, loss = 84270654909541.03125000\n",
      "Validation score: 0.641653\n",
      "Iteration 35, loss = 84152754698126.92187500\n",
      "Validation score: 0.642007\n",
      "Iteration 36, loss = 84034692590967.57812500\n",
      "Validation score: 0.642352\n",
      "Iteration 37, loss = 83917726268427.64062500\n",
      "Validation score: 0.642673\n",
      "Iteration 38, loss = 83801716621919.29687500\n",
      "Validation score: 0.642988\n",
      "Iteration 39, loss = 83687328744651.48437500\n",
      "Validation score: 0.643286\n",
      "Iteration 40, loss = 83568454684344.87500000\n",
      "Validation score: 0.643749\n",
      "Iteration 41, loss = 83456345181608.95312500\n",
      "Validation score: 0.643954\n",
      "Iteration 42, loss = 83342324552640.54687500\n",
      "Validation score: 0.644437\n",
      "Iteration 43, loss = 83225610302388.31250000\n",
      "Validation score: 0.644683\n",
      "Iteration 44, loss = 83110029102595.76562500\n",
      "Validation score: 0.644878\n",
      "Iteration 45, loss = 82997117787013.14062500\n",
      "Validation score: 0.645217\n",
      "Iteration 46, loss = 82886414475263.25000000\n",
      "Validation score: 0.645388\n",
      "Iteration 47, loss = 82778495279581.09375000\n",
      "Validation score: 0.645579\n",
      "Iteration 48, loss = 82671198520765.46875000\n",
      "Validation score: 0.645764\n",
      "Iteration 49, loss = 82563462773409.64062500\n",
      "Validation score: 0.645987\n",
      "Iteration 50, loss = 82454598492938.48437500\n",
      "Validation score: 0.646132\n",
      "Iteration 51, loss = 82350004496228.56250000\n",
      "Validation score: 0.646289\n",
      "Iteration 52, loss = 82244177378936.54687500\n",
      "Validation score: 0.646421\n",
      "Iteration 53, loss = 82139380937221.43750000\n",
      "Validation score: 0.646576\n",
      "Iteration 54, loss = 82036453955128.48437500\n",
      "Validation score: 0.646694\n",
      "Iteration 55, loss = 81933079106594.37500000\n",
      "Validation score: 0.646805\n",
      "Iteration 56, loss = 81829300543590.87500000\n",
      "Validation score: 0.646899\n",
      "Iteration 57, loss = 81728191918197.46875000\n",
      "Validation score: 0.646965\n",
      "Iteration 58, loss = 81628771179536.14062500\n",
      "Validation score: 0.647025\n",
      "Iteration 59, loss = 81528603450081.71875000\n",
      "Validation score: 0.647098\n",
      "Iteration 60, loss = 81429390591825.62500000\n",
      "Validation score: 0.647132\n",
      "Iteration 61, loss = 81331689320203.67187500\n",
      "Validation score: 0.647164\n",
      "Iteration 62, loss = 81233732436967.28125000\n",
      "Validation score: 0.647204\n",
      "Iteration 63, loss = 81134793281252.57812500\n",
      "Validation score: 0.647237\n",
      "Iteration 64, loss = 81034368740203.79687500\n",
      "Validation score: 0.647248\n",
      "Iteration 65, loss = 80937456934377.48437500\n",
      "Validation score: 0.647251\n",
      "Iteration 66, loss = 80842203849776.82812500\n",
      "Validation score: 0.647245\n",
      "Validation score did not improve more than tol=0.000100 for 10 consecutive epochs. Stopping.\n"
     ]
    }
   ],
   "source": [
    "features_used = X_train.shape[1]\n",
    "\n",
    "# # optimizerUsing = SGD(learning_rate=0.01, momentum=0.9)\n",
    "\n",
    "# # optimizerUsing = Adam(lr=0.001, beta_1=0.9, beta_2=0.999, epsilon=1e-07, amsgrad=False)\n",
    "# optimizerUsing = Adam(lr=0.001)#, epsilon=1e-07)\n",
    "\n",
    "model = MLPRegressor(hidden_layer_sizes=(300,210,150,60), activation='relu', solver='adam', shuffle=False, max_iter=100,\n",
    "                     batch_size=1800, early_stopping=True, verbose=True, random_state=42)\n",
    "\n",
    "used.append(\"MLPRegressor\")\n",
    "used.append(\"4 Hidden Layers: Hidden Layer 1 with 300 neurons relu activation L2 regularization, \\n\" +\n",
    "            \"Hidden Layer 2 with 210 neurons relu activation L2 regularization, \\n\" +\n",
    "            \"Hidden Layer 3 with 150 neurons relu activation L2 regularization, \\n\" +\n",
    "            \"Hidden Layer 4 with 60 neurons relu activation L2 regularization\")\n",
    "used.append(\"Optimizer: adam\")\n",
    "used.append(\"batch_size=1800, epochs=100, early_stopping\")\n",
    "\n",
    "# Train the model\n",
    "model.fit(X_train, y_train)\n",
    "\n",
    "# Make predictions\n",
    "predictions = model.predict(X_test)"
   ]
  },
  {
   "cell_type": "code",
   "execution_count": 17,
   "metadata": {},
   "outputs": [],
   "source": [
    "# Create a DataFrame with the results\n",
    "submission_df = pd.DataFrame({'row ID': test_data['row ID'], 'price_doc': predictions.flatten()})\n",
    "\n",
    "# Save the results to a CSV file\n",
    "submission_df.to_csv('Day10.2.csv', index=False)"
   ]
  },
  {
   "cell_type": "code",
   "execution_count": 18,
   "metadata": {},
   "outputs": [
    {
     "name": "stdout",
     "output_type": "stream",
     "text": [
      "Features Used = 271\n",
      "\n",
      "Label Encoding\n",
      "Converted All Columns To float32\n",
      "log Normalization\n",
      "StandardScaler\n",
      "MLPRegressor\n",
      "4 Hidden Layers: Hidden Layer 1 with 300 neurons relu activation L2 regularization, \n",
      "Hidden Layer 2 with 210 neurons relu activation L2 regularization, \n",
      "Hidden Layer 3 with 150 neurons relu activation L2 regularization, \n",
      "Hidden Layer 4 with 60 neurons relu activation L2 regularization\n",
      "Optimizer: adam\n",
      "batch_size=1800, epochs=100, early_stopping\n"
     ]
    }
   ],
   "source": [
    "print(\"Features Used = \" + str(features_used) + \"\\n\")\n",
    "for i in used:\n",
    "    print(i)"
   ]
  }
 ],
 "metadata": {
  "kernelspec": {
   "display_name": "Python 3",
   "language": "python",
   "name": "python3"
  },
  "language_info": {
   "codemirror_mode": {
    "name": "ipython",
    "version": 3
   },
   "file_extension": ".py",
   "mimetype": "text/x-python",
   "name": "python",
   "nbconvert_exporter": "python",
   "pygments_lexer": "ipython3",
   "version": "3.11.4"
  }
 },
 "nbformat": 4,
 "nbformat_minor": 2
}
