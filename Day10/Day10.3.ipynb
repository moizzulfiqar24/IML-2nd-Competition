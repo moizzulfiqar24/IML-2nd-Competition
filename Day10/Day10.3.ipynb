{
 "cells": [
  {
   "cell_type": "code",
   "execution_count": 1,
   "metadata": {},
   "outputs": [],
   "source": [
    "import pandas as pd\n",
    "from sklearn.model_selection import train_test_split\n",
    "from sklearn.preprocessing import StandardScaler\n",
    "from keras.models import Sequential\n",
    "from keras.layers import Dense, Dropout\n",
    "from keras.callbacks import EarlyStopping\n",
    "import os\n",
    "import torch\n",
    "from sklearn.neural_network import MLPRegressor\n",
    "from sklearn.ensemble import GradientBoostingRegressor\n",
    "from sklearn.metrics import mean_squared_error\n",
    "from sklearn.model_selection import GridSearchCV\n",
    "from keras.optimizers import SGD, Adam, Adadelta, RMSprop, Adagrad, Nadam, Ftrl\n",
    "from keras.regularizers import l2\n",
    "import numpy as np\n",
    "from sklearn.decomposition import PCA"
   ]
  },
  {
   "cell_type": "code",
   "execution_count": 2,
   "metadata": {},
   "outputs": [],
   "source": [
    "# Load the training data\n",
    "train_data = pd.read_csv('../../2nd-Comp-Data/train.csv')\n",
    "test_data = pd.read_csv('../../2nd-Comp-Data/test.csv')\n",
    "\n",
    "used = []\n",
    "\n",
    "# Extract features and target variable\n",
    "X = train_data.drop('price_doc', axis=1)\n",
    "y = train_data['price_doc']\n",
    "X_test = test_data.drop(['row ID'], axis=1)"
   ]
  },
  {
   "cell_type": "code",
   "execution_count": 3,
   "metadata": {},
   "outputs": [],
   "source": [
    "# X = X.drop('sub_area', axis=1)\n",
    "# X_test = X_test.drop('sub_area', axis=1)\n",
    "# used.append('Removed sub_area')"
   ]
  },
  {
   "cell_type": "code",
   "execution_count": 4,
   "metadata": {},
   "outputs": [],
   "source": [
    "# X = pd.get_dummies(X)\n",
    "# X_test = pd.get_dummies(X_test) \n",
    "# used.append('OneHot Encoding')"
   ]
  },
  {
   "cell_type": "code",
   "execution_count": 5,
   "metadata": {},
   "outputs": [
    {
     "name": "stdout",
     "output_type": "stream",
     "text": [
      "Train: Categorical columns: ['product_type', 'sub_area', 'culture_objects_top_25', 'thermal_power_plant_raion', 'incineration_raion', 'oil_chemistry_raion', 'radiation_raion', 'railroad_terminal_raion', 'big_market_raion', 'nuclear_reactor_raion', 'detention_facility_raion', 'water_1line', 'big_road1_1line', 'railroad_1line', 'ecology']\n",
      "Test: Categorical columns: ['product_type', 'sub_area', 'culture_objects_top_25', 'thermal_power_plant_raion', 'incineration_raion', 'oil_chemistry_raion', 'radiation_raion', 'railroad_terminal_raion', 'big_market_raion', 'nuclear_reactor_raion', 'detention_facility_raion', 'water_1line', 'big_road1_1line', 'railroad_1line', 'ecology']\n"
     ]
    }
   ],
   "source": [
    "from sklearn.calibration import LabelEncoder\n",
    "\n",
    "categorical_columns = X.select_dtypes(include=['object']).columns.tolist()\n",
    "print(\"Train: Categorical columns:\", categorical_columns)\n",
    "\n",
    "label_encoder = LabelEncoder()\n",
    "\n",
    "for column in categorical_columns:\n",
    "    X[column] = label_encoder.fit_transform(X[column])\n",
    "\n",
    "categorical_columns_test = X_test.select_dtypes(include=['object']).columns.tolist()\n",
    "print(\"Test: Categorical columns:\", categorical_columns_test)\n",
    "\n",
    "label_encoder = LabelEncoder()\n",
    "\n",
    "for column in categorical_columns_test:\n",
    "    X_test[column] = label_encoder.fit_transform(X_test[column])\n",
    "\n",
    "used.append('Label Encoding')"
   ]
  },
  {
   "cell_type": "code",
   "execution_count": 6,
   "metadata": {},
   "outputs": [],
   "source": [
    "# # drop all columns in X_train with dtypes object\n",
    "# for col in X.columns:\n",
    "#     if X[col].dtype == 'object':\n",
    "#         X.drop(col, axis=1, inplace=True)\n",
    "\n",
    "# # drop all columns in X_test with dtypes object\n",
    "# for col in X_test.columns:\n",
    "#     if X_test[col].dtype == 'object':\n",
    "#         X_test.drop(col, axis=1, inplace=True)\n",
    "\n",
    "# used.append(\"Removed Object Dtypes\")"
   ]
  },
  {
   "cell_type": "code",
   "execution_count": 7,
   "metadata": {},
   "outputs": [],
   "source": [
    "X = X.astype('float32')\n",
    "X_test = X_test.astype('float32')\n",
    "used.append(\"Converted All Columns To float32\")"
   ]
  },
  {
   "cell_type": "code",
   "execution_count": 8,
   "metadata": {},
   "outputs": [],
   "source": [
    "X = np.log1p(X)\n",
    "X_test = np.log1p(X_test)\n",
    "used.append('log Normalization')"
   ]
  },
  {
   "cell_type": "code",
   "execution_count": 9,
   "metadata": {},
   "outputs": [],
   "source": [
    "# Split the data into training and validation sets\n",
    "X_train, X_val, y_train, y_val = train_test_split(X, y, test_size=0.3, random_state=42)"
   ]
  },
  {
   "cell_type": "code",
   "execution_count": 10,
   "metadata": {},
   "outputs": [],
   "source": [
    "# Standardize the data\n",
    "scaler = StandardScaler()\n",
    "X_train = scaler.fit_transform(X_train)\n",
    "X_val = scaler.transform(X_val)\n",
    "X_test = scaler.transform(X_test)\n",
    "used.append(\"StandardScaler\")"
   ]
  },
  {
   "cell_type": "code",
   "execution_count": 11,
   "metadata": {},
   "outputs": [
    {
     "data": {
      "text/plain": [
       "(127054, 271)"
      ]
     },
     "execution_count": 11,
     "metadata": {},
     "output_type": "execute_result"
    }
   ],
   "source": [
    "X_train.shape"
   ]
  },
  {
   "cell_type": "code",
   "execution_count": 12,
   "metadata": {},
   "outputs": [],
   "source": [
    "# from sklearn.preprocessing import PolynomialFeatures\n",
    "# poly = PolynomialFeatures(2)#, interaction_only=True)\n",
    "# X_train = poly.fit_transform(X_train)\n",
    "# X_test = poly.fit_transform(X_test)\n",
    "# used.append('PolynomialFeatures W/O Interaction')\n",
    "# # used.append('PolynomialFeatures With Interaction')"
   ]
  },
  {
   "cell_type": "code",
   "execution_count": 13,
   "metadata": {},
   "outputs": [],
   "source": [
    "# # save X_train to csv\n",
    "# X_train.to_csv('train with poly w/o int.2.csv', index=False)\n",
    "# X_test.to_csv('test with poly w/o int.csv', index=False)"
   ]
  },
  {
   "cell_type": "code",
   "execution_count": 14,
   "metadata": {},
   "outputs": [],
   "source": [
    "# pca = PCA(n_components=200)\n",
    "# principalComponents = pca.fit_transform(X_train)\n",
    "# X_train = pd.DataFrame(data = principalComponents)\n",
    "\n",
    "# pca2 = PCA(n_components=200)\n",
    "# principalComponents = pca2.fit_transform(X_test)\n",
    "# X_test = pd.DataFrame(data = principalComponents)\n",
    "\n",
    "# used.append('PCA (n=200)')"
   ]
  },
  {
   "cell_type": "markdown",
   "metadata": {},
   "source": [
    "<h1>With Keras<h1>"
   ]
  },
  {
   "cell_type": "code",
   "execution_count": 15,
   "metadata": {},
   "outputs": [],
   "source": [
    "# features_used = X_train.shape[1]\n",
    "\n",
    "# # Build the neural network\n",
    "# os.environ[\"KERAS_BACKEND\"] = \"torch\"\n",
    "# used.append(\"Keras With Torch Backend\")\n",
    "# model = Sequential()\n",
    "# model.add(Dense(300, input_dim=X_train.shape[1], activation='relu', kernel_regularizer=l2(0.01)))\n",
    "# model.add(Dropout(0.3))  # You can use either dropout or early stopping\n",
    "# model.add(Dense(210, activation='relu', kernel_regularizer=l2(0.01)))\n",
    "# model.add(Dropout(0.3))\n",
    "# model.add(Dense(150, activation='relu', kernel_regularizer=l2(0.01)))\n",
    "# model.add(Dropout(0.3))\n",
    "# model.add(Dense(60, activation='relu', kernel_regularizer=l2(0.01)))\n",
    "# model.add(Dropout(0.3))\n",
    "# model.add(Dense(1, activation='linear'))  # Output layer with linear activation for regression\n",
    "\n",
    "# used.append(\"4 Hidden Layers: Hidden Layer 1 with 300 neurons relu activation L2 regularization, \\n\" +\n",
    "#             \"Hidden Layer 2 with 210 neurons relu activation L2 regularization, \\n\" +\n",
    "#             \"Hidden Layer 3 with 150 neurons relu activation L2 regularization, \\n\" +\n",
    "#             \"Hidden Layer 4 with 60 neurons relu activation L2 regularization\")\n",
    "# used.append(\"Output linear\")\n",
    "\n",
    "# # optimizerUsing = Adam(lr=0.001)#, beta_1=0.9, beta_2=0.999, epsilon=1e-07, amsgrad=False)\n",
    "# # used.append(\"Optimizer: Adam(lr=0.01)\")\n",
    "# # optimizerUsing = RMSprop(lr=0.001)\n",
    "# # used.append(\"Optimizer: RMSprop(lr=0.001)\")\n",
    "# # optimizerUsing = Adagrad(lr=0.01)\n",
    "# # used.append(\"Optimizer: Adagrad(lr=0.01)\")\n",
    "# # optimizerUsing = Adadelta(lr=1.0, rho=0.95)\n",
    "# # used.append(\"Optimizer: Adadelta(lr=1.0, rho=0.95)\")\n",
    "# # optimizerUsing = Nadam(lr=0.002, beta_1=0.9, beta_2=0.999)\n",
    "# # used.append(\"Optimizer: Nadam(lr=0.002, beta_1=0.9, beta_2=0.999)\")\n",
    "# optimizerUsing = Ftrl(learning_rate=0.01, learning_rate_power=-0.5, initial_accumulator_value=0.1, l1_regularization_strength=0.01, l2_regularization_strength=0.01)\n",
    "# used.append(\"Optimizer: Ftrl(learning_rate=0.01, learning_rate_power=-0.5, initial_accumulator_value=0.1, l1_regularization_strength=0.01, l2_regularization_strength=0.01)\")\n",
    "\n",
    "# # Compile the model\n",
    "# model.compile(loss='mean_squared_error', optimizer=optimizerUsing)\n",
    "# used.append(\"Loss Calculation: Mean Squared Error\")\n",
    "\n",
    "# # Define early stopping\n",
    "# early_stopping = EarlyStopping(monitor='val_loss', patience=10, restore_best_weights=True)\n",
    "# used.append(\"EarlyStopping(monitor='val_loss', patience=10, restore_best_weights=True)\")\n",
    "\n",
    "# # Train the model\n",
    "# model.fit(X_train, y_train, epochs=100, batch_size=1800, validation_data=(X_val, y_val), callbacks=[early_stopping])\n",
    "# used.append(\"batch_size=1800, epochs=100, early_stopping (patience 10), dropout=0.3, L2 Regularization\")\n",
    "\n",
    "# # Train the model\n",
    "# # model.fit(X_train, y_train, epochs=100, batch_size=1800, validation_data=(X_val, y_val))#, callbacks=[early_stopping])\n",
    "# # used.append(\"batch_size=1800, epochs=100, dropout=0.3, L2 Regularization\")\n",
    "\n",
    "# # used.append(\"batch_size=1800, epochs=100, early_stopping\")\n",
    "\n",
    "# # Make predictions\n",
    "# predictions = model.predict(X_test)"
   ]
  },
  {
   "cell_type": "markdown",
   "metadata": {},
   "source": [
    "<h1>With Skilearn<h1>"
   ]
  },
  {
   "cell_type": "code",
   "execution_count": 16,
   "metadata": {},
   "outputs": [
    {
     "name": "stdout",
     "output_type": "stream",
     "text": [
      "Iteration 1, loss = 347403178917987.87500000\n",
      "Validation score: -0.442726\n",
      "Iteration 2, loss = 299121710648713.12500000\n",
      "Validation score: 0.220504\n",
      "Iteration 3, loss = 107411593481517.46875000\n",
      "Validation score: 0.614661\n",
      "Iteration 4, loss = 90889623696126.34375000\n",
      "Validation score: 0.620006\n",
      "Iteration 5, loss = 89787057865794.90625000\n",
      "Validation score: 0.623631\n",
      "Iteration 6, loss = 89036099358840.45312500\n",
      "Validation score: 0.626156\n",
      "Iteration 7, loss = 88501816865958.85937500\n",
      "Validation score: 0.627952\n",
      "Iteration 8, loss = 88102355238759.70312500\n",
      "Validation score: 0.629309\n",
      "Iteration 9, loss = 87784060416430.17187500\n",
      "Validation score: 0.630389\n",
      "Iteration 10, loss = 87521048342434.89062500\n",
      "Validation score: 0.631269\n",
      "Iteration 11, loss = 87296352393040.29687500\n",
      "Validation score: 0.632023\n",
      "Iteration 12, loss = 87097923747303.53125000\n",
      "Validation score: 0.632678\n",
      "Iteration 13, loss = 86919114855447.46875000\n",
      "Validation score: 0.633264\n",
      "Iteration 14, loss = 86753319887906.90625000\n",
      "Validation score: 0.633804\n",
      "Iteration 15, loss = 86598018649758.93750000\n",
      "Validation score: 0.634299\n",
      "Iteration 16, loss = 86451948683609.67187500\n",
      "Validation score: 0.634764\n",
      "Iteration 17, loss = 86311804182786.37500000\n",
      "Validation score: 0.635211\n",
      "Iteration 18, loss = 86176169715380.90625000\n",
      "Validation score: 0.635641\n",
      "Iteration 19, loss = 86044831272328.73437500\n",
      "Validation score: 0.636057\n",
      "Iteration 20, loss = 85917354389585.71875000\n",
      "Validation score: 0.636462\n",
      "Iteration 21, loss = 85793240301872.21875000\n",
      "Validation score: 0.636858\n",
      "Iteration 22, loss = 85671923781088.89062500\n",
      "Validation score: 0.637247\n",
      "Iteration 23, loss = 85552765761413.34375000\n",
      "Validation score: 0.637630\n",
      "Iteration 24, loss = 85434746156085.95312500\n",
      "Validation score: 0.638007\n",
      "Iteration 25, loss = 85317777355325.92187500\n",
      "Validation score: 0.638383\n",
      "Iteration 26, loss = 85201673738534.09375000\n",
      "Validation score: 0.638752\n",
      "Iteration 27, loss = 85086438880826.67187500\n",
      "Validation score: 0.639117\n",
      "Iteration 28, loss = 84971922958845.32812500\n",
      "Validation score: 0.639484\n",
      "Iteration 29, loss = 84857207543718.87500000\n",
      "Validation score: 0.639842\n",
      "Iteration 30, loss = 84742285930375.45312500\n",
      "Validation score: 0.640203\n",
      "Iteration 31, loss = 84626472135084.25000000\n",
      "Validation score: 0.640566\n",
      "Iteration 32, loss = 84509726389103.60937500\n",
      "Validation score: 0.640927\n",
      "Iteration 33, loss = 84392796234928.68750000\n",
      "Validation score: 0.641293\n",
      "Iteration 34, loss = 84275127854543.57812500\n",
      "Validation score: 0.641644\n",
      "Iteration 35, loss = 84157255270071.39062500\n",
      "Validation score: 0.641992\n",
      "Iteration 36, loss = 84039503300346.71875000\n",
      "Validation score: 0.642340\n",
      "Iteration 37, loss = 83922075621048.57812500\n",
      "Validation score: 0.642670\n",
      "Iteration 38, loss = 83804821239019.43750000\n",
      "Validation score: 0.643002\n",
      "Iteration 39, loss = 83688663466005.71875000\n",
      "Validation score: 0.643298\n",
      "Iteration 40, loss = 83569547894452.71875000\n",
      "Validation score: 0.643740\n",
      "Iteration 41, loss = 83454779188231.67187500\n",
      "Validation score: 0.643966\n",
      "Iteration 42, loss = 83343355783669.98437500\n",
      "Validation score: 0.644281\n",
      "Iteration 43, loss = 83224501790577.21875000\n",
      "Validation score: 0.644542\n",
      "Iteration 44, loss = 83105177188893.89062500\n",
      "Validation score: 0.644819\n",
      "Iteration 45, loss = 82990727157879.62500000\n",
      "Validation score: 0.645089\n",
      "Iteration 46, loss = 82877422435838.76562500\n",
      "Validation score: 0.645271\n",
      "Iteration 47, loss = 82767075962256.26562500\n",
      "Validation score: 0.645545\n",
      "Iteration 48, loss = 82657211329572.00000000\n",
      "Validation score: 0.645737\n",
      "Iteration 49, loss = 82548671426089.12500000\n",
      "Validation score: 0.645928\n",
      "Iteration 50, loss = 82441602968866.32812500\n",
      "Validation score: 0.646112\n",
      "Iteration 51, loss = 82336043676383.00000000\n",
      "Validation score: 0.646278\n",
      "Iteration 52, loss = 82229513557036.57812500\n",
      "Validation score: 0.646416\n",
      "Iteration 53, loss = 82123807704234.48437500\n",
      "Validation score: 0.646575\n",
      "Iteration 54, loss = 82017948657463.90625000\n",
      "Validation score: 0.646704\n",
      "Iteration 55, loss = 81913530504591.45312500\n",
      "Validation score: 0.646819\n",
      "Iteration 56, loss = 81809892832507.45312500\n",
      "Validation score: 0.646935\n",
      "Iteration 57, loss = 81706930715607.67187500\n",
      "Validation score: 0.647007\n",
      "Iteration 58, loss = 81605549420190.59375000\n",
      "Validation score: 0.647087\n",
      "Iteration 59, loss = 81505020534646.40625000\n",
      "Validation score: 0.647167\n",
      "Iteration 60, loss = 81405121732498.00000000\n",
      "Validation score: 0.647237\n",
      "Iteration 61, loss = 81307164622722.01562500\n",
      "Validation score: 0.647283\n",
      "Iteration 62, loss = 81209714587771.76562500\n",
      "Validation score: 0.647338\n",
      "Iteration 63, loss = 81111382456098.56250000\n",
      "Validation score: 0.647362\n",
      "Iteration 64, loss = 81010539885091.12500000\n",
      "Validation score: 0.647457\n",
      "Iteration 65, loss = 80913961679735.56250000\n",
      "Validation score: 0.647432\n",
      "Iteration 66, loss = 80816218604074.82812500\n",
      "Validation score: 0.647394\n",
      "Iteration 67, loss = 80712940259208.70312500\n",
      "Validation score: 0.647386\n",
      "Validation score did not improve more than tol=0.000100 for 10 consecutive epochs. Stopping.\n"
     ]
    }
   ],
   "source": [
    "features_used = X_train.shape[1]\n",
    "\n",
    "# # optimizerUsing = SGD(learning_rate=0.01, momentum=0.9)\n",
    "\n",
    "# # optimizerUsing = Adam(lr=0.001, beta_1=0.9, beta_2=0.999, epsilon=1e-07, amsgrad=False)\n",
    "# optimizerUsing = Adam(lr=0.001)#, epsilon=1e-07)\n",
    "\n",
    "l2Regu = 0.001\n",
    "\n",
    "model = MLPRegressor(hidden_layer_sizes=(300,210,150,60), activation='relu', solver='adam', alpha = l2Regu, shuffle=False, max_iter=100,\n",
    "                     batch_size=1800, early_stopping=True, verbose=True, random_state=42)\n",
    "\n",
    "used.append(\"MLPRegressor\")\n",
    "used.append(\"4 Hidden Layers: Hidden Layer 1 with 300 neurons relu activation L2 regularization, \\n\" +\n",
    "            \"Hidden Layer 2 with 210 neurons relu activation L2 regularization, \\n\" +\n",
    "            \"Hidden Layer 3 with 150 neurons relu activation L2 regularization, \\n\" +\n",
    "            \"Hidden Layer 4 with 60 neurons relu activation L2 regularization\")\n",
    "used.append(\"Optimizer: adam\")\n",
    "used.append(\"batch_size=1800, epochs=100, early_stopping\")\n",
    "\n",
    "# Train the model\n",
    "model.fit(X_train, y_train)\n",
    "\n",
    "# Make predictions\n",
    "predictions = model.predict(X_test)"
   ]
  },
  {
   "cell_type": "code",
   "execution_count": 17,
   "metadata": {},
   "outputs": [],
   "source": [
    "# Create a DataFrame with the results\n",
    "submission_df = pd.DataFrame({'row ID': test_data['row ID'], 'price_doc': predictions.flatten()})\n",
    "\n",
    "# Save the results to a CSV file\n",
    "submission_df.to_csv('Day10.3.csv', index=False)"
   ]
  },
  {
   "cell_type": "code",
   "execution_count": 18,
   "metadata": {},
   "outputs": [
    {
     "name": "stdout",
     "output_type": "stream",
     "text": [
      "Features Used = 271\n",
      "\n",
      "Label Encoding\n",
      "Converted All Columns To float32\n",
      "log Normalization\n",
      "StandardScaler\n",
      "MLPRegressor\n",
      "4 Hidden Layers: Hidden Layer 1 with 300 neurons relu activation L2 regularization, \n",
      "Hidden Layer 2 with 210 neurons relu activation L2 regularization, \n",
      "Hidden Layer 3 with 150 neurons relu activation L2 regularization, \n",
      "Hidden Layer 4 with 60 neurons relu activation L2 regularization\n",
      "Optimizer: adam\n",
      "batch_size=1800, epochs=100, early_stopping\n"
     ]
    }
   ],
   "source": [
    "print(\"Features Used = \" + str(features_used) + \"\\n\")\n",
    "for i in used:\n",
    "    print(i)"
   ]
  }
 ],
 "metadata": {
  "kernelspec": {
   "display_name": "Python 3",
   "language": "python",
   "name": "python3"
  },
  "language_info": {
   "codemirror_mode": {
    "name": "ipython",
    "version": 3
   },
   "file_extension": ".py",
   "mimetype": "text/x-python",
   "name": "python",
   "nbconvert_exporter": "python",
   "pygments_lexer": "ipython3",
   "version": "3.11.4"
  }
 },
 "nbformat": 4,
 "nbformat_minor": 2
}
