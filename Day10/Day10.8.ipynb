{
 "cells": [
  {
   "cell_type": "code",
   "execution_count": 1,
   "metadata": {},
   "outputs": [],
   "source": [
    "import pandas as pd\n",
    "from sklearn.model_selection import train_test_split\n",
    "from sklearn.preprocessing import StandardScaler\n",
    "from keras.models import Sequential\n",
    "from keras.layers import Dense, Dropout\n",
    "from keras.callbacks import EarlyStopping\n",
    "import os\n",
    "import torch\n",
    "from sklearn.neural_network import MLPRegressor\n",
    "from sklearn.ensemble import GradientBoostingRegressor\n",
    "from sklearn.metrics import mean_squared_error\n",
    "from sklearn.model_selection import GridSearchCV\n",
    "from keras.optimizers import SGD, Adam, Adadelta, RMSprop, Adagrad, Nadam, Ftrl\n",
    "from keras.regularizers import l2\n",
    "import numpy as np\n",
    "from sklearn.decomposition import PCA"
   ]
  },
  {
   "cell_type": "code",
   "execution_count": 2,
   "metadata": {},
   "outputs": [],
   "source": [
    "# Load the training data\n",
    "train_data = pd.read_csv('../../2nd-Comp-Data/train.csv')\n",
    "test_data = pd.read_csv('../../2nd-Comp-Data/test.csv')\n",
    "\n",
    "used = []\n",
    "\n",
    "# Extract features and target variable\n",
    "X = train_data.drop('price_doc', axis=1)\n",
    "y = train_data['price_doc']\n",
    "X_test = test_data.drop(['row ID'], axis=1)"
   ]
  },
  {
   "cell_type": "code",
   "execution_count": 3,
   "metadata": {},
   "outputs": [],
   "source": [
    "# X = X.drop('sub_area', axis=1)\n",
    "# X_test = X_test.drop('sub_area', axis=1)\n",
    "# used.append('Removed sub_area')"
   ]
  },
  {
   "cell_type": "code",
   "execution_count": 4,
   "metadata": {},
   "outputs": [],
   "source": [
    "# X = pd.get_dummies(X)\n",
    "# X_test = pd.get_dummies(X_test) \n",
    "# used.append('OneHot Encoding')"
   ]
  },
  {
   "cell_type": "code",
   "execution_count": 5,
   "metadata": {},
   "outputs": [
    {
     "name": "stdout",
     "output_type": "stream",
     "text": [
      "Train: Categorical columns: ['product_type', 'sub_area', 'culture_objects_top_25', 'thermal_power_plant_raion', 'incineration_raion', 'oil_chemistry_raion', 'radiation_raion', 'railroad_terminal_raion', 'big_market_raion', 'nuclear_reactor_raion', 'detention_facility_raion', 'water_1line', 'big_road1_1line', 'railroad_1line', 'ecology']\n",
      "Test: Categorical columns: ['product_type', 'sub_area', 'culture_objects_top_25', 'thermal_power_plant_raion', 'incineration_raion', 'oil_chemistry_raion', 'radiation_raion', 'railroad_terminal_raion', 'big_market_raion', 'nuclear_reactor_raion', 'detention_facility_raion', 'water_1line', 'big_road1_1line', 'railroad_1line', 'ecology']\n"
     ]
    }
   ],
   "source": [
    "from sklearn.calibration import LabelEncoder\n",
    "\n",
    "categorical_columns = X.select_dtypes(include=['object']).columns.tolist()\n",
    "print(\"Train: Categorical columns:\", categorical_columns)\n",
    "\n",
    "label_encoder = LabelEncoder()\n",
    "\n",
    "for column in categorical_columns:\n",
    "    X[column] = label_encoder.fit_transform(X[column])\n",
    "\n",
    "categorical_columns_test = X_test.select_dtypes(include=['object']).columns.tolist()\n",
    "print(\"Test: Categorical columns:\", categorical_columns_test)\n",
    "\n",
    "label_encoder = LabelEncoder()\n",
    "\n",
    "for column in categorical_columns_test:\n",
    "    X_test[column] = label_encoder.fit_transform(X_test[column])\n",
    "\n",
    "used.append('Label Encoding')"
   ]
  },
  {
   "cell_type": "code",
   "execution_count": 6,
   "metadata": {},
   "outputs": [],
   "source": [
    "# # drop all columns in X_train with dtypes object\n",
    "# for col in X.columns:\n",
    "#     if X[col].dtype == 'object':\n",
    "#         X.drop(col, axis=1, inplace=True)\n",
    "\n",
    "# # drop all columns in X_test with dtypes object\n",
    "# for col in X_test.columns:\n",
    "#     if X_test[col].dtype == 'object':\n",
    "#         X_test.drop(col, axis=1, inplace=True)\n",
    "\n",
    "# used.append(\"Removed Object Dtypes\")"
   ]
  },
  {
   "cell_type": "code",
   "execution_count": 7,
   "metadata": {},
   "outputs": [],
   "source": [
    "X = X.astype('float32')\n",
    "X_test = X_test.astype('float32')\n",
    "used.append(\"Converted All Columns To float32\")"
   ]
  },
  {
   "cell_type": "code",
   "execution_count": 8,
   "metadata": {},
   "outputs": [],
   "source": [
    "X = np.log1p(X)\n",
    "X_test = np.log1p(X_test)\n",
    "used.append('log Normalization')"
   ]
  },
  {
   "cell_type": "code",
   "execution_count": 9,
   "metadata": {},
   "outputs": [],
   "source": [
    "# Split the data into training and validation sets\n",
    "X_train, X_val, y_train, y_val = train_test_split(X, y, test_size=0.3, random_state=42)"
   ]
  },
  {
   "cell_type": "code",
   "execution_count": 10,
   "metadata": {},
   "outputs": [],
   "source": [
    "# Standardize the data\n",
    "scaler = StandardScaler()\n",
    "X_train = scaler.fit_transform(X_train)\n",
    "X_val = scaler.transform(X_val)\n",
    "X_test = scaler.transform(X_test)\n",
    "used.append(\"StandardScaler\")"
   ]
  },
  {
   "cell_type": "code",
   "execution_count": 11,
   "metadata": {},
   "outputs": [
    {
     "data": {
      "text/plain": [
       "(127054, 271)"
      ]
     },
     "execution_count": 11,
     "metadata": {},
     "output_type": "execute_result"
    }
   ],
   "source": [
    "X_train.shape"
   ]
  },
  {
   "cell_type": "code",
   "execution_count": 12,
   "metadata": {},
   "outputs": [],
   "source": [
    "# from sklearn.preprocessing import PolynomialFeatures\n",
    "# poly = PolynomialFeatures(2)#, interaction_only=True)\n",
    "# X_train = poly.fit_transform(X_train)\n",
    "# X_test = poly.fit_transform(X_test)\n",
    "# used.append('PolynomialFeatures W/O Interaction')\n",
    "# # used.append('PolynomialFeatures With Interaction')"
   ]
  },
  {
   "cell_type": "code",
   "execution_count": 13,
   "metadata": {},
   "outputs": [],
   "source": [
    "# # save X_train to csv\n",
    "# X_train.to_csv('train with poly w/o int.2.csv', index=False)\n",
    "# X_test.to_csv('test with poly w/o int.csv', index=False)"
   ]
  },
  {
   "cell_type": "code",
   "execution_count": 14,
   "metadata": {},
   "outputs": [],
   "source": [
    "# pca = PCA(n_components=200)\n",
    "# principalComponents = pca.fit_transform(X_train)\n",
    "# X_train = pd.DataFrame(data = principalComponents)\n",
    "\n",
    "# pca2 = PCA(n_components=200)\n",
    "# principalComponents = pca2.fit_transform(X_test)\n",
    "# X_test = pd.DataFrame(data = principalComponents)\n",
    "\n",
    "# used.append('PCA (n=200)')"
   ]
  },
  {
   "cell_type": "markdown",
   "metadata": {},
   "source": [
    "<h1>With Keras<h1>"
   ]
  },
  {
   "cell_type": "code",
   "execution_count": 15,
   "metadata": {},
   "outputs": [
    {
     "name": "stderr",
     "output_type": "stream",
     "text": [
      "WARNING:absl:At this time, the v2.11+ optimizer `tf.keras.optimizers.Adam` runs slowly on M1/M2 Macs, please use the legacy Keras optimizer instead, located at `tf.keras.optimizers.legacy.Adam`.\n",
      "WARNING:absl:`lr` is deprecated in Keras optimizer, please use `learning_rate` or use the legacy optimizer, e.g.,tf.keras.optimizers.legacy.Adam.\n"
     ]
    },
    {
     "name": "stdout",
     "output_type": "stream",
     "text": [
      "Epoch 1/100\n",
      "71/71 [==============================] - 2s 19ms/step - loss: 690670469644288.0000 - val_loss: 669820483796992.0000\n",
      "Epoch 2/100\n",
      "71/71 [==============================] - 1s 18ms/step - loss: 432519749042176.0000 - val_loss: 204535553327104.0000\n",
      "Epoch 3/100\n",
      "71/71 [==============================] - 1s 21ms/step - loss: 200042245783552.0000 - val_loss: 188733664002048.0000\n",
      "Epoch 4/100\n",
      "71/71 [==============================] - 1s 18ms/step - loss: 193737334456320.0000 - val_loss: 185385619554304.0000\n",
      "Epoch 5/100\n",
      "71/71 [==============================] - 1s 18ms/step - loss: 191993544179712.0000 - val_loss: 182624291127296.0000\n",
      "Epoch 6/100\n",
      "71/71 [==============================] - 1s 19ms/step - loss: 190079297388544.0000 - val_loss: 180606025596928.0000\n",
      "Epoch 7/100\n",
      "71/71 [==============================] - 1s 17ms/step - loss: 187681514455040.0000 - val_loss: 178636850200576.0000\n",
      "Epoch 8/100\n",
      "71/71 [==============================] - 1s 17ms/step - loss: 185273480642560.0000 - val_loss: 176026600603648.0000\n",
      "Epoch 9/100\n",
      "71/71 [==============================] - 1s 17ms/step - loss: 182953678209024.0000 - val_loss: 175191833444352.0000\n",
      "Epoch 10/100\n",
      "71/71 [==============================] - 1s 17ms/step - loss: 181879214964736.0000 - val_loss: 173938592186368.0000\n",
      "Epoch 11/100\n",
      "71/71 [==============================] - 1s 17ms/step - loss: 181694179049472.0000 - val_loss: 173259903467520.0000\n",
      "Epoch 12/100\n",
      "71/71 [==============================] - 1s 17ms/step - loss: 180423170719744.0000 - val_loss: 173318103629824.0000\n",
      "Epoch 13/100\n",
      "71/71 [==============================] - 1s 18ms/step - loss: 180515462184960.0000 - val_loss: 172327862009856.0000\n",
      "Epoch 14/100\n",
      "71/71 [==============================] - 1s 17ms/step - loss: 179184861184000.0000 - val_loss: 172463824568320.0000\n",
      "Epoch 15/100\n",
      "71/71 [==============================] - 1s 17ms/step - loss: 179140787437568.0000 - val_loss: 171778089418752.0000\n",
      "Epoch 16/100\n",
      "71/71 [==============================] - 1s 17ms/step - loss: 178966371500032.0000 - val_loss: 171681486209024.0000\n",
      "Epoch 17/100\n",
      "71/71 [==============================] - 1s 18ms/step - loss: 178025069019136.0000 - val_loss: 170662421331968.0000\n",
      "Epoch 18/100\n",
      "71/71 [==============================] - 1s 18ms/step - loss: 177667563323392.0000 - val_loss: 170187827445760.0000\n",
      "Epoch 19/100\n",
      "71/71 [==============================] - 1s 18ms/step - loss: 177131447386112.0000 - val_loss: 169893756403712.0000\n",
      "Epoch 20/100\n",
      "71/71 [==============================] - 1s 18ms/step - loss: 176561273700352.0000 - val_loss: 169579653365760.0000\n",
      "Epoch 21/100\n",
      "71/71 [==============================] - 1s 18ms/step - loss: 176348454715392.0000 - val_loss: 168955591262208.0000\n",
      "Epoch 22/100\n",
      "71/71 [==============================] - 1s 18ms/step - loss: 176000763691008.0000 - val_loss: 169456324050944.0000\n",
      "Epoch 23/100\n",
      "71/71 [==============================] - 1s 18ms/step - loss: 175456091373568.0000 - val_loss: 168981193293824.0000\n",
      "Epoch 24/100\n",
      "71/71 [==============================] - 1s 18ms/step - loss: 175069561094144.0000 - val_loss: 168267104649216.0000\n",
      "Epoch 25/100\n",
      "71/71 [==============================] - 1s 18ms/step - loss: 173299950682112.0000 - val_loss: 167653243092992.0000\n",
      "Epoch 26/100\n",
      "71/71 [==============================] - 1s 19ms/step - loss: 174119651901440.0000 - val_loss: 167321926631424.0000\n",
      "Epoch 27/100\n",
      "71/71 [==============================] - 1s 18ms/step - loss: 174013317906432.0000 - val_loss: 167928892751872.0000\n",
      "Epoch 28/100\n",
      "71/71 [==============================] - 1s 18ms/step - loss: 174255614459904.0000 - val_loss: 166821613273088.0000\n",
      "Epoch 29/100\n",
      "71/71 [==============================] - 1s 18ms/step - loss: 173319412252672.0000 - val_loss: 166802705350656.0000\n",
      "Epoch 30/100\n",
      "71/71 [==============================] - 1s 18ms/step - loss: 173117313908736.0000 - val_loss: 167299445161984.0000\n",
      "Epoch 31/100\n",
      "71/71 [==============================] - 1s 18ms/step - loss: 172445688397824.0000 - val_loss: 167268440866816.0000\n",
      "Epoch 32/100\n",
      "71/71 [==============================] - 2s 30ms/step - loss: 172804485939200.0000 - val_loss: 166130341642240.0000\n",
      "Epoch 33/100\n",
      "71/71 [==============================] - 2s 22ms/step - loss: 171167683969024.0000 - val_loss: 165713192943616.0000\n",
      "Epoch 34/100\n",
      "71/71 [==============================] - 1s 19ms/step - loss: 172477279895552.0000 - val_loss: 165856067715072.0000\n",
      "Epoch 35/100\n",
      "71/71 [==============================] - 1s 18ms/step - loss: 171903448776704.0000 - val_loss: 165394694275072.0000\n",
      "Epoch 36/100\n",
      "71/71 [==============================] - 1s 19ms/step - loss: 171307639504896.0000 - val_loss: 165459370442752.0000\n",
      "Epoch 37/100\n",
      "71/71 [==============================] - 1s 19ms/step - loss: 172169401204736.0000 - val_loss: 165434590494720.0000\n",
      "Epoch 38/100\n",
      "71/71 [==============================] - 1s 19ms/step - loss: 171449692192768.0000 - val_loss: 165405582688256.0000\n",
      "Epoch 39/100\n",
      "71/71 [==============================] - 1s 19ms/step - loss: 170468258611200.0000 - val_loss: 165757048586240.0000\n",
      "Epoch 40/100\n",
      "71/71 [==============================] - 1s 19ms/step - loss: 171079251263488.0000 - val_loss: 164986471055360.0000\n",
      "Epoch 41/100\n",
      "71/71 [==============================] - 1s 19ms/step - loss: 169921187151872.0000 - val_loss: 164822876422144.0000\n",
      "Epoch 42/100\n",
      "71/71 [==============================] - 1s 20ms/step - loss: 170276964794368.0000 - val_loss: 164937313812480.0000\n",
      "Epoch 43/100\n",
      "71/71 [==============================] - 1s 21ms/step - loss: 169998848884736.0000 - val_loss: 165463195648000.0000\n",
      "Epoch 44/100\n",
      "71/71 [==============================] - 1s 20ms/step - loss: 170226196938752.0000 - val_loss: 166037060321280.0000\n",
      "Epoch 45/100\n",
      "71/71 [==============================] - 1s 20ms/step - loss: 169732326031360.0000 - val_loss: 164651782373376.0000\n",
      "Epoch 46/100\n",
      "71/71 [==============================] - 1s 20ms/step - loss: 169788865249280.0000 - val_loss: 164889901400064.0000\n",
      "Epoch 47/100\n",
      "71/71 [==============================] - 2s 22ms/step - loss: 170662438109184.0000 - val_loss: 164844837797888.0000\n",
      "Epoch 48/100\n",
      "71/71 [==============================] - 1s 20ms/step - loss: 170125885964288.0000 - val_loss: 164687282962432.0000\n",
      "Epoch 49/100\n",
      "71/71 [==============================] - 1s 20ms/step - loss: 169430302588928.0000 - val_loss: 164839234207744.0000\n",
      "Epoch 50/100\n",
      "71/71 [==============================] - 2s 21ms/step - loss: 169845421244416.0000 - val_loss: 164441798737920.0000\n",
      "Epoch 51/100\n",
      "71/71 [==============================] - 2s 21ms/step - loss: 169444059906048.0000 - val_loss: 164742849101824.0000\n",
      "Epoch 52/100\n",
      "71/71 [==============================] - 2s 22ms/step - loss: 169048503484416.0000 - val_loss: 164836231086080.0000\n",
      "Epoch 53/100\n",
      "71/71 [==============================] - 2s 25ms/step - loss: 169018455490560.0000 - val_loss: 165019740274688.0000\n",
      "Epoch 54/100\n",
      "71/71 [==============================] - 2s 23ms/step - loss: 168739886596096.0000 - val_loss: 164478289182720.0000\n",
      "Epoch 55/100\n",
      "71/71 [==============================] - 2s 24ms/step - loss: 169532022849536.0000 - val_loss: 164996201840640.0000\n",
      "Epoch 56/100\n",
      "71/71 [==============================] - 2s 25ms/step - loss: 169272680644608.0000 - val_loss: 164833429291008.0000\n",
      "Epoch 57/100\n",
      "71/71 [==============================] - 2s 26ms/step - loss: 168560403939328.0000 - val_loss: 165296430120960.0000\n",
      "Epoch 58/100\n",
      "71/71 [==============================] - 2s 26ms/step - loss: 169187485941760.0000 - val_loss: 164433460461568.0000\n",
      "Epoch 59/100\n",
      "71/71 [==============================] - 2s 29ms/step - loss: 167881379676160.0000 - val_loss: 164328216985600.0000\n",
      "Epoch 60/100\n",
      "71/71 [==============================] - 2s 32ms/step - loss: 168941431291904.0000 - val_loss: 164577543192576.0000\n",
      "Epoch 61/100\n",
      "71/71 [==============================] - 3s 36ms/step - loss: 168793137479680.0000 - val_loss: 164500535771136.0000\n",
      "Epoch 62/100\n",
      "71/71 [==============================] - 3s 43ms/step - loss: 168662912729088.0000 - val_loss: 164614654394368.0000\n",
      "Epoch 63/100\n",
      "71/71 [==============================] - 4s 52ms/step - loss: 167680069861376.0000 - val_loss: 164393329360896.0000\n",
      "Epoch 64/100\n",
      "71/71 [==============================] - 4s 59ms/step - loss: 167678123704320.0000 - val_loss: 164939377410048.0000\n",
      "Epoch 65/100\n",
      "71/71 [==============================] - 5s 78ms/step - loss: 167868444442624.0000 - val_loss: 164722615779328.0000\n",
      "Epoch 66/100\n",
      "71/71 [==============================] - 7s 97ms/step - loss: 168411137048576.0000 - val_loss: 166421208236032.0000\n",
      "Epoch 67/100\n",
      "71/71 [==============================] - 7s 100ms/step - loss: 166935815782400.0000 - val_loss: 164358852182016.0000\n",
      "Epoch 68/100\n",
      "71/71 [==============================] - 9s 119ms/step - loss: 168519903739904.0000 - val_loss: 164541757390848.0000\n",
      "Epoch 69/100\n",
      "71/71 [==============================] - 7s 100ms/step - loss: 168029925146624.0000 - val_loss: 164766353981440.0000\n",
      "2431/2431 [==============================] - 11s 5ms/step\n"
     ]
    }
   ],
   "source": [
    "features_used = X_train.shape[1]\n",
    "\n",
    "# Build the neural network\n",
    "os.environ[\"KERAS_BACKEND\"] = \"torch\"\n",
    "used.append(\"Keras With Torch Backend\")\n",
    "model = Sequential()\n",
    "model.add(Dense(360, input_dim=X_train.shape[1], activation='elu', kernel_regularizer=l2(0.01)))\n",
    "model.add(Dropout(0.3))  # You can use either dropout or early stopping\n",
    "model.add(Dense(280, activation='elu', kernel_regularizer=l2(0.01)))\n",
    "model.add(Dropout(0.3))\n",
    "model.add(Dense(190, activation='elu', kernel_regularizer=l2(0.01)))\n",
    "model.add(Dropout(0.3))\n",
    "model.add(Dense(130, activation='elu', kernel_regularizer=l2(0.01)))\n",
    "model.add(Dropout(0.3))\n",
    "model.add(Dense(1, activation='linear'))  # Output layer with linear activation for regression\n",
    "\n",
    "used.append(\"4 Hidden Layers: Hidden Layer 1 with 360 neurons elu activation L2 regularization, \\n\" +\n",
    "            \"Hidden Layer 2 with 280 neurons elu activation L2 regularization, \\n\" +\n",
    "            \"Hidden Layer 3 with 190 neurons elu activation L2 regularization, \\n\" +\n",
    "            \"Hidden Layer 4 with 130 neurons elu activation L2 regularization\")\n",
    "used.append(\"Output linear\")\n",
    "\n",
    "optimizerUsing = Adam(lr=0.001)#, beta_1=0.9, beta_2=0.999, epsilon=1e-07, amsgrad=False)\n",
    "used.append(\"Optimizer: Adam(lr=0.01)\")\n",
    "# optimizerUsing = RMSprop(lr=0.001)\n",
    "# used.append(\"Optimizer: RMSprop(lr=0.001)\")\n",
    "# optimizerUsing = Adagrad(lr=0.01)\n",
    "# used.append(\"Optimizer: Adagrad(lr=0.01)\")\n",
    "# optimizerUsing = Adadelta(lr=1.0, rho=0.95)\n",
    "# used.append(\"Optimizer: Adadelta(lr=1.0, rho=0.95)\")\n",
    "# optimizerUsing = Nadam(lr=0.002, beta_1=0.9, beta_2=0.999)\n",
    "# used.append(\"Optimizer: Nadam(lr=0.002, beta_1=0.9, beta_2=0.999)\")\n",
    "# optimizerUsing = Ftrl(learning_rate=0.01, learning_rate_power=-0.5, initial_accumulator_value=0.1, l1_regularization_strength=0.01, l2_regularization_strength=0.01)\n",
    "# used.append(\"Optimizer: Ftrl(learning_rate=0.01, learning_rate_power=-0.5, initial_accumulator_value=0.1, l1_regularization_strength=0.01, l2_regularization_strength=0.01)\")\n",
    "\n",
    "# Compile the model\n",
    "model.compile(loss='mean_squared_error', optimizer=optimizerUsing)\n",
    "used.append(\"Loss Calculation: Mean Squared Error\")\n",
    "\n",
    "# Define early stopping\n",
    "early_stopping = EarlyStopping(monitor='val_loss', patience=10, restore_best_weights=True)\n",
    "used.append(\"EarlyStopping(monitor='val_loss', patience=10, restore_best_weights=True)\")\n",
    "\n",
    "# Train the model\n",
    "model.fit(X_train, y_train, epochs=100, batch_size=1800, validation_data=(X_val, y_val), callbacks=[early_stopping])\n",
    "used.append(\"batch_size=1800, epochs=100, early_stopping (patience 10), dropout=0.3, L2 Regularization\")\n",
    "\n",
    "# Train the model\n",
    "# model.fit(X_train, y_train, epochs=100, batch_size=1800, validation_data=(X_val, y_val))#, callbacks=[early_stopping])\n",
    "# used.append(\"batch_size=1800, epochs=100, dropout=0.3, L2 Regularization\")\n",
    "\n",
    "# used.append(\"batch_size=1800, epochs=100, early_stopping\")\n",
    "\n",
    "# Make predictions\n",
    "predictions = model.predict(X_test)"
   ]
  },
  {
   "cell_type": "markdown",
   "metadata": {},
   "source": [
    "<h1>With Skilearn<h1>"
   ]
  },
  {
   "cell_type": "code",
   "execution_count": 16,
   "metadata": {},
   "outputs": [],
   "source": [
    "# features_used = X_train.shape[1]\n",
    "\n",
    "# # # optimizerUsing = SGD(learning_rate=0.01, momentum=0.9)\n",
    "\n",
    "# # # optimizerUsing = Adam(lr=0.001, beta_1=0.9, beta_2=0.999, epsilon=1e-07, amsgrad=False)\n",
    "# # optimizerUsing = Adam(lr=0.001)#, epsilon=1e-07)\n",
    "\n",
    "# l2Regu = 0.001\n",
    "\n",
    "# model = MLPRegressor(hidden_layer_sizes=(300,210,150,60), activation='relu', solver='adam', alpha = l2Regu, shuffle=False, max_iter=100,\n",
    "#                      batch_size=1800, early_stopping=True, verbose=True, random_state=42)\n",
    "\n",
    "# used.append(\"MLPRegressor\")\n",
    "# used.append(\"4 Hidden Layers: Hidden Layer 1 with 300 neurons relu activation L2 regularization, \\n\" +\n",
    "#             \"Hidden Layer 2 with 210 neurons relu activation L2 regularization, \\n\" +\n",
    "#             \"Hidden Layer 3 with 150 neurons relu activation L2 regularization, \\n\" +\n",
    "#             \"Hidden Layer 4 with 60 neurons relu activation L2 regularization\")\n",
    "# used.append(\"Optimizer: adam\")\n",
    "# used.append(\"batch_size=1800, epochs=100, early_stopping\")\n",
    "\n",
    "# # Train the model\n",
    "# model.fit(X_train, y_train)\n",
    "\n",
    "# # Make predictions\n",
    "# predictions = model.predict(X_test)"
   ]
  },
  {
   "cell_type": "code",
   "execution_count": 17,
   "metadata": {},
   "outputs": [],
   "source": [
    "# Create a DataFrame with the results\n",
    "submission_df = pd.DataFrame({'row ID': test_data['row ID'], 'price_doc': predictions.flatten()})\n",
    "\n",
    "# Save the results to a CSV file\n",
    "submission_df.to_csv('Day10.8.csv', index=False)"
   ]
  },
  {
   "cell_type": "code",
   "execution_count": 18,
   "metadata": {},
   "outputs": [
    {
     "name": "stdout",
     "output_type": "stream",
     "text": [
      "Features Used = 271\n",
      "\n",
      "Label Encoding\n",
      "Converted All Columns To float32\n",
      "log Normalization\n",
      "StandardScaler\n",
      "Keras With Torch Backend\n",
      "4 Hidden Layers: Hidden Layer 1 with 360 neurons elu activation L2 regularization, \n",
      "Hidden Layer 2 with 280 neurons elu activation L2 regularization, \n",
      "Hidden Layer 3 with 190 neurons elu activation L2 regularization, \n",
      "Hidden Layer 4 with 130 neurons elu activation L2 regularization\n",
      "Output linear\n",
      "Optimizer: Adam(lr=0.01)\n",
      "Loss Calculation: Mean Squared Error\n",
      "EarlyStopping(monitor='val_loss', patience=10, restore_best_weights=True)\n",
      "batch_size=1800, epochs=100, early_stopping (patience 10), dropout=0.3, L2 Regularization\n"
     ]
    }
   ],
   "source": [
    "print(\"Features Used = \" + str(features_used) + \"\\n\")\n",
    "for i in used:\n",
    "    print(i)"
   ]
  }
 ],
 "metadata": {
  "kernelspec": {
   "display_name": "Python 3",
   "language": "python",
   "name": "python3"
  },
  "language_info": {
   "codemirror_mode": {
    "name": "ipython",
    "version": 3
   },
   "file_extension": ".py",
   "mimetype": "text/x-python",
   "name": "python",
   "nbconvert_exporter": "python",
   "pygments_lexer": "ipython3",
   "version": "3.11.4"
  }
 },
 "nbformat": 4,
 "nbformat_minor": 2
}
