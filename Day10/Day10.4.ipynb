{
 "cells": [
  {
   "cell_type": "code",
   "execution_count": 1,
   "metadata": {},
   "outputs": [],
   "source": [
    "import pandas as pd\n",
    "from sklearn.model_selection import train_test_split\n",
    "from sklearn.preprocessing import StandardScaler\n",
    "from keras.models import Sequential\n",
    "from keras.layers import Dense, Dropout\n",
    "from keras.callbacks import EarlyStopping\n",
    "import os\n",
    "import torch\n",
    "from sklearn.neural_network import MLPRegressor\n",
    "from sklearn.ensemble import GradientBoostingRegressor\n",
    "from sklearn.metrics import mean_squared_error\n",
    "from sklearn.model_selection import GridSearchCV\n",
    "from keras.optimizers import SGD, Adam, Adadelta, RMSprop, Adagrad, Nadam, Ftrl\n",
    "from keras.regularizers import l2\n",
    "import numpy as np\n",
    "from sklearn.decomposition import PCA"
   ]
  },
  {
   "cell_type": "code",
   "execution_count": 2,
   "metadata": {},
   "outputs": [],
   "source": [
    "# Load the training data\n",
    "train_data = pd.read_csv('../../2nd-Comp-Data/train.csv')\n",
    "test_data = pd.read_csv('../../2nd-Comp-Data/test.csv')\n",
    "\n",
    "used = []\n",
    "\n",
    "# Extract features and target variable\n",
    "X = train_data.drop('price_doc', axis=1)\n",
    "y = train_data['price_doc']\n",
    "X_test = test_data.drop(['row ID'], axis=1)"
   ]
  },
  {
   "cell_type": "code",
   "execution_count": 3,
   "metadata": {},
   "outputs": [],
   "source": [
    "# X = X.drop('sub_area', axis=1)\n",
    "# X_test = X_test.drop('sub_area', axis=1)\n",
    "# used.append('Removed sub_area')"
   ]
  },
  {
   "cell_type": "code",
   "execution_count": 4,
   "metadata": {},
   "outputs": [],
   "source": [
    "# X = pd.get_dummies(X)\n",
    "# X_test = pd.get_dummies(X_test) \n",
    "# used.append('OneHot Encoding')"
   ]
  },
  {
   "cell_type": "code",
   "execution_count": 5,
   "metadata": {},
   "outputs": [
    {
     "name": "stdout",
     "output_type": "stream",
     "text": [
      "Train: Categorical columns: ['product_type', 'sub_area', 'culture_objects_top_25', 'thermal_power_plant_raion', 'incineration_raion', 'oil_chemistry_raion', 'radiation_raion', 'railroad_terminal_raion', 'big_market_raion', 'nuclear_reactor_raion', 'detention_facility_raion', 'water_1line', 'big_road1_1line', 'railroad_1line', 'ecology']\n",
      "Test: Categorical columns: ['product_type', 'sub_area', 'culture_objects_top_25', 'thermal_power_plant_raion', 'incineration_raion', 'oil_chemistry_raion', 'radiation_raion', 'railroad_terminal_raion', 'big_market_raion', 'nuclear_reactor_raion', 'detention_facility_raion', 'water_1line', 'big_road1_1line', 'railroad_1line', 'ecology']\n"
     ]
    }
   ],
   "source": [
    "from sklearn.calibration import LabelEncoder\n",
    "\n",
    "categorical_columns = X.select_dtypes(include=['object']).columns.tolist()\n",
    "print(\"Train: Categorical columns:\", categorical_columns)\n",
    "\n",
    "label_encoder = LabelEncoder()\n",
    "\n",
    "for column in categorical_columns:\n",
    "    X[column] = label_encoder.fit_transform(X[column])\n",
    "\n",
    "categorical_columns_test = X_test.select_dtypes(include=['object']).columns.tolist()\n",
    "print(\"Test: Categorical columns:\", categorical_columns_test)\n",
    "\n",
    "label_encoder = LabelEncoder()\n",
    "\n",
    "for column in categorical_columns_test:\n",
    "    X_test[column] = label_encoder.fit_transform(X_test[column])\n",
    "\n",
    "used.append('Label Encoding')"
   ]
  },
  {
   "cell_type": "code",
   "execution_count": 6,
   "metadata": {},
   "outputs": [],
   "source": [
    "# # drop all columns in X_train with dtypes object\n",
    "# for col in X.columns:\n",
    "#     if X[col].dtype == 'object':\n",
    "#         X.drop(col, axis=1, inplace=True)\n",
    "\n",
    "# # drop all columns in X_test with dtypes object\n",
    "# for col in X_test.columns:\n",
    "#     if X_test[col].dtype == 'object':\n",
    "#         X_test.drop(col, axis=1, inplace=True)\n",
    "\n",
    "# used.append(\"Removed Object Dtypes\")"
   ]
  },
  {
   "cell_type": "code",
   "execution_count": 7,
   "metadata": {},
   "outputs": [],
   "source": [
    "X = X.astype('float32')\n",
    "X_test = X_test.astype('float32')\n",
    "used.append(\"Converted All Columns To float32\")"
   ]
  },
  {
   "cell_type": "code",
   "execution_count": 8,
   "metadata": {},
   "outputs": [],
   "source": [
    "X = np.log1p(X)\n",
    "X_test = np.log1p(X_test)\n",
    "used.append('log Normalization')"
   ]
  },
  {
   "cell_type": "code",
   "execution_count": 9,
   "metadata": {},
   "outputs": [],
   "source": [
    "# Split the data into training and validation sets\n",
    "X_train, X_val, y_train, y_val = train_test_split(X, y, test_size=0.3, random_state=42)"
   ]
  },
  {
   "cell_type": "code",
   "execution_count": 10,
   "metadata": {},
   "outputs": [],
   "source": [
    "# Standardize the data\n",
    "scaler = StandardScaler()\n",
    "X_train = scaler.fit_transform(X_train)\n",
    "X_val = scaler.transform(X_val)\n",
    "X_test = scaler.transform(X_test)\n",
    "used.append(\"StandardScaler\")"
   ]
  },
  {
   "cell_type": "code",
   "execution_count": 11,
   "metadata": {},
   "outputs": [
    {
     "data": {
      "text/plain": [
       "(127054, 271)"
      ]
     },
     "execution_count": 11,
     "metadata": {},
     "output_type": "execute_result"
    }
   ],
   "source": [
    "X_train.shape"
   ]
  },
  {
   "cell_type": "code",
   "execution_count": 12,
   "metadata": {},
   "outputs": [],
   "source": [
    "# from sklearn.preprocessing import PolynomialFeatures\n",
    "# poly = PolynomialFeatures(2)#, interaction_only=True)\n",
    "# X_train = poly.fit_transform(X_train)\n",
    "# X_test = poly.fit_transform(X_test)\n",
    "# used.append('PolynomialFeatures W/O Interaction')\n",
    "# # used.append('PolynomialFeatures With Interaction')"
   ]
  },
  {
   "cell_type": "code",
   "execution_count": 13,
   "metadata": {},
   "outputs": [],
   "source": [
    "# # save X_train to csv\n",
    "# X_train.to_csv('train with poly w/o int.2.csv', index=False)\n",
    "# X_test.to_csv('test with poly w/o int.csv', index=False)"
   ]
  },
  {
   "cell_type": "code",
   "execution_count": 14,
   "metadata": {},
   "outputs": [],
   "source": [
    "# pca = PCA(n_components=200)\n",
    "# principalComponents = pca.fit_transform(X_train)\n",
    "# X_train = pd.DataFrame(data = principalComponents)\n",
    "\n",
    "# pca2 = PCA(n_components=200)\n",
    "# principalComponents = pca2.fit_transform(X_test)\n",
    "# X_test = pd.DataFrame(data = principalComponents)\n",
    "\n",
    "# used.append('PCA (n=200)')"
   ]
  },
  {
   "cell_type": "markdown",
   "metadata": {},
   "source": [
    "<h1>With Keras<h1>"
   ]
  },
  {
   "cell_type": "code",
   "execution_count": 15,
   "metadata": {},
   "outputs": [
    {
     "name": "stderr",
     "output_type": "stream",
     "text": [
      "WARNING:absl:At this time, the v2.11+ optimizer `tf.keras.optimizers.Adam` runs slowly on M1/M2 Macs, please use the legacy Keras optimizer instead, located at `tf.keras.optimizers.legacy.Adam`.\n",
      "WARNING:absl:`lr` is deprecated in Keras optimizer, please use `learning_rate` or use the legacy optimizer, e.g.,tf.keras.optimizers.legacy.Adam.\n"
     ]
    },
    {
     "name": "stdout",
     "output_type": "stream",
     "text": [
      "Epoch 1/100\n",
      "71/71 [==============================] - 2s 17ms/step - loss: 679394301444096.0000 - val_loss: 554145270464512.0000\n",
      "Epoch 2/100\n",
      "71/71 [==============================] - 2s 26ms/step - loss: 248057430016000.0000 - val_loss: 181035220336640.0000\n",
      "Epoch 3/100\n",
      "71/71 [==============================] - 1s 16ms/step - loss: 192498655821824.0000 - val_loss: 178500753424384.0000\n",
      "Epoch 4/100\n",
      "71/71 [==============================] - 1s 15ms/step - loss: 188275394347008.0000 - val_loss: 175878088687616.0000\n",
      "Epoch 5/100\n",
      "71/71 [==============================] - 1s 15ms/step - loss: 186122877534208.0000 - val_loss: 174529066303488.0000\n",
      "Epoch 6/100\n",
      "71/71 [==============================] - 1s 16ms/step - loss: 187280639655936.0000 - val_loss: 174100676870144.0000\n",
      "Epoch 7/100\n",
      "71/71 [==============================] - 1s 15ms/step - loss: 185292958990336.0000 - val_loss: 173396151238656.0000\n",
      "Epoch 8/100\n",
      "71/71 [==============================] - 1s 15ms/step - loss: 184158919852032.0000 - val_loss: 173004319358976.0000\n",
      "Epoch 9/100\n",
      "71/71 [==============================] - 1s 15ms/step - loss: 183363881140224.0000 - val_loss: 172330999349248.0000\n",
      "Epoch 10/100\n",
      "71/71 [==============================] - 1s 17ms/step - loss: 183203474178048.0000 - val_loss: 172600122671104.0000\n",
      "Epoch 11/100\n",
      "71/71 [==============================] - 1s 16ms/step - loss: 184474918715392.0000 - val_loss: 171635415973888.0000\n",
      "Epoch 12/100\n",
      "71/71 [==============================] - 1s 15ms/step - loss: 182566913048576.0000 - val_loss: 171913632546816.0000\n",
      "Epoch 13/100\n",
      "71/71 [==============================] - 1s 16ms/step - loss: 182495073009664.0000 - val_loss: 170611737362432.0000\n",
      "Epoch 14/100\n",
      "71/71 [==============================] - 1s 15ms/step - loss: 183055364915200.0000 - val_loss: 173072048979968.0000\n",
      "Epoch 15/100\n",
      "71/71 [==============================] - 1s 15ms/step - loss: 180870635847680.0000 - val_loss: 171112520482816.0000\n",
      "Epoch 16/100\n",
      "71/71 [==============================] - 1s 15ms/step - loss: 181145916407808.0000 - val_loss: 170172241412096.0000\n",
      "Epoch 17/100\n",
      "71/71 [==============================] - 1s 14ms/step - loss: 180180505067520.0000 - val_loss: 169550393901056.0000\n",
      "Epoch 18/100\n",
      "71/71 [==============================] - 1s 15ms/step - loss: 179548725444608.0000 - val_loss: 169225821880320.0000\n",
      "Epoch 19/100\n",
      "71/71 [==============================] - 1s 15ms/step - loss: 180487662338048.0000 - val_loss: 170471127515136.0000\n",
      "Epoch 20/100\n",
      "71/71 [==============================] - 1s 15ms/step - loss: 179846621691904.0000 - val_loss: 168399946645504.0000\n",
      "Epoch 21/100\n",
      "71/71 [==============================] - 1s 15ms/step - loss: 178610392530944.0000 - val_loss: 168236217794560.0000\n",
      "Epoch 22/100\n",
      "71/71 [==============================] - 1s 15ms/step - loss: 178451025756160.0000 - val_loss: 168414509268992.0000\n",
      "Epoch 23/100\n",
      "71/71 [==============================] - 1s 15ms/step - loss: 179194709409792.0000 - val_loss: 168338290376704.0000\n",
      "Epoch 24/100\n",
      "71/71 [==============================] - 1s 14ms/step - loss: 178033726062592.0000 - val_loss: 168473330188288.0000\n",
      "Epoch 25/100\n",
      "71/71 [==============================] - 1s 15ms/step - loss: 177796093575168.0000 - val_loss: 167499664457728.0000\n",
      "Epoch 26/100\n",
      "71/71 [==============================] - 1s 15ms/step - loss: 177515595300864.0000 - val_loss: 167859737067520.0000\n",
      "Epoch 27/100\n",
      "71/71 [==============================] - 1s 15ms/step - loss: 177967875489792.0000 - val_loss: 167326842355712.0000\n",
      "Epoch 28/100\n",
      "71/71 [==============================] - 1s 15ms/step - loss: 176844523438080.0000 - val_loss: 168361661038592.0000\n",
      "Epoch 29/100\n",
      "71/71 [==============================] - 1s 15ms/step - loss: 175925215887360.0000 - val_loss: 166837400633344.0000\n",
      "Epoch 30/100\n",
      "71/71 [==============================] - 1s 15ms/step - loss: 175973047730176.0000 - val_loss: 166603308138496.0000\n",
      "Epoch 31/100\n",
      "71/71 [==============================] - 1s 16ms/step - loss: 176430243643392.0000 - val_loss: 166415369764864.0000\n",
      "Epoch 32/100\n",
      "71/71 [==============================] - 1s 15ms/step - loss: 176055776182272.0000 - val_loss: 166350056062976.0000\n",
      "Epoch 33/100\n",
      "71/71 [==============================] - 1s 15ms/step - loss: 175709527998464.0000 - val_loss: 166652113059840.0000\n",
      "Epoch 34/100\n",
      "71/71 [==============================] - 1s 15ms/step - loss: 174718699175936.0000 - val_loss: 166362135658496.0000\n",
      "Epoch 35/100\n",
      "71/71 [==============================] - 1s 16ms/step - loss: 175026661752832.0000 - val_loss: 166296134090752.0000\n",
      "Epoch 36/100\n",
      "71/71 [==============================] - 1s 15ms/step - loss: 175469580255232.0000 - val_loss: 167244852101120.0000\n",
      "Epoch 37/100\n",
      "71/71 [==============================] - 1s 15ms/step - loss: 174396794732544.0000 - val_loss: 166556466151424.0000\n",
      "Epoch 38/100\n",
      "71/71 [==============================] - 1s 16ms/step - loss: 174062592589824.0000 - val_loss: 166071235510272.0000\n",
      "Epoch 39/100\n",
      "71/71 [==============================] - 1s 15ms/step - loss: 174842112376832.0000 - val_loss: 166483032276992.0000\n",
      "Epoch 40/100\n",
      "71/71 [==============================] - 1s 15ms/step - loss: 173057620574208.0000 - val_loss: 166581363539968.0000\n",
      "Epoch 41/100\n",
      "71/71 [==============================] - 1s 17ms/step - loss: 173952500498432.0000 - val_loss: 166371933552640.0000\n",
      "Epoch 42/100\n",
      "71/71 [==============================] - 1s 15ms/step - loss: 173322197270528.0000 - val_loss: 166319286648832.0000\n",
      "Epoch 43/100\n",
      "71/71 [==============================] - 1s 16ms/step - loss: 173596437643264.0000 - val_loss: 166257311612928.0000\n",
      "Epoch 44/100\n",
      "71/71 [==============================] - 1s 17ms/step - loss: 172381968531456.0000 - val_loss: 165970991644672.0000\n",
      "Epoch 45/100\n",
      "71/71 [==============================] - 1s 15ms/step - loss: 172542073503744.0000 - val_loss: 167366453362688.0000\n",
      "Epoch 46/100\n",
      "71/71 [==============================] - 1s 16ms/step - loss: 172286254514176.0000 - val_loss: 166195034587136.0000\n",
      "Epoch 47/100\n",
      "71/71 [==============================] - 1s 15ms/step - loss: 171676251717632.0000 - val_loss: 166292426326016.0000\n",
      "Epoch 48/100\n",
      "71/71 [==============================] - 1s 16ms/step - loss: 173284347871232.0000 - val_loss: 166381211353088.0000\n",
      "Epoch 49/100\n",
      "71/71 [==============================] - 1s 15ms/step - loss: 171687123353600.0000 - val_loss: 166055582367744.0000\n",
      "Epoch 50/100\n",
      "71/71 [==============================] - 1s 15ms/step - loss: 171284503724032.0000 - val_loss: 166238152032256.0000\n",
      "Epoch 51/100\n",
      "71/71 [==============================] - 1s 15ms/step - loss: 171733847900160.0000 - val_loss: 166419211747328.0000\n",
      "Epoch 52/100\n",
      "71/71 [==============================] - 1s 15ms/step - loss: 170290856329216.0000 - val_loss: 166065313153024.0000\n",
      "Epoch 53/100\n",
      "71/71 [==============================] - 1s 15ms/step - loss: 171433451847680.0000 - val_loss: 167803734720512.0000\n",
      "Epoch 54/100\n",
      "71/71 [==============================] - 1s 15ms/step - loss: 170567831388160.0000 - val_loss: 166714088095744.0000\n",
      "2431/2431 [==============================] - 1s 476us/step\n"
     ]
    }
   ],
   "source": [
    "features_used = X_train.shape[1]\n",
    "\n",
    "# Build the neural network\n",
    "os.environ[\"KERAS_BACKEND\"] = \"torch\"\n",
    "used.append(\"Keras With Torch Backend\")\n",
    "model = Sequential()\n",
    "model.add(Dense(330, input_dim=X_train.shape[1], activation='relu', kernel_regularizer=l2(0.01)))\n",
    "model.add(Dropout(0.3))  # You can use either dropout or early stopping\n",
    "model.add(Dense(250, activation='relu', kernel_regularizer=l2(0.0001)))\n",
    "model.add(Dropout(0.3))\n",
    "model.add(Dense(170, activation='relu', kernel_regularizer=l2(0.0001)))\n",
    "model.add(Dropout(0.3))\n",
    "model.add(Dense(110, activation='relu', kernel_regularizer=l2(0.0001)))\n",
    "model.add(Dropout(0.3))\n",
    "model.add(Dense(80, activation='relu', kernel_regularizer=l2(0.0001)))\n",
    "model.add(Dropout(0.3))\n",
    "model.add(Dense(1, activation='linear'))  # Output layer with linear activation for regression\n",
    "\n",
    "used.append(\"5 Hidden Layers: Hidden Layer 1 with 330 neurons relu activation L2 regularization, \\n\" +\n",
    "            \"Hidden Layer 2 with 250 neurons relu activation L2 regularization, \\n\" +\n",
    "            \"Hidden Layer 3 with 170 neurons relu activation L2 regularization, \\n\" +\n",
    "            \"Hidden Layer 4 with 110 neurons relu activation L2 regularization, \\n\" +\n",
    "            \"Hidden Layer 5 with 80 neurons relu activation L2 regularization\")\n",
    "used.append(\"Output linear\")\n",
    "\n",
    "optimizerUsing = Adam(lr=0.001)#, beta_1=0.9, beta_2=0.999, epsilon=1e-07, amsgrad=False)\n",
    "used.append(\"Optimizer: Adam(lr=0.01)\")\n",
    "# optimizerUsing = RMSprop(lr=0.001)\n",
    "# used.append(\"Optimizer: RMSprop(lr=0.001)\")\n",
    "# optimizerUsing = Adagrad(lr=0.01)\n",
    "# used.append(\"Optimizer: Adagrad(lr=0.01)\")\n",
    "# optimizerUsing = Adadelta(lr=1.0, rho=0.95)\n",
    "# used.append(\"Optimizer: Adadelta(lr=1.0, rho=0.95)\")\n",
    "# optimizerUsing = Nadam(lr=0.002, beta_1=0.9, beta_2=0.999)\n",
    "# used.append(\"Optimizer: Nadam(lr=0.002, beta_1=0.9, beta_2=0.999)\")\n",
    "# optimizerUsing = Ftrl(learning_rate=0.01, learning_rate_power=-0.5, initial_accumulator_value=0.1, l1_regularization_strength=0.01, l2_regularization_strength=0.01)\n",
    "# used.append(\"Optimizer: Ftrl(learning_rate=0.01, learning_rate_power=-0.5, initial_accumulator_value=0.1, l1_regularization_strength=0.01, l2_regularization_strength=0.01)\")\n",
    "\n",
    "# Compile the model\n",
    "model.compile(loss='mean_squared_error', optimizer=optimizerUsing)\n",
    "used.append(\"Loss Calculation: Mean Squared Error\")\n",
    "\n",
    "# Define early stopping\n",
    "early_stopping = EarlyStopping(monitor='val_loss', patience=10, restore_best_weights=True)\n",
    "used.append(\"EarlyStopping(monitor='val_loss', patience=10, restore_best_weights=True)\")\n",
    "\n",
    "# Train the model\n",
    "model.fit(X_train, y_train, epochs=100, batch_size=1800, validation_data=(X_val, y_val), callbacks=[early_stopping])\n",
    "used.append(\"batch_size=1800, epochs=100, early_stopping (patience 10), dropout=0.3, L2 Regularization\")\n",
    "\n",
    "# Train the model\n",
    "# model.fit(X_train, y_train, epochs=100, batch_size=1800, validation_data=(X_val, y_val))#, callbacks=[early_stopping])\n",
    "# used.append(\"batch_size=1800, epochs=100, dropout=0.3, L2 Regularization\")\n",
    "\n",
    "# used.append(\"batch_size=1800, epochs=100, early_stopping\")\n",
    "\n",
    "# Make predictions\n",
    "predictions = model.predict(X_test)"
   ]
  },
  {
   "cell_type": "markdown",
   "metadata": {},
   "source": [
    "<h1>With Skilearn<h1>"
   ]
  },
  {
   "cell_type": "code",
   "execution_count": 16,
   "metadata": {},
   "outputs": [],
   "source": [
    "# features_used = X_train.shape[1]\n",
    "\n",
    "# # # optimizerUsing = SGD(learning_rate=0.01, momentum=0.9)\n",
    "\n",
    "# # # optimizerUsing = Adam(lr=0.001, beta_1=0.9, beta_2=0.999, epsilon=1e-07, amsgrad=False)\n",
    "# # optimizerUsing = Adam(lr=0.001)#, epsilon=1e-07)\n",
    "\n",
    "# l2Regu = 0.001\n",
    "\n",
    "# model = MLPRegressor(hidden_layer_sizes=(300,210,150,60), activation='relu', solver='adam', alpha = l2Regu, shuffle=False, max_iter=100,\n",
    "#                      batch_size=1800, early_stopping=True, verbose=True, random_state=42)\n",
    "\n",
    "# used.append(\"MLPRegressor\")\n",
    "# used.append(\"4 Hidden Layers: Hidden Layer 1 with 300 neurons relu activation L2 regularization, \\n\" +\n",
    "#             \"Hidden Layer 2 with 210 neurons relu activation L2 regularization, \\n\" +\n",
    "#             \"Hidden Layer 3 with 150 neurons relu activation L2 regularization, \\n\" +\n",
    "#             \"Hidden Layer 4 with 60 neurons relu activation L2 regularization\")\n",
    "# used.append(\"Optimizer: adam\")\n",
    "# used.append(\"batch_size=1800, epochs=100, early_stopping\")\n",
    "\n",
    "# # Train the model\n",
    "# model.fit(X_train, y_train)\n",
    "\n",
    "# # Make predictions\n",
    "# predictions = model.predict(X_test)"
   ]
  },
  {
   "cell_type": "code",
   "execution_count": 17,
   "metadata": {},
   "outputs": [],
   "source": [
    "# Create a DataFrame with the results\n",
    "submission_df = pd.DataFrame({'row ID': test_data['row ID'], 'price_doc': predictions.flatten()})\n",
    "\n",
    "# Save the results to a CSV file\n",
    "submission_df.to_csv('Day10.4.csv', index=False)"
   ]
  },
  {
   "cell_type": "code",
   "execution_count": 18,
   "metadata": {},
   "outputs": [
    {
     "name": "stdout",
     "output_type": "stream",
     "text": [
      "Features Used = 271\n",
      "\n",
      "Label Encoding\n",
      "Converted All Columns To float32\n",
      "log Normalization\n",
      "StandardScaler\n",
      "Keras With Torch Backend\n",
      "5 Hidden Layers: Hidden Layer 1 with 330 neurons relu activation L2 regularization, \n",
      "Hidden Layer 2 with 250 neurons relu activation L2 regularization, \n",
      "Hidden Layer 3 with 170 neurons relu activation L2 regularization, \n",
      "Hidden Layer 4 with 110 neurons relu activation L2 regularization, \n",
      "Hidden Layer 5 with 80 neurons relu activation L2 regularization\n",
      "Output linear\n",
      "Optimizer: Adam(lr=0.01)\n",
      "Loss Calculation: Mean Squared Error\n",
      "EarlyStopping(monitor='val_loss', patience=10, restore_best_weights=True)\n",
      "batch_size=1800, epochs=100, early_stopping (patience 10), dropout=0.3, L2 Regularization\n"
     ]
    }
   ],
   "source": [
    "print(\"Features Used = \" + str(features_used) + \"\\n\")\n",
    "for i in used:\n",
    "    print(i)"
   ]
  }
 ],
 "metadata": {
  "kernelspec": {
   "display_name": "Python 3",
   "language": "python",
   "name": "python3"
  },
  "language_info": {
   "codemirror_mode": {
    "name": "ipython",
    "version": 3
   },
   "file_extension": ".py",
   "mimetype": "text/x-python",
   "name": "python",
   "nbconvert_exporter": "python",
   "pygments_lexer": "ipython3",
   "version": "3.11.4"
  }
 },
 "nbformat": 4,
 "nbformat_minor": 2
}
