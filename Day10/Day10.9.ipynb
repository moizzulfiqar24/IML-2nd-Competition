{
 "cells": [
  {
   "cell_type": "code",
   "execution_count": 1,
   "metadata": {},
   "outputs": [],
   "source": [
    "import pandas as pd\n",
    "from sklearn.model_selection import train_test_split\n",
    "from sklearn.preprocessing import StandardScaler\n",
    "from keras.models import Sequential\n",
    "from keras.layers import Dense, Dropout\n",
    "from keras.callbacks import EarlyStopping\n",
    "import os\n",
    "import torch\n",
    "from sklearn.neural_network import MLPRegressor\n",
    "from sklearn.ensemble import GradientBoostingRegressor\n",
    "from sklearn.metrics import mean_squared_error\n",
    "from sklearn.model_selection import GridSearchCV\n",
    "from keras.optimizers import SGD, Adam, Adadelta, RMSprop, Adagrad, Nadam, Ftrl\n",
    "from keras.regularizers import l2\n",
    "import numpy as np\n",
    "from sklearn.decomposition import PCA"
   ]
  },
  {
   "cell_type": "code",
   "execution_count": 2,
   "metadata": {},
   "outputs": [],
   "source": [
    "# Load the training data\n",
    "train_data = pd.read_csv('../../2nd-Comp-Data/train.csv')\n",
    "test_data = pd.read_csv('../../2nd-Comp-Data/test.csv')\n",
    "\n",
    "used = []\n",
    "\n",
    "# Extract features and target variable\n",
    "X = train_data.drop('price_doc', axis=1)\n",
    "y = train_data['price_doc']\n",
    "X_test = test_data.drop(['row ID'], axis=1)"
   ]
  },
  {
   "cell_type": "code",
   "execution_count": 3,
   "metadata": {},
   "outputs": [],
   "source": [
    "# X = X.drop('sub_area', axis=1)\n",
    "# X_test = X_test.drop('sub_area', axis=1)\n",
    "# used.append('Removed sub_area')"
   ]
  },
  {
   "cell_type": "code",
   "execution_count": 4,
   "metadata": {},
   "outputs": [],
   "source": [
    "# X = pd.get_dummies(X)\n",
    "# X_test = pd.get_dummies(X_test) \n",
    "# used.append('OneHot Encoding')"
   ]
  },
  {
   "cell_type": "code",
   "execution_count": 5,
   "metadata": {},
   "outputs": [
    {
     "name": "stdout",
     "output_type": "stream",
     "text": [
      "Train: Categorical columns: ['product_type', 'sub_area', 'culture_objects_top_25', 'thermal_power_plant_raion', 'incineration_raion', 'oil_chemistry_raion', 'radiation_raion', 'railroad_terminal_raion', 'big_market_raion', 'nuclear_reactor_raion', 'detention_facility_raion', 'water_1line', 'big_road1_1line', 'railroad_1line', 'ecology']\n",
      "Test: Categorical columns: ['product_type', 'sub_area', 'culture_objects_top_25', 'thermal_power_plant_raion', 'incineration_raion', 'oil_chemistry_raion', 'radiation_raion', 'railroad_terminal_raion', 'big_market_raion', 'nuclear_reactor_raion', 'detention_facility_raion', 'water_1line', 'big_road1_1line', 'railroad_1line', 'ecology']\n"
     ]
    }
   ],
   "source": [
    "from sklearn.calibration import LabelEncoder\n",
    "\n",
    "categorical_columns = X.select_dtypes(include=['object']).columns.tolist()\n",
    "print(\"Train: Categorical columns:\", categorical_columns)\n",
    "\n",
    "label_encoder = LabelEncoder()\n",
    "\n",
    "for column in categorical_columns:\n",
    "    X[column] = label_encoder.fit_transform(X[column])\n",
    "\n",
    "categorical_columns_test = X_test.select_dtypes(include=['object']).columns.tolist()\n",
    "print(\"Test: Categorical columns:\", categorical_columns_test)\n",
    "\n",
    "label_encoder = LabelEncoder()\n",
    "\n",
    "for column in categorical_columns_test:\n",
    "    X_test[column] = label_encoder.fit_transform(X_test[column])\n",
    "\n",
    "used.append('Label Encoding')"
   ]
  },
  {
   "cell_type": "code",
   "execution_count": 6,
   "metadata": {},
   "outputs": [],
   "source": [
    "# # drop all columns in X_train with dtypes object\n",
    "# for col in X.columns:\n",
    "#     if X[col].dtype == 'object':\n",
    "#         X.drop(col, axis=1, inplace=True)\n",
    "\n",
    "# # drop all columns in X_test with dtypes object\n",
    "# for col in X_test.columns:\n",
    "#     if X_test[col].dtype == 'object':\n",
    "#         X_test.drop(col, axis=1, inplace=True)\n",
    "\n",
    "# used.append(\"Removed Object Dtypes\")"
   ]
  },
  {
   "cell_type": "code",
   "execution_count": 7,
   "metadata": {},
   "outputs": [],
   "source": [
    "X = X.astype('float32')\n",
    "X_test = X_test.astype('float32')\n",
    "used.append(\"Converted All Columns To float32\")"
   ]
  },
  {
   "cell_type": "code",
   "execution_count": 8,
   "metadata": {},
   "outputs": [],
   "source": [
    "X = np.log1p(X)\n",
    "X_test = np.log1p(X_test)\n",
    "used.append('log Normalization')"
   ]
  },
  {
   "cell_type": "code",
   "execution_count": 9,
   "metadata": {},
   "outputs": [],
   "source": [
    "# Split the data into training and validation sets\n",
    "X_train, X_val, y_train, y_val = train_test_split(X, y, test_size=0.3, random_state=42)"
   ]
  },
  {
   "cell_type": "code",
   "execution_count": 10,
   "metadata": {},
   "outputs": [],
   "source": [
    "# Standardize the data\n",
    "scaler = StandardScaler()\n",
    "X_train = scaler.fit_transform(X_train)\n",
    "X_val = scaler.transform(X_val)\n",
    "X_test = scaler.transform(X_test)\n",
    "used.append(\"StandardScaler\")"
   ]
  },
  {
   "cell_type": "code",
   "execution_count": 11,
   "metadata": {},
   "outputs": [
    {
     "data": {
      "text/plain": [
       "(127054, 271)"
      ]
     },
     "execution_count": 11,
     "metadata": {},
     "output_type": "execute_result"
    }
   ],
   "source": [
    "X_train.shape"
   ]
  },
  {
   "cell_type": "code",
   "execution_count": 12,
   "metadata": {},
   "outputs": [],
   "source": [
    "# from sklearn.preprocessing import PolynomialFeatures\n",
    "# poly = PolynomialFeatures(2)#, interaction_only=True)\n",
    "# X_train = poly.fit_transform(X_train)\n",
    "# X_test = poly.fit_transform(X_test)\n",
    "# used.append('PolynomialFeatures W/O Interaction')\n",
    "# # used.append('PolynomialFeatures With Interaction')"
   ]
  },
  {
   "cell_type": "code",
   "execution_count": 13,
   "metadata": {},
   "outputs": [],
   "source": [
    "# # save X_train to csv\n",
    "# X_train.to_csv('train with poly w/o int.2.csv', index=False)\n",
    "# X_test.to_csv('test with poly w/o int.csv', index=False)"
   ]
  },
  {
   "cell_type": "code",
   "execution_count": 14,
   "metadata": {},
   "outputs": [],
   "source": [
    "# pca = PCA(n_components=200)\n",
    "# principalComponents = pca.fit_transform(X_train)\n",
    "# X_train = pd.DataFrame(data = principalComponents)\n",
    "\n",
    "# pca2 = PCA(n_components=200)\n",
    "# principalComponents = pca2.fit_transform(X_test)\n",
    "# X_test = pd.DataFrame(data = principalComponents)\n",
    "\n",
    "# used.append('PCA (n=200)')"
   ]
  },
  {
   "cell_type": "markdown",
   "metadata": {},
   "source": [
    "<h1>With Keras<h1>"
   ]
  },
  {
   "cell_type": "code",
   "execution_count": 15,
   "metadata": {},
   "outputs": [
    {
     "name": "stderr",
     "output_type": "stream",
     "text": [
      "WARNING:absl:At this time, the v2.11+ optimizer `tf.keras.optimizers.Adam` runs slowly on M1/M2 Macs, please use the legacy Keras optimizer instead, located at `tf.keras.optimizers.legacy.Adam`.\n",
      "WARNING:absl:`lr` is deprecated in Keras optimizer, please use `learning_rate` or use the legacy optimizer, e.g.,tf.keras.optimizers.legacy.Adam.\n"
     ]
    },
    {
     "name": "stdout",
     "output_type": "stream",
     "text": [
      "Epoch 1/100\n",
      "71/71 [==============================] - 2s 22ms/step - loss: 690528265961472.0000 - val_loss: 669165098631168.0000\n",
      "Epoch 2/100\n",
      "71/71 [==============================] - 2s 24ms/step - loss: 432718760378368.0000 - val_loss: 210317334282240.0000\n",
      "Epoch 3/100\n",
      "71/71 [==============================] - 1s 20ms/step - loss: 205096835088384.0000 - val_loss: 190612863188992.0000\n",
      "Epoch 4/100\n",
      "71/71 [==============================] - 2s 30ms/step - loss: 196633736249344.0000 - val_loss: 187200696221696.0000\n",
      "Epoch 5/100\n",
      "71/71 [==============================] - 1s 18ms/step - loss: 194049659109376.0000 - val_loss: 184165848842240.0000\n",
      "Epoch 6/100\n",
      "71/71 [==============================] - 1s 17ms/step - loss: 191414780559360.0000 - val_loss: 182234019528704.0000\n",
      "Epoch 7/100\n",
      "71/71 [==============================] - 1s 17ms/step - loss: 189809133879296.0000 - val_loss: 180812637011968.0000\n",
      "Epoch 8/100\n",
      "71/71 [==============================] - 1s 17ms/step - loss: 188668081864704.0000 - val_loss: 179604023148544.0000\n",
      "Epoch 9/100\n",
      "71/71 [==============================] - 1s 18ms/step - loss: 187219503480832.0000 - val_loss: 178477063995392.0000\n",
      "Epoch 10/100\n",
      "71/71 [==============================] - 1s 17ms/step - loss: 186448590405632.0000 - val_loss: 177570775564288.0000\n",
      "Epoch 11/100\n",
      "71/71 [==============================] - 1s 18ms/step - loss: 186404499881984.0000 - val_loss: 176524179275776.0000\n",
      "Epoch 12/100\n",
      "71/71 [==============================] - 1s 18ms/step - loss: 182746177601536.0000 - val_loss: 174709924691968.0000\n",
      "Epoch 13/100\n",
      "71/71 [==============================] - 1s 18ms/step - loss: 181449282027520.0000 - val_loss: 174316062769152.0000\n",
      "Epoch 14/100\n",
      "71/71 [==============================] - 1s 18ms/step - loss: 181109493071872.0000 - val_loss: 173478862913536.0000\n",
      "Epoch 15/100\n",
      "71/71 [==============================] - 1s 19ms/step - loss: 180783360770048.0000 - val_loss: 172837184733184.0000\n",
      "Epoch 16/100\n",
      "71/71 [==============================] - 1s 19ms/step - loss: 179303660650496.0000 - val_loss: 171974416400384.0000\n",
      "Epoch 17/100\n",
      "71/71 [==============================] - 1s 19ms/step - loss: 179510272065536.0000 - val_loss: 171749450711040.0000\n",
      "Epoch 18/100\n",
      "71/71 [==============================] - 1s 18ms/step - loss: 178681444040704.0000 - val_loss: 171221891153920.0000\n",
      "Epoch 19/100\n",
      "71/71 [==============================] - 1s 18ms/step - loss: 178255118204928.0000 - val_loss: 170534780272640.0000\n",
      "Epoch 20/100\n",
      "71/71 [==============================] - 1s 18ms/step - loss: 177789466574848.0000 - val_loss: 170063424389120.0000\n",
      "Epoch 21/100\n",
      "71/71 [==============================] - 1s 19ms/step - loss: 176817612783616.0000 - val_loss: 170183918354432.0000\n",
      "Epoch 22/100\n",
      "71/71 [==============================] - 1s 19ms/step - loss: 176180816773120.0000 - val_loss: 169313147289600.0000\n",
      "Epoch 23/100\n",
      "71/71 [==============================] - 1s 18ms/step - loss: 176139595153408.0000 - val_loss: 168890244005888.0000\n",
      "Epoch 24/100\n",
      "71/71 [==============================] - 1s 18ms/step - loss: 176087703224320.0000 - val_loss: 168353037549568.0000\n",
      "Epoch 25/100\n",
      "71/71 [==============================] - 1s 18ms/step - loss: 175594285301760.0000 - val_loss: 168143037136896.0000\n",
      "Epoch 26/100\n",
      "71/71 [==============================] - 1s 21ms/step - loss: 174933900525568.0000 - val_loss: 167549006249984.0000\n",
      "Epoch 27/100\n",
      "71/71 [==============================] - 1s 21ms/step - loss: 174285578567680.0000 - val_loss: 167322396393472.0000\n",
      "Epoch 28/100\n",
      "71/71 [==============================] - 1s 20ms/step - loss: 174224928931840.0000 - val_loss: 166979654647808.0000\n",
      "Epoch 29/100\n",
      "71/71 [==============================] - 1s 18ms/step - loss: 173957818875904.0000 - val_loss: 166772825128960.0000\n",
      "Epoch 30/100\n",
      "71/71 [==============================] - 1s 19ms/step - loss: 173454837940224.0000 - val_loss: 167562428022784.0000\n",
      "Epoch 31/100\n",
      "71/71 [==============================] - 1s 19ms/step - loss: 173226651025408.0000 - val_loss: 166358947987456.0000\n",
      "Epoch 32/100\n",
      "71/71 [==============================] - 1s 19ms/step - loss: 172764908486656.0000 - val_loss: 166170271416320.0000\n",
      "Epoch 33/100\n",
      "71/71 [==============================] - 1s 20ms/step - loss: 172828762570752.0000 - val_loss: 165696247955456.0000\n",
      "Epoch 34/100\n",
      "71/71 [==============================] - 1s 19ms/step - loss: 173001886662656.0000 - val_loss: 165660277604352.0000\n",
      "Epoch 35/100\n",
      "71/71 [==============================] - 1s 20ms/step - loss: 171364044505088.0000 - val_loss: 165485895221248.0000\n",
      "Epoch 36/100\n",
      "71/71 [==============================] - 1s 20ms/step - loss: 171939352018944.0000 - val_loss: 165608872214528.0000\n",
      "Epoch 37/100\n",
      "71/71 [==============================] - 1s 20ms/step - loss: 172781132054528.0000 - val_loss: 165181623631872.0000\n",
      "Epoch 38/100\n",
      "71/71 [==============================] - 1s 20ms/step - loss: 172209045766144.0000 - val_loss: 165113021595648.0000\n",
      "Epoch 39/100\n",
      "71/71 [==============================] - 1s 20ms/step - loss: 171696921247744.0000 - val_loss: 165110253355008.0000\n",
      "Epoch 40/100\n",
      "71/71 [==============================] - 1s 21ms/step - loss: 171640918900736.0000 - val_loss: 165325035274240.0000\n",
      "Epoch 41/100\n",
      "71/71 [==============================] - 1s 21ms/step - loss: 171646606376960.0000 - val_loss: 164913624383488.0000\n",
      "Epoch 42/100\n",
      "71/71 [==============================] - 2s 23ms/step - loss: 170896564158464.0000 - val_loss: 164814873690112.0000\n",
      "Epoch 43/100\n",
      "71/71 [==============================] - 2s 23ms/step - loss: 171479287201792.0000 - val_loss: 165260912754688.0000\n",
      "Epoch 44/100\n",
      "71/71 [==============================] - 2s 22ms/step - loss: 171371493588992.0000 - val_loss: 165035108204544.0000\n",
      "Epoch 45/100\n",
      "71/71 [==============================] - 2s 22ms/step - loss: 171623621591040.0000 - val_loss: 165121443758080.0000\n",
      "Epoch 46/100\n",
      "71/71 [==============================] - 2s 22ms/step - loss: 170765500547072.0000 - val_loss: 165630347051008.0000\n",
      "Epoch 47/100\n",
      "71/71 [==============================] - 2s 23ms/step - loss: 170792780300288.0000 - val_loss: 164550045335552.0000\n",
      "Epoch 48/100\n",
      "71/71 [==============================] - 2s 23ms/step - loss: 170215409188864.0000 - val_loss: 164518890045440.0000\n",
      "Epoch 49/100\n",
      "71/71 [==============================] - 2s 25ms/step - loss: 169757256974336.0000 - val_loss: 164621549830144.0000\n",
      "Epoch 50/100\n",
      "71/71 [==============================] - 2s 30ms/step - loss: 170736190750720.0000 - val_loss: 164579673899008.0000\n",
      "Epoch 51/100\n",
      "71/71 [==============================] - 2s 30ms/step - loss: 170917049139200.0000 - val_loss: 164769726201856.0000\n",
      "Epoch 52/100\n",
      "71/71 [==============================] - 2s 27ms/step - loss: 169419112185856.0000 - val_loss: 164389957140480.0000\n",
      "Epoch 53/100\n",
      "71/71 [==============================] - 2s 31ms/step - loss: 170683090862080.0000 - val_loss: 164519611465728.0000\n",
      "Epoch 54/100\n",
      "71/71 [==============================] - 2s 30ms/step - loss: 169669143035904.0000 - val_loss: 164396600918016.0000\n",
      "Epoch 55/100\n",
      "71/71 [==============================] - 2s 34ms/step - loss: 169941688909824.0000 - val_loss: 165774748549120.0000\n",
      "Epoch 56/100\n",
      "71/71 [==============================] - 2s 34ms/step - loss: 169244595585024.0000 - val_loss: 164293169381376.0000\n",
      "Epoch 57/100\n",
      "71/71 [==============================] - 3s 37ms/step - loss: 170855359315968.0000 - val_loss: 164313151045632.0000\n",
      "Epoch 58/100\n",
      "71/71 [==============================] - 3s 36ms/step - loss: 170155581636608.0000 - val_loss: 164291743318016.0000\n",
      "Epoch 59/100\n",
      "71/71 [==============================] - 3s 41ms/step - loss: 168839140605952.0000 - val_loss: 164520567767040.0000\n",
      "Epoch 60/100\n",
      "71/71 [==============================] - 3s 48ms/step - loss: 170241548091392.0000 - val_loss: 164232888844288.0000\n",
      "Epoch 61/100\n",
      "71/71 [==============================] - 3s 46ms/step - loss: 169447365017600.0000 - val_loss: 164397573996544.0000\n",
      "Epoch 62/100\n",
      "71/71 [==============================] - 3s 47ms/step - loss: 169548833619968.0000 - val_loss: 165010613469184.0000\n",
      "Epoch 63/100\n",
      "71/71 [==============================] - 4s 50ms/step - loss: 169536183599104.0000 - val_loss: 164453542789120.0000\n",
      "Epoch 64/100\n",
      "71/71 [==============================] - 4s 52ms/step - loss: 169109455110144.0000 - val_loss: 164459247042560.0000\n",
      "Epoch 65/100\n",
      "71/71 [==============================] - 4s 52ms/step - loss: 168623670820864.0000 - val_loss: 164353298923520.0000\n",
      "Epoch 66/100\n",
      "71/71 [==============================] - 4s 55ms/step - loss: 168891972059136.0000 - val_loss: 164260386701312.0000\n",
      "Epoch 67/100\n",
      "71/71 [==============================] - 4s 58ms/step - loss: 169234613141504.0000 - val_loss: 164532261486592.0000\n",
      "Epoch 68/100\n",
      "71/71 [==============================] - 4s 54ms/step - loss: 168840231124992.0000 - val_loss: 164261124898816.0000\n",
      "Epoch 69/100\n",
      "71/71 [==============================] - 4s 56ms/step - loss: 168644424237056.0000 - val_loss: 164704630603776.0000\n",
      "Epoch 70/100\n",
      "71/71 [==============================] - 4s 53ms/step - loss: 168753509695488.0000 - val_loss: 164469481144320.0000\n",
      "2431/2431 [==============================] - 3s 1ms/step\n"
     ]
    }
   ],
   "source": [
    "features_used = X_train.shape[1]\n",
    "\n",
    "# Build the neural network\n",
    "os.environ[\"KERAS_BACKEND\"] = \"torch\"\n",
    "used.append(\"Keras With Torch Backend\")\n",
    "model = Sequential()\n",
    "model.add(Dense(360, input_dim=X_train.shape[1], activation='selu', kernel_regularizer=l2(0.01)))\n",
    "model.add(Dropout(0.3))  # You can use either dropout or early stopping\n",
    "model.add(Dense(280, activation='selu', kernel_regularizer=l2(0.01)))\n",
    "model.add(Dropout(0.3))\n",
    "model.add(Dense(190, activation='selu', kernel_regularizer=l2(0.01)))\n",
    "model.add(Dropout(0.3))\n",
    "model.add(Dense(130, activation='selu', kernel_regularizer=l2(0.01)))\n",
    "model.add(Dropout(0.3))\n",
    "model.add(Dense(1, activation='linear'))  # Output layer with linear activation for regression\n",
    "\n",
    "used.append(\"4 Hidden Layers: Hidden Layer 1 with 360 neurons selu activation L2 regularization, \\n\" +\n",
    "            \"Hidden Layer 2 with 280 neurons selu activation L2 regularization, \\n\" +\n",
    "            \"Hidden Layer 3 with 190 neurons selu activation L2 regularization, \\n\" +\n",
    "            \"Hidden Layer 4 with 130 neurons selu activation L2 regularization\")\n",
    "used.append(\"Output linear\")\n",
    "\n",
    "optimizerUsing = Adam(lr=0.001)#, beta_1=0.9, beta_2=0.999, epsilon=1e-07, amsgrad=False)\n",
    "used.append(\"Optimizer: Adam(lr=0.01)\")\n",
    "# optimizerUsing = RMSprop(lr=0.001)\n",
    "# used.append(\"Optimizer: RMSprop(lr=0.001)\")\n",
    "# optimizerUsing = Adagrad(lr=0.01)\n",
    "# used.append(\"Optimizer: Adagrad(lr=0.01)\")\n",
    "# optimizerUsing = Adadelta(lr=1.0, rho=0.95)\n",
    "# used.append(\"Optimizer: Adadelta(lr=1.0, rho=0.95)\")\n",
    "# optimizerUsing = Nadam(lr=0.002, beta_1=0.9, beta_2=0.999)\n",
    "# used.append(\"Optimizer: Nadam(lr=0.002, beta_1=0.9, beta_2=0.999)\")\n",
    "# optimizerUsing = Ftrl(learning_rate=0.01, learning_rate_power=-0.5, initial_accumulator_value=0.1, l1_regularization_strength=0.01, l2_regularization_strength=0.01)\n",
    "# used.append(\"Optimizer: Ftrl(learning_rate=0.01, learning_rate_power=-0.5, initial_accumulator_value=0.1, l1_regularization_strength=0.01, l2_regularization_strength=0.01)\")\n",
    "\n",
    "# Compile the model\n",
    "model.compile(loss='mean_squared_error', optimizer=optimizerUsing)\n",
    "used.append(\"Loss Calculation: Mean Squared Error\")\n",
    "\n",
    "# Define early stopping\n",
    "early_stopping = EarlyStopping(monitor='val_loss', patience=10, restore_best_weights=True)\n",
    "used.append(\"EarlyStopping(monitor='val_loss', patience=10, restore_best_weights=True)\")\n",
    "\n",
    "# Train the model\n",
    "model.fit(X_train, y_train, epochs=100, batch_size=1800, validation_data=(X_val, y_val), callbacks=[early_stopping])\n",
    "used.append(\"batch_size=1800, epochs=100, early_stopping (patience 10), dropout=0.3, L2 Regularization\")\n",
    "\n",
    "# Train the model\n",
    "# model.fit(X_train, y_train, epochs=100, batch_size=1800, validation_data=(X_val, y_val))#, callbacks=[early_stopping])\n",
    "# used.append(\"batch_size=1800, epochs=100, dropout=0.3, L2 Regularization\")\n",
    "\n",
    "# used.append(\"batch_size=1800, epochs=100, early_stopping\")\n",
    "\n",
    "# Make predictions\n",
    "predictions = model.predict(X_test)"
   ]
  },
  {
   "cell_type": "markdown",
   "metadata": {},
   "source": [
    "<h1>With Skilearn<h1>"
   ]
  },
  {
   "cell_type": "code",
   "execution_count": 16,
   "metadata": {},
   "outputs": [],
   "source": [
    "# features_used = X_train.shape[1]\n",
    "\n",
    "# # # optimizerUsing = SGD(learning_rate=0.01, momentum=0.9)\n",
    "\n",
    "# # # optimizerUsing = Adam(lr=0.001, beta_1=0.9, beta_2=0.999, epsilon=1e-07, amsgrad=False)\n",
    "# # optimizerUsing = Adam(lr=0.001)#, epsilon=1e-07)\n",
    "\n",
    "# l2Regu = 0.001\n",
    "\n",
    "# model = MLPRegressor(hidden_layer_sizes=(300,210,150,60), activation='relu', solver='adam', alpha = l2Regu, shuffle=False, max_iter=100,\n",
    "#                      batch_size=1800, early_stopping=True, verbose=True, random_state=42)\n",
    "\n",
    "# used.append(\"MLPRegressor\")\n",
    "# used.append(\"4 Hidden Layers: Hidden Layer 1 with 300 neurons relu activation L2 regularization, \\n\" +\n",
    "#             \"Hidden Layer 2 with 210 neurons relu activation L2 regularization, \\n\" +\n",
    "#             \"Hidden Layer 3 with 150 neurons relu activation L2 regularization, \\n\" +\n",
    "#             \"Hidden Layer 4 with 60 neurons relu activation L2 regularization\")\n",
    "# used.append(\"Optimizer: adam\")\n",
    "# used.append(\"batch_size=1800, epochs=100, early_stopping\")\n",
    "\n",
    "# # Train the model\n",
    "# model.fit(X_train, y_train)\n",
    "\n",
    "# # Make predictions\n",
    "# predictions = model.predict(X_test)"
   ]
  },
  {
   "cell_type": "code",
   "execution_count": 17,
   "metadata": {},
   "outputs": [],
   "source": [
    "# Create a DataFrame with the results\n",
    "submission_df = pd.DataFrame({'row ID': test_data['row ID'], 'price_doc': predictions.flatten()})\n",
    "\n",
    "# Save the results to a CSV file\n",
    "submission_df.to_csv('Day10.9.csv', index=False)"
   ]
  },
  {
   "cell_type": "code",
   "execution_count": 18,
   "metadata": {},
   "outputs": [
    {
     "name": "stdout",
     "output_type": "stream",
     "text": [
      "Features Used = 271\n",
      "\n",
      "Label Encoding\n",
      "Converted All Columns To float32\n",
      "log Normalization\n",
      "StandardScaler\n",
      "Keras With Torch Backend\n",
      "4 Hidden Layers: Hidden Layer 1 with 360 neurons selu activation L2 regularization, \n",
      "Hidden Layer 2 with 280 neurons selu activation L2 regularization, \n",
      "Hidden Layer 3 with 190 neurons selu activation L2 regularization, \n",
      "Hidden Layer 4 with 130 neurons selu activation L2 regularization\n",
      "Output linear\n",
      "Optimizer: Adam(lr=0.01)\n",
      "Loss Calculation: Mean Squared Error\n",
      "EarlyStopping(monitor='val_loss', patience=10, restore_best_weights=True)\n",
      "batch_size=1800, epochs=100, early_stopping (patience 10), dropout=0.3, L2 Regularization\n"
     ]
    }
   ],
   "source": [
    "print(\"Features Used = \" + str(features_used) + \"\\n\")\n",
    "for i in used:\n",
    "    print(i)"
   ]
  }
 ],
 "metadata": {
  "kernelspec": {
   "display_name": "Python 3",
   "language": "python",
   "name": "python3"
  },
  "language_info": {
   "codemirror_mode": {
    "name": "ipython",
    "version": 3
   },
   "file_extension": ".py",
   "mimetype": "text/x-python",
   "name": "python",
   "nbconvert_exporter": "python",
   "pygments_lexer": "ipython3",
   "version": "3.11.4"
  }
 },
 "nbformat": 4,
 "nbformat_minor": 2
}
