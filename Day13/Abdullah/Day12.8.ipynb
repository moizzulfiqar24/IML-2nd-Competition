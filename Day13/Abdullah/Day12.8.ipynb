{
  "cells": [
    {
      "cell_type": "code",
      "execution_count": 29,
      "metadata": {
        "id": "HBh3CltlBJO8"
      },
      "outputs": [],
      "source": [
        "import pandas as pd\n",
        "from sklearn.model_selection import train_test_split\n",
        "from sklearn.preprocessing import StandardScaler\n",
        "from keras.models import Sequential\n",
        "from keras.layers import Dense, Dropout\n",
        "from keras.callbacks import EarlyStopping\n",
        "import os\n",
        "import torch\n",
        "from sklearn.neural_network import MLPRegressor\n",
        "from sklearn.ensemble import GradientBoostingRegressor\n",
        "from sklearn.metrics import mean_squared_error\n",
        "from sklearn.model_selection import GridSearchCV\n",
        "from keras.optimizers import SGD, Adam, Adadelta, RMSprop, Adagrad, Nadam, Ftrl\n",
        "from keras.regularizers import l2\n",
        "import numpy as np\n",
        "from sklearn.decomposition import PCA\n",
        "from sklearn.feature_selection import VarianceThreshold"
      ]
    },
    {
      "cell_type": "code",
      "source": [
        "from google.colab import drive\n",
        "drive.mount('/content/gdrive')"
      ],
      "metadata": {
        "colab": {
          "base_uri": "https://localhost:8080/"
        },
        "id": "cE5x7J6_Bb6x",
        "outputId": "18891886-b46c-461b-e745-641922ddfee0"
      },
      "execution_count": 30,
      "outputs": [
        {
          "output_type": "stream",
          "name": "stdout",
          "text": [
            "Drive already mounted at /content/gdrive; to attempt to forcibly remount, call drive.mount(\"/content/gdrive\", force_remount=True).\n"
          ]
        }
      ]
    },
    {
      "cell_type": "code",
      "execution_count": 31,
      "metadata": {
        "id": "-5KTbpKQBJO_"
      },
      "outputs": [],
      "source": [
        "# Load the training data\n",
        "train_data = pd.read_csv('/content/gdrive/MyDrive/train.csv')\n",
        "test_data = pd.read_csv('/content/gdrive/MyDrive/test.csv')\n",
        "\n",
        "used = []\n",
        "\n",
        "# Extract features and target variable\n",
        "X = train_data.drop('price_doc', axis=1)\n",
        "y = train_data['price_doc']\n",
        "X_test = test_data.drop(['row ID'], axis=1)"
      ]
    },
    {
      "cell_type": "code",
      "execution_count": 32,
      "metadata": {
        "id": "_hHPtzYlBJPA"
      },
      "outputs": [],
      "source": [
        "X = X.drop('sub_area', axis=1)\n",
        "X_test = X_test.drop('sub_area', axis=1)\n",
        "used.append('Removed sub_area')"
      ]
    },
    {
      "cell_type": "code",
      "execution_count": 33,
      "metadata": {
        "id": "eM0dAjRYBJPB"
      },
      "outputs": [],
      "source": [
        "X = pd.get_dummies(X)\n",
        "X_test = pd.get_dummies(X_test)\n",
        "used.append('OneHot Encoding')"
      ]
    },
    {
      "cell_type": "code",
      "execution_count": 34,
      "metadata": {
        "id": "0UN5L25EBJPB"
      },
      "outputs": [],
      "source": [
        "# from sklearn.calibration import LabelEncoder\n",
        "\n",
        "# categorical_columns = X.select_dtypes(include=['object']).columns.tolist()\n",
        "# print(\"Train: Categorical columns:\", categorical_columns)\n",
        "\n",
        "# label_encoder = LabelEncoder()\n",
        "\n",
        "# for column in categorical_columns:\n",
        "#     X[column] = label_encoder.fit_transform(X[column])\n",
        "\n",
        "# categorical_columns_test = X_test.select_dtypes(include=['object']).columns.tolist()\n",
        "# print(\"Test: Categorical columns:\", categorical_columns_test)\n",
        "\n",
        "# label_encoder = LabelEncoder()\n",
        "\n",
        "# for column in categorical_columns_test:\n",
        "#     X_test[column] = label_encoder.fit_transform(X_test[column])\n",
        "\n",
        "# used.append('Label Encoding')"
      ]
    },
    {
      "cell_type": "code",
      "execution_count": 35,
      "metadata": {
        "id": "bse-0NDxBJPC"
      },
      "outputs": [],
      "source": [
        "# # drop all columns in X_train with dtypes object\n",
        "# for col in X.columns:\n",
        "#     if X[col].dtype == 'object':\n",
        "#         X.drop(col, axis=1, inplace=True)\n",
        "\n",
        "# # drop all columns in X_test with dtypes object\n",
        "# for col in X_test.columns:\n",
        "#     if X_test[col].dtype == 'object':\n",
        "#         X_test.drop(col, axis=1, inplace=True)\n",
        "\n",
        "# used.append(\"Removed Object Dtypes\")"
      ]
    },
    {
      "cell_type": "code",
      "source": [
        "threshold_value = 5000000\n",
        "variance_filter = VarianceThreshold(threshold=threshold_value)\n",
        "\n",
        "X = variance_filter.fit_transform(X)\n",
        "X_test = variance_filter.transform(X_test)"
      ],
      "metadata": {
        "id": "CHKDZzPnBiB3"
      },
      "execution_count": 36,
      "outputs": []
    },
    {
      "cell_type": "code",
      "execution_count": 37,
      "metadata": {
        "id": "l4LEcM4GBJPC"
      },
      "outputs": [],
      "source": [
        "X = X.astype('float32')\n",
        "X_test = X_test.astype('float32')\n",
        "used.append(\"Converted All Columns To float32\")"
      ]
    },
    {
      "cell_type": "code",
      "execution_count": 38,
      "metadata": {
        "id": "Mn_OHq_TBJPC"
      },
      "outputs": [],
      "source": [
        "X = np.log1p(X)\n",
        "X_test = np.log1p(X_test)\n",
        "used.append('log Normalization')"
      ]
    },
    {
      "cell_type": "code",
      "execution_count": 39,
      "metadata": {
        "id": "lLopfnC5BJPC"
      },
      "outputs": [],
      "source": [
        "# Split the data into training and validation sets\n",
        "X_train, X_val, y_train, y_val = train_test_split(X, y, test_size=0.3, random_state=42)"
      ]
    },
    {
      "cell_type": "code",
      "execution_count": 40,
      "metadata": {
        "id": "zKVS67OUBJPC"
      },
      "outputs": [],
      "source": [
        "# Standardize the data\n",
        "scaler = StandardScaler()\n",
        "X_train = scaler.fit_transform(X_train)\n",
        "X_val = scaler.transform(X_val)\n",
        "X_test = scaler.transform(X_test)\n",
        "used.append(\"StandardScaler\")"
      ]
    },
    {
      "cell_type": "code",
      "execution_count": 41,
      "metadata": {
        "colab": {
          "base_uri": "https://localhost:8080/"
        },
        "id": "w0yrTY6IBJPD",
        "outputId": "61ce5dc8-8abd-429e-dc51-38b7462fd967"
      },
      "outputs": [
        {
          "output_type": "execute_result",
          "data": {
            "text/plain": [
              "(127054, 39)"
            ]
          },
          "metadata": {},
          "execution_count": 41
        }
      ],
      "source": [
        "X_train.shape"
      ]
    },
    {
      "cell_type": "code",
      "execution_count": 42,
      "metadata": {
        "id": "zzzMbsnqBJPD"
      },
      "outputs": [],
      "source": [
        "# from sklearn.preprocessing import PolynomialFeatures\n",
        "# poly = PolynomialFeatures(2)#, interaction_only=True)\n",
        "# X_train = poly.fit_transform(X_train)\n",
        "# X_test = poly.fit_transform(X_test)\n",
        "# used.append('PolynomialFeatures W/O Interaction')\n",
        "# # used.append('PolynomialFeatures With Interaction')"
      ]
    },
    {
      "cell_type": "code",
      "execution_count": 43,
      "metadata": {
        "id": "b-OV6k1yBJPD"
      },
      "outputs": [],
      "source": [
        "# # save X_train to csv\n",
        "# X_train.to_csv('train with poly w/o int.2.csv', index=False)\n",
        "# X_test.to_csv('test with poly w/o int.csv', index=False)"
      ]
    },
    {
      "cell_type": "code",
      "execution_count": 44,
      "metadata": {
        "id": "YTRbMnd4BJPD"
      },
      "outputs": [],
      "source": [
        "# pca = PCA(n_components=200)\n",
        "# principalComponents = pca.fit_transform(X_train)\n",
        "# X_train = pd.DataFrame(data = principalComponents)\n",
        "\n",
        "# pca2 = PCA(n_components=200)\n",
        "# principalComponents = pca2.fit_transform(X_test)\n",
        "# X_test = pd.DataFrame(data = principalComponents)\n",
        "\n",
        "# used.append('PCA (n=200)')"
      ]
    },
    {
      "cell_type": "markdown",
      "metadata": {
        "id": "fNjLpjXoBJPD"
      },
      "source": [
        "<h1>With Keras<h1>"
      ]
    },
    {
      "cell_type": "code",
      "execution_count": 45,
      "metadata": {
        "id": "AEaucqaLBJPF"
      },
      "outputs": [],
      "source": [
        "# features_used = X_train.shape[1]\n",
        "\n",
        "# # Build the neural network\n",
        "# os.environ[\"KERAS_BACKEND\"] = \"torch\"\n",
        "# used.append(\"Keras With Torch Backend\")\n",
        "# model = Sequential()\n",
        "# model.add(Dense(360, input_dim=X_train.shape[1], activation='selu', kernel_regularizer=l2(0.01)))\n",
        "# model.add(Dropout(0.3))  # You can use either dropout or early stopping\n",
        "# model.add(Dense(280, activation='selu', kernel_regularizer=l2(0.01)))\n",
        "# model.add(Dropout(0.3))\n",
        "# model.add(Dense(190, activation='selu', kernel_regularizer=l2(0.01)))\n",
        "# model.add(Dropout(0.3))\n",
        "# model.add(Dense(130, activation='selu', kernel_regularizer=l2(0.01)))\n",
        "# model.add(Dropout(0.3))\n",
        "# model.add(Dense(1, activation='linear'))  # Output layer with linear activation for regression\n",
        "\n",
        "# used.append(\"4 Hidden Layers: Hidden Layer 1 with 360 neurons selu activation L2 regularization, \\n\" +\n",
        "#             \"Hidden Layer 2 with 280 neurons selu activation L2 regularization, \\n\" +\n",
        "#             \"Hidden Layer 3 with 190 neurons selu activation L2 regularization, \\n\" +\n",
        "#             \"Hidden Layer 4 with 130 neurons selu activation L2 regularization\")\n",
        "# used.append(\"Output linear\")\n",
        "\n",
        "# # optimizerUsing = Adam(lr=0.05)#, beta_1=0.9, beta_2=0.999, epsilon=1e-07, amsgrad=False)\n",
        "# # used.append(\"Optimizer: Adam(lr=0.05)\")\n",
        "# # optimizerUsing = RMSprop(lr=0.001)\n",
        "# # used.append(\"Optimizer: RMSprop(lr=0.001)\")\n",
        "# # optimizerUsing = Adagrad(lr=0.01)\n",
        "# # used.append(\"Optimizer: Adagrad(lr=0.01)\")\n",
        "# # optimizerUsing = Adadelta(lr=1.0, rho=0.95)\n",
        "# # used.append(\"Optimizer: Adadelta(lr=1.0, rho=0.95)\")\n",
        "# # optimizerUsing = Nadam(lr=0.002, beta_1=0.9, beta_2=0.999)\n",
        "# # used.append(\"Optimizer: Nadam(lr=0.002, beta_1=0.9, beta_2=0.999)\")\n",
        "# optimizerUsing = Ftrl(learning_rate=0.05)#, learning_rate_power=-0.5, initial_accumulator_value=0.1, l1_regularization_strength=0.01, l2_regularization_strength=0.01)\n",
        "# used.append(\"Optimizer: Ftrl(learning_rate=0.05)\")\n",
        "\n",
        "# # Compile the model\n",
        "# model.compile(loss='mean_squared_error', optimizer=optimizerUsing)\n",
        "# used.append(\"Loss Calculation: Mean Squared Error\")\n",
        "\n",
        "# # Define early stopping\n",
        "# early_stopping = EarlyStopping(monitor='val_loss', patience=10, restore_best_weights=True)\n",
        "# used.append(\"EarlyStopping(monitor='val_loss', patience=10, restore_best_weights=True)\")\n",
        "\n",
        "# # Train the model\n",
        "# model.fit(X_train, y_train, epochs=100, batch_size=1800, validation_data=(X_val, y_val), callbacks=[early_stopping])\n",
        "# used.append(\"batch_size=1800, epochs=100, early_stopping (patience 10), dropout=0.3, L2 Regularization\")\n",
        "\n",
        "# # Train the model\n",
        "# # model.fit(X_train, y_train, epochs=100, batch_size=1800, validation_data=(X_val, y_val))#, callbacks=[early_stopping])\n",
        "# # used.append(\"batch_size=1800, epochs=100, dropout=0.3, L2 Regularization\")\n",
        "\n",
        "# # used.append(\"batch_size=1800, epochs=100, early_stopping\")\n",
        "\n",
        "# # Make predictions\n",
        "# predictions = model.predict(X_test)"
      ]
    },
    {
      "cell_type": "markdown",
      "metadata": {
        "id": "F0-9D0jxBJPF"
      },
      "source": [
        "<h1>With Skilearn<h1>"
      ]
    },
    {
      "cell_type": "code",
      "execution_count": 46,
      "metadata": {
        "colab": {
          "base_uri": "https://localhost:8080/"
        },
        "id": "KNsk_M67BJPF",
        "outputId": "fab81b03-49f8-48ee-92bc-3e16b2d43458"
      },
      "outputs": [
        {
          "output_type": "stream",
          "name": "stdout",
          "text": [
            "Iteration 1, loss = 348079804723391.93750000\n",
            "Validation score: -0.470465\n",
            "Iteration 2, loss = 340362554163412.62500000\n",
            "Validation score: -0.345632\n",
            "Iteration 3, loss = 246668316537783.09375000\n",
            "Validation score: 0.329816\n",
            "Iteration 4, loss = 142893447600191.81250000\n",
            "Validation score: 0.445527\n",
            "Iteration 5, loss = 128679420158617.96875000\n",
            "Validation score: 0.488373\n",
            "Iteration 6, loss = 120116535046572.01562500\n",
            "Validation score: 0.518789\n",
            "Iteration 7, loss = 114007812696516.78125000\n",
            "Validation score: 0.539439\n",
            "Iteration 8, loss = 109974830015605.79687500\n",
            "Validation score: 0.552248\n",
            "Iteration 9, loss = 107428159366288.57812500\n",
            "Validation score: 0.560252\n",
            "Iteration 10, loss = 105699387615569.23437500\n",
            "Validation score: 0.566155\n",
            "Iteration 11, loss = 104330627899919.15625000\n",
            "Validation score: 0.571155\n",
            "Iteration 12, loss = 103147348097171.39062500\n",
            "Validation score: 0.575607\n",
            "Iteration 13, loss = 102097036490280.89062500\n",
            "Validation score: 0.579569\n",
            "Iteration 14, loss = 101177556098525.10937500\n",
            "Validation score: 0.582985\n",
            "Iteration 15, loss = 100398869303495.01562500\n",
            "Validation score: 0.585787\n",
            "Iteration 16, loss = 99767347213376.04687500\n",
            "Validation score: 0.588017\n",
            "Iteration 17, loss = 99263366935877.85937500\n",
            "Validation score: 0.589815\n",
            "Iteration 18, loss = 98853701303995.95312500\n",
            "Validation score: 0.591333\n",
            "Iteration 19, loss = 98511685430569.59375000\n",
            "Validation score: 0.592636\n",
            "Iteration 20, loss = 98220701959296.45312500\n",
            "Validation score: 0.593762\n",
            "Iteration 21, loss = 97972361831622.09375000\n",
            "Validation score: 0.594752\n",
            "Iteration 22, loss = 97759112678863.70312500\n",
            "Validation score: 0.595636\n",
            "Iteration 23, loss = 97570434044642.34375000\n",
            "Validation score: 0.596434\n",
            "Iteration 24, loss = 97406410629094.98437500\n",
            "Validation score: 0.597139\n",
            "Iteration 25, loss = 97260258052324.39062500\n",
            "Validation score: 0.597789\n",
            "Iteration 26, loss = 97126247219661.10937500\n",
            "Validation score: 0.598398\n",
            "Iteration 27, loss = 97001247829834.60937500\n",
            "Validation score: 0.598989\n",
            "Iteration 28, loss = 96868324893752.37500000\n",
            "Validation score: 0.599688\n",
            "Iteration 29, loss = 96721733948121.73437500\n",
            "Validation score: 0.600344\n",
            "Iteration 30, loss = 96594061877889.39062500\n",
            "Validation score: 0.600933\n",
            "Iteration 31, loss = 96476618693290.62500000\n",
            "Validation score: 0.601462\n",
            "Iteration 32, loss = 96369139682494.79687500\n",
            "Validation score: 0.601951\n",
            "Iteration 33, loss = 96269374955023.42187500\n",
            "Validation score: 0.602407\n",
            "Iteration 34, loss = 96175055406142.12500000\n",
            "Validation score: 0.602838\n",
            "Iteration 35, loss = 96084701645810.62500000\n",
            "Validation score: 0.603256\n",
            "Iteration 36, loss = 95997632407410.67187500\n",
            "Validation score: 0.603651\n",
            "Iteration 37, loss = 95913992302677.60937500\n",
            "Validation score: 0.604032\n",
            "Iteration 38, loss = 95832672336943.25000000\n",
            "Validation score: 0.604400\n",
            "Iteration 39, loss = 95752645907487.01562500\n",
            "Validation score: 0.604756\n",
            "Iteration 40, loss = 95673759297421.04687500\n",
            "Validation score: 0.605114\n",
            "Iteration 41, loss = 95595680754075.48437500\n",
            "Validation score: 0.605464\n",
            "Iteration 42, loss = 95518260465056.51562500\n",
            "Validation score: 0.605813\n",
            "Iteration 43, loss = 95440860570765.17187500\n",
            "Validation score: 0.606163\n",
            "Iteration 44, loss = 95363657775904.25000000\n",
            "Validation score: 0.606507\n",
            "Iteration 45, loss = 95286351417332.90625000\n",
            "Validation score: 0.606850\n",
            "Iteration 46, loss = 95209482632858.34375000\n",
            "Validation score: 0.607195\n",
            "Iteration 47, loss = 95132648852143.28125000\n",
            "Validation score: 0.607537\n",
            "Iteration 48, loss = 95056404904297.07812500\n",
            "Validation score: 0.607875\n",
            "Iteration 49, loss = 94980376241953.73437500\n",
            "Validation score: 0.608211\n",
            "Iteration 50, loss = 94903419825028.04687500\n",
            "Validation score: 0.608550\n",
            "Iteration 51, loss = 94824910343120.85937500\n",
            "Validation score: 0.608890\n",
            "Iteration 52, loss = 94744710583673.25000000\n",
            "Validation score: 0.609238\n",
            "Iteration 53, loss = 94663085021336.56250000\n",
            "Validation score: 0.609576\n",
            "Iteration 54, loss = 94580110283336.62500000\n",
            "Validation score: 0.609917\n",
            "Iteration 55, loss = 94495064834104.42187500\n",
            "Validation score: 0.610267\n",
            "Iteration 56, loss = 94409059131070.06250000\n",
            "Validation score: 0.610616\n",
            "Iteration 57, loss = 94322602560122.32812500\n",
            "Validation score: 0.610961\n",
            "Iteration 58, loss = 94235084185018.98437500\n",
            "Validation score: 0.611310\n",
            "Iteration 59, loss = 94146470111784.28125000\n",
            "Validation score: 0.611660\n",
            "Iteration 60, loss = 94056533652710.59375000\n",
            "Validation score: 0.612014\n",
            "Iteration 61, loss = 93964857360967.64062500\n",
            "Validation score: 0.612368\n",
            "Iteration 62, loss = 93870916879179.10937500\n",
            "Validation score: 0.612742\n",
            "Iteration 63, loss = 93771297004448.48437500\n",
            "Validation score: 0.613133\n",
            "Iteration 64, loss = 93668983517358.21875000\n",
            "Validation score: 0.613524\n",
            "Iteration 65, loss = 93565857891134.18750000\n",
            "Validation score: 0.613907\n",
            "Iteration 66, loss = 93464141288593.09375000\n",
            "Validation score: 0.614284\n",
            "Iteration 67, loss = 93363253717901.42187500\n",
            "Validation score: 0.614650\n",
            "Iteration 68, loss = 93263456478974.39062500\n",
            "Validation score: 0.615005\n",
            "Iteration 69, loss = 93164301265575.54687500\n",
            "Validation score: 0.615355\n",
            "Iteration 70, loss = 93065088312404.28125000\n",
            "Validation score: 0.615707\n",
            "Iteration 71, loss = 92966786175033.59375000\n",
            "Validation score: 0.616043\n",
            "Iteration 72, loss = 92868415622687.76562500\n",
            "Validation score: 0.616371\n",
            "Iteration 73, loss = 92770150250706.96875000\n",
            "Validation score: 0.616703\n",
            "Iteration 74, loss = 92671786322216.81250000\n",
            "Validation score: 0.617026\n",
            "Iteration 75, loss = 92572986259954.31250000\n",
            "Validation score: 0.617350\n",
            "Iteration 76, loss = 92473965421016.64062500\n",
            "Validation score: 0.617662\n",
            "Iteration 77, loss = 92375091233793.59375000\n",
            "Validation score: 0.617974\n",
            "Iteration 78, loss = 92276105489836.84375000\n",
            "Validation score: 0.618283\n",
            "Iteration 79, loss = 92176476829141.42187500\n",
            "Validation score: 0.618597\n",
            "Iteration 80, loss = 92076418188594.42187500\n",
            "Validation score: 0.618899\n",
            "Iteration 81, loss = 91976985944954.96875000\n",
            "Validation score: 0.619204\n",
            "Iteration 82, loss = 91878195794095.34375000\n",
            "Validation score: 0.619507\n",
            "Iteration 83, loss = 91779432904005.87500000\n",
            "Validation score: 0.619800\n",
            "Iteration 84, loss = 91680935335589.32812500\n",
            "Validation score: 0.620092\n",
            "Iteration 85, loss = 91582323733629.32812500\n",
            "Validation score: 0.620380\n",
            "Iteration 86, loss = 91484196429276.70312500\n",
            "Validation score: 0.620670\n",
            "Iteration 87, loss = 91385959526802.35937500\n",
            "Validation score: 0.620949\n",
            "Iteration 88, loss = 91287663240178.07812500\n",
            "Validation score: 0.621227\n",
            "Iteration 89, loss = 91189509498634.39062500\n",
            "Validation score: 0.621502\n",
            "Iteration 90, loss = 91091761013371.76562500\n",
            "Validation score: 0.621766\n",
            "Iteration 91, loss = 90995691536170.65625000\n",
            "Validation score: 0.622024\n",
            "Iteration 92, loss = 90900776556718.62500000\n",
            "Validation score: 0.622277\n",
            "Iteration 93, loss = 90805805110617.50000000\n",
            "Validation score: 0.622527\n",
            "Iteration 94, loss = 90712235546552.95312500\n",
            "Validation score: 0.622765\n",
            "Iteration 95, loss = 90618789105814.71875000\n",
            "Validation score: 0.623012\n",
            "Iteration 96, loss = 90526945848370.32812500\n",
            "Validation score: 0.623233\n",
            "Iteration 97, loss = 90437433683325.04687500\n",
            "Validation score: 0.623454\n",
            "Iteration 98, loss = 90347956833191.95312500\n",
            "Validation score: 0.623663\n",
            "Iteration 99, loss = 90260969267124.82812500\n",
            "Validation score: 0.623871\n",
            "Iteration 100, loss = 90174376530849.60937500\n",
            "Validation score: 0.624078\n",
            "Iteration 101, loss = 90088086483850.42187500\n",
            "Validation score: 0.624285\n",
            "Iteration 102, loss = 90004777940097.96875000\n",
            "Validation score: 0.624492\n",
            "Iteration 103, loss = 89921716111878.85937500\n",
            "Validation score: 0.624689\n",
            "Iteration 104, loss = 89841601792181.75000000\n",
            "Validation score: 0.624869\n",
            "Iteration 105, loss = 89763133531973.04687500\n",
            "Validation score: 0.625044\n",
            "Iteration 106, loss = 89685062438774.07812500\n",
            "Validation score: 0.625212\n",
            "Iteration 107, loss = 89607968672812.95312500\n",
            "Validation score: 0.625376\n",
            "Iteration 108, loss = 89532701305660.09375000\n",
            "Validation score: 0.625541\n",
            "Iteration 109, loss = 89460148972651.90625000\n",
            "Validation score: 0.625707\n",
            "Iteration 110, loss = 89388111723373.78125000\n",
            "Validation score: 0.625864\n",
            "Iteration 111, loss = 89317637299152.60937500\n",
            "Validation score: 0.626013\n",
            "Iteration 112, loss = 89249439329950.01562500\n",
            "Validation score: 0.626160\n",
            "Iteration 113, loss = 89180999809616.46875000\n",
            "Validation score: 0.626309\n",
            "Iteration 114, loss = 89114175262388.15625000\n",
            "Validation score: 0.626444\n",
            "Iteration 115, loss = 89049000109953.64062500\n",
            "Validation score: 0.626577\n",
            "Iteration 116, loss = 88985028324328.90625000\n",
            "Validation score: 0.626698\n",
            "Iteration 117, loss = 88922184961029.89062500\n",
            "Validation score: 0.626834\n",
            "Iteration 118, loss = 88861540459420.90625000\n",
            "Validation score: 0.626950\n",
            "Iteration 119, loss = 88800346071486.43750000\n",
            "Validation score: 0.627087\n",
            "Iteration 120, loss = 88741671174167.43750000\n",
            "Validation score: 0.627201\n",
            "Iteration 121, loss = 88683892726888.17187500\n",
            "Validation score: 0.627320\n",
            "Iteration 122, loss = 88627308776144.50000000\n",
            "Validation score: 0.627436\n",
            "Iteration 123, loss = 88571913247660.73437500\n",
            "Validation score: 0.627552\n",
            "Iteration 124, loss = 88517074805139.25000000\n",
            "Validation score: 0.627659\n",
            "Iteration 125, loss = 88463201477122.03125000\n",
            "Validation score: 0.627766\n",
            "Iteration 126, loss = 88410371528276.81250000\n",
            "Validation score: 0.627870\n",
            "Iteration 127, loss = 88359303774953.14062500\n",
            "Validation score: 0.627967\n",
            "Iteration 128, loss = 88309193027146.09375000\n",
            "Validation score: 0.628067\n",
            "Iteration 129, loss = 88260425323584.40625000\n",
            "Validation score: 0.628166\n",
            "Iteration 130, loss = 88212550484450.07812500\n",
            "Validation score: 0.628266\n",
            "Iteration 131, loss = 88165030535840.28125000\n",
            "Validation score: 0.628372\n",
            "Iteration 132, loss = 88119122551256.60937500\n",
            "Validation score: 0.628470\n",
            "Iteration 133, loss = 88073798198038.81250000\n",
            "Validation score: 0.628565\n",
            "Iteration 134, loss = 88029918104417.57812500\n",
            "Validation score: 0.628654\n",
            "Iteration 135, loss = 87987139554241.75000000\n",
            "Validation score: 0.628741\n",
            "Iteration 136, loss = 87945223748293.01562500\n",
            "Validation score: 0.628821\n",
            "Iteration 137, loss = 87903576750531.34375000\n",
            "Validation score: 0.628904\n",
            "Iteration 138, loss = 87862443266402.01562500\n",
            "Validation score: 0.628979\n",
            "Iteration 139, loss = 87822470459029.42187500\n",
            "Validation score: 0.629048\n",
            "Iteration 140, loss = 87783634518643.89062500\n",
            "Validation score: 0.629119\n",
            "Iteration 141, loss = 87745423459654.85937500\n",
            "Validation score: 0.629202\n",
            "Iteration 142, loss = 87706535407387.89062500\n",
            "Validation score: 0.629276\n",
            "Validation score did not improve more than tol=0.000100 for 10 consecutive epochs. Stopping.\n"
          ]
        }
      ],
      "source": [
        "features_used = X_train.shape[1]\n",
        "\n",
        "# # optimizerUsing = SGD(learning_rate=0.01, momentum=0.9)\n",
        "\n",
        "# # optimizerUsing = Adam(lr=0.001, beta_1=0.9, beta_2=0.999, epsilon=1e-07, amsgrad=False)\n",
        "# optimizerUsing = Adam(lr=0.001)#, epsilon=1e-07)\n",
        "\n",
        "l2Regu = 0.001\n",
        "\n",
        "# model = MLPRegressor(hidden_layer_sizes=(300,210,150,60), activation='relu', solver='adam', alpha = l2Regu, shuffle=False, max_iter=100,\n",
        "#                      batch_size=1800, early_stopping=True, verbose=True, random_state=42)\n",
        "\n",
        "# {'logistic', 'tanh', 'identity', 'relu'}. Got 'selu' instead.\n",
        "\n",
        "model = MLPRegressor(hidden_layer_sizes=(250, 170, 100, 50), activation='relu', solver='adam', alpha = l2Regu, shuffle=False, max_iter=150,\n",
        "                     batch_size=1500, early_stopping=True, verbose=True, random_state=42)\n",
        "\n",
        "used.append(\"MLPRegressor\")\n",
        "used.append(\"4 Hidden Layers: Hidden Layer 1 with 300 neurons logistic activation L2 regularization, \\n\" +\n",
        "            \"Hidden Layer 2 with 210 neurons logistic activation L2 regularization, \\n\" +\n",
        "            \"Hidden Layer 3 with 150 neurons logistic activation L2 regularization, \\n\" +\n",
        "            \"Hidden Layer 4 with 60 neurons logistic activation L2 regularization\")\n",
        "used.append(\"Optimizer: adam\")\n",
        "used.append(\"batch_size=1800, epochs=100, early_stopping\")\n",
        "\n",
        "# Train the model\n",
        "model.fit(X_train, y_train)\n",
        "\n",
        "# Make predictions\n",
        "predictions = model.predict(X_test)"
      ]
    },
    {
      "cell_type": "code",
      "execution_count": 47,
      "metadata": {
        "id": "_jo5is0dBJPF"
      },
      "outputs": [],
      "source": [
        "# Create a DataFrame with the results\n",
        "submission_df = pd.DataFrame({'row ID': test_data['row ID'], 'price_doc': predictions.flatten()})\n",
        "\n",
        "# Save the results to a CSV file\n",
        "submission_df.to_csv('Day11.4.csv', index=False)"
      ]
    },
    {
      "cell_type": "code",
      "execution_count": 48,
      "metadata": {
        "colab": {
          "base_uri": "https://localhost:8080/"
        },
        "id": "v4yVpBbKBJPF",
        "outputId": "6cfd76d2-0b75-4c36-801c-0691ae525483"
      },
      "outputs": [
        {
          "output_type": "stream",
          "name": "stdout",
          "text": [
            "Features Used = 39\n",
            "\n",
            "Removed sub_area\n",
            "OneHot Encoding\n",
            "Converted All Columns To float32\n",
            "log Normalization\n",
            "StandardScaler\n",
            "MLPRegressor\n",
            "4 Hidden Layers: Hidden Layer 1 with 300 neurons logistic activation L2 regularization, \n",
            "Hidden Layer 2 with 210 neurons logistic activation L2 regularization, \n",
            "Hidden Layer 3 with 150 neurons logistic activation L2 regularization, \n",
            "Hidden Layer 4 with 60 neurons logistic activation L2 regularization\n",
            "Optimizer: adam\n",
            "batch_size=1800, epochs=100, early_stopping\n"
          ]
        }
      ],
      "source": [
        "print(\"Features Used = \" + str(features_used) + \"\\n\")\n",
        "for i in used:\n",
        "    print(i)"
      ]
    }
  ],
  "metadata": {
    "kernelspec": {
      "display_name": "Python 3",
      "language": "python",
      "name": "python3"
    },
    "language_info": {
      "codemirror_mode": {
        "name": "ipython",
        "version": 3
      },
      "file_extension": ".py",
      "mimetype": "text/x-python",
      "name": "python",
      "nbconvert_exporter": "python",
      "pygments_lexer": "ipython3",
      "version": "3.11.4"
    },
    "colab": {
      "provenance": []
    }
  },
  "nbformat": 4,
  "nbformat_minor": 0
}