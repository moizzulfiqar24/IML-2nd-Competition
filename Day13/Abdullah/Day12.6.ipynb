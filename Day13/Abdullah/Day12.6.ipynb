{
  "cells": [
    {
      "cell_type": "code",
      "execution_count": 1,
      "metadata": {
        "id": "yIjTPgP_kZVt"
      },
      "outputs": [],
      "source": [
        "import pandas as pd\n",
        "from sklearn.model_selection import train_test_split\n",
        "from sklearn.preprocessing import StandardScaler\n",
        "from keras.models import Sequential\n",
        "from keras.layers import Dense, Dropout\n",
        "from keras.callbacks import EarlyStopping\n",
        "import os\n",
        "import torch\n",
        "from sklearn.neural_network import MLPRegressor\n",
        "from sklearn.ensemble import GradientBoostingRegressor\n",
        "from sklearn.metrics import mean_squared_error\n",
        "from sklearn.model_selection import GridSearchCV\n",
        "from keras.optimizers import SGD, Adam, Adadelta, RMSprop, Adagrad, Nadam, Ftrl\n",
        "from keras.regularizers import l2\n",
        "import numpy as np\n",
        "from sklearn.decomposition import PCA\n",
        "from sklearn.feature_selection import VarianceThreshold\n",
        "import statsmodels.api as sm"
      ]
    },
    {
      "cell_type": "code",
      "source": [
        "from google.colab import drive\n",
        "drive.mount('/content/gdrive')"
      ],
      "metadata": {
        "colab": {
          "base_uri": "https://localhost:8080/"
        },
        "id": "Ad4GPij_kd5V",
        "outputId": "e3e71619-3aec-4d45-e9e7-209d0414fa84"
      },
      "execution_count": 2,
      "outputs": [
        {
          "output_type": "stream",
          "name": "stdout",
          "text": [
            "Drive already mounted at /content/gdrive; to attempt to forcibly remount, call drive.mount(\"/content/gdrive\", force_remount=True).\n"
          ]
        }
      ]
    },
    {
      "cell_type": "code",
      "execution_count": 3,
      "metadata": {
        "id": "vh0YdJ8OkZVx"
      },
      "outputs": [],
      "source": [
        "# Load the training data\n",
        "train_data = pd.read_csv('/content/gdrive/MyDrive/train.csv')\n",
        "test_data = pd.read_csv('/content/gdrive/MyDrive/test.csv')\n",
        "\n",
        "used = []\n",
        "\n",
        "# Extract features and target variable\n",
        "X = train_data.drop('price_doc', axis=1)\n",
        "y = train_data['price_doc']\n",
        "X_test = test_data.drop(['row ID'], axis=1)"
      ]
    },
    {
      "cell_type": "code",
      "execution_count": 4,
      "metadata": {
        "id": "nuY5qe6rkZVx"
      },
      "outputs": [],
      "source": [
        "X = X.drop('sub_area', axis=1)\n",
        "X_test = X_test.drop('sub_area', axis=1)\n",
        "used.append('Removed sub_area')"
      ]
    },
    {
      "cell_type": "code",
      "execution_count": 5,
      "metadata": {
        "id": "Sril7824kZVy"
      },
      "outputs": [],
      "source": [
        "X = pd.get_dummies(X)\n",
        "X_test = pd.get_dummies(X_test)\n",
        "used.append('OneHot Encoding')"
      ]
    },
    {
      "cell_type": "code",
      "execution_count": 6,
      "metadata": {
        "id": "NF7V3IZXkZVz"
      },
      "outputs": [],
      "source": [
        "# from sklearn.calibration import LabelEncoder\n",
        "\n",
        "# categorical_columns = X.select_dtypes(include=['object']).columns.tolist()\n",
        "# print(\"Train: Categorical columns:\", categorical_columns)\n",
        "\n",
        "# label_encoder = LabelEncoder()\n",
        "\n",
        "# for column in categorical_columns:\n",
        "#     X[column] = label_encoder.fit_transform(X[column])\n",
        "\n",
        "# categorical_columns_test = X_test.select_dtypes(include=['object']).columns.tolist()\n",
        "# print(\"Test: Categorical columns:\", categorical_columns_test)\n",
        "\n",
        "# label_encoder = LabelEncoder()\n",
        "\n",
        "# for column in categorical_columns_test:\n",
        "#     X_test[column] = label_encoder.fit_transform(X_test[column])\n",
        "\n",
        "# used.append('Label Encoding')"
      ]
    },
    {
      "cell_type": "code",
      "execution_count": 7,
      "metadata": {
        "id": "MjKh7Q3hkZV3"
      },
      "outputs": [],
      "source": [
        "# # drop all columns in X_train with dtypes object\n",
        "# for col in X.columns:\n",
        "#     if X[col].dtype == 'object':\n",
        "#         X.drop(col, axis=1, inplace=True)\n",
        "\n",
        "# # drop all columns in X_test with dtypes object\n",
        "# for col in X_test.columns:\n",
        "#     if X_test[col].dtype == 'object':\n",
        "#         X_test.drop(col, axis=1, inplace=True)\n",
        "\n",
        "# used.append(\"Removed Object Dtypes\")"
      ]
    },
    {
      "cell_type": "code",
      "execution_count": 8,
      "metadata": {
        "colab": {
          "base_uri": "https://localhost:8080/"
        },
        "id": "q0qUSXMhkZV4",
        "outputId": "6c783254-d66d-4e6f-b0c6-999f957983cc"
      },
      "outputs": [
        {
          "output_type": "stream",
          "name": "stdout",
          "text": [
            "Selected Features:\n",
            "Index(['full_sq', 'life_sq', 'floor', 'children_preschool',\n",
            "       'preschool_education_centers_raion',\n",
            "       'school_education_centers_top_20_raion', 'healthcare_centers_raion',\n",
            "       'university_top_20_raion', 'male_f', '0_6_female',\n",
            "       'build_count_monolith', 'raion_build_count_with_builddate_info',\n",
            "       'build_count_1971-1995', 'build_count_after_1995', 'kindergarten_km',\n",
            "       'green_zone_km', 'industrial_km', 'water_treatment_km', 'water_km',\n",
            "       'mkad_km', 'sadovoe_km', 'big_road2_km', 'nuclear_reactor_km',\n",
            "       'swim_pool_km', 'basketball_km', 'church_synagogue_km', 'catering_km',\n",
            "       'green_part_500', 'prom_part_500', 'trc_sqm_500',\n",
            "       'cafe_count_500_price_1000', 'cafe_count_500_price_1500',\n",
            "       'cafe_count_500_price_4000', 'cafe_count_500_price_high',\n",
            "       'mosque_count_500', 'leisure_count_500', 'market_count_500',\n",
            "       'green_part_1000', 'prom_part_1000', 'office_count_1000',\n",
            "       'office_sqm_1000', 'trc_count_1000', 'trc_sqm_1000',\n",
            "       'cafe_count_1000_price_1500', 'cafe_count_1000_price_high',\n",
            "       'big_church_count_1000', 'mosque_count_1000', 'leisure_count_1000',\n",
            "       'market_count_1000', 'green_part_1500', 'trc_count_1500',\n",
            "       'church_count_1500', 'mosque_count_1500', 'leisure_count_1500',\n",
            "       'green_part_2000', 'trc_sqm_2000', 'cafe_sum_2000_max_price_avg',\n",
            "       'cafe_count_2000_price_1500', 'cafe_count_2000_price_4000',\n",
            "       'cafe_count_2000_price_high', 'mosque_count_2000', 'sport_count_2000',\n",
            "       'mosque_count_3000', 'market_count_5000', 'product_type_Investment',\n",
            "       'product_type_OwnerOccupier', 'culture_objects_top_25_no',\n",
            "       'culture_objects_top_25_yes', 'incineration_raion_no',\n",
            "       'incineration_raion_yes', 'oil_chemistry_raion_no',\n",
            "       'oil_chemistry_raion_yes', 'radiation_raion_no',\n",
            "       'railroad_terminal_raion_yes', 'big_market_raion_no',\n",
            "       'big_market_raion_yes', 'nuclear_reactor_raion_no',\n",
            "       'nuclear_reactor_raion_yes', 'water_1line_no', 'water_1line_yes',\n",
            "       'big_road1_1line_no', 'big_road1_1line_yes', 'railroad_1line_yes',\n",
            "       'ecology_excellent', 'ecology_good', 'ecology_no data',\n",
            "       'ecology_satisfactory'],\n",
            "      dtype='object')\n",
            "87\n"
          ]
        }
      ],
      "source": [
        "X = X.astype('float32')\n",
        "X_test = X_test.astype('float32')\n",
        "used.append(\"Converted All Columns To float32\")\n",
        "\n",
        "\n",
        "# Add a constant term to the feature matrix\n",
        "X_with_const = sm.add_constant(X)\n",
        "\n",
        "# Fit a linear regression model\n",
        "model = sm.OLS(y, X_with_const).fit()\n",
        "\n",
        "# Get p-values for each feature\n",
        "p_values = model.pvalues[1:]  # Exclude the constant term\n",
        "\n",
        "# Set your desired threshold for p-value\n",
        "threshold = 0.00001\n",
        "\n",
        "# Filter features based on p-value\n",
        "selected_features = p_values[p_values < threshold].index\n",
        "\n",
        "# Display selected features\n",
        "print(\"Selected Features:\")\n",
        "print(selected_features)\n",
        "print(len(selected_features))\n",
        "\n",
        "# Select columns in the DataFrame\n",
        "X = X[selected_features]\n",
        "X_test = X_test[selected_features]"
      ]
    },
    {
      "cell_type": "code",
      "execution_count": 9,
      "metadata": {
        "id": "TKYXLW61kZV5"
      },
      "outputs": [],
      "source": [
        "X = np.log1p(X)\n",
        "X_test = np.log1p(X_test)\n",
        "used.append('log Normalization')\n",
        "\n"
      ]
    },
    {
      "cell_type": "code",
      "execution_count": 10,
      "metadata": {
        "id": "bQCI8xqZkZV7"
      },
      "outputs": [],
      "source": [
        "# Split the data into training and validation sets\n",
        "X_train, X_val, y_train, y_val = train_test_split(X, y, test_size=0.3, random_state=42)"
      ]
    },
    {
      "cell_type": "code",
      "execution_count": 11,
      "metadata": {
        "id": "M2NreX_AkZV-"
      },
      "outputs": [],
      "source": [
        "# Standardize the data\n",
        "scaler = StandardScaler()\n",
        "X_train = scaler.fit_transform(X_train)\n",
        "X_val = scaler.transform(X_val)\n",
        "X_test = scaler.transform(X_test)\n",
        "used.append(\"StandardScaler\")"
      ]
    },
    {
      "cell_type": "code",
      "execution_count": 12,
      "metadata": {
        "colab": {
          "base_uri": "https://localhost:8080/"
        },
        "id": "s747zu3lkZV_",
        "outputId": "e8396733-d7fb-408c-dae0-e9989e4aea66"
      },
      "outputs": [
        {
          "output_type": "execute_result",
          "data": {
            "text/plain": [
              "(127054, 87)"
            ]
          },
          "metadata": {},
          "execution_count": 12
        }
      ],
      "source": [
        "X_train.shape"
      ]
    },
    {
      "cell_type": "code",
      "execution_count": 13,
      "metadata": {
        "id": "ZUrtal0TkZWA"
      },
      "outputs": [],
      "source": [
        "# from sklearn.preprocessing import PolynomialFeatures\n",
        "# poly = PolynomialFeatures(2)#, interaction_only=True)\n",
        "# X_train = poly.fit_transform(X_train)\n",
        "# X_test = poly.fit_transform(X_test)\n",
        "# used.append('PolynomialFeatures W/O Interaction')\n",
        "# # used.append('PolynomialFeatures With Interaction')"
      ]
    },
    {
      "cell_type": "code",
      "execution_count": 14,
      "metadata": {
        "id": "azna7s36kZWB"
      },
      "outputs": [],
      "source": [
        "# # save X_train to csv\n",
        "# X_train.to_csv('train with poly w/o int.2.csv', index=False)\n",
        "# X_test.to_csv('test with poly w/o int.csv', index=False)"
      ]
    },
    {
      "cell_type": "code",
      "execution_count": 15,
      "metadata": {
        "id": "WAmDlf5jkZWC"
      },
      "outputs": [],
      "source": [
        "# pca = PCA(n_components=200)\n",
        "# principalComponents = pca.fit_transform(X_train)\n",
        "# X_train = pd.DataFrame(data = principalComponents)\n",
        "\n",
        "# pca2 = PCA(n_components=200)\n",
        "# principalComponents = pca2.fit_transform(X_test)\n",
        "# X_test = pd.DataFrame(data = principalComponents)\n",
        "\n",
        "# used.append('PCA (n=200)')"
      ]
    },
    {
      "cell_type": "markdown",
      "metadata": {
        "id": "lWhR-28RkZWD"
      },
      "source": [
        "<h1>With Keras<h1>"
      ]
    },
    {
      "cell_type": "code",
      "execution_count": 16,
      "metadata": {
        "colab": {
          "base_uri": "https://localhost:8080/"
        },
        "id": "E_EC5YgLkZWF",
        "outputId": "4bee6d2e-eb08-4b33-92b7-79a1886baca2"
      },
      "outputs": [
        {
          "output_type": "stream",
          "name": "stdout",
          "text": [
            "Epoch 1/150\n",
            "85/85 [==============================] - 4s 31ms/step - loss: 392456092778496.0000 - val_loss: 183621394628608.0000\n",
            "Epoch 2/150\n",
            "85/85 [==============================] - 2s 29ms/step - loss: 196790150234112.0000 - val_loss: 176388199940096.0000\n",
            "Epoch 3/150\n",
            "85/85 [==============================] - 4s 49ms/step - loss: 191706754449408.0000 - val_loss: 174320189964288.0000\n",
            "Epoch 4/150\n",
            "85/85 [==============================] - 6s 66ms/step - loss: 188952304680960.0000 - val_loss: 170508691701760.0000\n",
            "Epoch 5/150\n",
            "85/85 [==============================] - 6s 65ms/step - loss: 186536301690880.0000 - val_loss: 169435721629696.0000\n",
            "Epoch 6/150\n",
            "85/85 [==============================] - 6s 73ms/step - loss: 185663148261376.0000 - val_loss: 171193420218368.0000\n",
            "Epoch 7/150\n",
            "85/85 [==============================] - 7s 80ms/step - loss: 183900181626880.0000 - val_loss: 169716085686272.0000\n",
            "Epoch 8/150\n",
            "85/85 [==============================] - 2s 28ms/step - loss: 184785867636736.0000 - val_loss: 167008997998592.0000\n",
            "Epoch 9/150\n",
            "85/85 [==============================] - 2s 28ms/step - loss: 183236995055616.0000 - val_loss: 167416751456256.0000\n",
            "Epoch 10/150\n",
            "85/85 [==============================] - 2s 28ms/step - loss: 183451659534336.0000 - val_loss: 167218226659328.0000\n",
            "Epoch 11/150\n",
            "85/85 [==============================] - 4s 45ms/step - loss: 182103694114816.0000 - val_loss: 166229578874880.0000\n",
            "Epoch 12/150\n",
            "85/85 [==============================] - 4s 45ms/step - loss: 182860698877952.0000 - val_loss: 165903111028736.0000\n",
            "Epoch 13/150\n",
            "85/85 [==============================] - 2s 28ms/step - loss: 182209071808512.0000 - val_loss: 165950187896832.0000\n",
            "Epoch 14/150\n",
            "85/85 [==============================] - 2s 29ms/step - loss: 182567181484032.0000 - val_loss: 165751243669504.0000\n",
            "Epoch 15/150\n",
            "85/85 [==============================] - 2s 29ms/step - loss: 182409978970112.0000 - val_loss: 165404290842624.0000\n",
            "Epoch 16/150\n",
            "85/85 [==============================] - 2s 28ms/step - loss: 181304024891392.0000 - val_loss: 166304304594944.0000\n",
            "Epoch 17/150\n",
            "85/85 [==============================] - 4s 48ms/step - loss: 180573058367488.0000 - val_loss: 165304416075776.0000\n",
            "Epoch 18/150\n",
            "85/85 [==============================] - 4s 43ms/step - loss: 179815114080256.0000 - val_loss: 166936419762176.0000\n",
            "Epoch 19/150\n",
            "85/85 [==============================] - 2s 28ms/step - loss: 180190386847744.0000 - val_loss: 165767064584192.0000\n",
            "Epoch 20/150\n",
            "85/85 [==============================] - 3s 29ms/step - loss: 179974698958848.0000 - val_loss: 169626898006016.0000\n",
            "Epoch 21/150\n",
            "85/85 [==============================] - 2s 29ms/step - loss: 180101484380160.0000 - val_loss: 165882458275840.0000\n",
            "Epoch 22/150\n",
            "85/85 [==============================] - 3s 35ms/step - loss: 179663599042560.0000 - val_loss: 165252876468224.0000\n",
            "Epoch 23/150\n",
            "85/85 [==============================] - 4s 51ms/step - loss: 180522173071360.0000 - val_loss: 167537463525376.0000\n",
            "Epoch 24/150\n",
            "85/85 [==============================] - 3s 36ms/step - loss: 179926296690688.0000 - val_loss: 165065474965504.0000\n",
            "Epoch 25/150\n",
            "85/85 [==============================] - 2s 28ms/step - loss: 180026808991744.0000 - val_loss: 164258474098688.0000\n",
            "Epoch 26/150\n",
            "85/85 [==============================] - 2s 28ms/step - loss: 178963536150528.0000 - val_loss: 165309533126656.0000\n",
            "Epoch 27/150\n",
            "85/85 [==============================] - 2s 28ms/step - loss: 179105236516864.0000 - val_loss: 165489166778368.0000\n",
            "Epoch 28/150\n",
            "85/85 [==============================] - 3s 38ms/step - loss: 176945270620160.0000 - val_loss: 167834269253632.0000\n",
            "Epoch 29/150\n",
            "85/85 [==============================] - 4s 48ms/step - loss: 177950980833280.0000 - val_loss: 164323502587904.0000\n",
            "Epoch 30/150\n",
            "85/85 [==============================] - 3s 34ms/step - loss: 177598961287168.0000 - val_loss: 165548272910336.0000\n",
            "Epoch 31/150\n",
            "85/85 [==============================] - 2s 29ms/step - loss: 177178843021312.0000 - val_loss: 164347611447296.0000\n",
            "Epoch 32/150\n",
            "85/85 [==============================] - 2s 29ms/step - loss: 176054249455616.0000 - val_loss: 167149658177536.0000\n",
            "Epoch 33/150\n",
            "85/85 [==============================] - 2s 28ms/step - loss: 177150422417408.0000 - val_loss: 164104090157056.0000\n",
            "Epoch 34/150\n",
            "85/85 [==============================] - 3s 40ms/step - loss: 176413952966656.0000 - val_loss: 165967887859712.0000\n",
            "Epoch 35/150\n",
            "85/85 [==============================] - 5s 58ms/step - loss: 177181711925248.0000 - val_loss: 166004529299456.0000\n",
            "Epoch 36/150\n",
            "85/85 [==============================] - 2s 28ms/step - loss: 175518703943680.0000 - val_loss: 165187545989120.0000\n",
            "Epoch 37/150\n",
            "85/85 [==============================] - 2s 29ms/step - loss: 175188108902400.0000 - val_loss: 164251998093312.0000\n",
            "Epoch 38/150\n",
            "85/85 [==============================] - 2s 29ms/step - loss: 175244614565888.0000 - val_loss: 166230853943296.0000\n",
            "Epoch 39/150\n",
            "85/85 [==============================] - 2s 29ms/step - loss: 173843649921024.0000 - val_loss: 165112551833600.0000\n",
            "Epoch 40/150\n",
            "85/85 [==============================] - 4s 47ms/step - loss: 175233944256512.0000 - val_loss: 170455977689088.0000\n",
            "Epoch 41/150\n",
            "85/85 [==============================] - 4s 45ms/step - loss: 175199148310528.0000 - val_loss: 164214266134528.0000\n",
            "Epoch 42/150\n",
            "85/85 [==============================] - 2s 28ms/step - loss: 175151064809472.0000 - val_loss: 167402423713792.0000\n",
            "Epoch 43/150\n",
            "85/85 [==============================] - 2s 29ms/step - loss: 175061055045632.0000 - val_loss: 164428813172736.0000\n",
            "2431/2431 [==============================] - 4s 2ms/step\n"
          ]
        }
      ],
      "source": [
        "features_used = X_train.shape[1]\n",
        "\n",
        "# Build the neural network\n",
        "os.environ[\"KERAS_BACKEND\"] = \"torch\"\n",
        "used.append(\"Keras With Torch Backend\")\n",
        "model = Sequential()\n",
        "model.add(Dense(250, input_dim=X_train.shape[1], activation='relu', kernel_regularizer=l2(0.01)))\n",
        "model.add(Dropout(0.3))  # You can use either dropout or early stopping\n",
        "model.add(Dense(170, activation='relu', kernel_regularizer=l2(0.01)))\n",
        "model.add(Dropout(0.3))\n",
        "model.add(Dense(100, activation='relu', kernel_regularizer=l2(0.01)))\n",
        "model.add(Dropout(0.3))\n",
        "model.add(Dense(50, activation='relu', kernel_regularizer=l2(0.01)))\n",
        "model.add(Dropout(0.3))\n",
        "model.add(Dense(1, activation='linear'))  # Output layer with linear activation for regression\n",
        "\n",
        "used.append(\"4 Hidden Layers: Hidden Layer 1 with 360 neurons selu activation L2 regularization, \\n\" +\n",
        "            \"Hidden Layer 2 with 280 neurons selu activation L2 regularization, \\n\" +\n",
        "            \"Hidden Layer 3 with 190 neurons selu activation L2 regularization, \\n\" +\n",
        "            \"Hidden Layer 4 with 130 neurons selu activation L2 regularization\")\n",
        "used.append(\"Output linear\")\n",
        "\n",
        "# optimizerUsing = Adam(lr=0.05)#, beta_1=0.9, beta_2=0.999, epsilon=1e-07, amsgrad=False)\n",
        "# used.append(\"Optimizer: Adam(lr=0.05)\")\n",
        "# optimizerUsing = RMSprop(lr=0.001)\n",
        "# used.append(\"Optimizer: RMSprop(lr=0.001)\")\n",
        "# optimizerUsing = Adagrad(lr=0.01)\n",
        "# used.append(\"Optimizer: Adagrad(lr=0.01)\")\n",
        "# optimizerUsing = Adadelta(lr=1.0, rho=0.95)\n",
        "# used.append(\"Optimizer: Adadelta(lr=1.0, rho=0.95)\")\n",
        "# optimizerUsing = Nadam(lr=0.002, beta_1=0.9, beta_2=0.999)\n",
        "# used.append(\"Optimizer: Nadam(lr=0.002, beta_1=0.9, beta_2=0.999)\")\n",
        "optimizerUsing = Adam(learning_rate=0.01)#, learning_rate_power=-0.5, initial_accumulator_value=0.1, l1_regularization_strength=0.01, l2_regularization_strength=0.01)\n",
        "used.append(\"Optimizer: Ftrl(learning_rate=0.4)\")\n",
        "\n",
        "# Compile the model\n",
        "model.compile(loss='mean_squared_error', optimizer=optimizerUsing)\n",
        "used.append(\"Loss Calculation: Mean Squared Error\")\n",
        "\n",
        "# Define early stopping\n",
        "early_stopping = EarlyStopping(monitor='val_loss', patience=10, restore_best_weights=True)\n",
        "used.append(\"EarlyStopping(monitor='val_loss', patience=10, restore_best_weights=True)\")\n",
        "\n",
        "# Train the model\n",
        "model.fit(X_train, y_train, epochs=150, batch_size=1500, validation_data=(X_val, y_val), callbacks=[early_stopping])\n",
        "used.append(\"batch_size=1800, epochs=100, early_stopping (patience 10), dropout=0.3, L2 Regularization\")\n",
        "\n",
        "# Train the model\n",
        "# model.fit(X_train, y_train, epochs=100, batch_size=1800, validation_data=(X_val, y_val))#, callbacks=[early_stopping])\n",
        "# used.append(\"batch_size=1800, epochs=100, dropout=0.3, L2 Regularization\")\n",
        "\n",
        "# used.append(\"batch_size=1800, epochs=100, early_stopping\")\n",
        "\n",
        "# Make predictions\n",
        "predictions = model.predict(X_test)"
      ]
    },
    {
      "cell_type": "markdown",
      "metadata": {
        "id": "nLQRSDwmkZWG"
      },
      "source": [
        "<h1>With Skilearn<h1>"
      ]
    },
    {
      "cell_type": "code",
      "execution_count": 17,
      "metadata": {
        "id": "-BjPXCQfkZWG"
      },
      "outputs": [],
      "source": [
        "# features_used = X_train.shape[1]\n",
        "\n",
        "# # # optimizerUsing = SGD(learning_rate=0.01, momentum=0.9)\n",
        "\n",
        "# # # optimizerUsing = Adam(lr=0.001, beta_1=0.9, beta_2=0.999, epsilon=1e-07, amsgrad=False)\n",
        "# # optimizerUsing = Adam(lr=0.001)#, epsilon=1e-07)\n",
        "\n",
        "# l2Regu = 0.001\n",
        "\n",
        "# # model = MLPRegressor(hidden_layer_sizes=(300,210,150,60), activation='relu', solver='adam', alpha = l2Regu, shuffle=False, max_iter=100,\n",
        "# #                      batch_size=1800, early_stopping=True, verbose=True, random_state=42)\n",
        "\n",
        "# # {'logistic', 'tanh', 'identity', 'relu'}. Got 'selu' instead.\n",
        "\n",
        "# model = MLPRegressor(hidden_layer_sizes=(300,210,150,60), activation='relu', solver='adam', alpha = l2Regu, shuffle=False, max_iter=100,\n",
        "#                      batch_size=1800, early_stopping=True, verbose=True, random_state=42)\n",
        "\n",
        "# used.append(\"MLPRegressor\")\n",
        "# used.append(\"4 Hidden Layers: Hidden Layer 1 with 300 neurons relu activation L2 regularization, \\n\" +\n",
        "#             \"Hidden Layer 2 with 210 neurons relu activation L2 regularization, \\n\" +\n",
        "#             \"Hidden Layer 3 with 150 neurons relu activation L2 regularization, \\n\" +\n",
        "#             \"Hidden Layer 4 with 60 neurons relu activation L2 regularization\")\n",
        "# used.append(\"Optimizer: adam\")\n",
        "# used.append(\"batch_size=1800, epochs=100, early_stopping\")\n",
        "\n",
        "# # Train the model\n",
        "# model.fit(X_train, y_train)\n",
        "\n",
        "# # Make predictions\n",
        "# predictions = model.predict(X_test)"
      ]
    },
    {
      "cell_type": "code",
      "execution_count": 18,
      "metadata": {
        "id": "LkT28B8BkZWH"
      },
      "outputs": [],
      "source": [
        "# Create a DataFrame with the results\n",
        "submission_df = pd.DataFrame({'row ID': test_data['row ID'], 'price_doc': predictions.flatten()})\n",
        "\n",
        "# Save the results to a CSV file\n",
        "submission_df.to_csv('Day11.9.csv', index=False)"
      ]
    },
    {
      "cell_type": "code",
      "execution_count": 19,
      "metadata": {
        "colab": {
          "base_uri": "https://localhost:8080/"
        },
        "id": "0B_y9zRBkZWH",
        "outputId": "5d08ea61-c835-4f3a-96e9-b857a8173b48"
      },
      "outputs": [
        {
          "output_type": "stream",
          "name": "stdout",
          "text": [
            "Features Used = 87\n",
            "\n",
            "Removed sub_area\n",
            "OneHot Encoding\n",
            "Converted All Columns To float32\n",
            "log Normalization\n",
            "StandardScaler\n",
            "Keras With Torch Backend\n",
            "4 Hidden Layers: Hidden Layer 1 with 360 neurons selu activation L2 regularization, \n",
            "Hidden Layer 2 with 280 neurons selu activation L2 regularization, \n",
            "Hidden Layer 3 with 190 neurons selu activation L2 regularization, \n",
            "Hidden Layer 4 with 130 neurons selu activation L2 regularization\n",
            "Output linear\n",
            "Optimizer: Ftrl(learning_rate=0.4)\n",
            "Loss Calculation: Mean Squared Error\n",
            "EarlyStopping(monitor='val_loss', patience=10, restore_best_weights=True)\n",
            "batch_size=1800, epochs=100, early_stopping (patience 10), dropout=0.3, L2 Regularization\n"
          ]
        }
      ],
      "source": [
        "print(\"Features Used = \" + str(features_used) + \"\\n\")\n",
        "for i in used:\n",
        "    print(i)"
      ]
    }
  ],
  "metadata": {
    "kernelspec": {
      "display_name": "Python 3",
      "language": "python",
      "name": "python3"
    },
    "language_info": {
      "codemirror_mode": {
        "name": "ipython",
        "version": 3
      },
      "file_extension": ".py",
      "mimetype": "text/x-python",
      "name": "python",
      "nbconvert_exporter": "python",
      "pygments_lexer": "ipython3",
      "version": "3.11.4"
    },
    "colab": {
      "provenance": []
    }
  },
  "nbformat": 4,
  "nbformat_minor": 0
}