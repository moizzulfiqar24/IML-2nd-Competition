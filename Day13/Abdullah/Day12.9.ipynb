{
  "cells": [
    {
      "cell_type": "code",
      "execution_count": 49,
      "metadata": {
        "id": "HBh3CltlBJO8"
      },
      "outputs": [],
      "source": [
        "import pandas as pd\n",
        "from sklearn.model_selection import train_test_split\n",
        "from sklearn.preprocessing import StandardScaler\n",
        "from keras.models import Sequential\n",
        "from keras.layers import Dense, Dropout\n",
        "from keras.callbacks import EarlyStopping\n",
        "import os\n",
        "import torch\n",
        "from sklearn.neural_network import MLPRegressor\n",
        "from sklearn.ensemble import GradientBoostingRegressor\n",
        "from sklearn.metrics import mean_squared_error\n",
        "from sklearn.model_selection import GridSearchCV\n",
        "from keras.optimizers import SGD, Adam, Adadelta, RMSprop, Adagrad, Nadam, Ftrl\n",
        "from keras.regularizers import l2\n",
        "import numpy as np\n",
        "from sklearn.decomposition import PCA\n",
        "from sklearn.feature_selection import VarianceThreshold\n",
        "import statsmodels.api as sm"
      ]
    },
    {
      "cell_type": "code",
      "source": [
        "from google.colab import drive\n",
        "drive.mount('/content/gdrive')"
      ],
      "metadata": {
        "colab": {
          "base_uri": "https://localhost:8080/"
        },
        "id": "cE5x7J6_Bb6x",
        "outputId": "6c43616e-23ff-48e7-fb77-5e38790773db"
      },
      "execution_count": 50,
      "outputs": [
        {
          "output_type": "stream",
          "name": "stdout",
          "text": [
            "Drive already mounted at /content/gdrive; to attempt to forcibly remount, call drive.mount(\"/content/gdrive\", force_remount=True).\n"
          ]
        }
      ]
    },
    {
      "cell_type": "code",
      "execution_count": 51,
      "metadata": {
        "id": "-5KTbpKQBJO_"
      },
      "outputs": [],
      "source": [
        "# Load the training data\n",
        "train_data = pd.read_csv('/content/gdrive/MyDrive/train.csv')\n",
        "test_data = pd.read_csv('/content/gdrive/MyDrive/test.csv')\n",
        "\n",
        "used = []\n",
        "\n",
        "# Extract features and target variable\n",
        "X = train_data.drop('price_doc', axis=1)\n",
        "y = train_data['price_doc']\n",
        "X_test = test_data.drop(['row ID'], axis=1)"
      ]
    },
    {
      "cell_type": "code",
      "execution_count": 52,
      "metadata": {
        "id": "_hHPtzYlBJPA"
      },
      "outputs": [],
      "source": [
        "X = X.drop('sub_area', axis=1)\n",
        "X_test = X_test.drop('sub_area', axis=1)\n",
        "used.append('Removed sub_area')"
      ]
    },
    {
      "cell_type": "code",
      "execution_count": 53,
      "metadata": {
        "id": "eM0dAjRYBJPB"
      },
      "outputs": [],
      "source": [
        "X = pd.get_dummies(X)\n",
        "X_test = pd.get_dummies(X_test)\n",
        "used.append('OneHot Encoding')"
      ]
    },
    {
      "cell_type": "code",
      "execution_count": 54,
      "metadata": {
        "id": "0UN5L25EBJPB"
      },
      "outputs": [],
      "source": [
        "# from sklearn.calibration import LabelEncoder\n",
        "\n",
        "# categorical_columns = X.select_dtypes(include=['object']).columns.tolist()\n",
        "# print(\"Train: Categorical columns:\", categorical_columns)\n",
        "\n",
        "# label_encoder = LabelEncoder()\n",
        "\n",
        "# for column in categorical_columns:\n",
        "#     X[column] = label_encoder.fit_transform(X[column])\n",
        "\n",
        "# categorical_columns_test = X_test.select_dtypes(include=['object']).columns.tolist()\n",
        "# print(\"Test: Categorical columns:\", categorical_columns_test)\n",
        "\n",
        "# label_encoder = LabelEncoder()\n",
        "\n",
        "# for column in categorical_columns_test:\n",
        "#     X_test[column] = label_encoder.fit_transform(X_test[column])\n",
        "\n",
        "# used.append('Label Encoding')"
      ]
    },
    {
      "cell_type": "code",
      "execution_count": 55,
      "metadata": {
        "id": "bse-0NDxBJPC"
      },
      "outputs": [],
      "source": [
        "# # drop all columns in X_train with dtypes object\n",
        "# for col in X.columns:\n",
        "#     if X[col].dtype == 'object':\n",
        "#         X.drop(col, axis=1, inplace=True)\n",
        "\n",
        "# # drop all columns in X_test with dtypes object\n",
        "# for col in X_test.columns:\n",
        "#     if X_test[col].dtype == 'object':\n",
        "#         X_test.drop(col, axis=1, inplace=True)\n",
        "\n",
        "# used.append(\"Removed Object Dtypes\")"
      ]
    },
    {
      "cell_type": "code",
      "execution_count": 56,
      "metadata": {
        "colab": {
          "base_uri": "https://localhost:8080/"
        },
        "id": "l4LEcM4GBJPC",
        "outputId": "9dacf3d7-f127-4033-d5b6-9c418cae8b7d"
      },
      "outputs": [
        {
          "output_type": "stream",
          "name": "stdout",
          "text": [
            "Selected Features:\n",
            "Index(['full_sq', 'life_sq', 'floor', 'children_preschool',\n",
            "       'preschool_education_centers_raion',\n",
            "       'school_education_centers_top_20_raion', 'healthcare_centers_raion',\n",
            "       'university_top_20_raion', 'male_f', '0_6_female',\n",
            "       'build_count_monolith', 'raion_build_count_with_builddate_info',\n",
            "       'build_count_1971-1995', 'build_count_after_1995', 'kindergarten_km',\n",
            "       'green_zone_km', 'industrial_km', 'water_treatment_km', 'water_km',\n",
            "       'mkad_km', 'sadovoe_km', 'big_road2_km', 'nuclear_reactor_km',\n",
            "       'swim_pool_km', 'basketball_km', 'church_synagogue_km', 'catering_km',\n",
            "       'green_part_500', 'prom_part_500', 'trc_sqm_500',\n",
            "       'cafe_count_500_price_1000', 'cafe_count_500_price_1500',\n",
            "       'cafe_count_500_price_4000', 'cafe_count_500_price_high',\n",
            "       'mosque_count_500', 'leisure_count_500', 'market_count_500',\n",
            "       'green_part_1000', 'prom_part_1000', 'office_count_1000',\n",
            "       'office_sqm_1000', 'trc_count_1000', 'trc_sqm_1000',\n",
            "       'cafe_count_1000_price_1500', 'cafe_count_1000_price_high',\n",
            "       'big_church_count_1000', 'mosque_count_1000', 'leisure_count_1000',\n",
            "       'market_count_1000', 'green_part_1500', 'trc_count_1500',\n",
            "       'church_count_1500', 'mosque_count_1500', 'leisure_count_1500',\n",
            "       'green_part_2000', 'trc_sqm_2000', 'cafe_sum_2000_max_price_avg',\n",
            "       'cafe_count_2000_price_1500', 'cafe_count_2000_price_4000',\n",
            "       'cafe_count_2000_price_high', 'mosque_count_2000', 'sport_count_2000',\n",
            "       'mosque_count_3000', 'market_count_5000', 'product_type_Investment',\n",
            "       'product_type_OwnerOccupier', 'culture_objects_top_25_no',\n",
            "       'culture_objects_top_25_yes', 'incineration_raion_no',\n",
            "       'incineration_raion_yes', 'oil_chemistry_raion_no',\n",
            "       'oil_chemistry_raion_yes', 'radiation_raion_no',\n",
            "       'railroad_terminal_raion_yes', 'big_market_raion_no',\n",
            "       'big_market_raion_yes', 'nuclear_reactor_raion_no',\n",
            "       'nuclear_reactor_raion_yes', 'water_1line_no', 'water_1line_yes',\n",
            "       'big_road1_1line_no', 'big_road1_1line_yes', 'railroad_1line_yes',\n",
            "       'ecology_excellent', 'ecology_good', 'ecology_no data',\n",
            "       'ecology_satisfactory'],\n",
            "      dtype='object')\n",
            "87\n"
          ]
        }
      ],
      "source": [
        "X = X.astype('float32')\n",
        "X_test = X_test.astype('float32')\n",
        "used.append(\"Converted All Columns To float32\")\n",
        "\n",
        "\n",
        "# Add a constant term to the feature matrix\n",
        "X_with_const = sm.add_constant(X)\n",
        "\n",
        "# Fit a linear regression model\n",
        "model = sm.OLS(y, X_with_const).fit()\n",
        "\n",
        "# Get p-values for each feature\n",
        "p_values = model.pvalues[1:]  # Exclude the constant term\n",
        "\n",
        "# Set your desired threshold for p-value\n",
        "threshold = 0.00001\n",
        "\n",
        "# Filter features based on p-value\n",
        "selected_features = p_values[p_values < threshold].index\n",
        "\n",
        "# Display selected features\n",
        "print(\"Selected Features:\")\n",
        "print(selected_features)\n",
        "print(len(selected_features))\n",
        "\n",
        "# Select columns in the DataFrame\n",
        "X = X[selected_features]\n",
        "X_test = X_test[selected_features]"
      ]
    },
    {
      "cell_type": "code",
      "execution_count": 57,
      "metadata": {
        "id": "Mn_OHq_TBJPC"
      },
      "outputs": [],
      "source": [
        "X = np.log1p(X)\n",
        "X_test = np.log1p(X_test)\n",
        "used.append('log Normalization')"
      ]
    },
    {
      "cell_type": "code",
      "execution_count": 58,
      "metadata": {
        "id": "lLopfnC5BJPC"
      },
      "outputs": [],
      "source": [
        "# Split the data into training and validation sets\n",
        "X_train, X_val, y_train, y_val = train_test_split(X, y, test_size=0.3, random_state=42)"
      ]
    },
    {
      "cell_type": "code",
      "execution_count": 59,
      "metadata": {
        "id": "zKVS67OUBJPC"
      },
      "outputs": [],
      "source": [
        "# Standardize the data\n",
        "scaler = StandardScaler()\n",
        "X_train = scaler.fit_transform(X_train)\n",
        "X_val = scaler.transform(X_val)\n",
        "X_test = scaler.transform(X_test)\n",
        "used.append(\"StandardScaler\")"
      ]
    },
    {
      "cell_type": "code",
      "execution_count": 60,
      "metadata": {
        "colab": {
          "base_uri": "https://localhost:8080/"
        },
        "id": "w0yrTY6IBJPD",
        "outputId": "2a37f7e5-a9d4-40f0-ca01-43e060104237"
      },
      "outputs": [
        {
          "output_type": "execute_result",
          "data": {
            "text/plain": [
              "(127054, 87)"
            ]
          },
          "metadata": {},
          "execution_count": 60
        }
      ],
      "source": [
        "X_train.shape"
      ]
    },
    {
      "cell_type": "code",
      "execution_count": 61,
      "metadata": {
        "id": "zzzMbsnqBJPD"
      },
      "outputs": [],
      "source": [
        "# from sklearn.preprocessing import PolynomialFeatures\n",
        "# poly = PolynomialFeatures(2)#, interaction_only=True)\n",
        "# X_train = poly.fit_transform(X_train)\n",
        "# X_test = poly.fit_transform(X_test)\n",
        "# used.append('PolynomialFeatures W/O Interaction')\n",
        "# # used.append('PolynomialFeatures With Interaction')"
      ]
    },
    {
      "cell_type": "code",
      "execution_count": 62,
      "metadata": {
        "id": "b-OV6k1yBJPD"
      },
      "outputs": [],
      "source": [
        "# # save X_train to csv\n",
        "# X_train.to_csv('train with poly w/o int.2.csv', index=False)\n",
        "# X_test.to_csv('test with poly w/o int.csv', index=False)"
      ]
    },
    {
      "cell_type": "code",
      "execution_count": 63,
      "metadata": {
        "id": "YTRbMnd4BJPD"
      },
      "outputs": [],
      "source": [
        "# pca = PCA(n_components=200)\n",
        "# principalComponents = pca.fit_transform(X_train)\n",
        "# X_train = pd.DataFrame(data = principalComponents)\n",
        "\n",
        "# pca2 = PCA(n_components=200)\n",
        "# principalComponents = pca2.fit_transform(X_test)\n",
        "# X_test = pd.DataFrame(data = principalComponents)\n",
        "\n",
        "# used.append('PCA (n=200)')"
      ]
    },
    {
      "cell_type": "markdown",
      "metadata": {
        "id": "fNjLpjXoBJPD"
      },
      "source": [
        "<h1>With Keras<h1>"
      ]
    },
    {
      "cell_type": "code",
      "execution_count": 64,
      "metadata": {
        "id": "AEaucqaLBJPF"
      },
      "outputs": [],
      "source": [
        "# features_used = X_train.shape[1]\n",
        "\n",
        "# # Build the neural network\n",
        "# os.environ[\"KERAS_BACKEND\"] = \"torch\"\n",
        "# used.append(\"Keras With Torch Backend\")\n",
        "# model = Sequential()\n",
        "# model.add(Dense(360, input_dim=X_train.shape[1], activation='selu', kernel_regularizer=l2(0.01)))\n",
        "# model.add(Dropout(0.3))  # You can use either dropout or early stopping\n",
        "# model.add(Dense(280, activation='selu', kernel_regularizer=l2(0.01)))\n",
        "# model.add(Dropout(0.3))\n",
        "# model.add(Dense(190, activation='selu', kernel_regularizer=l2(0.01)))\n",
        "# model.add(Dropout(0.3))\n",
        "# model.add(Dense(130, activation='selu', kernel_regularizer=l2(0.01)))\n",
        "# model.add(Dropout(0.3))\n",
        "# model.add(Dense(1, activation='linear'))  # Output layer with linear activation for regression\n",
        "\n",
        "# used.append(\"4 Hidden Layers: Hidden Layer 1 with 360 neurons selu activation L2 regularization, \\n\" +\n",
        "#             \"Hidden Layer 2 with 280 neurons selu activation L2 regularization, \\n\" +\n",
        "#             \"Hidden Layer 3 with 190 neurons selu activation L2 regularization, \\n\" +\n",
        "#             \"Hidden Layer 4 with 130 neurons selu activation L2 regularization\")\n",
        "# used.append(\"Output linear\")\n",
        "\n",
        "# # optimizerUsing = Adam(lr=0.05)#, beta_1=0.9, beta_2=0.999, epsilon=1e-07, amsgrad=False)\n",
        "# # used.append(\"Optimizer: Adam(lr=0.05)\")\n",
        "# # optimizerUsing = RMSprop(lr=0.001)\n",
        "# # used.append(\"Optimizer: RMSprop(lr=0.001)\")\n",
        "# # optimizerUsing = Adagrad(lr=0.01)\n",
        "# # used.append(\"Optimizer: Adagrad(lr=0.01)\")\n",
        "# # optimizerUsing = Adadelta(lr=1.0, rho=0.95)\n",
        "# # used.append(\"Optimizer: Adadelta(lr=1.0, rho=0.95)\")\n",
        "# # optimizerUsing = Nadam(lr=0.002, beta_1=0.9, beta_2=0.999)\n",
        "# # used.append(\"Optimizer: Nadam(lr=0.002, beta_1=0.9, beta_2=0.999)\")\n",
        "# optimizerUsing = Ftrl(learning_rate=0.05)#, learning_rate_power=-0.5, initial_accumulator_value=0.1, l1_regularization_strength=0.01, l2_regularization_strength=0.01)\n",
        "# used.append(\"Optimizer: Ftrl(learning_rate=0.05)\")\n",
        "\n",
        "# # Compile the model\n",
        "# model.compile(loss='mean_squared_error', optimizer=optimizerUsing)\n",
        "# used.append(\"Loss Calculation: Mean Squared Error\")\n",
        "\n",
        "# # Define early stopping\n",
        "# early_stopping = EarlyStopping(monitor='val_loss', patience=10, restore_best_weights=True)\n",
        "# used.append(\"EarlyStopping(monitor='val_loss', patience=10, restore_best_weights=True)\")\n",
        "\n",
        "# # Train the model\n",
        "# model.fit(X_train, y_train, epochs=100, batch_size=1800, validation_data=(X_val, y_val), callbacks=[early_stopping])\n",
        "# used.append(\"batch_size=1800, epochs=100, early_stopping (patience 10), dropout=0.3, L2 Regularization\")\n",
        "\n",
        "# # Train the model\n",
        "# # model.fit(X_train, y_train, epochs=100, batch_size=1800, validation_data=(X_val, y_val))#, callbacks=[early_stopping])\n",
        "# # used.append(\"batch_size=1800, epochs=100, dropout=0.3, L2 Regularization\")\n",
        "\n",
        "# # used.append(\"batch_size=1800, epochs=100, early_stopping\")\n",
        "\n",
        "# # Make predictions\n",
        "# predictions = model.predict(X_test)"
      ]
    },
    {
      "cell_type": "markdown",
      "metadata": {
        "id": "F0-9D0jxBJPF"
      },
      "source": [
        "<h1>With Skilearn<h1>"
      ]
    },
    {
      "cell_type": "code",
      "execution_count": 65,
      "metadata": {
        "colab": {
          "base_uri": "https://localhost:8080/"
        },
        "id": "KNsk_M67BJPF",
        "outputId": "1c28aef7-f935-41b9-d7de-fcefe00e5c86"
      },
      "outputs": [
        {
          "output_type": "stream",
          "name": "stdout",
          "text": [
            "Iteration 1, loss = 347248330119862.68750000\n",
            "Validation score: -0.454508\n",
            "Iteration 2, loss = 319485246335986.00000000\n",
            "Validation score: -0.038569\n",
            "Iteration 3, loss = 139884036273433.17187500\n",
            "Validation score: 0.596278\n",
            "Iteration 4, loss = 95204165461363.85937500\n",
            "Validation score: 0.607305\n",
            "Iteration 5, loss = 93559002815999.10937500\n",
            "Validation score: 0.612642\n",
            "Iteration 6, loss = 92510446486212.89062500\n",
            "Validation score: 0.616388\n",
            "Iteration 7, loss = 91728056533462.43750000\n",
            "Validation score: 0.619351\n",
            "Iteration 8, loss = 91088403565114.89062500\n",
            "Validation score: 0.621807\n",
            "Iteration 9, loss = 90547818285445.21875000\n",
            "Validation score: 0.623919\n",
            "Iteration 10, loss = 90077303925825.48437500\n",
            "Validation score: 0.625747\n",
            "Iteration 11, loss = 89667098184755.28125000\n",
            "Validation score: 0.627351\n",
            "Iteration 12, loss = 89300265150963.35937500\n",
            "Validation score: 0.628793\n",
            "Iteration 13, loss = 88968554635117.25000000\n",
            "Validation score: 0.630087\n",
            "Iteration 14, loss = 88667571303930.45312500\n",
            "Validation score: 0.631259\n",
            "Iteration 15, loss = 88390986247124.50000000\n",
            "Validation score: 0.632330\n",
            "Iteration 16, loss = 88134654067950.54687500\n",
            "Validation score: 0.633313\n",
            "Iteration 17, loss = 87897135065469.95312500\n",
            "Validation score: 0.634211\n",
            "Iteration 18, loss = 87676084580831.40625000\n",
            "Validation score: 0.635039\n",
            "Iteration 19, loss = 87468116134422.40625000\n",
            "Validation score: 0.635810\n",
            "Iteration 20, loss = 87270570565442.32812500\n",
            "Validation score: 0.636515\n",
            "Iteration 21, loss = 87083153539492.81250000\n",
            "Validation score: 0.637190\n",
            "Iteration 22, loss = 86900409491175.53125000\n",
            "Validation score: 0.637814\n",
            "Iteration 23, loss = 86724653161641.53125000\n",
            "Validation score: 0.638398\n",
            "Iteration 24, loss = 86557671372134.78125000\n",
            "Validation score: 0.638935\n",
            "Iteration 25, loss = 86400006988929.20312500\n",
            "Validation score: 0.639444\n",
            "Iteration 26, loss = 86249479391615.42187500\n",
            "Validation score: 0.639928\n",
            "Iteration 27, loss = 86105844499823.26562500\n",
            "Validation score: 0.640395\n",
            "Iteration 28, loss = 85966627395324.56250000\n",
            "Validation score: 0.640846\n",
            "Iteration 29, loss = 85835150547853.40625000\n",
            "Validation score: 0.641269\n",
            "Iteration 30, loss = 85710131434088.85937500\n",
            "Validation score: 0.641690\n",
            "Iteration 31, loss = 85589575826677.84375000\n",
            "Validation score: 0.642082\n",
            "Iteration 32, loss = 85472656796133.04687500\n",
            "Validation score: 0.642463\n",
            "Iteration 33, loss = 85359077495924.60937500\n",
            "Validation score: 0.642823\n",
            "Iteration 34, loss = 85249994169944.98437500\n",
            "Validation score: 0.643175\n",
            "Iteration 35, loss = 85145037647804.71875000\n",
            "Validation score: 0.643510\n",
            "Iteration 36, loss = 85043768537393.92187500\n",
            "Validation score: 0.643839\n",
            "Iteration 37, loss = 84945112674849.92187500\n",
            "Validation score: 0.644153\n",
            "Iteration 38, loss = 84850651900883.10937500\n",
            "Validation score: 0.644471\n",
            "Iteration 39, loss = 84757900641540.79687500\n",
            "Validation score: 0.644791\n",
            "Iteration 40, loss = 84667992074506.84375000\n",
            "Validation score: 0.645090\n",
            "Iteration 41, loss = 84581430292598.40625000\n",
            "Validation score: 0.645381\n",
            "Iteration 42, loss = 84499276547071.90625000\n",
            "Validation score: 0.645666\n",
            "Iteration 43, loss = 84419697586730.09375000\n",
            "Validation score: 0.645941\n",
            "Iteration 44, loss = 84343142207455.04687500\n",
            "Validation score: 0.646200\n",
            "Iteration 45, loss = 84269441848779.75000000\n",
            "Validation score: 0.646451\n",
            "Iteration 46, loss = 84197435584228.15625000\n",
            "Validation score: 0.646689\n",
            "Iteration 47, loss = 84127886304634.64062500\n",
            "Validation score: 0.646905\n",
            "Iteration 48, loss = 84061274665262.20312500\n",
            "Validation score: 0.647130\n",
            "Iteration 49, loss = 83995996364428.17187500\n",
            "Validation score: 0.647343\n",
            "Iteration 50, loss = 83933763935985.50000000\n",
            "Validation score: 0.647550\n",
            "Iteration 51, loss = 83873312282505.23437500\n",
            "Validation score: 0.647747\n",
            "Iteration 52, loss = 83814308062427.56250000\n",
            "Validation score: 0.647939\n",
            "Iteration 53, loss = 83756432340152.29687500\n",
            "Validation score: 0.648131\n",
            "Iteration 54, loss = 83700643052257.00000000\n",
            "Validation score: 0.648312\n",
            "Iteration 55, loss = 83646375138669.40625000\n",
            "Validation score: 0.648492\n",
            "Iteration 56, loss = 83593219657163.01562500\n",
            "Validation score: 0.648662\n",
            "Iteration 57, loss = 83541267582651.32812500\n",
            "Validation score: 0.648828\n",
            "Iteration 58, loss = 83491084843967.39062500\n",
            "Validation score: 0.648991\n",
            "Iteration 59, loss = 83441039925215.50000000\n",
            "Validation score: 0.649140\n",
            "Iteration 60, loss = 83392773402134.98437500\n",
            "Validation score: 0.649297\n",
            "Iteration 61, loss = 83344872604199.68750000\n",
            "Validation score: 0.649441\n",
            "Iteration 62, loss = 83298255864130.67187500\n",
            "Validation score: 0.649595\n",
            "Iteration 63, loss = 83252506119692.20312500\n",
            "Validation score: 0.649732\n",
            "Iteration 64, loss = 83208294494686.54687500\n",
            "Validation score: 0.649870\n",
            "Iteration 65, loss = 83163898491099.03125000\n",
            "Validation score: 0.649984\n",
            "Iteration 66, loss = 83121627036498.82812500\n",
            "Validation score: 0.650115\n",
            "Iteration 67, loss = 83079440830379.29687500\n",
            "Validation score: 0.650237\n",
            "Iteration 68, loss = 83037894912716.53125000\n",
            "Validation score: 0.650357\n",
            "Iteration 69, loss = 82996703827649.45312500\n",
            "Validation score: 0.650473\n",
            "Iteration 70, loss = 82955894054020.17187500\n",
            "Validation score: 0.650589\n",
            "Iteration 71, loss = 82915841493418.20312500\n",
            "Validation score: 0.650710\n",
            "Iteration 72, loss = 82875384524371.90625000\n",
            "Validation score: 0.650811\n",
            "Iteration 73, loss = 82835527669395.56250000\n",
            "Validation score: 0.650930\n",
            "Iteration 74, loss = 82796664220072.04687500\n",
            "Validation score: 0.651032\n",
            "Iteration 75, loss = 82757964977498.43750000\n",
            "Validation score: 0.651131\n",
            "Iteration 76, loss = 82719872789251.51562500\n",
            "Validation score: 0.651232\n",
            "Iteration 77, loss = 82682704968917.29687500\n",
            "Validation score: 0.651346\n",
            "Iteration 78, loss = 82644471457660.89062500\n",
            "Validation score: 0.651439\n",
            "Iteration 79, loss = 82607099430750.95312500\n",
            "Validation score: 0.651543\n",
            "Iteration 80, loss = 82569710913285.35937500\n",
            "Validation score: 0.651621\n",
            "Iteration 81, loss = 82533237012622.31250000\n",
            "Validation score: 0.651720\n",
            "Iteration 82, loss = 82496795954556.40625000\n",
            "Validation score: 0.651801\n",
            "Iteration 83, loss = 82461141848804.03125000\n",
            "Validation score: 0.651898\n",
            "Iteration 84, loss = 82425662373025.85937500\n",
            "Validation score: 0.651974\n",
            "Iteration 85, loss = 82390778537416.15625000\n",
            "Validation score: 0.652063\n",
            "Iteration 86, loss = 82355756518924.81250000\n",
            "Validation score: 0.652154\n",
            "Iteration 87, loss = 82321044321201.40625000\n",
            "Validation score: 0.652225\n",
            "Iteration 88, loss = 82286920279442.62500000\n",
            "Validation score: 0.652303\n",
            "Iteration 89, loss = 82253144377601.85937500\n",
            "Validation score: 0.652386\n",
            "Iteration 90, loss = 82219160656384.76562500\n",
            "Validation score: 0.652460\n",
            "Validation score did not improve more than tol=0.000100 for 10 consecutive epochs. Stopping.\n"
          ]
        }
      ],
      "source": [
        "features_used = X_train.shape[1]\n",
        "\n",
        "# # optimizerUsing = SGD(learning_rate=0.01, momentum=0.9)\n",
        "\n",
        "# # optimizerUsing = Adam(lr=0.001, beta_1=0.9, beta_2=0.999, epsilon=1e-07, amsgrad=False)\n",
        "# optimizerUsing = Adam(lr=0.001)#, epsilon=1e-07)\n",
        "\n",
        "l2Regu = 0.001\n",
        "\n",
        "# model = MLPRegressor(hidden_layer_sizes=(300,210,150,60), activation='relu', solver='adam', alpha = l2Regu, shuffle=False, max_iter=100,\n",
        "#                      batch_size=1800, early_stopping=True, verbose=True, random_state=42)\n",
        "\n",
        "# {'logistic', 'tanh', 'identity', 'relu'}. Got 'selu' instead.\n",
        "\n",
        "model = MLPRegressor(hidden_layer_sizes=(250, 170, 100, 50), activation='relu', solver='adam', alpha = l2Regu, shuffle=False, max_iter=150,\n",
        "                     batch_size=1500, early_stopping=True, verbose=True, random_state=42)\n",
        "\n",
        "used.append(\"MLPRegressor\")\n",
        "used.append(\"4 Hidden Layers: Hidden Layer 1 with 300 neurons logistic activation L2 regularization, \\n\" +\n",
        "            \"Hidden Layer 2 with 210 neurons logistic activation L2 regularization, \\n\" +\n",
        "            \"Hidden Layer 3 with 150 neurons logistic activation L2 regularization, \\n\" +\n",
        "            \"Hidden Layer 4 with 60 neurons logistic activation L2 regularization\")\n",
        "used.append(\"Optimizer: adam\")\n",
        "used.append(\"batch_size=1800, epochs=100, early_stopping\")\n",
        "\n",
        "# Train the model\n",
        "model.fit(X_train, y_train)\n",
        "\n",
        "# Make predictions\n",
        "predictions = model.predict(X_test)"
      ]
    },
    {
      "cell_type": "code",
      "execution_count": 66,
      "metadata": {
        "id": "_jo5is0dBJPF"
      },
      "outputs": [],
      "source": [
        "# Create a DataFrame with the results\n",
        "submission_df = pd.DataFrame({'row ID': test_data['row ID'], 'price_doc': predictions.flatten()})\n",
        "\n",
        "# Save the results to a CSV file\n",
        "submission_df.to_csv('Day11.4.csv', index=False)"
      ]
    },
    {
      "cell_type": "code",
      "execution_count": 67,
      "metadata": {
        "colab": {
          "base_uri": "https://localhost:8080/"
        },
        "id": "v4yVpBbKBJPF",
        "outputId": "3abe2f43-47ad-45c1-9be6-460bac8bdb60"
      },
      "outputs": [
        {
          "output_type": "stream",
          "name": "stdout",
          "text": [
            "Features Used = 87\n",
            "\n",
            "Removed sub_area\n",
            "OneHot Encoding\n",
            "Converted All Columns To float32\n",
            "log Normalization\n",
            "StandardScaler\n",
            "MLPRegressor\n",
            "4 Hidden Layers: Hidden Layer 1 with 300 neurons logistic activation L2 regularization, \n",
            "Hidden Layer 2 with 210 neurons logistic activation L2 regularization, \n",
            "Hidden Layer 3 with 150 neurons logistic activation L2 regularization, \n",
            "Hidden Layer 4 with 60 neurons logistic activation L2 regularization\n",
            "Optimizer: adam\n",
            "batch_size=1800, epochs=100, early_stopping\n"
          ]
        }
      ],
      "source": [
        "print(\"Features Used = \" + str(features_used) + \"\\n\")\n",
        "for i in used:\n",
        "    print(i)"
      ]
    }
  ],
  "metadata": {
    "kernelspec": {
      "display_name": "Python 3",
      "language": "python",
      "name": "python3"
    },
    "language_info": {
      "codemirror_mode": {
        "name": "ipython",
        "version": 3
      },
      "file_extension": ".py",
      "mimetype": "text/x-python",
      "name": "python",
      "nbconvert_exporter": "python",
      "pygments_lexer": "ipython3",
      "version": "3.11.4"
    },
    "colab": {
      "provenance": []
    }
  },
  "nbformat": 4,
  "nbformat_minor": 0
}