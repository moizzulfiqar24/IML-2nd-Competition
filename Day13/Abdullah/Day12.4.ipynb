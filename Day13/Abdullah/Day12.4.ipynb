{
  "cells": [
    {
      "cell_type": "code",
      "execution_count": 1,
      "metadata": {
        "id": "yIjTPgP_kZVt"
      },
      "outputs": [],
      "source": [
        "import pandas as pd\n",
        "from sklearn.model_selection import train_test_split\n",
        "from sklearn.preprocessing import StandardScaler\n",
        "from keras.models import Sequential\n",
        "from keras.layers import Dense, Dropout\n",
        "from keras.callbacks import EarlyStopping\n",
        "import os\n",
        "import torch\n",
        "from sklearn.neural_network import MLPRegressor\n",
        "from sklearn.ensemble import GradientBoostingRegressor\n",
        "from sklearn.metrics import mean_squared_error\n",
        "from sklearn.model_selection import GridSearchCV\n",
        "from keras.optimizers import SGD, Adam, Adadelta, RMSprop, Adagrad, Nadam, Ftrl\n",
        "from keras.regularizers import l2\n",
        "import numpy as np\n",
        "from sklearn.decomposition import PCA"
      ]
    },
    {
      "cell_type": "code",
      "source": [
        "from google.colab import drive\n",
        "drive.mount('/content/gdrive')"
      ],
      "metadata": {
        "colab": {
          "base_uri": "https://localhost:8080/"
        },
        "id": "Ad4GPij_kd5V",
        "outputId": "34d93eeb-459a-4121-8f1a-ab2991ce9a5e"
      },
      "execution_count": 2,
      "outputs": [
        {
          "output_type": "stream",
          "name": "stdout",
          "text": [
            "Mounted at /content/gdrive\n"
          ]
        }
      ]
    },
    {
      "cell_type": "code",
      "execution_count": 3,
      "metadata": {
        "id": "vh0YdJ8OkZVx"
      },
      "outputs": [],
      "source": [
        "# Load the training data\n",
        "train_data = pd.read_csv('/content/gdrive/MyDrive/train.csv')\n",
        "test_data = pd.read_csv('/content/gdrive/MyDrive/test.csv')\n",
        "\n",
        "used = []\n",
        "\n",
        "# Extract features and target variable\n",
        "X = train_data.drop('price_doc', axis=1)\n",
        "y = train_data['price_doc']\n",
        "X_test = test_data.drop(['row ID'], axis=1)"
      ]
    },
    {
      "cell_type": "code",
      "execution_count": 4,
      "metadata": {
        "id": "nuY5qe6rkZVx"
      },
      "outputs": [],
      "source": [
        "# X = X.drop('sub_area', axis=1)\n",
        "# X_test = X_test.drop('sub_area', axis=1)\n",
        "# used.append('Removed sub_area')"
      ]
    },
    {
      "cell_type": "code",
      "execution_count": 5,
      "metadata": {
        "id": "Sril7824kZVy"
      },
      "outputs": [],
      "source": [
        "# X = pd.get_dummies(X)\n",
        "# X_test = pd.get_dummies(X_test)\n",
        "# used.append('OneHot Encoding')"
      ]
    },
    {
      "cell_type": "code",
      "execution_count": 6,
      "metadata": {
        "colab": {
          "base_uri": "https://localhost:8080/"
        },
        "id": "NF7V3IZXkZVz",
        "outputId": "f7a79904-d396-4af2-f5cb-a73dc28c92b6"
      },
      "outputs": [
        {
          "output_type": "stream",
          "name": "stdout",
          "text": [
            "Train: Categorical columns: ['product_type', 'culture_objects_top_25', 'thermal_power_plant_raion', 'incineration_raion', 'oil_chemistry_raion', 'radiation_raion', 'railroad_terminal_raion', 'big_market_raion', 'nuclear_reactor_raion', 'detention_facility_raion', 'water_1line', 'big_road1_1line', 'railroad_1line', 'ecology']\n",
            "Test: Categorical columns: ['product_type', 'culture_objects_top_25', 'thermal_power_plant_raion', 'incineration_raion', 'oil_chemistry_raion', 'radiation_raion', 'railroad_terminal_raion', 'big_market_raion', 'nuclear_reactor_raion', 'detention_facility_raion', 'water_1line', 'big_road1_1line', 'railroad_1line', 'ecology']\n"
          ]
        }
      ],
      "source": [
        "# from sklearn.calibration import LabelEncoder\n",
        "\n",
        "# categorical_columns = X.select_dtypes(include=['object']).columns.tolist()\n",
        "# print(\"Train: Categorical columns:\", categorical_columns)\n",
        "\n",
        "# label_encoder = LabelEncoder()\n",
        "\n",
        "# for column in categorical_columns:\n",
        "#     X[column] = label_encoder.fit_transform(X[column])\n",
        "\n",
        "# categorical_columns_test = X_test.select_dtypes(include=['object']).columns.tolist()\n",
        "# print(\"Test: Categorical columns:\", categorical_columns_test)\n",
        "\n",
        "# label_encoder = LabelEncoder()\n",
        "\n",
        "# for column in categorical_columns_test:\n",
        "#     X_test[column] = label_encoder.fit_transform(X_test[column])\n",
        "\n",
        "# used.append('Label Encoding')"
      ]
    },
    {
      "cell_type": "code",
      "execution_count": 7,
      "metadata": {
        "id": "MjKh7Q3hkZV3"
      },
      "outputs": [],
      "source": [
        "# # drop all columns in X_train with dtypes object\n",
        "# for col in X.columns:\n",
        "#     if X[col].dtype == 'object':\n",
        "#         X.drop(col, axis=1, inplace=True)\n",
        "\n",
        "# # drop all columns in X_test with dtypes object\n",
        "# for col in X_test.columns:\n",
        "#     if X_test[col].dtype == 'object':\n",
        "#         X_test.drop(col, axis=1, inplace=True)\n",
        "\n",
        "# used.append(\"Removed Object Dtypes\")"
      ]
    },
    {
      "cell_type": "code",
      "source": [
        "X = X[['full_sq', 'floor', 'build_count_monolith', 'industrial_km', 'trc_sqm_500',\n",
        " 'mosque_count_500', 'leisure_count_500', 'office_sqm_1000',\n",
        " 'cafe_count_1000_price_high', 'leisure_count_1000', 'power_transmission_line_km', 'big_market_km', 'public_healthcare_km', 'workplaces_km']]\n",
        "X_test = X_test[['full_sq', 'floor', 'build_count_monolith', 'industrial_km', 'trc_sqm_500',\n",
        " 'mosque_count_500', 'leisure_count_500', 'office_sqm_1000',\n",
        " 'cafe_count_1000_price_high', 'leisure_count_1000', 'power_transmission_line_km', 'big_market_km', 'public_healthcare_km', 'workplaces_km']]"
      ],
      "metadata": {
        "id": "AlnK6bHt0kO6"
      },
      "execution_count": null,
      "outputs": []
    },
    {
      "cell_type": "code",
      "execution_count": 8,
      "metadata": {
        "id": "q0qUSXMhkZV4"
      },
      "outputs": [],
      "source": [
        "X = X.astype('float32')\n",
        "X_test = X_test.astype('float32')\n",
        "used.append(\"Converted All Columns To float32\")"
      ]
    },
    {
      "cell_type": "code",
      "execution_count": 9,
      "metadata": {
        "id": "TKYXLW61kZV5"
      },
      "outputs": [],
      "source": [
        "X = np.log1p(X)\n",
        "X_test = np.log1p(X_test)\n",
        "used.append('log Normalization')"
      ]
    },
    {
      "cell_type": "code",
      "execution_count": 10,
      "metadata": {
        "id": "bQCI8xqZkZV7"
      },
      "outputs": [],
      "source": [
        "# Split the data into training and validation sets\n",
        "X_train, X_val, y_train, y_val = train_test_split(X, y, test_size=0.3, random_state=42)"
      ]
    },
    {
      "cell_type": "code",
      "execution_count": 11,
      "metadata": {
        "id": "M2NreX_AkZV-"
      },
      "outputs": [],
      "source": [
        "# Standardize the data\n",
        "scaler = StandardScaler()\n",
        "X_train = scaler.fit_transform(X_train)\n",
        "X_val = scaler.transform(X_val)\n",
        "X_test = scaler.transform(X_test)\n",
        "used.append(\"StandardScaler\")"
      ]
    },
    {
      "cell_type": "code",
      "execution_count": 12,
      "metadata": {
        "colab": {
          "base_uri": "https://localhost:8080/"
        },
        "id": "s747zu3lkZV_",
        "outputId": "70084eb9-77b6-4e36-f91a-6c0d50ff984c"
      },
      "outputs": [
        {
          "output_type": "execute_result",
          "data": {
            "text/plain": [
              "(127054, 270)"
            ]
          },
          "metadata": {},
          "execution_count": 12
        }
      ],
      "source": [
        "X_train.shape"
      ]
    },
    {
      "cell_type": "code",
      "execution_count": 13,
      "metadata": {
        "id": "ZUrtal0TkZWA"
      },
      "outputs": [],
      "source": [
        "# from sklearn.preprocessing import PolynomialFeatures\n",
        "# poly = PolynomialFeatures(2)#, interaction_only=True)\n",
        "# X_train = poly.fit_transform(X_train)\n",
        "# X_test = poly.fit_transform(X_test)\n",
        "# used.append('PolynomialFeatures W/O Interaction')\n",
        "# # used.append('PolynomialFeatures With Interaction')"
      ]
    },
    {
      "cell_type": "code",
      "execution_count": 14,
      "metadata": {
        "id": "azna7s36kZWB"
      },
      "outputs": [],
      "source": [
        "# # save X_train to csv\n",
        "# X_train.to_csv('train with poly w/o int.2.csv', index=False)\n",
        "# X_test.to_csv('test with poly w/o int.csv', index=False)"
      ]
    },
    {
      "cell_type": "code",
      "execution_count": 15,
      "metadata": {
        "id": "WAmDlf5jkZWC"
      },
      "outputs": [],
      "source": [
        "# pca = PCA(n_components=200)\n",
        "# principalComponents = pca.fit_transform(X_train)\n",
        "# X_train = pd.DataFrame(data = principalComponents)\n",
        "\n",
        "# pca2 = PCA(n_components=200)\n",
        "# principalComponents = pca2.fit_transform(X_test)\n",
        "# X_test = pd.DataFrame(data = principalComponents)\n",
        "\n",
        "# used.append('PCA (n=200)')"
      ]
    },
    {
      "cell_type": "markdown",
      "metadata": {
        "id": "lWhR-28RkZWD"
      },
      "source": [
        "<h1>With Keras<h1>"
      ]
    },
    {
      "cell_type": "code",
      "execution_count": 16,
      "metadata": {
        "colab": {
          "base_uri": "https://localhost:8080/"
        },
        "id": "E_EC5YgLkZWF",
        "outputId": "e76e1401-ba77-4e77-d912-c1ee48a7ac02"
      },
      "outputs": [
        {
          "output_type": "stream",
          "name": "stdout",
          "text": [
            "Epoch 1/150\n",
            "85/85 [==============================] - 6s 57ms/step - loss: 531698865405952.0000 - val_loss: 256130576023552.0000\n",
            "Epoch 2/150\n",
            "85/85 [==============================] - 5s 56ms/step - loss: 223714679455744.0000 - val_loss: 196676081942528.0000\n",
            "Epoch 3/150\n",
            "85/85 [==============================] - 3s 37ms/step - loss: 209903255814144.0000 - val_loss: 191079185907712.0000\n",
            "Epoch 4/150\n",
            "85/85 [==============================] - 3s 37ms/step - loss: 204937753526272.0000 - val_loss: 189161935994880.0000\n",
            "Epoch 5/150\n",
            "85/85 [==============================] - 3s 40ms/step - loss: 203853861486592.0000 - val_loss: 187334846840832.0000\n",
            "Epoch 6/150\n",
            "85/85 [==============================] - 7s 80ms/step - loss: 204216366792704.0000 - val_loss: 186804502265856.0000\n",
            "Epoch 7/150\n",
            "85/85 [==============================] - 3s 37ms/step - loss: 203441309745152.0000 - val_loss: 185414459588608.0000\n",
            "Epoch 8/150\n",
            "85/85 [==============================] - 3s 37ms/step - loss: 201904499982336.0000 - val_loss: 184729647185920.0000\n",
            "Epoch 9/150\n",
            "85/85 [==============================] - 3s 37ms/step - loss: 200965361762304.0000 - val_loss: 183813795741696.0000\n",
            "Epoch 10/150\n",
            "85/85 [==============================] - 5s 58ms/step - loss: 200195656646656.0000 - val_loss: 182853132353536.0000\n",
            "Epoch 11/150\n",
            "85/85 [==============================] - 4s 51ms/step - loss: 200251239563264.0000 - val_loss: 182712656723968.0000\n",
            "Epoch 12/150\n",
            "85/85 [==============================] - 3s 37ms/step - loss: 199618621079552.0000 - val_loss: 182233247776768.0000\n",
            "Epoch 13/150\n",
            "85/85 [==============================] - 3s 37ms/step - loss: 199371962449920.0000 - val_loss: 181422086160384.0000\n",
            "Epoch 14/150\n",
            "85/85 [==============================] - 4s 44ms/step - loss: 198254381760512.0000 - val_loss: 181168901193728.0000\n",
            "Epoch 15/150\n",
            "85/85 [==============================] - 5s 64ms/step - loss: 198308018520064.0000 - val_loss: 181104074031104.0000\n",
            "Epoch 16/150\n",
            "85/85 [==============================] - 3s 39ms/step - loss: 197427483115520.0000 - val_loss: 179817462890496.0000\n",
            "Epoch 17/150\n",
            "85/85 [==============================] - 3s 37ms/step - loss: 197072980541440.0000 - val_loss: 179247121432576.0000\n",
            "Epoch 18/150\n",
            "85/85 [==============================] - 3s 37ms/step - loss: 195384873844736.0000 - val_loss: 178673625858048.0000\n",
            "Epoch 19/150\n",
            "85/85 [==============================] - 5s 58ms/step - loss: 194399598280704.0000 - val_loss: 178231932092416.0000\n",
            "Epoch 20/150\n",
            "85/85 [==============================] - 4s 50ms/step - loss: 193767466336256.0000 - val_loss: 177720092786688.0000\n",
            "Epoch 21/150\n",
            "85/85 [==============================] - 4s 43ms/step - loss: 194286905720832.0000 - val_loss: 176982700589056.0000\n",
            "Epoch 22/150\n",
            "85/85 [==============================] - 3s 37ms/step - loss: 193168888823808.0000 - val_loss: 176979378700288.0000\n",
            "Epoch 23/150\n",
            "85/85 [==============================] - 4s 48ms/step - loss: 193490961039360.0000 - val_loss: 176583990050816.0000\n",
            "Epoch 24/150\n",
            "85/85 [==============================] - 5s 62ms/step - loss: 193842628263936.0000 - val_loss: 176666248740864.0000\n",
            "Epoch 25/150\n",
            "85/85 [==============================] - 3s 38ms/step - loss: 192598664806400.0000 - val_loss: 176070473023488.0000\n",
            "Epoch 26/150\n",
            "85/85 [==============================] - 3s 37ms/step - loss: 192154521567232.0000 - val_loss: 175866898284544.0000\n",
            "Epoch 27/150\n",
            "85/85 [==============================] - 3s 37ms/step - loss: 191102892113920.0000 - val_loss: 175799806197760.0000\n",
            "Epoch 28/150\n",
            "85/85 [==============================] - 5s 61ms/step - loss: 191660415778816.0000 - val_loss: 175515029733376.0000\n",
            "Epoch 29/150\n",
            "85/85 [==============================] - 4s 48ms/step - loss: 191259389984768.0000 - val_loss: 175673607979008.0000\n",
            "Epoch 30/150\n",
            "85/85 [==============================] - 3s 37ms/step - loss: 190843164033024.0000 - val_loss: 175198661771264.0000\n",
            "Epoch 31/150\n",
            "85/85 [==============================] - 3s 37ms/step - loss: 192391952728064.0000 - val_loss: 175118466678784.0000\n",
            "Epoch 32/150\n",
            "85/85 [==============================] - 4s 46ms/step - loss: 191208655683584.0000 - val_loss: 175131368357888.0000\n",
            "Epoch 33/150\n",
            "85/85 [==============================] - 5s 63ms/step - loss: 191389329522688.0000 - val_loss: 175256962596864.0000\n",
            "Epoch 34/150\n",
            "85/85 [==============================] - 3s 37ms/step - loss: 189905502208000.0000 - val_loss: 174877680074752.0000\n",
            "Epoch 35/150\n",
            "85/85 [==============================] - 3s 37ms/step - loss: 190416804642816.0000 - val_loss: 174460816588800.0000\n",
            "Epoch 36/150\n",
            "85/85 [==============================] - 3s 37ms/step - loss: 190345216262144.0000 - val_loss: 174645852504064.0000\n",
            "Epoch 37/150\n",
            "85/85 [==============================] - 5s 59ms/step - loss: 191784718172160.0000 - val_loss: 174405619548160.0000\n",
            "Epoch 38/150\n",
            "85/85 [==============================] - 4s 50ms/step - loss: 189819216986112.0000 - val_loss: 174539870830592.0000\n",
            "Epoch 39/150\n",
            "85/85 [==============================] - 3s 36ms/step - loss: 191311768453120.0000 - val_loss: 174165185265664.0000\n",
            "Epoch 40/150\n",
            "85/85 [==============================] - 3s 36ms/step - loss: 191665952260096.0000 - val_loss: 174156008128512.0000\n",
            "Epoch 41/150\n",
            "85/85 [==============================] - 4s 44ms/step - loss: 190814743429120.0000 - val_loss: 174389614084096.0000\n",
            "Epoch 42/150\n",
            "85/85 [==============================] - 5s 64ms/step - loss: 190097198678016.0000 - val_loss: 173914902757376.0000\n",
            "Epoch 43/150\n",
            "85/85 [==============================] - 3s 38ms/step - loss: 189474176761856.0000 - val_loss: 173817376800768.0000\n",
            "Epoch 44/150\n",
            "85/85 [==============================] - 3s 37ms/step - loss: 190603602165760.0000 - val_loss: 174120557871104.0000\n",
            "Epoch 45/150\n",
            "85/85 [==============================] - 3s 38ms/step - loss: 189619702333440.0000 - val_loss: 173750989357056.0000\n",
            "Epoch 46/150\n",
            "85/85 [==============================] - 5s 58ms/step - loss: 190556038758400.0000 - val_loss: 173989074829312.0000\n",
            "Epoch 47/150\n",
            "85/85 [==============================] - 5s 55ms/step - loss: 190500053188608.0000 - val_loss: 173534429052928.0000\n",
            "Epoch 48/150\n",
            "85/85 [==============================] - 3s 37ms/step - loss: 189052665987072.0000 - val_loss: 173698107572224.0000\n",
            "Epoch 49/150\n",
            "85/85 [==============================] - 3s 37ms/step - loss: 190675190546432.0000 - val_loss: 173630478614528.0000\n",
            "Epoch 50/150\n",
            "85/85 [==============================] - 4s 45ms/step - loss: 188874391289856.0000 - val_loss: 173353855877120.0000\n",
            "Epoch 51/150\n",
            "85/85 [==============================] - 5s 63ms/step - loss: 190996960772096.0000 - val_loss: 173507669393408.0000\n",
            "Epoch 52/150\n",
            "85/85 [==============================] - 3s 38ms/step - loss: 190285724254208.0000 - val_loss: 173700322164736.0000\n",
            "Epoch 53/150\n",
            "85/85 [==============================] - 3s 37ms/step - loss: 190353772642304.0000 - val_loss: 173282921807872.0000\n",
            "Epoch 54/150\n",
            "85/85 [==============================] - 3s 37ms/step - loss: 188129449345024.0000 - val_loss: 173199220277248.0000\n",
            "Epoch 55/150\n",
            "85/85 [==============================] - 5s 58ms/step - loss: 189159016759296.0000 - val_loss: 173325888258048.0000\n",
            "Epoch 56/150\n",
            "85/85 [==============================] - 4s 51ms/step - loss: 189567206424576.0000 - val_loss: 173180597567488.0000\n",
            "Epoch 57/150\n",
            "85/85 [==============================] - 3s 37ms/step - loss: 189200372596736.0000 - val_loss: 173024955334656.0000\n",
            "Epoch 58/150\n",
            "85/85 [==============================] - 3s 40ms/step - loss: 189341083107328.0000 - val_loss: 173057150812160.0000\n",
            "Epoch 59/150\n",
            "85/85 [==============================] - 4s 46ms/step - loss: 189417872424960.0000 - val_loss: 173020979134464.0000\n",
            "Epoch 60/150\n",
            "85/85 [==============================] - 5s 64ms/step - loss: 189300348026880.0000 - val_loss: 172825440681984.0000\n",
            "Epoch 61/150\n",
            "85/85 [==============================] - 3s 37ms/step - loss: 188444995223552.0000 - val_loss: 172890620166144.0000\n",
            "Epoch 62/150\n",
            "85/85 [==============================] - 3s 37ms/step - loss: 187288357175296.0000 - val_loss: 172707278749696.0000\n",
            "Epoch 63/150\n",
            "85/85 [==============================] - 3s 37ms/step - loss: 189439984795648.0000 - val_loss: 172726220226560.0000\n",
            "Epoch 64/150\n",
            "85/85 [==============================] - 5s 60ms/step - loss: 188118527377408.0000 - val_loss: 172647048544256.0000\n",
            "Epoch 65/150\n",
            "85/85 [==============================] - 4s 51ms/step - loss: 188079033810944.0000 - val_loss: 172682431692800.0000\n",
            "Epoch 66/150\n",
            "85/85 [==============================] - 3s 37ms/step - loss: 188096498892800.0000 - val_loss: 172670352097280.0000\n",
            "Epoch 67/150\n",
            "85/85 [==============================] - 3s 37ms/step - loss: 188880061988864.0000 - val_loss: 172673556545536.0000\n",
            "Epoch 68/150\n",
            "85/85 [==============================] - 4s 46ms/step - loss: 187947232002048.0000 - val_loss: 172524994297856.0000\n",
            "Epoch 69/150\n",
            "85/85 [==============================] - 5s 64ms/step - loss: 189313367146496.0000 - val_loss: 172492530384896.0000\n",
            "Epoch 70/150\n",
            "85/85 [==============================] - 3s 37ms/step - loss: 187821369327616.0000 - val_loss: 172326620495872.0000\n",
            "Epoch 71/150\n",
            "85/85 [==============================] - 3s 37ms/step - loss: 187114629103616.0000 - val_loss: 172279593959424.0000\n",
            "Epoch 72/150\n",
            "85/85 [==============================] - 3s 37ms/step - loss: 188241554702336.0000 - val_loss: 172719391899648.0000\n",
            "Epoch 73/150\n",
            "85/85 [==============================] - 5s 59ms/step - loss: 187781942870016.0000 - val_loss: 172366147616768.0000\n",
            "Epoch 74/150\n",
            "85/85 [==============================] - 4s 51ms/step - loss: 188547353018368.0000 - val_loss: 172331620106240.0000\n",
            "Epoch 75/150\n",
            "85/85 [==============================] - 3s 37ms/step - loss: 188039305363456.0000 - val_loss: 172300179603456.0000\n",
            "Epoch 76/150\n",
            "85/85 [==============================] - 3s 37ms/step - loss: 188252342452224.0000 - val_loss: 172201428910080.0000\n",
            "Epoch 77/150\n",
            "85/85 [==============================] - 4s 43ms/step - loss: 188008418508800.0000 - val_loss: 172224229146624.0000\n",
            "Epoch 78/150\n",
            "85/85 [==============================] - 5s 64ms/step - loss: 187701546450944.0000 - val_loss: 172167304052736.0000\n",
            "Epoch 79/150\n",
            "85/85 [==============================] - 3s 39ms/step - loss: 187813920243712.0000 - val_loss: 172128599015424.0000\n",
            "Epoch 80/150\n",
            "85/85 [==============================] - 3s 37ms/step - loss: 188012528926720.0000 - val_loss: 172059023900672.0000\n",
            "Epoch 81/150\n",
            "85/85 [==============================] - 3s 37ms/step - loss: 188576780255232.0000 - val_loss: 172086806970368.0000\n",
            "Epoch 82/150\n",
            "85/85 [==============================] - 5s 57ms/step - loss: 186846948622336.0000 - val_loss: 172007685619712.0000\n",
            "Epoch 83/150\n",
            "85/85 [==============================] - 5s 54ms/step - loss: 187326642782208.0000 - val_loss: 171927456972800.0000\n",
            "Epoch 84/150\n",
            "85/85 [==============================] - 3s 38ms/step - loss: 186595860807680.0000 - val_loss: 171851087085568.0000\n",
            "Epoch 85/150\n",
            "85/85 [==============================] - 3s 37ms/step - loss: 187337078210560.0000 - val_loss: 171801174867968.0000\n",
            "Epoch 86/150\n",
            "85/85 [==============================] - 4s 43ms/step - loss: 188124114190336.0000 - val_loss: 171935124160512.0000\n",
            "Epoch 87/150\n",
            "85/85 [==============================] - 5s 64ms/step - loss: 187435443027968.0000 - val_loss: 171767972757504.0000\n",
            "Epoch 88/150\n",
            "85/85 [==============================] - 3s 40ms/step - loss: 187241481633792.0000 - val_loss: 171730391793664.0000\n",
            "Epoch 89/150\n",
            "85/85 [==============================] - 3s 37ms/step - loss: 187065622855680.0000 - val_loss: 171746128822272.0000\n",
            "Epoch 90/150\n",
            "85/85 [==============================] - 3s 37ms/step - loss: 187339980668928.0000 - val_loss: 171425885323264.0000\n",
            "Epoch 91/150\n",
            "85/85 [==============================] - 5s 56ms/step - loss: 187667119603712.0000 - val_loss: 171793994219520.0000\n",
            "Epoch 92/150\n",
            "85/85 [==============================] - 5s 54ms/step - loss: 187188515962880.0000 - val_loss: 171764499873792.0000\n",
            "Epoch 93/150\n",
            "85/85 [==============================] - 3s 37ms/step - loss: 186679931437056.0000 - val_loss: 171707188903936.0000\n",
            "Epoch 94/150\n",
            "85/85 [==============================] - 3s 37ms/step - loss: 187906496921600.0000 - val_loss: 171593422602240.0000\n",
            "Epoch 95/150\n",
            "85/85 [==============================] - 3s 41ms/step - loss: 186489191268352.0000 - val_loss: 171447897030656.0000\n",
            "Epoch 96/150\n",
            "85/85 [==============================] - 5s 64ms/step - loss: 188169261678592.0000 - val_loss: 171611592327168.0000\n",
            "Epoch 97/150\n",
            "85/85 [==============================] - 4s 42ms/step - loss: 186548028964864.0000 - val_loss: 171395216572416.0000\n",
            "Epoch 98/150\n",
            "85/85 [==============================] - 3s 37ms/step - loss: 187390161321984.0000 - val_loss: 171465882206208.0000\n",
            "Epoch 99/150\n",
            "85/85 [==============================] - 3s 37ms/step - loss: 186767592390656.0000 - val_loss: 171438132690944.0000\n",
            "Epoch 100/150\n",
            "85/85 [==============================] - 7s 83ms/step - loss: 186902447652864.0000 - val_loss: 171369983639552.0000\n",
            "Epoch 101/150\n",
            "85/85 [==============================] - 5s 57ms/step - loss: 187037185474560.0000 - val_loss: 171259019132928.0000\n",
            "Epoch 102/150\n",
            "85/85 [==============================] - 3s 37ms/step - loss: 187017203810304.0000 - val_loss: 171294637162496.0000\n",
            "Epoch 103/150\n",
            "85/85 [==============================] - 3s 37ms/step - loss: 187816369717248.0000 - val_loss: 171166861885440.0000\n",
            "Epoch 104/150\n",
            "85/85 [==============================] - 3s 38ms/step - loss: 187305302163456.0000 - val_loss: 171150856421376.0000\n",
            "Epoch 105/150\n",
            "85/85 [==============================] - 5s 64ms/step - loss: 186619197915136.0000 - val_loss: 171123643777024.0000\n",
            "Epoch 106/150\n",
            "85/85 [==============================] - 4s 46ms/step - loss: 186539137040384.0000 - val_loss: 171007797100544.0000\n",
            "Epoch 107/150\n",
            "85/85 [==============================] - 3s 38ms/step - loss: 187290554990592.0000 - val_loss: 171086046035968.0000\n",
            "Epoch 108/150\n",
            "85/85 [==============================] - 3s 37ms/step - loss: 186358161211392.0000 - val_loss: 171100558327808.0000\n",
            "Epoch 109/150\n",
            "85/85 [==============================] - 4s 52ms/step - loss: 188141394722816.0000 - val_loss: 171126277799936.0000\n",
            "Epoch 110/150\n",
            "85/85 [==============================] - 5s 59ms/step - loss: 186141466689536.0000 - val_loss: 170934363226112.0000\n",
            "Epoch 111/150\n",
            "85/85 [==============================] - 3s 37ms/step - loss: 187141992742912.0000 - val_loss: 171019255939072.0000\n",
            "Epoch 112/150\n",
            "85/85 [==============================] - 3s 37ms/step - loss: 186792523333632.0000 - val_loss: 171059739361280.0000\n",
            "Epoch 113/150\n",
            "85/85 [==============================] - 3s 41ms/step - loss: 186690954067968.0000 - val_loss: 171014944194560.0000\n",
            "Epoch 114/150\n",
            "85/85 [==============================] - 6s 65ms/step - loss: 186498922053632.0000 - val_loss: 171082606706688.0000\n",
            "Epoch 115/150\n",
            "85/85 [==============================] - 4s 43ms/step - loss: 187386621329408.0000 - val_loss: 170863898918912.0000\n",
            "Epoch 116/150\n",
            "85/85 [==============================] - 3s 37ms/step - loss: 186186547068928.0000 - val_loss: 170781573120000.0000\n",
            "Epoch 117/150\n",
            "85/85 [==============================] - 3s 37ms/step - loss: 185584127574016.0000 - val_loss: 170891530993664.0000\n",
            "Epoch 118/150\n",
            "85/85 [==============================] - 5s 54ms/step - loss: 186700684853248.0000 - val_loss: 170849084637184.0000\n",
            "Epoch 119/150\n",
            "85/85 [==============================] - 5s 58ms/step - loss: 185966044119040.0000 - val_loss: 170658747121664.0000\n",
            "Epoch 120/150\n",
            "85/85 [==============================] - 3s 37ms/step - loss: 186735598239744.0000 - val_loss: 170668377243648.0000\n",
            "Epoch 121/150\n",
            "85/85 [==============================] - 3s 37ms/step - loss: 186882751201280.0000 - val_loss: 170691647242240.0000\n",
            "Epoch 122/150\n",
            "85/85 [==============================] - 3s 40ms/step - loss: 186087309836288.0000 - val_loss: 170578786910208.0000\n",
            "Epoch 123/150\n",
            "85/85 [==============================] - 5s 64ms/step - loss: 185598623088640.0000 - val_loss: 170704330817536.0000\n",
            "Epoch 124/150\n",
            "85/85 [==============================] - 4s 44ms/step - loss: 185808891936768.0000 - val_loss: 170551389716480.0000\n",
            "Epoch 125/150\n",
            "85/85 [==============================] - 3s 38ms/step - loss: 186636981764096.0000 - val_loss: 170536474771456.0000\n",
            "Epoch 126/150\n",
            "85/85 [==============================] - 3s 37ms/step - loss: 187470188642304.0000 - val_loss: 170655542673408.0000\n",
            "Epoch 127/150\n",
            "85/85 [==============================] - 5s 53ms/step - loss: 186847888146432.0000 - val_loss: 170414756069376.0000\n",
            "Epoch 128/150\n",
            "85/85 [==============================] - 5s 58ms/step - loss: 185138944147456.0000 - val_loss: 170312079507456.0000\n",
            "Epoch 129/150\n",
            "85/85 [==============================] - 3s 37ms/step - loss: 185384059273216.0000 - val_loss: 170397441982464.0000\n",
            "Epoch 130/150\n",
            "85/85 [==============================] - 3s 38ms/step - loss: 186379686379520.0000 - val_loss: 170415863365632.0000\n",
            "Epoch 131/150\n",
            "85/85 [==============================] - 3s 39ms/step - loss: 186576499900416.0000 - val_loss: 170339879354368.0000\n",
            "Epoch 132/150\n",
            "85/85 [==============================] - 5s 64ms/step - loss: 186052044128256.0000 - val_loss: 170398331174912.0000\n",
            "Epoch 133/150\n",
            "85/85 [==============================] - 4s 45ms/step - loss: 185609125625856.0000 - val_loss: 170286662025216.0000\n",
            "Epoch 134/150\n",
            "85/85 [==============================] - 3s 37ms/step - loss: 186350091370496.0000 - val_loss: 170229619490816.0000\n",
            "Epoch 135/150\n",
            "85/85 [==============================] - 3s 38ms/step - loss: 184949646819328.0000 - val_loss: 170201953861632.0000\n",
            "Epoch 136/150\n",
            "85/85 [==============================] - 4s 52ms/step - loss: 185350739722240.0000 - val_loss: 170230491906048.0000\n",
            "Epoch 137/150\n",
            "85/85 [==============================] - 5s 59ms/step - loss: 186960329048064.0000 - val_loss: 170337161445376.0000\n",
            "Epoch 138/150\n",
            "85/85 [==============================] - 3s 38ms/step - loss: 185258230153216.0000 - val_loss: 170248309309440.0000\n",
            "Epoch 139/150\n",
            "85/85 [==============================] - 3s 38ms/step - loss: 186512947806208.0000 - val_loss: 170175949176832.0000\n",
            "Epoch 140/150\n",
            "85/85 [==============================] - 3s 40ms/step - loss: 184533219540992.0000 - val_loss: 169933333856256.0000\n",
            "Epoch 141/150\n",
            "85/85 [==============================] - 6s 65ms/step - loss: 185876118241280.0000 - val_loss: 170021749784576.0000\n",
            "Epoch 142/150\n",
            "85/85 [==============================] - 4s 43ms/step - loss: 185721683968000.0000 - val_loss: 169993060745216.0000\n",
            "Epoch 143/150\n",
            "85/85 [==============================] - 3s 37ms/step - loss: 186032129572864.0000 - val_loss: 169983598395392.0000\n",
            "Epoch 144/150\n",
            "85/85 [==============================] - 3s 37ms/step - loss: 184399119253504.0000 - val_loss: 169944826249216.0000\n",
            "Epoch 145/150\n",
            "85/85 [==============================] - 5s 53ms/step - loss: 185357182173184.0000 - val_loss: 170019249979392.0000\n",
            "Epoch 146/150\n",
            "85/85 [==============================] - 5s 58ms/step - loss: 184768771653632.0000 - val_loss: 169997624147968.0000\n",
            "Epoch 147/150\n",
            "85/85 [==============================] - 3s 37ms/step - loss: 184847574237184.0000 - val_loss: 170007321378816.0000\n",
            "Epoch 148/150\n",
            "85/85 [==============================] - 3s 38ms/step - loss: 185756194701312.0000 - val_loss: 169876593311744.0000\n",
            "Epoch 149/150\n",
            "85/85 [==============================] - 3s 40ms/step - loss: 185526564945920.0000 - val_loss: 169947510603776.0000\n",
            "Epoch 150/150\n",
            "85/85 [==============================] - 5s 64ms/step - loss: 185113895763968.0000 - val_loss: 169932847316992.0000\n",
            "2431/2431 [==============================] - 6s 2ms/step\n"
          ]
        }
      ],
      "source": [
        "features_used = X_train.shape[1]\n",
        "\n",
        "# Build the neural network\n",
        "os.environ[\"KERAS_BACKEND\"] = \"torch\"\n",
        "used.append(\"Keras With Torch Backend\")\n",
        "model = Sequential()\n",
        "model.add(Dense(250, input_dim=X_train.shape[1], activation='relu', kernel_regularizer=l2(0.01)))\n",
        "model.add(Dropout(0.3))  # You can use either dropout or early stopping\n",
        "model.add(Dense(170, activation='relu', kernel_regularizer=l2(0.01)))\n",
        "model.add(Dropout(0.3))\n",
        "model.add(Dense(100, activation='relu', kernel_regularizer=l2(0.01)))\n",
        "model.add(Dropout(0.3))\n",
        "model.add(Dense(50, activation='relu', kernel_regularizer=l2(0.01)))\n",
        "model.add(Dropout(0.3))\n",
        "model.add(Dense(1, activation='linear'))  # Output layer with linear activation for regression\n",
        "\n",
        "used.append(\"4 Hidden Layers: Hidden Layer 1 with 360 neurons selu activation L2 regularization, \\n\" +\n",
        "            \"Hidden Layer 2 with 280 neurons selu activation L2 regularization, \\n\" +\n",
        "            \"Hidden Layer 3 with 190 neurons selu activation L2 regularization, \\n\" +\n",
        "            \"Hidden Layer 4 with 130 neurons selu activation L2 regularization\")\n",
        "used.append(\"Output linear\")\n",
        "\n",
        "# optimizerUsing = Adam(lr=0.05)#, beta_1=0.9, beta_2=0.999, epsilon=1e-07, amsgrad=False)\n",
        "# used.append(\"Optimizer: Adam(lr=0.05)\")\n",
        "# optimizerUsing = RMSprop(lr=0.001)\n",
        "# used.append(\"Optimizer: RMSprop(lr=0.001)\")\n",
        "# optimizerUsing = Adagrad(lr=0.01)\n",
        "# used.append(\"Optimizer: Adagrad(lr=0.01)\")\n",
        "# optimizerUsing = Adadelta(lr=1.0, rho=0.95)\n",
        "# used.append(\"Optimizer: Adadelta(lr=1.0, rho=0.95)\")\n",
        "# optimizerUsing = Nadam(lr=0.002, beta_1=0.9, beta_2=0.999)\n",
        "# used.append(\"Optimizer: Nadam(lr=0.002, beta_1=0.9, beta_2=0.999)\")\n",
        "optimizerUsing = Adam(learning_rate=0.01)#, learning_rate_power=-0.5, initial_accumulator_value=0.1, l1_regularization_strength=0.01, l2_regularization_strength=0.01)\n",
        "used.append(\"Optimizer: Ftrl(learning_rate=0.4)\")\n",
        "\n",
        "# Compile the model\n",
        "model.compile(loss='mean_squared_error', optimizer=optimizerUsing)\n",
        "used.append(\"Loss Calculation: Mean Squared Error\")\n",
        "\n",
        "# Define early stopping\n",
        "early_stopping = EarlyStopping(monitor='val_loss', patience=10, restore_best_weights=True)\n",
        "used.append(\"EarlyStopping(monitor='val_loss', patience=10, restore_best_weights=True)\")\n",
        "\n",
        "# Train the model\n",
        "model.fit(X_train, y_train, epochs=150, batch_size=1500, validation_data=(X_val, y_val), callbacks=[early_stopping])\n",
        "used.append(\"batch_size=1800, epochs=100, early_stopping (patience 10), dropout=0.3, L2 Regularization\")\n",
        "\n",
        "# Train the model\n",
        "# model.fit(X_train, y_train, epochs=100, batch_size=1800, validation_data=(X_val, y_val))#, callbacks=[early_stopping])\n",
        "# used.append(\"batch_size=1800, epochs=100, dropout=0.3, L2 Regularization\")\n",
        "\n",
        "# used.append(\"batch_size=1800, epochs=100, early_stopping\")\n",
        "\n",
        "# Make predictions\n",
        "predictions = model.predict(X_test)"
      ]
    },
    {
      "cell_type": "markdown",
      "metadata": {
        "id": "nLQRSDwmkZWG"
      },
      "source": [
        "<h1>With Skilearn<h1>"
      ]
    },
    {
      "cell_type": "code",
      "execution_count": 17,
      "metadata": {
        "id": "-BjPXCQfkZWG"
      },
      "outputs": [],
      "source": [
        "# features_used = X_train.shape[1]\n",
        "\n",
        "# # # optimizerUsing = SGD(learning_rate=0.01, momentum=0.9)\n",
        "\n",
        "# # # optimizerUsing = Adam(lr=0.001, beta_1=0.9, beta_2=0.999, epsilon=1e-07, amsgrad=False)\n",
        "# # optimizerUsing = Adam(lr=0.001)#, epsilon=1e-07)\n",
        "\n",
        "# l2Regu = 0.001\n",
        "\n",
        "# # model = MLPRegressor(hidden_layer_sizes=(300,210,150,60), activation='relu', solver='adam', alpha = l2Regu, shuffle=False, max_iter=100,\n",
        "# #                      batch_size=1800, early_stopping=True, verbose=True, random_state=42)\n",
        "\n",
        "# # {'logistic', 'tanh', 'identity', 'relu'}. Got 'selu' instead.\n",
        "\n",
        "# model = MLPRegressor(hidden_layer_sizes=(300,210,150,60), activation='relu', solver='adam', alpha = l2Regu, shuffle=False, max_iter=100,\n",
        "#                      batch_size=1800, early_stopping=True, verbose=True, random_state=42)\n",
        "\n",
        "# used.append(\"MLPRegressor\")\n",
        "# used.append(\"4 Hidden Layers: Hidden Layer 1 with 300 neurons relu activation L2 regularization, \\n\" +\n",
        "#             \"Hidden Layer 2 with 210 neurons relu activation L2 regularization, \\n\" +\n",
        "#             \"Hidden Layer 3 with 150 neurons relu activation L2 regularization, \\n\" +\n",
        "#             \"Hidden Layer 4 with 60 neurons relu activation L2 regularization\")\n",
        "# used.append(\"Optimizer: adam\")\n",
        "# used.append(\"batch_size=1800, epochs=100, early_stopping\")\n",
        "\n",
        "# # Train the model\n",
        "# model.fit(X_train, y_train)\n",
        "\n",
        "# # Make predictions\n",
        "# predictions = model.predict(X_test)"
      ]
    },
    {
      "cell_type": "code",
      "execution_count": 18,
      "metadata": {
        "id": "LkT28B8BkZWH"
      },
      "outputs": [],
      "source": [
        "# Create a DataFrame with the results\n",
        "submission_df = pd.DataFrame({'row ID': test_data['row ID'], 'price_doc': predictions.flatten()})\n",
        "\n",
        "# Save the results to a CSV file\n",
        "submission_df.to_csv('Day11.9.csv', index=False)"
      ]
    },
    {
      "cell_type": "code",
      "execution_count": 19,
      "metadata": {
        "colab": {
          "base_uri": "https://localhost:8080/"
        },
        "id": "0B_y9zRBkZWH",
        "outputId": "90d90234-cf30-4533-ff3c-940d7e6c6cdf"
      },
      "outputs": [
        {
          "output_type": "stream",
          "name": "stdout",
          "text": [
            "Features Used = 270\n",
            "\n",
            "Removed sub_area\n",
            "Label Encoding\n",
            "Converted All Columns To float32\n",
            "log Normalization\n",
            "StandardScaler\n",
            "Keras With Torch Backend\n",
            "4 Hidden Layers: Hidden Layer 1 with 360 neurons selu activation L2 regularization, \n",
            "Hidden Layer 2 with 280 neurons selu activation L2 regularization, \n",
            "Hidden Layer 3 with 190 neurons selu activation L2 regularization, \n",
            "Hidden Layer 4 with 130 neurons selu activation L2 regularization\n",
            "Output linear\n",
            "Optimizer: Ftrl(learning_rate=0.4)\n",
            "Loss Calculation: Mean Squared Error\n",
            "EarlyStopping(monitor='val_loss', patience=10, restore_best_weights=True)\n",
            "batch_size=1800, epochs=100, early_stopping (patience 10), dropout=0.3, L2 Regularization\n"
          ]
        }
      ],
      "source": [
        "print(\"Features Used = \" + str(features_used) + \"\\n\")\n",
        "for i in used:\n",
        "    print(i)"
      ]
    }
  ],
  "metadata": {
    "kernelspec": {
      "display_name": "Python 3",
      "language": "python",
      "name": "python3"
    },
    "language_info": {
      "codemirror_mode": {
        "name": "ipython",
        "version": 3
      },
      "file_extension": ".py",
      "mimetype": "text/x-python",
      "name": "python",
      "nbconvert_exporter": "python",
      "pygments_lexer": "ipython3",
      "version": "3.11.4"
    },
    "colab": {
      "provenance": []
    }
  },
  "nbformat": 4,
  "nbformat_minor": 0
}