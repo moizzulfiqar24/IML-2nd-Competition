{
  "cells": [
    {
      "cell_type": "code",
      "execution_count": 1,
      "metadata": {
        "id": "ztCvc9kJjKAi"
      },
      "outputs": [],
      "source": [
        "import numpy as np\n",
        "import pandas as pd\n",
        "from sklearn.linear_model import Lasso\n",
        "from sklearn.metrics import mean_squared_error, r2_score\n",
        "from sklearn.model_selection import train_test_split\n",
        "from sklearn.feature_selection import SequentialFeatureSelector\n",
        "from sklearn.preprocessing import MinMaxScaler\n",
        "from sklearn.preprocessing import LabelEncoder\n",
        "from scipy.stats import skew\n",
        "from sklearn.decomposition import PCA\n",
        "import statsmodels.api as sm\n",
        "from sklearn.preprocessing import PolynomialFeatures\n",
        "from matplotlib import pyplot as plt\n",
        "from sklearn.preprocessing import RobustScaler"
      ]
    },
    {
      "cell_type": "code",
      "source": [
        "from google.colab import drive\n",
        "drive.mount('/content/gdrive')"
      ],
      "metadata": {
        "colab": {
          "base_uri": "https://localhost:8080/"
        },
        "id": "ooU9qi-ojNAI",
        "outputId": "8d601f3c-d07e-4f3a-d8ea-37fb17a98fdb"
      },
      "execution_count": 2,
      "outputs": [
        {
          "output_type": "stream",
          "name": "stdout",
          "text": [
            "Drive already mounted at /content/gdrive; to attempt to forcibly remount, call drive.mount(\"/content/gdrive\", force_remount=True).\n"
          ]
        }
      ]
    },
    {
      "cell_type": "code",
      "execution_count": 3,
      "metadata": {
        "id": "EJ60SjXyjKAl"
      },
      "outputs": [],
      "source": [
        "train = pd.read_csv('/content/gdrive/MyDrive/train.csv')\n",
        "test = pd.read_csv('/content/gdrive/MyDrive/test.csv')\n",
        "testOriginal = pd.read_csv('/content/gdrive/MyDrive/test.csv')"
      ]
    },
    {
      "cell_type": "code",
      "execution_count": 4,
      "metadata": {
        "colab": {
          "base_uri": "https://localhost:8080/"
        },
        "id": "QiODJNNwjKAm",
        "outputId": "e688de5a-a1aa-4b8d-e66d-7c8ff45b03cf"
      },
      "outputs": [
        {
          "output_type": "execute_result",
          "data": {
            "text/plain": [
              "(181507, 272)"
            ]
          },
          "metadata": {},
          "execution_count": 4
        }
      ],
      "source": [
        "train.shape"
      ]
    },
    {
      "cell_type": "code",
      "execution_count": 5,
      "metadata": {
        "id": "Wjvf4zGDjKAo"
      },
      "outputs": [],
      "source": [
        "test.drop('row ID', axis=1, inplace=True)"
      ]
    },
    {
      "cell_type": "markdown",
      "metadata": {
        "id": "Qb6ES3CqjKAp"
      },
      "source": [
        "<h3>SubArea Removal<h3>"
      ]
    },
    {
      "cell_type": "code",
      "execution_count": 6,
      "metadata": {
        "id": "RJlcDuHFjKAr"
      },
      "outputs": [],
      "source": [
        "test.drop('sub_area', axis=1, inplace=True)\n",
        "train.drop('sub_area', axis=1, inplace=True)"
      ]
    },
    {
      "cell_type": "markdown",
      "metadata": {
        "id": "lgDhKBXsjKAr"
      },
      "source": [
        "<h1>Categorical To Numerical<h1>"
      ]
    },
    {
      "cell_type": "markdown",
      "metadata": {
        "id": "wnWHSpI5jKAs"
      },
      "source": [
        "<h3>OneHot<h3>"
      ]
    },
    {
      "cell_type": "code",
      "execution_count": 7,
      "metadata": {
        "id": "QeE33LlGjKAt"
      },
      "outputs": [],
      "source": [
        "train = pd.get_dummies(train)\n",
        "test = pd.get_dummies(test)"
      ]
    },
    {
      "cell_type": "markdown",
      "metadata": {
        "id": "DzdNO7g7jKAt"
      },
      "source": [
        "<h1>Working<h1>"
      ]
    },
    {
      "cell_type": "code",
      "execution_count": 8,
      "metadata": {
        "id": "W3YjPDi_jKAu"
      },
      "outputs": [],
      "source": [
        "X = train.loc[:, train.columns != 'price_doc']\n",
        "y = train[['price_doc']]\n",
        "\n",
        "# scaler = RobustScaler()\n",
        "# X = scaler.fit_transform(X)\n",
        "# test = scaler.fit_transform(test)"
      ]
    },
    {
      "cell_type": "code",
      "execution_count": 9,
      "metadata": {
        "colab": {
          "base_uri": "https://localhost:8080/"
        },
        "id": "Cks8JlEsjKAv",
        "outputId": "1abff37d-89d4-4083-bb1a-3f8853148869"
      },
      "outputs": [
        {
          "output_type": "execute_result",
          "data": {
            "text/plain": [
              "(181507, 287)"
            ]
          },
          "metadata": {},
          "execution_count": 9
        }
      ],
      "source": [
        "X.shape"
      ]
    },
    {
      "cell_type": "code",
      "execution_count": 10,
      "metadata": {
        "colab": {
          "base_uri": "https://localhost:8080/"
        },
        "id": "zUHUMUC9jKAx",
        "outputId": "b5d2259c-084a-4ca1-d718-88728ddcbd31"
      },
      "outputs": [
        {
          "output_type": "execute_result",
          "data": {
            "text/plain": [
              "(77789, 287)"
            ]
          },
          "metadata": {},
          "execution_count": 10
        }
      ],
      "source": [
        "test.shape"
      ]
    },
    {
      "cell_type": "markdown",
      "metadata": {
        "id": "DfUw44D1jKAz"
      },
      "source": [
        "<h1>P-Value Selection<h1>"
      ]
    },
    {
      "cell_type": "code",
      "execution_count": 11,
      "metadata": {
        "colab": {
          "base_uri": "https://localhost:8080/"
        },
        "id": "tH8NDtaPjKA0",
        "outputId": "2240b463-5d57-459a-f4fa-a4470ec0934c"
      },
      "outputs": [
        {
          "output_type": "stream",
          "name": "stdout",
          "text": [
            "Selected Features:\n",
            "Index(['full_sq', 'life_sq', 'floor', 'children_preschool',\n",
            "       'preschool_education_centers_raion',\n",
            "       'school_education_centers_top_20_raion', 'healthcare_centers_raion',\n",
            "       'university_top_20_raion', 'male_f', '0_6_female',\n",
            "       'build_count_monolith', 'raion_build_count_with_builddate_info',\n",
            "       'build_count_1971-1995', 'build_count_after_1995', 'kindergarten_km',\n",
            "       'green_zone_km', 'industrial_km', 'water_treatment_km', 'water_km',\n",
            "       'mkad_km', 'sadovoe_km', 'big_road2_km', 'nuclear_reactor_km',\n",
            "       'swim_pool_km', 'basketball_km', 'church_synagogue_km', 'catering_km',\n",
            "       'green_part_500', 'prom_part_500', 'trc_sqm_500',\n",
            "       'cafe_count_500_price_1000', 'cafe_count_500_price_1500',\n",
            "       'cafe_count_500_price_4000', 'cafe_count_500_price_high',\n",
            "       'mosque_count_500', 'leisure_count_500', 'market_count_500',\n",
            "       'green_part_1000', 'prom_part_1000', 'office_count_1000',\n",
            "       'office_sqm_1000', 'trc_count_1000', 'trc_sqm_1000',\n",
            "       'cafe_count_1000_price_1500', 'cafe_count_1000_price_high',\n",
            "       'big_church_count_1000', 'mosque_count_1000', 'leisure_count_1000',\n",
            "       'market_count_1000', 'green_part_1500', 'trc_count_1500',\n",
            "       'church_count_1500', 'mosque_count_1500', 'leisure_count_1500',\n",
            "       'green_part_2000', 'trc_sqm_2000', 'cafe_sum_2000_max_price_avg',\n",
            "       'cafe_count_2000_price_1500', 'cafe_count_2000_price_4000',\n",
            "       'cafe_count_2000_price_high', 'mosque_count_2000', 'sport_count_2000',\n",
            "       'mosque_count_3000', 'market_count_5000', 'product_type_Investment',\n",
            "       'product_type_OwnerOccupier', 'culture_objects_top_25_no',\n",
            "       'culture_objects_top_25_yes', 'incineration_raion_no',\n",
            "       'incineration_raion_yes', 'oil_chemistry_raion_no',\n",
            "       'oil_chemistry_raion_yes', 'radiation_raion_no',\n",
            "       'railroad_terminal_raion_yes', 'big_market_raion_no',\n",
            "       'big_market_raion_yes', 'nuclear_reactor_raion_no',\n",
            "       'nuclear_reactor_raion_yes', 'water_1line_no', 'water_1line_yes',\n",
            "       'big_road1_1line_no', 'big_road1_1line_yes', 'railroad_1line_yes',\n",
            "       'ecology_excellent', 'ecology_good', 'ecology_no data',\n",
            "       'ecology_satisfactory'],\n",
            "      dtype='object')\n",
            "87\n"
          ]
        }
      ],
      "source": [
        "# # Convert scaled_df1 to a DataFrame without specifying columns\n",
        "# scaled_df1_df = pd.DataFrame(scaled_df1)\n",
        "\n",
        "X_p = X.astype(float)\n",
        "\n",
        "# Add a constant term to the feature matrix\n",
        "X_with_const = sm.add_constant(X_p)\n",
        "\n",
        "# Fit a linear regression model\n",
        "model = sm.OLS(y, X_with_const).fit()\n",
        "\n",
        "# Get p-values for each feature\n",
        "p_values = model.pvalues[1:]  # Exclude the constant term\n",
        "\n",
        "# Set your desired threshold for p-value\n",
        "threshold = 0.00001\n",
        "\n",
        "# Filter features based on p-value\n",
        "selected_features = p_values[p_values < threshold].index\n",
        "\n",
        "# Display selected features\n",
        "print(\"Selected Features:\")\n",
        "print(selected_features)\n",
        "print(len(selected_features))\n",
        "\n",
        "# Select columns in the DataFrame\n",
        "X2 = X[selected_features]\n",
        "test2 = test[selected_features]\n",
        "\n",
        "\n",
        "pca = PCA(n_components=10)\n",
        "principalComponents = pca.fit_transform(X2)\n",
        "X2 = pd.DataFrame(data = principalComponents)\n",
        "\n",
        "pca2 = PCA(n_components=10)\n",
        "principalComponents = pca2.fit_transform(test2)\n",
        "test2 = pd.DataFrame(data = principalComponents)\n",
        "\n",
        "# X = X.astype(float)\n",
        "# X = sm.add_constant(X)\n",
        "# mod = sm.OLS(y, X)\n",
        "# res = mod.fit()\n",
        "# pvalues = res.pvalues\n",
        "# columns = pvalues[pvalues<0.05].index\n",
        "# print(columns)\n",
        "# print(len(columns))\n",
        "\n",
        "# # Select columns in the DataFrame\n",
        "# X2 = X[columns]\n",
        "# test2 = test[columns]"
      ]
    },
    {
      "cell_type": "markdown",
      "metadata": {
        "id": "RiUlZ8Y-jKA1"
      },
      "source": [
        "<h1> Poly Interaction ONNNNNNNNN<h1>"
      ]
    },
    {
      "cell_type": "code",
      "execution_count": 12,
      "metadata": {
        "id": "iS3I4UhZjKA2"
      },
      "outputs": [],
      "source": [
        "poly = PolynomialFeatures(2, interaction_only=True)\n",
        "X3 = poly.fit_transform(X2)\n",
        "test3 = poly.fit_transform(test2)\n",
        "\n",
        "\n"
      ]
    },
    {
      "cell_type": "markdown",
      "metadata": {
        "id": "12fqFHNZjKA3"
      },
      "source": [
        "<h1>Applying Model<h1>"
      ]
    },
    {
      "cell_type": "code",
      "execution_count": 13,
      "metadata": {
        "colab": {
          "base_uri": "https://localhost:8080/"
        },
        "id": "A6d-IkGAjKA4",
        "outputId": "0d1dd86d-d4e5-4ea3-cb17-c7c48e7a916f"
      },
      "outputs": [
        {
          "output_type": "execute_result",
          "data": {
            "text/plain": [
              "(181507, 56)"
            ]
          },
          "metadata": {},
          "execution_count": 13
        }
      ],
      "source": [
        "X3.shape"
      ]
    },
    {
      "cell_type": "code",
      "execution_count": 14,
      "metadata": {
        "colab": {
          "base_uri": "https://localhost:8080/"
        },
        "id": "thZCGPV1jKA4",
        "outputId": "f609e138-a0a2-49a5-900f-cbdddc1cc822"
      },
      "outputs": [
        {
          "output_type": "execute_result",
          "data": {
            "text/plain": [
              "(77789, 56)"
            ]
          },
          "metadata": {},
          "execution_count": 14
        }
      ],
      "source": [
        "test3.shape"
      ]
    },
    {
      "cell_type": "code",
      "execution_count": 15,
      "metadata": {
        "colab": {
          "base_uri": "https://localhost:8080/"
        },
        "id": "F284sAldjKA5",
        "outputId": "e381c4dc-3144-48a5-d50f-6e81ab554c1e"
      },
      "outputs": [
        {
          "output_type": "stream",
          "name": "stdout",
          "text": [
            "Coefficients: [ 0.00000000e+00  2.04880399e+01  1.13633811e+01  1.27261659e+01\n",
            "  7.45317708e+00  8.45093196e+00  3.94049354e+02  1.31136058e+03\n",
            "  3.52040677e+03  9.21865880e+03  1.66576127e+03 -3.29070488e-06\n",
            " -1.42749262e-06 -1.24308514e-06  3.27088433e-06  8.90981576e-05\n",
            " -4.26973996e-04 -1.01192162e-03 -3.91513477e-03  1.98391964e-04\n",
            " -1.16818013e-06 -3.39522859e-06 -3.44364718e-06  2.05502938e-04\n",
            "  7.65124627e-05 -9.68707597e-04 -1.90007047e-03 -9.85217999e-04\n",
            " -6.57718370e-08 -1.07691015e-06  2.97189766e-05 -1.08142077e-04\n",
            " -5.56517452e-04 -2.52887970e-03  1.16301440e-03 -1.43178458e-05\n",
            " -8.50725604e-05 -3.33670022e-04 -8.13847789e-04 -1.90206969e-03\n",
            " -1.50890114e-04 -5.03432747e-04 -7.86699024e-04 -5.88970308e-04\n",
            " -2.25755480e-03  2.14332096e-03 -1.35823437e-01  1.08452721e-02\n",
            " -6.61536300e-02  5.62453819e-02 -2.21196683e-02 -1.30908527e-01\n",
            " -2.51099873e-02 -5.61119462e-01 -9.27728366e-02 -4.77807367e-01]\n",
            "Intercept: [14751285.29380646]\n"
          ]
        },
        {
          "output_type": "stream",
          "name": "stderr",
          "text": [
            "/usr/local/lib/python3.10/dist-packages/sklearn/linear_model/_coordinate_descent.py:631: ConvergenceWarning: Objective did not converge. You might want to increase the number of iterations, check the scale of the features or consider increasing regularisation. Duality gap: 1.732e+19, tolerance: 8.652e+15\n",
            "  model = cd_fast.enet_coordinate_descent(\n"
          ]
        }
      ],
      "source": [
        "# Create and train the Lasso regression model\n",
        "alpha_value = 0.5  # You can adjust the alpha parameter based on your needs\n",
        "lasso_reg = Lasso(alpha=alpha_value, random_state=42)\n",
        "lasso_reg.fit(X3, y)\n",
        "\n",
        "# Print the coefficients and intercept\n",
        "print(\"Coefficients:\", lasso_reg.coef_)\n",
        "print(\"Intercept:\", lasso_reg.intercept_)\n",
        "\n",
        "# Make predictions on the test data\n",
        "y_pred_lasso = lasso_reg.predict(test3)"
      ]
    },
    {
      "cell_type": "code",
      "execution_count": 16,
      "metadata": {
        "id": "kWELrPjxjKA6"
      },
      "outputs": [],
      "source": [
        "# Save the predictions to a CSV file\n",
        "result_df_lasso = pd.DataFrame({'row ID': testOriginal['row ID'], 'price_doc': y_pred_lasso.flatten()})\n",
        "result_df_lasso.to_csv('/content/gdrive/MyDrive/Day_6_Abdullah_Maqsood_24448_Submission_4.csv', index=False)\n"
      ]
    }
  ],
  "metadata": {
    "kernelspec": {
      "display_name": "Python 3",
      "name": "python3"
    },
    "language_info": {
      "codemirror_mode": {
        "name": "ipython",
        "version": 3
      },
      "file_extension": ".py",
      "mimetype": "text/x-python",
      "name": "python",
      "nbconvert_exporter": "python",
      "pygments_lexer": "ipython3",
      "version": "3.11.5"
    },
    "colab": {
      "provenance": [],
      "gpuType": "T4"
    },
    "accelerator": "GPU"
  },
  "nbformat": 4,
  "nbformat_minor": 0
}