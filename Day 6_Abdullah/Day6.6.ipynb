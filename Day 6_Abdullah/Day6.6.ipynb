{
  "cells": [
    {
      "cell_type": "code",
      "execution_count": 1,
      "metadata": {
        "id": "ztCvc9kJjKAi"
      },
      "outputs": [],
      "source": [
        "import numpy as np\n",
        "import pandas as pd\n",
        "from sklearn.linear_model import Lasso\n",
        "from sklearn.metrics import mean_squared_error, r2_score\n",
        "from sklearn.model_selection import train_test_split\n",
        "from sklearn.feature_selection import SequentialFeatureSelector\n",
        "from sklearn.preprocessing import MinMaxScaler\n",
        "from sklearn.preprocessing import LabelEncoder\n",
        "from scipy.stats import skew\n",
        "from sklearn.decomposition import PCA\n",
        "import statsmodels.api as sm\n",
        "from sklearn.preprocessing import PolynomialFeatures\n",
        "from matplotlib import pyplot as plt\n",
        "from sklearn.preprocessing import RobustScaler\n",
        "from sklearn.feature_selection import VarianceThreshold"
      ]
    },
    {
      "cell_type": "code",
      "source": [
        "from google.colab import drive\n",
        "drive.mount('/content/gdrive')"
      ],
      "metadata": {
        "colab": {
          "base_uri": "https://localhost:8080/"
        },
        "id": "ooU9qi-ojNAI",
        "outputId": "493995cc-fcc3-439d-bc3d-b2f554052398"
      },
      "execution_count": 2,
      "outputs": [
        {
          "output_type": "stream",
          "name": "stdout",
          "text": [
            "Mounted at /content/gdrive\n"
          ]
        }
      ]
    },
    {
      "cell_type": "code",
      "execution_count": 3,
      "metadata": {
        "id": "EJ60SjXyjKAl"
      },
      "outputs": [],
      "source": [
        "train = pd.read_csv('/content/gdrive/MyDrive/train.csv')\n",
        "test = pd.read_csv('/content/gdrive/MyDrive/test.csv')\n",
        "testOriginal = pd.read_csv('/content/gdrive/MyDrive/test.csv')"
      ]
    },
    {
      "cell_type": "code",
      "execution_count": 4,
      "metadata": {
        "colab": {
          "base_uri": "https://localhost:8080/"
        },
        "id": "QiODJNNwjKAm",
        "outputId": "b8c02090-11ef-4d50-8013-eae3c21ca38c"
      },
      "outputs": [
        {
          "output_type": "execute_result",
          "data": {
            "text/plain": [
              "(181507, 272)"
            ]
          },
          "metadata": {},
          "execution_count": 4
        }
      ],
      "source": [
        "train.shape"
      ]
    },
    {
      "cell_type": "code",
      "execution_count": 5,
      "metadata": {
        "id": "Wjvf4zGDjKAo"
      },
      "outputs": [],
      "source": [
        "test.drop('row ID', axis=1, inplace=True)"
      ]
    },
    {
      "cell_type": "markdown",
      "metadata": {
        "id": "Qb6ES3CqjKAp"
      },
      "source": [
        "<h3>SubArea Removal<h3>"
      ]
    },
    {
      "cell_type": "code",
      "execution_count": 6,
      "metadata": {
        "id": "RJlcDuHFjKAr"
      },
      "outputs": [],
      "source": [
        "test.drop('sub_area', axis=1, inplace=True)\n",
        "train.drop('sub_area', axis=1, inplace=True)"
      ]
    },
    {
      "cell_type": "markdown",
      "metadata": {
        "id": "lgDhKBXsjKAr"
      },
      "source": [
        "<h1>Categorical To Numerical<h1>"
      ]
    },
    {
      "cell_type": "markdown",
      "metadata": {
        "id": "wnWHSpI5jKAs"
      },
      "source": [
        "<h3>OneHot<h3>"
      ]
    },
    {
      "cell_type": "code",
      "execution_count": 7,
      "metadata": {
        "id": "QeE33LlGjKAt"
      },
      "outputs": [],
      "source": [
        "train = pd.get_dummies(train)\n",
        "test = pd.get_dummies(test)"
      ]
    },
    {
      "cell_type": "markdown",
      "metadata": {
        "id": "DzdNO7g7jKAt"
      },
      "source": [
        "<h1>Working<h1>"
      ]
    },
    {
      "cell_type": "code",
      "execution_count": 8,
      "metadata": {
        "id": "W3YjPDi_jKAu"
      },
      "outputs": [],
      "source": [
        "X = train.loc[:, train.columns != 'price_doc']\n",
        "y = train[['price_doc']]\n",
        "\n",
        "# scaler = RobustScaler()\n",
        "# X = scaler.fit_transform(X)\n",
        "# test = scaler.fit_transform(test)"
      ]
    },
    {
      "cell_type": "code",
      "execution_count": 9,
      "metadata": {
        "colab": {
          "base_uri": "https://localhost:8080/"
        },
        "id": "Cks8JlEsjKAv",
        "outputId": "05929d2e-fe44-4d47-a8c8-90a19d6509a1"
      },
      "outputs": [
        {
          "output_type": "execute_result",
          "data": {
            "text/plain": [
              "(181507, 287)"
            ]
          },
          "metadata": {},
          "execution_count": 9
        }
      ],
      "source": [
        "X.shape"
      ]
    },
    {
      "cell_type": "code",
      "execution_count": 10,
      "metadata": {
        "colab": {
          "base_uri": "https://localhost:8080/"
        },
        "id": "zUHUMUC9jKAx",
        "outputId": "0667d779-5a93-4d6d-e88a-272264f65cc8"
      },
      "outputs": [
        {
          "output_type": "execute_result",
          "data": {
            "text/plain": [
              "(77789, 287)"
            ]
          },
          "metadata": {},
          "execution_count": 10
        }
      ],
      "source": [
        "test.shape"
      ]
    },
    {
      "cell_type": "markdown",
      "metadata": {
        "id": "DfUw44D1jKAz"
      },
      "source": [
        "<h1>P-Value Selection<h1>"
      ]
    },
    {
      "cell_type": "code",
      "execution_count": 11,
      "metadata": {
        "colab": {
          "base_uri": "https://localhost:8080/"
        },
        "id": "tH8NDtaPjKA0",
        "outputId": "7b9f11e8-ff98-4f73-fce5-922d29b5a93a"
      },
      "outputs": [
        {
          "output_type": "execute_result",
          "data": {
            "text/plain": [
              "(77789, 47)"
            ]
          },
          "metadata": {},
          "execution_count": 11
        }
      ],
      "source": [
        "threshold_value = 200000\n",
        "variance_filter = VarianceThreshold(threshold=threshold_value)\n",
        "\n",
        "X2 = variance_filter.fit_transform(X)\n",
        "test2 = variance_filter.transform(test)\n",
        "\n",
        "X2.shape\n",
        "test2.shape"
      ]
    },
    {
      "cell_type": "markdown",
      "metadata": {
        "id": "RiUlZ8Y-jKA1"
      },
      "source": [
        "<h1> Poly Interaction ONNNNNNNNN<h1>"
      ]
    },
    {
      "cell_type": "code",
      "execution_count": 12,
      "metadata": {
        "id": "iS3I4UhZjKA2"
      },
      "outputs": [],
      "source": [
        "poly = PolynomialFeatures(2, interaction_only=True)\n",
        "X3 = poly.fit_transform(X2)\n",
        "test3 = poly.fit_transform(test2)\n",
        "\n",
        "\n"
      ]
    },
    {
      "cell_type": "markdown",
      "metadata": {
        "id": "12fqFHNZjKA3"
      },
      "source": [
        "<h1>Applying Model<h1>"
      ]
    },
    {
      "cell_type": "code",
      "execution_count": 13,
      "metadata": {
        "colab": {
          "base_uri": "https://localhost:8080/"
        },
        "id": "A6d-IkGAjKA4",
        "outputId": "c60d1b62-685b-4acc-9f2c-a23e3f4f1113"
      },
      "outputs": [
        {
          "output_type": "execute_result",
          "data": {
            "text/plain": [
              "(181507, 1129)"
            ]
          },
          "metadata": {},
          "execution_count": 13
        }
      ],
      "source": [
        "X3.shape"
      ]
    },
    {
      "cell_type": "code",
      "execution_count": 14,
      "metadata": {
        "colab": {
          "base_uri": "https://localhost:8080/"
        },
        "id": "thZCGPV1jKA4",
        "outputId": "996cb247-0b7e-404f-ceff-2123700fad8e"
      },
      "outputs": [
        {
          "output_type": "execute_result",
          "data": {
            "text/plain": [
              "(77789, 1129)"
            ]
          },
          "metadata": {},
          "execution_count": 14
        }
      ],
      "source": [
        "test3.shape"
      ]
    },
    {
      "cell_type": "code",
      "execution_count": 15,
      "metadata": {
        "colab": {
          "base_uri": "https://localhost:8080/"
        },
        "id": "F284sAldjKA5",
        "outputId": "c8b4ebfd-298b-4f0d-8acb-7649883bafcd"
      },
      "outputs": [
        {
          "output_type": "stream",
          "name": "stderr",
          "text": [
            "/usr/local/lib/python3.10/dist-packages/sklearn/linear_model/_coordinate_descent.py:631: ConvergenceWarning: Objective did not converge. You might want to increase the number of iterations, check the scale of the features or consider increasing regularisation. Duality gap: 1.547e+19, tolerance: 8.652e+15\n",
            "  model = cd_fast.enet_coordinate_descent(\n"
          ]
        },
        {
          "output_type": "stream",
          "name": "stdout",
          "text": [
            "Coefficients: [ 0.00000000e+00  2.79862296e+04  1.30433856e+03 ... -1.43291074e-08\n",
            " -6.58555918e-05 -2.51221880e-04]\n",
            "Intercept: [1607763.90025624]\n"
          ]
        }
      ],
      "source": [
        "# Create and train the Lasso regression model\n",
        "alpha_value = 0.5  # You can adjust the alpha parameter based on your needs\n",
        "lasso_reg = Lasso(alpha=alpha_value, random_state=42)\n",
        "lasso_reg.fit(X3, y)\n",
        "\n",
        "# Print the coefficients and intercept\n",
        "print(\"Coefficients:\", lasso_reg.coef_)\n",
        "print(\"Intercept:\", lasso_reg.intercept_)\n",
        "\n",
        "# Make predictions on the test data\n",
        "y_pred_lasso = lasso_reg.predict(test3)"
      ]
    },
    {
      "cell_type": "code",
      "execution_count": 16,
      "metadata": {
        "id": "kWELrPjxjKA6"
      },
      "outputs": [],
      "source": [
        "# Save the predictions to a CSV file\n",
        "result_df_lasso = pd.DataFrame({'row ID': testOriginal['row ID'], 'price_doc': y_pred_lasso.flatten()})\n",
        "result_df_lasso.to_csv('/content/gdrive/MyDrive/Day_6_Abdullah_Maqsood_24448_Submission_6.csv', index=False)\n"
      ]
    }
  ],
  "metadata": {
    "kernelspec": {
      "display_name": "Python 3",
      "name": "python3"
    },
    "language_info": {
      "codemirror_mode": {
        "name": "ipython",
        "version": 3
      },
      "file_extension": ".py",
      "mimetype": "text/x-python",
      "name": "python",
      "nbconvert_exporter": "python",
      "pygments_lexer": "ipython3",
      "version": "3.11.5"
    },
    "colab": {
      "provenance": [],
      "gpuType": "T4"
    }
  },
  "nbformat": 4,
  "nbformat_minor": 0
}