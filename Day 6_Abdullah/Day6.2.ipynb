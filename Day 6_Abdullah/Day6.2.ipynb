{
 "cells": [
  {
   "cell_type": "code",
   "execution_count": 1,
   "metadata": {},
   "outputs": [],
   "source": [
    "import numpy as np\n",
    "import pandas as pd\n",
    "from sklearn.linear_model import Lasso\n",
    "from sklearn.metrics import mean_squared_error, r2_score\n",
    "from sklearn.model_selection import train_test_split\n",
    "from sklearn.feature_selection import SequentialFeatureSelector\n",
    "from sklearn.preprocessing import MinMaxScaler\n",
    "from sklearn.preprocessing import LabelEncoder\n",
    "from scipy.stats import skew\n",
    "from sklearn.decomposition import PCA\n",
    "import statsmodels.api as sm\n",
    "from sklearn.preprocessing import PolynomialFeatures\n",
    "from matplotlib import pyplot as plt\n",
    "from sklearn.preprocessing import RobustScaler\n",
    "from sklearn.feature_selection import VarianceThreshold\n",
    "from sklearn.preprocessing import PowerTransformer"
   ]
  },
  {
   "cell_type": "code",
   "execution_count": 2,
   "metadata": {},
   "outputs": [],
   "source": [
    "train = pd.read_csv('../train.csv')\n",
    "test = pd.read_csv('../test.csv')\n",
    "testOriginal = pd.read_csv('../test.csv')"
   ]
  },
  {
   "cell_type": "code",
   "execution_count": 3,
   "metadata": {},
   "outputs": [
    {
     "data": {
      "text/plain": [
       "(181507, 272)"
      ]
     },
     "execution_count": 3,
     "metadata": {},
     "output_type": "execute_result"
    }
   ],
   "source": [
    "train.shape"
   ]
  },
  {
   "cell_type": "code",
   "execution_count": 4,
   "metadata": {},
   "outputs": [],
   "source": [
    "test.drop('row ID', axis=1, inplace=True)"
   ]
  },
  {
   "cell_type": "markdown",
   "metadata": {},
   "source": [
    "<h3>SubArea Removal<h3>"
   ]
  },
  {
   "cell_type": "code",
   "execution_count": 5,
   "metadata": {},
   "outputs": [],
   "source": [
    "test.drop('sub_area', axis=1, inplace=True)\n",
    "train.drop('sub_area', axis=1, inplace=True)"
   ]
  },
  {
   "cell_type": "markdown",
   "metadata": {},
   "source": [
    "<h1>Categorical To Numerical<h1>"
   ]
  },
  {
   "cell_type": "markdown",
   "metadata": {},
   "source": [
    "<h3>Label<h3>"
   ]
  },
  {
   "cell_type": "code",
   "execution_count": 6,
   "metadata": {},
   "outputs": [
    {
     "name": "stdout",
     "output_type": "stream",
     "text": [
      "Train: Categorical columns: ['product_type', 'culture_objects_top_25', 'thermal_power_plant_raion', 'incineration_raion', 'oil_chemistry_raion', 'radiation_raion', 'railroad_terminal_raion', 'big_market_raion', 'nuclear_reactor_raion', 'detention_facility_raion', 'water_1line', 'big_road1_1line', 'railroad_1line', 'ecology']\n",
      "Test: Categorical columns: ['product_type', 'culture_objects_top_25', 'thermal_power_plant_raion', 'incineration_raion', 'oil_chemistry_raion', 'radiation_raion', 'railroad_terminal_raion', 'big_market_raion', 'nuclear_reactor_raion', 'detention_facility_raion', 'water_1line', 'big_road1_1line', 'railroad_1line', 'ecology']\n"
     ]
    }
   ],
   "source": [
    "categorical_columns = train.select_dtypes(include=['object']).columns.tolist()\n",
    "print(\"Train: Categorical columns:\", categorical_columns)\n",
    "\n",
    "label_encoder = LabelEncoder()\n",
    "\n",
    "for column in categorical_columns:\n",
    "    train[column] = label_encoder.fit_transform(train[column])\n",
    "\n",
    "categorical_columns_test = test.select_dtypes(include=['object']).columns.tolist()\n",
    "print(\"Test: Categorical columns:\", categorical_columns_test)\n",
    "\n",
    "label_encoder = LabelEncoder()\n",
    "\n",
    "for column in categorical_columns_test:\n",
    "    test[column] = label_encoder.fit_transform(test[column])"
   ]
  },
  {
   "cell_type": "markdown",
   "metadata": {},
   "source": [
    "<h1>Working<h1>"
   ]
  },
  {
   "cell_type": "code",
   "execution_count": 7,
   "metadata": {},
   "outputs": [],
   "source": [
    "X = train.loc[:, train.columns != 'price_doc']\n",
    "y = train[['price_doc']]\n",
    "\n",
    "# scaler = RobustScaler()\n",
    "# X = scaler.fit_transform(X)\n",
    "# test = scaler.transform(test)  "
   ]
  },
  {
   "cell_type": "code",
   "execution_count": 8,
   "metadata": {},
   "outputs": [
    {
     "data": {
      "text/plain": [
       "(181507, 270)"
      ]
     },
     "execution_count": 8,
     "metadata": {},
     "output_type": "execute_result"
    }
   ],
   "source": [
    "X.shape"
   ]
  },
  {
   "cell_type": "code",
   "execution_count": 9,
   "metadata": {},
   "outputs": [
    {
     "data": {
      "text/plain": [
       "(77789, 270)"
      ]
     },
     "execution_count": 9,
     "metadata": {},
     "output_type": "execute_result"
    }
   ],
   "source": [
    "test.shape"
   ]
  },
  {
   "cell_type": "markdown",
   "metadata": {},
   "source": [
    "<h1>Forward Feature Selection<h1>"
   ]
  },
  {
   "cell_type": "code",
   "execution_count": 10,
   "metadata": {},
   "outputs": [],
   "source": [
    "# X2 = X[['full_sq', 'floor', 'build_count_monolith', 'industrial_km', 'trc_sqm_500',\n",
    "#  'mosque_count_500', 'leisure_count_500', 'office_sqm_1000',\n",
    "#  'cafe_count_1000_price_high', 'leisure_count_1000', 'power_transmission_line_km', \n",
    "#  'big_market_km', 'public_healthcare_km', 'workplaces_km']]\n",
    "# test2 = test[['full_sq', 'floor', 'build_count_monolith', 'industrial_km', 'trc_sqm_500',\n",
    "#  'mosque_count_500', 'leisure_count_500', 'office_sqm_1000',\n",
    "#  'cafe_count_1000_price_high', 'leisure_count_1000', 'power_transmission_line_km', \n",
    "#  'big_market_km', 'public_healthcare_km', 'workplaces_km']]"
   ]
  },
  {
   "cell_type": "markdown",
   "metadata": {},
   "source": [
    "<h1>Min_Max Scaling<h1>"
   ]
  },
  {
   "cell_type": "code",
   "execution_count": 11,
   "metadata": {},
   "outputs": [],
   "source": [
    "scaler = MinMaxScaler()\n",
    "X3 = scaler.fit_transform(X)\n",
    "test3 = scaler.transform(test)  "
   ]
  },
  {
   "cell_type": "markdown",
   "metadata": {},
   "source": [
    "<h1>Applying Model<h1>"
   ]
  },
  {
   "cell_type": "code",
   "execution_count": 12,
   "metadata": {},
   "outputs": [
    {
     "data": {
      "text/plain": [
       "(181507, 270)"
      ]
     },
     "execution_count": 12,
     "metadata": {},
     "output_type": "execute_result"
    }
   ],
   "source": [
    "X3.shape"
   ]
  },
  {
   "cell_type": "code",
   "execution_count": 13,
   "metadata": {},
   "outputs": [
    {
     "data": {
      "text/plain": [
       "(77789, 270)"
      ]
     },
     "execution_count": 13,
     "metadata": {},
     "output_type": "execute_result"
    }
   ],
   "source": [
    "test3.shape"
   ]
  },
  {
   "cell_type": "code",
   "execution_count": 14,
   "metadata": {},
   "outputs": [
    {
     "name": "stdout",
     "output_type": "stream",
     "text": [
      "Coefficients: [ 5261706.81988997  2273499.73408026  4889826.85498445   758078.77590329\n",
      "   150780.74789704   930379.26810195   524247.86861979    37069.45972179\n",
      "  1590380.10447075  1878657.71436849  -667396.56036118   444005.366901\n",
      "  2280099.34802421   981954.33431067  1105773.2312434    318800.25557638\n",
      "  -784268.75293863   907635.57465405   169618.57392386  -496105.81892762\n",
      "   713969.17554558    73142.46566963  1358520.4441526    992505.98381161\n",
      "  -241758.52590406   582638.23618891   708028.93303642  1021168.64416524\n",
      "  -170525.77453971   -32369.66486485  1548840.25961396   674262.88308255\n",
      "   237330.86922899  -162720.77575597  1226907.70809323   315135.21920984\n",
      "  -663268.79346694  -545849.84600194   491025.54770291  1065665.87868673\n",
      "  1078668.78905294    18524.59712104   208608.20577463  1301873.06303554\n",
      "   -96047.80641703    29543.38781102  -437814.04981601   547060.25638162\n",
      "   455611.55751666  -447802.15757405   562811.06009843  -855473.13340298\n",
      "   983203.88088181  -240206.90493384  -723715.74974612  -510449.19118407\n",
      "  -932374.55246817  -625610.99431146   675713.49937376   747764.23141248\n",
      "  -256247.78648977  2683038.69438011 -1084387.10565755   655783.84857344\n",
      "   553923.64424455   716023.04065665 -2578403.71696363  -261321.00884196\n",
      "   359743.81490295   119701.50035878 -2152623.44644864  1342741.31297727\n",
      "   343224.54912629   203985.89429414   891123.99452916 -1008602.71934675\n",
      "  -236122.16250944  1368302.43418766  -636539.7967974    944401.1640026\n",
      "  2332669.10873068  3944159.59996984 -1039179.02337235  1250075.98782939\n",
      "   272636.67241995   309864.27623781  -461690.64690389  -535563.31705842\n",
      "   504963.43700691   973962.25015266  -268233.77068803   627270.03599154\n",
      "  1212958.89961128  1555026.91086532   838307.96202306 -2145994.70995086\n",
      " -1111924.63588064  1429414.1633655    115145.1172571    804934.83728385\n",
      "   -78116.75872451   436330.49867106  1012875.79355577   894815.34808802\n",
      "  -343852.48786488   410818.63185732   507536.89228645 -1234238.23936974\n",
      "   901436.16884229   420643.03072195  -286154.38182937   442062.53157317\n",
      " -1859406.33041811   110337.86056373  -154532.09995692   855940.547414\n",
      "  -448997.61027413  -721525.46084629   181762.85334916   854741.50375701\n",
      " -1247521.27890653  -433607.32589385   397550.65440798  1478459.82535431\n",
      "  1005300.00857136   304744.83547383   143520.94338916   625715.80073221\n",
      "  -967168.23185135  -835958.03863028  -633173.91104998  1239778.16895754\n",
      "  -208131.07658455   379855.68598678  2486869.74233364    64052.78030597\n",
      "   735133.71362476  -637267.64160298  -107256.80787768  1992687.42570046\n",
      "   529671.54300392  2177774.49555494  2152601.82134984   881933.25759254\n",
      "   930162.31101964   -14958.36259446  1962668.94572519  1077943.99346215\n",
      "   493298.36118862   450972.25040942  2109996.51692628  2261663.5663637\n",
      "  -450712.65264976  1622920.00598244  2667636.77783079   660275.77047979\n",
      "   383481.13665614  3035063.22753194  4796618.3801287    423800.92747511\n",
      "  1326544.58498664  2725785.14406866  1093206.3998189   2163053.05925832\n",
      "  2400836.81297222 -1416028.55801206  1351668.0052865   -106741.25390526\n",
      "   686795.73549982  -726154.39500275   366361.76822372  1989723.66999821\n",
      "  -626023.42603114  -237807.06781716  3118622.57604389  1736753.82200099\n",
      " -1169420.05013222  2062831.66366537  3288515.68416116   104584.52937197\n",
      "  1928992.64653557  1266417.7517618   -440201.61684954  -224651.39583112\n",
      "   605686.74475112  1467583.30822911   -68207.5770985   -867535.72881939\n",
      " -1168749.9728117   -405797.0384481   -337007.35603979   121192.30092556\n",
      "   843974.20083773  -784542.85810903   287372.24453272   257906.87618334\n",
      "  1041077.49050507  1582506.45584312  1606794.40435678   356524.80562069\n",
      "   667571.90504799 -1019164.37768028   -18330.36689349 -1334972.52990366\n",
      "   712991.00092393  -245192.15916269  1623391.71190769  -600926.333595\n",
      "   128724.79650288  1783864.15020487   461795.31050176  -181641.16253845\n",
      "  -250777.27780324 -1082374.49693267 -1301058.29785961  -312251.79096409\n",
      " -1509020.6190491   1470731.82241218   845382.32749654   108579.29340237\n",
      " -1136413.51443076  -170874.83986804  2657209.71271383  -250837.45469333\n",
      "  -289049.85906665   941101.46266743  -590182.54614308   439303.19610257\n",
      "   734736.58810469   425640.78368395   886461.33089446   285479.79393264\n",
      "   629142.93080049   696472.27419982  -701376.19774518  -462716.51859024\n",
      "  -364337.28051499  -488804.71373819  -313215.54150093  -415238.40816271\n",
      "   303160.87164088  -379934.99758057    66617.07337396  -720895.08564285\n",
      "  -507624.6733878    904722.09885913  -412852.46017672   849295.34100668\n",
      " -1232198.37094629  -336231.61460148   977681.66980099   518797.66201917\n",
      "  1038630.53018845  -915082.02736035   335359.75536254   -33021.7884522\n",
      "   945916.72521622   167030.50085021  -388914.46826725  -566126.78356864\n",
      "  -208445.38486201  -134771.64226755    13529.96349097    50319.30164706\n",
      "    23184.16210869   454498.59801218   689976.36732502    88913.29306702\n",
      "   166317.18203163   935482.35427945]\n",
      "Intercept: [-1816207.95173937]\n"
     ]
    },
    {
     "name": "stderr",
     "output_type": "stream",
     "text": [
      "c:\\Users\\Abdullah Maqsood\\AppData\\Local\\Programs\\Python\\Python311\\Lib\\site-packages\\sklearn\\linear_model\\_coordinate_descent.py:628: ConvergenceWarning: Objective did not converge. You might want to increase the number of iterations, check the scale of the features or consider increasing regularisation. Duality gap: 1.612e+19, tolerance: 8.652e+15\n",
      "  model = cd_fast.enet_coordinate_descent(\n"
     ]
    }
   ],
   "source": [
    "# Create and train the Lasso regression model\n",
    "alpha_value = 0.5  # You can adjust the alpha parameter based on your needs\n",
    "lasso_reg = Lasso(alpha=alpha_value, random_state=42)\n",
    "lasso_reg.fit(X3, y)\n",
    "\n",
    "# Print the coefficients and intercept\n",
    "print(\"Coefficients:\", lasso_reg.coef_)\n",
    "print(\"Intercept:\", lasso_reg.intercept_)\n",
    "\n",
    "# Make predictions on the test data\n",
    "y_pred_lasso = lasso_reg.predict(test3)"
   ]
  },
  {
   "cell_type": "code",
   "execution_count": 15,
   "metadata": {},
   "outputs": [],
   "source": [
    "# Save the predictions to a CSV file\n",
    "result_df_lasso = pd.DataFrame({'row ID': testOriginal['row ID'], 'price_doc': y_pred_lasso.flatten()})\n",
    "result_df_lasso.to_csv('Day_6_Abdullah_Maqsood_24448_Submission_2.csv', index=False)"
   ]
  }
 ],
 "metadata": {
  "kernelspec": {
   "display_name": "Python 3",
   "language": "python",
   "name": "python3"
  },
  "language_info": {
   "codemirror_mode": {
    "name": "ipython",
    "version": 3
   },
   "file_extension": ".py",
   "mimetype": "text/x-python",
   "name": "python",
   "nbconvert_exporter": "python",
   "pygments_lexer": "ipython3",
   "version": "3.11.5"
  }
 },
 "nbformat": 4,
 "nbformat_minor": 2
}
