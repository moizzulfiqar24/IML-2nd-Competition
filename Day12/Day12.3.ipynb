{
 "cells": [
  {
   "cell_type": "code",
   "execution_count": 1,
   "metadata": {},
   "outputs": [],
   "source": [
    "import pandas as pd\n",
    "from sklearn.model_selection import train_test_split\n",
    "from sklearn.preprocessing import StandardScaler\n",
    "from keras.models import Sequential\n",
    "from keras.layers import Dense, Dropout\n",
    "from keras.callbacks import EarlyStopping\n",
    "import os\n",
    "import torch\n",
    "from sklearn.neural_network import MLPRegressor\n",
    "from sklearn.ensemble import GradientBoostingRegressor\n",
    "from sklearn.metrics import mean_squared_error\n",
    "from sklearn.model_selection import GridSearchCV\n",
    "from keras.optimizers import SGD, Adam, Adadelta, RMSprop, Adagrad, Nadam, Ftrl\n",
    "from keras.regularizers import l2\n",
    "import numpy as np\n",
    "from sklearn.decomposition import PCA"
   ]
  },
  {
   "cell_type": "code",
   "execution_count": 2,
   "metadata": {},
   "outputs": [],
   "source": [
    "# Load the training data\n",
    "train_data = pd.read_csv('../../2nd-Comp-Data/train.csv')\n",
    "test_data = pd.read_csv('../../2nd-Comp-Data/test.csv')\n",
    "\n",
    "used = []\n",
    "\n",
    "# Extract features and target variable\n",
    "X = train_data.drop('price_doc', axis=1)\n",
    "y = train_data['price_doc']\n",
    "X_test = test_data.drop(['row ID'], axis=1)"
   ]
  },
  {
   "cell_type": "code",
   "execution_count": 3,
   "metadata": {},
   "outputs": [],
   "source": [
    "X = X.drop('sub_area', axis=1)\n",
    "X_test = X_test.drop('sub_area', axis=1)\n",
    "used.append('Removed sub_area')"
   ]
  },
  {
   "cell_type": "code",
   "execution_count": 4,
   "metadata": {},
   "outputs": [],
   "source": [
    "# X = pd.get_dummies(X)\n",
    "# X_test = pd.get_dummies(X_test) \n",
    "# used.append('OneHot Encoding')"
   ]
  },
  {
   "cell_type": "code",
   "execution_count": 5,
   "metadata": {},
   "outputs": [
    {
     "name": "stdout",
     "output_type": "stream",
     "text": [
      "Train: Categorical columns: ['product_type', 'culture_objects_top_25', 'thermal_power_plant_raion', 'incineration_raion', 'oil_chemistry_raion', 'radiation_raion', 'railroad_terminal_raion', 'big_market_raion', 'nuclear_reactor_raion', 'detention_facility_raion', 'water_1line', 'big_road1_1line', 'railroad_1line', 'ecology']\n",
      "Test: Categorical columns: ['product_type', 'culture_objects_top_25', 'thermal_power_plant_raion', 'incineration_raion', 'oil_chemistry_raion', 'radiation_raion', 'railroad_terminal_raion', 'big_market_raion', 'nuclear_reactor_raion', 'detention_facility_raion', 'water_1line', 'big_road1_1line', 'railroad_1line', 'ecology']\n"
     ]
    }
   ],
   "source": [
    "from sklearn.calibration import LabelEncoder\n",
    "\n",
    "categorical_columns = X.select_dtypes(include=['object']).columns.tolist()\n",
    "print(\"Train: Categorical columns:\", categorical_columns)\n",
    "\n",
    "label_encoder = LabelEncoder()\n",
    "\n",
    "for column in categorical_columns:\n",
    "    X[column] = label_encoder.fit_transform(X[column])\n",
    "\n",
    "categorical_columns_test = X_test.select_dtypes(include=['object']).columns.tolist()\n",
    "print(\"Test: Categorical columns:\", categorical_columns_test)\n",
    "\n",
    "label_encoder = LabelEncoder()\n",
    "\n",
    "for column in categorical_columns_test:\n",
    "    X_test[column] = label_encoder.fit_transform(X_test[column])\n",
    "\n",
    "used.append('Label Encoding')"
   ]
  },
  {
   "cell_type": "code",
   "execution_count": 6,
   "metadata": {},
   "outputs": [],
   "source": [
    "# # drop all columns in X_train with dtypes object\n",
    "# for col in X.columns:\n",
    "#     if X[col].dtype == 'object':\n",
    "#         X.drop(col, axis=1, inplace=True)\n",
    "\n",
    "# # drop all columns in X_test with dtypes object\n",
    "# for col in X_test.columns:\n",
    "#     if X_test[col].dtype == 'object':\n",
    "#         X_test.drop(col, axis=1, inplace=True)\n",
    "\n",
    "# used.append(\"Removed Object Dtypes\")"
   ]
  },
  {
   "cell_type": "code",
   "execution_count": 7,
   "metadata": {},
   "outputs": [],
   "source": [
    "X = X.astype('float32')\n",
    "X_test = X_test.astype('float32')\n",
    "used.append(\"Converted All Columns To float32\")"
   ]
  },
  {
   "cell_type": "code",
   "execution_count": 8,
   "metadata": {},
   "outputs": [
    {
     "name": "stdout",
     "output_type": "stream",
     "text": [
      "Selected Features:\n",
      "Index(['full_sq', 'life_sq', 'floor', 'product_type', 'children_preschool',\n",
      "       'preschool_education_centers_raion',\n",
      "       'school_education_centers_top_20_raion', 'healthcare_centers_raion',\n",
      "       'university_top_20_raion', 'culture_objects_top_25',\n",
      "       'incineration_raion', 'oil_chemistry_raion', 'big_market_raion',\n",
      "       'nuclear_reactor_raion', 'male_f', 'young_female', '0_6_female',\n",
      "       'build_count_monolith', 'raion_build_count_with_builddate_info',\n",
      "       'build_count_1971-1995', 'build_count_after_1995', 'kindergarten_km',\n",
      "       'green_zone_km', 'industrial_km', 'cemetery_km',\n",
      "       'public_transport_station_min_walk', 'water_km', 'water_1line',\n",
      "       'mkad_km', 'sadovoe_km', 'big_road1_1line', 'zd_vokzaly_avto_km',\n",
      "       'ID_railroad_terminal', 'nuclear_reactor_km', 'swim_pool_km',\n",
      "       'basketball_km', 'additional_education_km', 'church_synagogue_km',\n",
      "       'catering_km', 'ecology', 'green_part_500', 'prom_part_500',\n",
      "       'trc_sqm_500', 'cafe_count_500_price_1000', 'cafe_count_500_price_1500',\n",
      "       'cafe_count_500_price_4000', 'cafe_count_500_price_high',\n",
      "       'mosque_count_500', 'leisure_count_500', 'market_count_500',\n",
      "       'green_part_1000', 'prom_part_1000', 'office_count_1000',\n",
      "       'office_sqm_1000', 'trc_count_1000', 'trc_sqm_1000',\n",
      "       'cafe_count_1000_price_1500', 'cafe_count_1000_price_high',\n",
      "       'big_church_count_1000', 'mosque_count_1000', 'leisure_count_1000',\n",
      "       'market_count_1000', 'green_part_1500', 'trc_count_1500',\n",
      "       'church_count_1500', 'mosque_count_1500', 'leisure_count_1500',\n",
      "       'trc_sqm_2000', 'cafe_sum_2000_max_price_avg',\n",
      "       'cafe_count_2000_price_1500', 'cafe_count_2000_price_4000',\n",
      "       'cafe_count_2000_price_high', 'mosque_count_2000', 'sport_count_2000',\n",
      "       'prom_part_5000', 'trc_sqm_5000', 'mosque_count_5000'],\n",
      "      dtype='object')\n",
      "77\n"
     ]
    }
   ],
   "source": [
    "import statsmodels.api as sm\n",
    "\n",
    "# Add a constant term to the feature matrix\n",
    "X_with_const = sm.add_constant(X)\n",
    "\n",
    "# Fit a linear regression model\n",
    "model = sm.OLS(y, X_with_const).fit()\n",
    "\n",
    "# Get p-values for each feature\n",
    "p_values = model.pvalues[1:]  # Exclude the constant term\n",
    "\n",
    "# Set your desired threshold for p-value\n",
    "threshold = 0.00001\n",
    "\n",
    "# Filter features based on p-value\n",
    "selected_features = p_values[p_values < threshold].index\n",
    "\n",
    "# Display selected features\n",
    "print(\"Selected Features:\")\n",
    "print(selected_features)\n",
    "print(len(selected_features))\n",
    "\n",
    "# Select columns in the DataFrame\n",
    "X = X[selected_features]\n",
    "X_test = X_test[selected_features]\n",
    "\n",
    "used.append(\"P-Value Based Feature Selection\")"
   ]
  },
  {
   "cell_type": "code",
   "execution_count": 9,
   "metadata": {},
   "outputs": [],
   "source": [
    "X = np.log1p(X)\n",
    "X_test = np.log1p(X_test)\n",
    "used.append('log Normalization')"
   ]
  },
  {
   "cell_type": "code",
   "execution_count": 10,
   "metadata": {},
   "outputs": [],
   "source": [
    "# Split the data into training and validation sets\n",
    "X_train, X_val, y_train, y_val = train_test_split(X, y, test_size=0.3, random_state=42)"
   ]
  },
  {
   "cell_type": "code",
   "execution_count": 11,
   "metadata": {},
   "outputs": [],
   "source": [
    "# Standardize the data\n",
    "scaler = StandardScaler()\n",
    "X_train = scaler.fit_transform(X_train)\n",
    "X_val = scaler.transform(X_val)\n",
    "X_test = scaler.transform(X_test)\n",
    "used.append(\"StandardScaler\")"
   ]
  },
  {
   "cell_type": "code",
   "execution_count": 12,
   "metadata": {},
   "outputs": [
    {
     "data": {
      "text/plain": [
       "(127054, 77)"
      ]
     },
     "execution_count": 12,
     "metadata": {},
     "output_type": "execute_result"
    }
   ],
   "source": [
    "X_train.shape"
   ]
  },
  {
   "cell_type": "code",
   "execution_count": 13,
   "metadata": {},
   "outputs": [],
   "source": [
    "# from sklearn.preprocessing import PolynomialFeatures\n",
    "# poly = PolynomialFeatures(2)#, interaction_only=True)\n",
    "# X_train = poly.fit_transform(X_train)\n",
    "# X_test = poly.fit_transform(X_test)\n",
    "# used.append('PolynomialFeatures W/O Interaction')\n",
    "# # used.append('PolynomialFeatures With Interaction')"
   ]
  },
  {
   "cell_type": "code",
   "execution_count": 14,
   "metadata": {},
   "outputs": [],
   "source": [
    "# # save X_train to csv\n",
    "# X_train.to_csv('train with poly w/o int.2.csv', index=False)\n",
    "# X_test.to_csv('test with poly w/o int.csv', index=False)"
   ]
  },
  {
   "cell_type": "code",
   "execution_count": 15,
   "metadata": {},
   "outputs": [],
   "source": [
    "# pca = PCA(n_components=200)\n",
    "# principalComponents = pca.fit_transform(X_train)\n",
    "# X_train = pd.DataFrame(data = principalComponents)\n",
    "\n",
    "# pca2 = PCA(n_components=200)\n",
    "# principalComponents = pca2.fit_transform(X_test)\n",
    "# X_test = pd.DataFrame(data = principalComponents)\n",
    "\n",
    "# used.append('PCA (n=200)')"
   ]
  },
  {
   "cell_type": "markdown",
   "metadata": {},
   "source": [
    "<h1>With Keras<h1>"
   ]
  },
  {
   "cell_type": "code",
   "execution_count": 16,
   "metadata": {},
   "outputs": [
    {
     "name": "stderr",
     "output_type": "stream",
     "text": [
      "WARNING:absl:At this time, the v2.11+ optimizer `tf.keras.optimizers.Ftrl` runs slowly on M1/M2 Macs, please use the legacy Keras optimizer instead, located at `tf.keras.optimizers.legacy.Ftrl`.\n"
     ]
    },
    {
     "name": "stdout",
     "output_type": "stream",
     "text": [
      "Epoch 1/100\n",
      "71/71 [==============================] - 2s 20ms/step - loss: 255490441347072.0000 - val_loss: 171179579015168.0000\n",
      "Epoch 2/100\n",
      "71/71 [==============================] - 1s 19ms/step - loss: 183899292434432.0000 - val_loss: 166567404896256.0000\n",
      "Epoch 3/100\n",
      "71/71 [==============================] - 1s 17ms/step - loss: 179306059792384.0000 - val_loss: 165527318167552.0000\n",
      "Epoch 4/100\n",
      "71/71 [==============================] - 1s 17ms/step - loss: 177107707625472.0000 - val_loss: 163573527478272.0000\n",
      "Epoch 5/100\n",
      "71/71 [==============================] - 1s 17ms/step - loss: 176465928781824.0000 - val_loss: 163235600793600.0000\n",
      "Epoch 6/100\n",
      "71/71 [==============================] - 1s 18ms/step - loss: 175965414096896.0000 - val_loss: 163455331991552.0000\n",
      "Epoch 7/100\n",
      "71/71 [==============================] - 1s 17ms/step - loss: 173792043204608.0000 - val_loss: 162173267476480.0000\n",
      "Epoch 8/100\n",
      "71/71 [==============================] - 1s 17ms/step - loss: 175148497895424.0000 - val_loss: 166549000290304.0000\n",
      "Epoch 9/100\n",
      "71/71 [==============================] - 1s 16ms/step - loss: 173661231251456.0000 - val_loss: 161808832790528.0000\n",
      "Epoch 10/100\n",
      "71/71 [==============================] - 1s 17ms/step - loss: 173131876532224.0000 - val_loss: 162720104054784.0000\n",
      "Epoch 11/100\n",
      "71/71 [==============================] - 1s 16ms/step - loss: 173323086462976.0000 - val_loss: 161239934173184.0000\n",
      "Epoch 12/100\n",
      "71/71 [==============================] - 1s 19ms/step - loss: 171818270851072.0000 - val_loss: 165485945552896.0000\n",
      "Epoch 13/100\n",
      "71/71 [==============================] - 1s 16ms/step - loss: 171571662553088.0000 - val_loss: 161703085998080.0000\n",
      "Epoch 14/100\n",
      "71/71 [==============================] - 1s 16ms/step - loss: 170990080360448.0000 - val_loss: 162058511319040.0000\n",
      "Epoch 15/100\n",
      "71/71 [==============================] - 1s 16ms/step - loss: 170015475105792.0000 - val_loss: 162265693159424.0000\n",
      "Epoch 16/100\n",
      "71/71 [==============================] - 1s 16ms/step - loss: 169823359205376.0000 - val_loss: 160841575956480.0000\n",
      "Epoch 17/100\n",
      "71/71 [==============================] - 1s 16ms/step - loss: 170618649575424.0000 - val_loss: 161161232252928.0000\n",
      "Epoch 18/100\n",
      "71/71 [==============================] - 1s 16ms/step - loss: 169793344765952.0000 - val_loss: 160978964578304.0000\n",
      "Epoch 19/100\n",
      "71/71 [==============================] - 1s 18ms/step - loss: 170226213715968.0000 - val_loss: 161579874123776.0000\n",
      "Epoch 20/100\n",
      "71/71 [==============================] - 1s 19ms/step - loss: 169827721281536.0000 - val_loss: 163614212227072.0000\n",
      "Epoch 21/100\n",
      "71/71 [==============================] - 1s 16ms/step - loss: 169421142228992.0000 - val_loss: 160896471007232.0000\n",
      "Epoch 22/100\n",
      "71/71 [==============================] - 1s 17ms/step - loss: 169253202296832.0000 - val_loss: 161143096082432.0000\n",
      "Epoch 23/100\n",
      "71/71 [==============================] - 1s 19ms/step - loss: 168331596267520.0000 - val_loss: 164660640743424.0000\n",
      "Epoch 24/100\n",
      "71/71 [==============================] - 1s 17ms/step - loss: 168816675913728.0000 - val_loss: 162194993971200.0000\n",
      "Epoch 25/100\n",
      "71/71 [==============================] - 1s 17ms/step - loss: 168677425020928.0000 - val_loss: 162161875746816.0000\n",
      "Epoch 26/100\n",
      "71/71 [==============================] - 1s 16ms/step - loss: 167968000442368.0000 - val_loss: 160467175604224.0000\n",
      "Epoch 27/100\n",
      "71/71 [==============================] - 1s 17ms/step - loss: 167274883317760.0000 - val_loss: 162190732558336.0000\n",
      "Epoch 28/100\n",
      "71/71 [==============================] - 1s 16ms/step - loss: 166839917215744.0000 - val_loss: 160598792863744.0000\n",
      "Epoch 29/100\n",
      "71/71 [==============================] - 1s 17ms/step - loss: 165919988908032.0000 - val_loss: 162574679146496.0000\n",
      "Epoch 30/100\n",
      "71/71 [==============================] - 1s 16ms/step - loss: 166543329591296.0000 - val_loss: 160716283707392.0000\n",
      "Epoch 31/100\n",
      "71/71 [==============================] - 1s 17ms/step - loss: 167149238747136.0000 - val_loss: 161029732433920.0000\n",
      "Epoch 32/100\n",
      "71/71 [==============================] - 1s 17ms/step - loss: 166438757203968.0000 - val_loss: 161495585390592.0000\n",
      "Epoch 33/100\n",
      "71/71 [==============================] - 1s 17ms/step - loss: 165230076231680.0000 - val_loss: 162882272624640.0000\n",
      "Epoch 34/100\n",
      "71/71 [==============================] - 1s 17ms/step - loss: 164525013729280.0000 - val_loss: 161126335643648.0000\n",
      "Epoch 35/100\n",
      "71/71 [==============================] - 1s 17ms/step - loss: 164796569747456.0000 - val_loss: 162328523833344.0000\n",
      "Epoch 36/100\n",
      "71/71 [==============================] - 1s 18ms/step - loss: 164904598241280.0000 - val_loss: 161467953315840.0000\n",
      "2431/2431 [==============================] - 1s 521us/step\n"
     ]
    }
   ],
   "source": [
    "features_used = X_train.shape[1]\n",
    "\n",
    "# Build the neural network\n",
    "os.environ[\"KERAS_BACKEND\"] = \"torch\"\n",
    "used.append(\"Keras With Torch Backend\")\n",
    "model = Sequential()\n",
    "model.add(Dense(360, input_dim=X_train.shape[1], activation='selu', kernel_regularizer=l2(0.01)))\n",
    "model.add(Dropout(0.3))  # You can use either dropout or early stopping\n",
    "model.add(Dense(280, activation='selu', kernel_regularizer=l2(0.01)))\n",
    "model.add(Dropout(0.3))\n",
    "model.add(Dense(190, activation='selu', kernel_regularizer=l2(0.01)))\n",
    "model.add(Dropout(0.3))\n",
    "model.add(Dense(130, activation='selu', kernel_regularizer=l2(0.01)))\n",
    "model.add(Dropout(0.3))\n",
    "model.add(Dense(1, activation='linear'))  # Output layer with linear activation for regression\n",
    "\n",
    "used.append(\"4 Hidden Layers: Hidden Layer 1 with 360 neurons selu activation L2 regularization, \\n\" +\n",
    "            \"Hidden Layer 2 with 280 neurons selu activation L2 regularization, \\n\" +\n",
    "            \"Hidden Layer 3 with 190 neurons selu activation L2 regularization, \\n\" +\n",
    "            \"Hidden Layer 4 with 130 neurons selu activation L2 regularization\")\n",
    "used.append(\"Output linear\")\n",
    "\n",
    "# optimizerUsing = Adam(lr=0.05)#, beta_1=0.9, beta_2=0.999, epsilon=1e-07, amsgrad=False)\n",
    "# used.append(\"Optimizer: Adam(lr=0.05)\")\n",
    "# optimizerUsing = RMSprop(lr=0.001)\n",
    "# used.append(\"Optimizer: RMSprop(lr=0.001)\")\n",
    "# optimizerUsing = Adagrad(lr=0.01)\n",
    "# used.append(\"Optimizer: Adagrad(lr=0.01)\")\n",
    "# optimizerUsing = Adadelta(lr=1.0, rho=0.95)\n",
    "# used.append(\"Optimizer: Adadelta(lr=1.0, rho=0.95)\")\n",
    "# optimizerUsing = Nadam(lr=0.002, beta_1=0.9, beta_2=0.999)\n",
    "# used.append(\"Optimizer: Nadam(lr=0.002, beta_1=0.9, beta_2=0.999)\")\n",
    "optimizerUsing = Ftrl(learning_rate=0.2)#, learning_rate_power=-0.5, initial_accumulator_value=0.1, l1_regularization_strength=0.01, l2_regularization_strength=0.01)\n",
    "used.append(\"Optimizer: Ftrl(learning_rate=0.2)\")\n",
    "\n",
    "# Compile the model\n",
    "model.compile(loss='mean_squared_error', optimizer=optimizerUsing)\n",
    "used.append(\"Loss Calculation: Mean Squared Error\")\n",
    "\n",
    "# Define early stopping\n",
    "early_stopping = EarlyStopping(monitor='val_loss', patience=10, restore_best_weights=True)\n",
    "used.append(\"EarlyStopping(monitor='val_loss', patience=10, restore_best_weights=True)\")\n",
    "\n",
    "# Train the model\n",
    "model.fit(X_train, y_train, epochs=100, batch_size=1800, validation_data=(X_val, y_val), callbacks=[early_stopping])\n",
    "used.append(\"batch_size=1800, epochs=100, early_stopping (patience 10), dropout=0.3, L2 Regularization\")\n",
    "\n",
    "# Train the model\n",
    "# model.fit(X_train, y_train, epochs=100, batch_size=1800, validation_data=(X_val, y_val))#, callbacks=[early_stopping])\n",
    "# used.append(\"batch_size=1800, epochs=100, dropout=0.3, L2 Regularization\")\n",
    "\n",
    "# used.append(\"batch_size=1800, epochs=100, early_stopping\")\n",
    "\n",
    "# Make predictions\n",
    "predictions = model.predict(X_test)"
   ]
  },
  {
   "cell_type": "markdown",
   "metadata": {},
   "source": [
    "<h1>With Skilearn<h1>"
   ]
  },
  {
   "cell_type": "code",
   "execution_count": 17,
   "metadata": {},
   "outputs": [],
   "source": [
    "# features_used = X_train.shape[1]\n",
    "\n",
    "# # # optimizerUsing = SGD(learning_rate=0.01, momentum=0.9)\n",
    "\n",
    "# # # optimizerUsing = Adam(lr=0.001, beta_1=0.9, beta_2=0.999, epsilon=1e-07, amsgrad=False)\n",
    "# # optimizerUsing = Adam(lr=0.001)#, epsilon=1e-07)\n",
    "\n",
    "# l2Regu = 0.001\n",
    "\n",
    "# # model = MLPRegressor(hidden_layer_sizes=(300,210,150,60), activation='relu', solver='adam', alpha = l2Regu, shuffle=False, max_iter=100,\n",
    "# #                      batch_size=1800, early_stopping=True, verbose=True, random_state=42)\n",
    "\n",
    "# # {'logistic', 'tanh', 'identity', 'relu'}. Got 'selu' instead.\n",
    "\n",
    "# model = MLPRegressor(hidden_layer_sizes=(300,210,150,60), activation='relu', solver='adam', alpha = l2Regu, shuffle=False, max_iter=100,\n",
    "#                      batch_size=1800, early_stopping=True, verbose=True, random_state=42)\n",
    "\n",
    "# used.append(\"MLPRegressor\")\n",
    "# used.append(\"4 Hidden Layers: Hidden Layer 1 with 300 neurons relu activation L2 regularization, \\n\" +\n",
    "#             \"Hidden Layer 2 with 210 neurons relu activation L2 regularization, \\n\" +\n",
    "#             \"Hidden Layer 3 with 150 neurons relu activation L2 regularization, \\n\" +\n",
    "#             \"Hidden Layer 4 with 60 neurons relu activation L2 regularization\")\n",
    "# used.append(\"Optimizer: adam\")\n",
    "# used.append(\"batch_size=1800, epochs=100, early_stopping\")\n",
    "\n",
    "# # Train the model\n",
    "# model.fit(X_train, y_train)\n",
    "\n",
    "# # Make predictions\n",
    "# predictions = model.predict(X_test)"
   ]
  },
  {
   "cell_type": "code",
   "execution_count": 18,
   "metadata": {},
   "outputs": [],
   "source": [
    "# Create a DataFrame with the results\n",
    "submission_df = pd.DataFrame({'row ID': test_data['row ID'], 'price_doc': predictions.flatten()})\n",
    "\n",
    "# Save the results to a CSV file\n",
    "submission_df.to_csv('Day12.3.csv', index=False)"
   ]
  },
  {
   "cell_type": "code",
   "execution_count": 19,
   "metadata": {},
   "outputs": [
    {
     "name": "stdout",
     "output_type": "stream",
     "text": [
      "Features Used = 77\n",
      "\n",
      "Removed sub_area\n",
      "Label Encoding\n",
      "Converted All Columns To float32\n",
      "P-Value Based Feature Selection\n",
      "log Normalization\n",
      "StandardScaler\n",
      "Keras With Torch Backend\n",
      "4 Hidden Layers: Hidden Layer 1 with 360 neurons selu activation L2 regularization, \n",
      "Hidden Layer 2 with 280 neurons selu activation L2 regularization, \n",
      "Hidden Layer 3 with 190 neurons selu activation L2 regularization, \n",
      "Hidden Layer 4 with 130 neurons selu activation L2 regularization\n",
      "Output linear\n",
      "Optimizer: Ftrl(learning_rate=0.2)\n",
      "Loss Calculation: Mean Squared Error\n",
      "EarlyStopping(monitor='val_loss', patience=10, restore_best_weights=True)\n",
      "batch_size=1800, epochs=100, early_stopping (patience 10), dropout=0.3, L2 Regularization\n"
     ]
    }
   ],
   "source": [
    "print(\"Features Used = \" + str(features_used) + \"\\n\")\n",
    "for i in used:\n",
    "    print(i)"
   ]
  }
 ],
 "metadata": {
  "kernelspec": {
   "display_name": "Python 3",
   "language": "python",
   "name": "python3"
  },
  "language_info": {
   "codemirror_mode": {
    "name": "ipython",
    "version": 3
   },
   "file_extension": ".py",
   "mimetype": "text/x-python",
   "name": "python",
   "nbconvert_exporter": "python",
   "pygments_lexer": "ipython3",
   "version": "3.11.4"
  }
 },
 "nbformat": 4,
 "nbformat_minor": 2
}
