{
 "cells": [
  {
   "cell_type": "code",
   "execution_count": 1,
   "metadata": {},
   "outputs": [],
   "source": [
    "import pandas as pd\n",
    "from sklearn.model_selection import train_test_split\n",
    "from sklearn.preprocessing import StandardScaler\n",
    "from keras.models import Sequential\n",
    "from keras.layers import Dense, Dropout\n",
    "from keras.callbacks import EarlyStopping\n",
    "import os\n",
    "import torch\n",
    "from sklearn.neural_network import MLPRegressor\n",
    "from sklearn.ensemble import GradientBoostingRegressor\n",
    "from sklearn.metrics import mean_squared_error\n",
    "from sklearn.model_selection import GridSearchCV\n",
    "from keras.optimizers import SGD, Adam, Adadelta, RMSprop, Adagrad, Nadam, Ftrl\n",
    "from keras.regularizers import l2\n",
    "import numpy as np\n",
    "from sklearn.decomposition import PCA"
   ]
  },
  {
   "cell_type": "code",
   "execution_count": 2,
   "metadata": {},
   "outputs": [],
   "source": [
    "# Load the training data\n",
    "train_data = pd.read_csv('../../2nd-Comp-Data/train.csv')\n",
    "test_data = pd.read_csv('../../2nd-Comp-Data/test.csv')\n",
    "\n",
    "used = []\n",
    "\n",
    "# Extract features and target variable\n",
    "X = train_data.drop('price_doc', axis=1)\n",
    "y = train_data['price_doc']\n",
    "X_test = test_data.drop(['row ID'], axis=1)"
   ]
  },
  {
   "cell_type": "code",
   "execution_count": 3,
   "metadata": {},
   "outputs": [],
   "source": [
    "# X = X.drop('sub_area', axis=1)\n",
    "# X_test = X_test.drop('sub_area', axis=1)\n",
    "# used.append('Removed sub_area')"
   ]
  },
  {
   "cell_type": "code",
   "execution_count": 4,
   "metadata": {},
   "outputs": [],
   "source": [
    "# X = pd.get_dummies(X)\n",
    "# X_test = pd.get_dummies(X_test) \n",
    "# used.append('OneHot Encoding')"
   ]
  },
  {
   "cell_type": "code",
   "execution_count": 5,
   "metadata": {},
   "outputs": [],
   "source": [
    "# from sklearn.calibration import LabelEncoder\n",
    "\n",
    "# categorical_columns = X.select_dtypes(include=['object']).columns.tolist()\n",
    "# print(\"Train: Categorical columns:\", categorical_columns)\n",
    "\n",
    "# label_encoder = LabelEncoder()\n",
    "\n",
    "# for column in categorical_columns:\n",
    "#     X[column] = label_encoder.fit_transform(X[column])\n",
    "\n",
    "# categorical_columns_test = X_test.select_dtypes(include=['object']).columns.tolist()\n",
    "# print(\"Test: Categorical columns:\", categorical_columns_test)\n",
    "\n",
    "# label_encoder = LabelEncoder()\n",
    "\n",
    "# for column in categorical_columns_test:\n",
    "#     X_test[column] = label_encoder.fit_transform(X_test[column])\n",
    "\n",
    "# used.append('Label Encoding')"
   ]
  },
  {
   "cell_type": "code",
   "execution_count": 6,
   "metadata": {},
   "outputs": [],
   "source": [
    "# # drop all columns in X_train with dtypes object\n",
    "# for col in X.columns:\n",
    "#     if X[col].dtype == 'object':\n",
    "#         X.drop(col, axis=1, inplace=True)\n",
    "\n",
    "# # drop all columns in X_test with dtypes object\n",
    "# for col in X_test.columns:\n",
    "#     if X_test[col].dtype == 'object':\n",
    "#         X_test.drop(col, axis=1, inplace=True)\n",
    "\n",
    "# used.append(\"Removed Object Dtypes\")"
   ]
  },
  {
   "cell_type": "code",
   "execution_count": 7,
   "metadata": {},
   "outputs": [],
   "source": [
    "X = X[['full_sq', 'floor', 'build_count_monolith', 'industrial_km', 'trc_sqm_500',\n",
    " 'mosque_count_500', 'leisure_count_500', 'office_sqm_1000',\n",
    " 'cafe_count_1000_price_high', 'leisure_count_1000', 'power_transmission_line_km', 'big_market_km', 'public_healthcare_km', 'workplaces_km']]\n",
    "X_test = X_test[['full_sq', 'floor', 'build_count_monolith', 'industrial_km', 'trc_sqm_500',\n",
    " 'mosque_count_500', 'leisure_count_500', 'office_sqm_1000',\n",
    " 'cafe_count_1000_price_high', 'leisure_count_1000', 'power_transmission_line_km', 'big_market_km', 'public_healthcare_km', 'workplaces_km']]\n",
    "\n",
    "used.append(\"Forward Feature Selection (n=14)\")"
   ]
  },
  {
   "cell_type": "code",
   "execution_count": 8,
   "metadata": {},
   "outputs": [],
   "source": [
    "X = X.astype('float32')\n",
    "X_test = X_test.astype('float32')\n",
    "used.append(\"Converted All Columns To float32\")"
   ]
  },
  {
   "cell_type": "code",
   "execution_count": 9,
   "metadata": {},
   "outputs": [],
   "source": [
    "# import statsmodels.api as sm\n",
    "\n",
    "# # Add a constant term to the feature matrix\n",
    "# X_with_const = sm.add_constant(X)\n",
    "\n",
    "# # Fit a linear regression model\n",
    "# model = sm.OLS(y, X_with_const).fit()\n",
    "\n",
    "# # Get p-values for each feature\n",
    "# p_values = model.pvalues[1:]  # Exclude the constant term\n",
    "\n",
    "# # Set your desired threshold for p-value\n",
    "# threshold = 0.00001\n",
    "\n",
    "# # Filter features based on p-value\n",
    "# selected_features = p_values[p_values < threshold].index\n",
    "\n",
    "# # Display selected features\n",
    "# print(\"Selected Features:\")\n",
    "# print(selected_features)\n",
    "# print(len(selected_features))\n",
    "\n",
    "# # Select columns in the DataFrame\n",
    "# X = X[selected_features]\n",
    "# X_test = X_test[selected_features]\n",
    "\n",
    "# used.append(\"P-Value Based Feature Selection\")"
   ]
  },
  {
   "cell_type": "code",
   "execution_count": 10,
   "metadata": {},
   "outputs": [],
   "source": [
    "X = np.log1p(X)\n",
    "X_test = np.log1p(X_test)\n",
    "used.append('log Normalization')"
   ]
  },
  {
   "cell_type": "code",
   "execution_count": 11,
   "metadata": {},
   "outputs": [],
   "source": [
    "# Split the data into training and validation sets\n",
    "X_train, X_val, y_train, y_val = train_test_split(X, y, test_size=0.3, random_state=42)"
   ]
  },
  {
   "cell_type": "code",
   "execution_count": 12,
   "metadata": {},
   "outputs": [],
   "source": [
    "# Standardize the data\n",
    "scaler = StandardScaler()\n",
    "X_train = scaler.fit_transform(X_train)\n",
    "X_val = scaler.transform(X_val)\n",
    "X_test = scaler.transform(X_test)\n",
    "used.append(\"StandardScaler\")"
   ]
  },
  {
   "cell_type": "code",
   "execution_count": 13,
   "metadata": {},
   "outputs": [
    {
     "data": {
      "text/plain": [
       "(127054, 14)"
      ]
     },
     "execution_count": 13,
     "metadata": {},
     "output_type": "execute_result"
    }
   ],
   "source": [
    "X_train.shape"
   ]
  },
  {
   "cell_type": "code",
   "execution_count": 14,
   "metadata": {},
   "outputs": [],
   "source": [
    "# from sklearn.preprocessing import PolynomialFeatures\n",
    "# poly = PolynomialFeatures(2)#, interaction_only=True)\n",
    "# X_train = poly.fit_transform(X_train)\n",
    "# X_test = poly.fit_transform(X_test)\n",
    "# used.append('PolynomialFeatures W/O Interaction')\n",
    "# # used.append('PolynomialFeatures With Interaction')"
   ]
  },
  {
   "cell_type": "code",
   "execution_count": 15,
   "metadata": {},
   "outputs": [],
   "source": [
    "# # save X_train to csv\n",
    "# X_train.to_csv('train with poly w/o int.2.csv', index=False)\n",
    "# X_test.to_csv('test with poly w/o int.csv', index=False)"
   ]
  },
  {
   "cell_type": "code",
   "execution_count": 16,
   "metadata": {},
   "outputs": [],
   "source": [
    "# pca = PCA(n_components=200)\n",
    "# principalComponents = pca.fit_transform(X_train)\n",
    "# X_train = pd.DataFrame(data = principalComponents)\n",
    "\n",
    "# pca2 = PCA(n_components=200)\n",
    "# principalComponents = pca2.fit_transform(X_test)\n",
    "# X_test = pd.DataFrame(data = principalComponents)\n",
    "\n",
    "# used.append('PCA (n=200)')"
   ]
  },
  {
   "cell_type": "markdown",
   "metadata": {},
   "source": [
    "<h1>With Keras<h1>"
   ]
  },
  {
   "cell_type": "code",
   "execution_count": 17,
   "metadata": {},
   "outputs": [],
   "source": [
    "# features_used = X_train.shape[1]\n",
    "\n",
    "# # Build the neural network\n",
    "# os.environ[\"KERAS_BACKEND\"] = \"torch\"\n",
    "# used.append(\"Keras With Torch Backend\")\n",
    "# model = Sequential()\n",
    "# model.add(Dense(360, input_dim=X_train.shape[1], activation='selu', kernel_regularizer=l2(0.01)))\n",
    "# model.add(Dropout(0.3))  # You can use either dropout or early stopping\n",
    "# model.add(Dense(280, activation='selu', kernel_regularizer=l2(0.01)))\n",
    "# model.add(Dropout(0.3))\n",
    "# model.add(Dense(190, activation='selu', kernel_regularizer=l2(0.01)))\n",
    "# model.add(Dropout(0.3))\n",
    "# model.add(Dense(130, activation='selu', kernel_regularizer=l2(0.01)))\n",
    "# model.add(Dropout(0.3))\n",
    "# model.add(Dense(1, activation='linear'))  # Output layer with linear activation for regression\n",
    "\n",
    "# used.append(\"4 Hidden Layers: Hidden Layer 1 with 360 neurons selu activation L2 regularization, \\n\" +\n",
    "#             \"Hidden Layer 2 with 280 neurons selu activation L2 regularization, \\n\" +\n",
    "#             \"Hidden Layer 3 with 190 neurons selu activation L2 regularization, \\n\" +\n",
    "#             \"Hidden Layer 4 with 130 neurons selu activation L2 regularization\")\n",
    "# used.append(\"Output linear\")\n",
    "\n",
    "# # optimizerUsing = Adam(lr=0.05)#, beta_1=0.9, beta_2=0.999, epsilon=1e-07, amsgrad=False)\n",
    "# # used.append(\"Optimizer: Adam(lr=0.05)\")\n",
    "# # optimizerUsing = RMSprop(lr=0.001)\n",
    "# # used.append(\"Optimizer: RMSprop(lr=0.001)\")\n",
    "# # optimizerUsing = Adagrad(lr=0.01)\n",
    "# # used.append(\"Optimizer: Adagrad(lr=0.01)\")\n",
    "# # optimizerUsing = Adadelta(lr=1.0, rho=0.95)\n",
    "# # used.append(\"Optimizer: Adadelta(lr=1.0, rho=0.95)\")\n",
    "# # optimizerUsing = Nadam(lr=0.002, beta_1=0.9, beta_2=0.999)\n",
    "# # used.append(\"Optimizer: Nadam(lr=0.002, beta_1=0.9, beta_2=0.999)\")\n",
    "# optimizerUsing = Ftrl(learning_rate=0.2)#, learning_rate_power=-0.5, initial_accumulator_value=0.1, l1_regularization_strength=0.01, l2_regularization_strength=0.01)\n",
    "# used.append(\"Optimizer: Ftrl(learning_rate=0.2)\")\n",
    "\n",
    "# # Compile the model\n",
    "# model.compile(loss='mean_squared_error', optimizer=optimizerUsing)\n",
    "# used.append(\"Loss Calculation: Mean Squared Error\")\n",
    "\n",
    "# # Define early stopping\n",
    "# early_stopping = EarlyStopping(monitor='val_loss', patience=10, restore_best_weights=True)\n",
    "# used.append(\"EarlyStopping(monitor='val_loss', patience=10, restore_best_weights=True)\")\n",
    "\n",
    "# # Train the model\n",
    "# model.fit(X_train, y_train, epochs=100, batch_size=1800, validation_data=(X_val, y_val), callbacks=[early_stopping])\n",
    "# used.append(\"batch_size=1800, epochs=100, early_stopping (patience 10), dropout=0.3, L2 Regularization\")\n",
    "\n",
    "# # Train the model\n",
    "# # model.fit(X_train, y_train, epochs=100, batch_size=1800, validation_data=(X_val, y_val))#, callbacks=[early_stopping])\n",
    "# # used.append(\"batch_size=1800, epochs=100, dropout=0.3, L2 Regularization\")\n",
    "\n",
    "# # used.append(\"batch_size=1800, epochs=100, early_stopping\")\n",
    "\n",
    "# # Make predictions\n",
    "# predictions = model.predict(X_test)"
   ]
  },
  {
   "cell_type": "markdown",
   "metadata": {},
   "source": [
    "<h1>With Skilearn<h1>"
   ]
  },
  {
   "cell_type": "code",
   "execution_count": 18,
   "metadata": {},
   "outputs": [
    {
     "name": "stdout",
     "output_type": "stream",
     "text": [
      "Iteration 1, loss = 347556801944458.87500000\n",
      "Validation score: -0.457508\n",
      "Iteration 2, loss = 343581817528931.18750000\n",
      "Validation score: -0.393942\n",
      "Iteration 3, loss = 282851505108928.62500000\n",
      "Validation score: 0.171777\n",
      "Iteration 4, loss = 125070055084292.90625000\n",
      "Validation score: 0.592145\n",
      "Iteration 5, loss = 96187508072954.85937500\n",
      "Validation score: 0.599076\n",
      "Iteration 6, loss = 95028298893205.70312500\n",
      "Validation score: 0.603169\n",
      "Iteration 7, loss = 94145088295869.98437500\n",
      "Validation score: 0.606450\n",
      "Iteration 8, loss = 93423871269785.37500000\n",
      "Validation score: 0.609146\n",
      "Iteration 9, loss = 92823323925434.90625000\n",
      "Validation score: 0.611391\n",
      "Iteration 10, loss = 92318709978418.59375000\n",
      "Validation score: 0.613289\n",
      "Iteration 11, loss = 91886887485944.20312500\n",
      "Validation score: 0.614931\n",
      "Iteration 12, loss = 91509026415398.67187500\n",
      "Validation score: 0.616412\n",
      "Iteration 13, loss = 91163364551411.64062500\n",
      "Validation score: 0.617812\n",
      "Iteration 14, loss = 90834442382390.93750000\n",
      "Validation score: 0.619195\n",
      "Iteration 15, loss = 90505278705816.45312500\n",
      "Validation score: 0.620615\n",
      "Iteration 16, loss = 90169976440335.39062500\n",
      "Validation score: 0.622092\n",
      "Iteration 17, loss = 89830964611957.57812500\n",
      "Validation score: 0.623608\n",
      "Iteration 18, loss = 89488584995620.39062500\n",
      "Validation score: 0.625143\n",
      "Iteration 19, loss = 89140665340434.71875000\n",
      "Validation score: 0.626728\n",
      "Iteration 20, loss = 88787392485441.76562500\n",
      "Validation score: 0.628274\n",
      "Iteration 21, loss = 88444815017128.87500000\n",
      "Validation score: 0.629684\n",
      "Iteration 22, loss = 88134654215314.37500000\n",
      "Validation score: 0.630944\n",
      "Iteration 23, loss = 87859806450863.18750000\n",
      "Validation score: 0.632055\n",
      "Iteration 24, loss = 87623316668137.76562500\n",
      "Validation score: 0.633006\n",
      "Iteration 25, loss = 87423573166761.71875000\n",
      "Validation score: 0.633815\n",
      "Iteration 26, loss = 87254724845974.04687500\n",
      "Validation score: 0.634483\n",
      "Iteration 27, loss = 87112052730004.40625000\n",
      "Validation score: 0.635021\n",
      "Iteration 28, loss = 86990704734045.65625000\n",
      "Validation score: 0.635473\n",
      "Iteration 29, loss = 86886597919785.48437500\n",
      "Validation score: 0.635855\n",
      "Iteration 30, loss = 86797490163668.51562500\n",
      "Validation score: 0.636179\n",
      "Iteration 31, loss = 86719869733822.15625000\n",
      "Validation score: 0.636459\n",
      "Iteration 32, loss = 86651835168591.45312500\n",
      "Validation score: 0.636703\n",
      "Iteration 33, loss = 86591969581170.75000000\n",
      "Validation score: 0.636924\n",
      "Iteration 34, loss = 86538359952800.70312500\n",
      "Validation score: 0.637116\n",
      "Iteration 35, loss = 86489988056497.09375000\n",
      "Validation score: 0.637294\n",
      "Iteration 36, loss = 86446171687325.98437500\n",
      "Validation score: 0.637453\n",
      "Iteration 37, loss = 86406553401765.45312500\n",
      "Validation score: 0.637602\n",
      "Iteration 38, loss = 86370217105782.85937500\n",
      "Validation score: 0.637736\n",
      "Iteration 39, loss = 86336455526999.35937500\n",
      "Validation score: 0.637865\n",
      "Iteration 40, loss = 86304478642900.78125000\n",
      "Validation score: 0.637985\n",
      "Iteration 41, loss = 86274703250121.37500000\n",
      "Validation score: 0.638101\n",
      "Iteration 42, loss = 86245989032448.75000000\n",
      "Validation score: 0.638215\n",
      "Iteration 43, loss = 86218772366045.84375000\n",
      "Validation score: 0.638327\n",
      "Iteration 44, loss = 86192507055863.84375000\n",
      "Validation score: 0.638436\n",
      "Iteration 45, loss = 86166791368964.23437500\n",
      "Validation score: 0.638542\n",
      "Iteration 46, loss = 86141678390185.45312500\n",
      "Validation score: 0.638647\n",
      "Iteration 47, loss = 86117582625989.43750000\n",
      "Validation score: 0.638748\n",
      "Iteration 48, loss = 86093850496310.53125000\n",
      "Validation score: 0.638846\n",
      "Iteration 49, loss = 86070749981763.06250000\n",
      "Validation score: 0.638941\n",
      "Iteration 50, loss = 86048069279184.75000000\n",
      "Validation score: 0.639038\n",
      "Iteration 51, loss = 86025714188798.03125000\n",
      "Validation score: 0.639134\n",
      "Iteration 52, loss = 86003674809469.10937500\n",
      "Validation score: 0.639227\n",
      "Iteration 53, loss = 85982122732842.03125000\n",
      "Validation score: 0.639319\n",
      "Iteration 54, loss = 85960961761107.87500000\n",
      "Validation score: 0.639408\n",
      "Iteration 55, loss = 85939940151299.20312500\n",
      "Validation score: 0.639497\n",
      "Iteration 56, loss = 85919215818352.12500000\n",
      "Validation score: 0.639589\n",
      "Iteration 57, loss = 85898449027178.20312500\n",
      "Validation score: 0.639681\n",
      "Iteration 58, loss = 85877654316138.12500000\n",
      "Validation score: 0.639768\n",
      "Validation score did not improve more than tol=0.000100 for 10 consecutive epochs. Stopping.\n"
     ]
    }
   ],
   "source": [
    "features_used = X_train.shape[1]\n",
    "\n",
    "# # optimizerUsing = SGD(learning_rate=0.01, momentum=0.9)\n",
    "\n",
    "# # optimizerUsing = Adam(lr=0.001, beta_1=0.9, beta_2=0.999, epsilon=1e-07, amsgrad=False)\n",
    "# optimizerUsing = Adam(lr=0.001)#, epsilon=1e-07)\n",
    "\n",
    "l2Regu = 0.001\n",
    "\n",
    "# model = MLPRegressor(hidden_layer_sizes=(300,210,150,60), activation='relu', solver='adam', alpha = l2Regu, shuffle=False, max_iter=100,\n",
    "#                      batch_size=1800, early_stopping=True, verbose=True, random_state=42)\n",
    "\n",
    "# {'logistic', 'tanh', 'identity', 'relu'}. Got 'selu' instead.\n",
    "\n",
    "model = MLPRegressor(hidden_layer_sizes=(300,210,150,60), activation='relu', solver='adam', alpha = l2Regu, shuffle=False, max_iter=100,\n",
    "                     batch_size=1800, early_stopping=True, verbose=True, random_state=42)\n",
    "\n",
    "used.append(\"MLPRegressor\")\n",
    "used.append(\"4 Hidden Layers: Hidden Layer 1 with 300 neurons relu activation L2 regularization, \\n\" +\n",
    "            \"Hidden Layer 2 with 210 neurons relu activation L2 regularization, \\n\" +\n",
    "            \"Hidden Layer 3 with 150 neurons relu activation L2 regularization, \\n\" +\n",
    "            \"Hidden Layer 4 with 60 neurons relu activation L2 regularization\")\n",
    "used.append(\"Optimizer: adam\")\n",
    "used.append(\"batch_size=1800, epochs=100, early_stopping\")\n",
    "\n",
    "# Train the model\n",
    "model.fit(X_train, y_train)\n",
    "\n",
    "# Make predictions\n",
    "predictions = model.predict(X_test)"
   ]
  },
  {
   "cell_type": "code",
   "execution_count": 19,
   "metadata": {},
   "outputs": [],
   "source": [
    "# Create a DataFrame with the results\n",
    "submission_df = pd.DataFrame({'row ID': test_data['row ID'], 'price_doc': predictions.flatten()})\n",
    "\n",
    "# Save the results to a CSV file\n",
    "submission_df.to_csv('Day12.4.csv', index=False)"
   ]
  },
  {
   "cell_type": "code",
   "execution_count": 20,
   "metadata": {},
   "outputs": [
    {
     "name": "stdout",
     "output_type": "stream",
     "text": [
      "Features Used = 14\n",
      "\n",
      "Forward Feature Selection (n=14)\n",
      "Converted All Columns To float32\n",
      "log Normalization\n",
      "StandardScaler\n",
      "MLPRegressor\n",
      "4 Hidden Layers: Hidden Layer 1 with 300 neurons relu activation L2 regularization, \n",
      "Hidden Layer 2 with 210 neurons relu activation L2 regularization, \n",
      "Hidden Layer 3 with 150 neurons relu activation L2 regularization, \n",
      "Hidden Layer 4 with 60 neurons relu activation L2 regularization\n",
      "Optimizer: adam\n",
      "batch_size=1800, epochs=100, early_stopping\n"
     ]
    }
   ],
   "source": [
    "print(\"Features Used = \" + str(features_used) + \"\\n\")\n",
    "for i in used:\n",
    "    print(i)"
   ]
  }
 ],
 "metadata": {
  "kernelspec": {
   "display_name": "Python 3",
   "language": "python",
   "name": "python3"
  },
  "language_info": {
   "codemirror_mode": {
    "name": "ipython",
    "version": 3
   },
   "file_extension": ".py",
   "mimetype": "text/x-python",
   "name": "python",
   "nbconvert_exporter": "python",
   "pygments_lexer": "ipython3",
   "version": "3.11.4"
  }
 },
 "nbformat": 4,
 "nbformat_minor": 2
}
