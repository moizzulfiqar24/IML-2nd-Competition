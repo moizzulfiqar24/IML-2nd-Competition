{
 "cells": [
  {
   "cell_type": "code",
   "execution_count": 1,
   "metadata": {},
   "outputs": [],
   "source": [
    "import pandas as pd\n",
    "from sklearn.model_selection import train_test_split\n",
    "from sklearn.preprocessing import StandardScaler\n",
    "from keras.models import Sequential\n",
    "from keras.layers import Dense, Dropout\n",
    "from keras.callbacks import EarlyStopping\n",
    "import os\n",
    "import torch\n",
    "from sklearn.neural_network import MLPRegressor\n",
    "from sklearn.ensemble import GradientBoostingRegressor\n",
    "from sklearn.metrics import mean_squared_error\n",
    "from sklearn.model_selection import GridSearchCV\n",
    "from keras.optimizers import SGD, Adam, Adadelta, RMSprop, Adagrad, Nadam, Ftrl\n",
    "from keras.regularizers import l2\n",
    "import numpy as np\n",
    "from sklearn.decomposition import PCA"
   ]
  },
  {
   "cell_type": "code",
   "execution_count": 2,
   "metadata": {},
   "outputs": [],
   "source": [
    "# Load the training data\n",
    "train_data = pd.read_csv('../../2nd-Comp-Data/train.csv')\n",
    "test_data = pd.read_csv('../../2nd-Comp-Data/test.csv')\n",
    "\n",
    "used = []\n",
    "\n",
    "# Extract features and target variable\n",
    "X = train_data.drop('price_doc', axis=1)\n",
    "y = train_data['price_doc']\n",
    "X_test = test_data.drop(['row ID'], axis=1)"
   ]
  },
  {
   "cell_type": "code",
   "execution_count": 3,
   "metadata": {},
   "outputs": [],
   "source": [
    "# X = X.drop('sub_area', axis=1)\n",
    "# X_test = X_test.drop('sub_area', axis=1)\n",
    "# used.append('Removed sub_area')"
   ]
  },
  {
   "cell_type": "code",
   "execution_count": 4,
   "metadata": {},
   "outputs": [],
   "source": [
    "# X = pd.get_dummies(X)\n",
    "# X_test = pd.get_dummies(X_test) \n",
    "# used.append('OneHot Encoding')"
   ]
  },
  {
   "cell_type": "code",
   "execution_count": 5,
   "metadata": {},
   "outputs": [],
   "source": [
    "# from sklearn.calibration import LabelEncoder\n",
    "\n",
    "# categorical_columns = X.select_dtypes(include=['object']).columns.tolist()\n",
    "# print(\"Train: Categorical columns:\", categorical_columns)\n",
    "\n",
    "# label_encoder = LabelEncoder()\n",
    "\n",
    "# for column in categorical_columns:\n",
    "#     X[column] = label_encoder.fit_transform(X[column])\n",
    "\n",
    "# categorical_columns_test = X_test.select_dtypes(include=['object']).columns.tolist()\n",
    "# print(\"Test: Categorical columns:\", categorical_columns_test)\n",
    "\n",
    "# label_encoder = LabelEncoder()\n",
    "\n",
    "# for column in categorical_columns_test:\n",
    "#     X_test[column] = label_encoder.fit_transform(X_test[column])\n",
    "\n",
    "# used.append('Label Encoding')"
   ]
  },
  {
   "cell_type": "code",
   "execution_count": 6,
   "metadata": {},
   "outputs": [],
   "source": [
    "# # drop all columns in X_train with dtypes object\n",
    "# for col in X.columns:\n",
    "#     if X[col].dtype == 'object':\n",
    "#         X.drop(col, axis=1, inplace=True)\n",
    "\n",
    "# # drop all columns in X_test with dtypes object\n",
    "# for col in X_test.columns:\n",
    "#     if X_test[col].dtype == 'object':\n",
    "#         X_test.drop(col, axis=1, inplace=True)\n",
    "\n",
    "# used.append(\"Removed Object Dtypes\")"
   ]
  },
  {
   "cell_type": "code",
   "execution_count": 7,
   "metadata": {},
   "outputs": [],
   "source": [
    "X = X[['full_sq', 'floor', 'build_count_monolith', 'industrial_km', 'trc_sqm_500',\n",
    " 'mosque_count_500', 'leisure_count_500', 'office_sqm_1000',\n",
    " 'cafe_count_1000_price_high', 'leisure_count_1000', 'power_transmission_line_km', 'big_market_km', 'public_healthcare_km', 'workplaces_km']]\n",
    "X_test = X_test[['full_sq', 'floor', 'build_count_monolith', 'industrial_km', 'trc_sqm_500',\n",
    " 'mosque_count_500', 'leisure_count_500', 'office_sqm_1000',\n",
    " 'cafe_count_1000_price_high', 'leisure_count_1000', 'power_transmission_line_km', 'big_market_km', 'public_healthcare_km', 'workplaces_km']]\n",
    "\n",
    "used.append(\"Forward Feature Selection (n=14)\")"
   ]
  },
  {
   "cell_type": "code",
   "execution_count": 8,
   "metadata": {},
   "outputs": [],
   "source": [
    "X = X.astype('float32')\n",
    "X_test = X_test.astype('float32')\n",
    "used.append(\"Converted All Columns To float32\")"
   ]
  },
  {
   "cell_type": "code",
   "execution_count": 9,
   "metadata": {},
   "outputs": [],
   "source": [
    "X = np.log1p(X)\n",
    "X_test = np.log1p(X_test)\n",
    "used.append('log Normalization')"
   ]
  },
  {
   "cell_type": "code",
   "execution_count": 10,
   "metadata": {},
   "outputs": [],
   "source": [
    "# Split the data into training and validation sets\n",
    "X_train, X_val, y_train, y_val = train_test_split(X, y, test_size=0.3, random_state=42)"
   ]
  },
  {
   "cell_type": "code",
   "execution_count": 11,
   "metadata": {},
   "outputs": [],
   "source": [
    "# Standardize the data\n",
    "scaler = StandardScaler()\n",
    "X_train = scaler.fit_transform(X_train)\n",
    "X_val = scaler.transform(X_val)\n",
    "X_test = scaler.transform(X_test)\n",
    "used.append(\"StandardScaler\")"
   ]
  },
  {
   "cell_type": "code",
   "execution_count": 12,
   "metadata": {},
   "outputs": [
    {
     "data": {
      "text/plain": [
       "(127054, 14)"
      ]
     },
     "execution_count": 12,
     "metadata": {},
     "output_type": "execute_result"
    }
   ],
   "source": [
    "X_train.shape"
   ]
  },
  {
   "cell_type": "code",
   "execution_count": 13,
   "metadata": {},
   "outputs": [],
   "source": [
    "# from sklearn.preprocessing import PolynomialFeatures\n",
    "# poly = PolynomialFeatures(2)#, interaction_only=True)\n",
    "# X_train = poly.fit_transform(X_train)\n",
    "# X_test = poly.fit_transform(X_test)\n",
    "# used.append('PolynomialFeatures W/O Interaction')\n",
    "# # used.append('PolynomialFeatures With Interaction')"
   ]
  },
  {
   "cell_type": "code",
   "execution_count": 14,
   "metadata": {},
   "outputs": [],
   "source": [
    "# # save X_train to csv\n",
    "# X_train.to_csv('train with poly w/o int.2.csv', index=False)\n",
    "# X_test.to_csv('test with poly w/o int.csv', index=False)"
   ]
  },
  {
   "cell_type": "code",
   "execution_count": 15,
   "metadata": {},
   "outputs": [],
   "source": [
    "# pca = PCA(n_components=200)\n",
    "# principalComponents = pca.fit_transform(X_train)\n",
    "# X_train = pd.DataFrame(data = principalComponents)\n",
    "\n",
    "# pca2 = PCA(n_components=200)\n",
    "# principalComponents = pca2.fit_transform(X_test)\n",
    "# X_test = pd.DataFrame(data = principalComponents)\n",
    "\n",
    "# used.append('PCA (n=200)')"
   ]
  },
  {
   "cell_type": "markdown",
   "metadata": {},
   "source": [
    "<h1>With Keras<h1>"
   ]
  },
  {
   "cell_type": "code",
   "execution_count": 16,
   "metadata": {},
   "outputs": [
    {
     "name": "stderr",
     "output_type": "stream",
     "text": [
      "WARNING:absl:At this time, the v2.11+ optimizer `tf.keras.optimizers.Ftrl` runs slowly on M1/M2 Macs, please use the legacy Keras optimizer instead, located at `tf.keras.optimizers.legacy.Ftrl`.\n"
     ]
    },
    {
     "name": "stdout",
     "output_type": "stream",
     "text": [
      "Epoch 1/100\n",
      "71/71 [==============================] - 2s 18ms/step - loss: 1400975784935424.0000 - val_loss: 170672621879296.0000\n",
      "Epoch 2/100\n",
      "71/71 [==============================] - 1s 16ms/step - loss: 188822935568384.0000 - val_loss: 167310753005568.0000\n",
      "Epoch 3/100\n",
      "71/71 [==============================] - 1s 17ms/step - loss: 184342227714048.0000 - val_loss: 168646487834624.0000\n",
      "Epoch 4/100\n",
      "71/71 [==============================] - 1s 16ms/step - loss: 182827211554816.0000 - val_loss: 166483451707392.0000\n",
      "Epoch 5/100\n",
      "71/71 [==============================] - 2s 27ms/step - loss: 180930715058176.0000 - val_loss: 167005072130048.0000\n",
      "Epoch 6/100\n",
      "71/71 [==============================] - 2s 24ms/step - loss: 181158398656512.0000 - val_loss: 165998506278912.0000\n",
      "Epoch 7/100\n",
      "71/71 [==============================] - 1s 20ms/step - loss: 179181958725632.0000 - val_loss: 164673877966848.0000\n",
      "Epoch 8/100\n",
      "71/71 [==============================] - 1s 21ms/step - loss: 178605812350976.0000 - val_loss: 164714764042240.0000\n",
      "Epoch 9/100\n",
      "71/71 [==============================] - 2s 21ms/step - loss: 178302362845184.0000 - val_loss: 164779641536512.0000\n",
      "Epoch 10/100\n",
      "71/71 [==============================] - 2s 23ms/step - loss: 178468977377280.0000 - val_loss: 164484396089344.0000\n",
      "Epoch 11/100\n",
      "71/71 [==============================] - 2s 25ms/step - loss: 176887775100928.0000 - val_loss: 168716985696256.0000\n",
      "Epoch 12/100\n",
      "71/71 [==============================] - 3s 42ms/step - loss: 177221826248704.0000 - val_loss: 164034498265088.0000\n",
      "Epoch 13/100\n",
      "71/71 [==============================] - 2s 29ms/step - loss: 177151932366848.0000 - val_loss: 176056078172160.0000\n",
      "Epoch 14/100\n",
      "71/71 [==============================] - 2s 21ms/step - loss: 177520712351744.0000 - val_loss: 165623166402560.0000\n",
      "Epoch 15/100\n",
      "71/71 [==============================] - 2s 23ms/step - loss: 176256314245120.0000 - val_loss: 168507891253248.0000\n",
      "Epoch 16/100\n",
      "71/71 [==============================] - 1s 20ms/step - loss: 176184423874560.0000 - val_loss: 164737765605376.0000\n",
      "Epoch 17/100\n",
      "71/71 [==============================] - 2s 23ms/step - loss: 175801819463680.0000 - val_loss: 166747541864448.0000\n",
      "Epoch 18/100\n",
      "71/71 [==============================] - 1s 21ms/step - loss: 176881886298112.0000 - val_loss: 169712663134208.0000\n",
      "Epoch 19/100\n",
      "71/71 [==============================] - 2s 27ms/step - loss: 174755927818240.0000 - val_loss: 166148259708928.0000\n",
      "Epoch 20/100\n",
      "71/71 [==============================] - 2s 24ms/step - loss: 175525599379456.0000 - val_loss: 163913433874432.0000\n",
      "Epoch 21/100\n",
      "71/71 [==============================] - 2s 21ms/step - loss: 175225119440896.0000 - val_loss: 170510251982848.0000\n",
      "Epoch 22/100\n",
      "71/71 [==============================] - 2s 24ms/step - loss: 175103652397056.0000 - val_loss: 167816065974272.0000\n",
      "Epoch 23/100\n",
      "71/71 [==============================] - 3s 37ms/step - loss: 174677695660032.0000 - val_loss: 173561440370688.0000\n",
      "Epoch 24/100\n",
      "71/71 [==============================] - 2s 26ms/step - loss: 174871187292160.0000 - val_loss: 163826293014528.0000\n",
      "Epoch 25/100\n",
      "71/71 [==============================] - 1s 21ms/step - loss: 174844192751616.0000 - val_loss: 169304725127168.0000\n",
      "Epoch 26/100\n",
      "71/71 [==============================] - 2s 21ms/step - loss: 174839679680512.0000 - val_loss: 171343760850944.0000\n",
      "Epoch 27/100\n",
      "71/71 [==============================] - 2s 23ms/step - loss: 174769064378368.0000 - val_loss: 164833915830272.0000\n",
      "Epoch 28/100\n",
      "71/71 [==============================] - 2s 26ms/step - loss: 175030906388480.0000 - val_loss: 176097366900736.0000\n",
      "Epoch 29/100\n",
      "71/71 [==============================] - 3s 40ms/step - loss: 174312757657600.0000 - val_loss: 164607121424384.0000\n",
      "Epoch 30/100\n",
      "71/71 [==============================] - 2s 33ms/step - loss: 174274723708928.0000 - val_loss: 163586328494080.0000\n",
      "Epoch 31/100\n",
      "71/71 [==============================] - 3s 39ms/step - loss: 174231388160000.0000 - val_loss: 164889347751936.0000\n",
      "Epoch 32/100\n",
      "71/71 [==============================] - 3s 37ms/step - loss: 175205825642496.0000 - val_loss: 163780323442688.0000\n",
      "Epoch 33/100\n",
      "71/71 [==============================] - 3s 36ms/step - loss: 174356512636928.0000 - val_loss: 165560218288128.0000\n",
      "Epoch 34/100\n",
      "71/71 [==============================] - 2s 26ms/step - loss: 174011405303808.0000 - val_loss: 171180032000000.0000\n",
      "Epoch 35/100\n",
      "71/71 [==============================] - 2s 24ms/step - loss: 174488448663552.0000 - val_loss: 167239869267968.0000\n",
      "Epoch 36/100\n",
      "71/71 [==============================] - 2s 24ms/step - loss: 174852380033024.0000 - val_loss: 170576488431616.0000\n",
      "Epoch 37/100\n",
      "71/71 [==============================] - 2s 29ms/step - loss: 174099418578944.0000 - val_loss: 166481371332608.0000\n",
      "Epoch 38/100\n",
      "71/71 [==============================] - 2s 34ms/step - loss: 173093137940480.0000 - val_loss: 171536581394432.0000\n",
      "Epoch 39/100\n",
      "71/71 [==============================] - 2s 35ms/step - loss: 173503307317248.0000 - val_loss: 166979100999680.0000\n",
      "Epoch 40/100\n",
      "71/71 [==============================] - 3s 37ms/step - loss: 174289470881792.0000 - val_loss: 163558478315520.0000\n",
      "Epoch 41/100\n",
      "71/71 [==============================] - 4s 52ms/step - loss: 173985786494976.0000 - val_loss: 166733683884032.0000\n",
      "Epoch 42/100\n",
      "71/71 [==============================] - 5s 68ms/step - loss: 173373971759104.0000 - val_loss: 163665969938432.0000\n",
      "Epoch 43/100\n",
      "71/71 [==============================] - 4s 57ms/step - loss: 173260893323264.0000 - val_loss: 166691371745280.0000\n",
      "Epoch 44/100\n",
      "71/71 [==============================] - 4s 54ms/step - loss: 173303390011392.0000 - val_loss: 164402892374016.0000\n",
      "Epoch 45/100\n",
      "71/71 [==============================] - 4s 52ms/step - loss: 173831251558400.0000 - val_loss: 166020585095168.0000\n",
      "Epoch 46/100\n",
      "71/71 [==============================] - 7s 95ms/step - loss: 173063324827648.0000 - val_loss: 165065407856640.0000\n",
      "Epoch 47/100\n",
      "71/71 [==============================] - 6s 82ms/step - loss: 173923794681856.0000 - val_loss: 167759291875328.0000\n",
      "Epoch 48/100\n",
      "71/71 [==============================] - 5s 73ms/step - loss: 173238915170304.0000 - val_loss: 166233135644672.0000\n",
      "Epoch 49/100\n",
      "71/71 [==============================] - 4s 56ms/step - loss: 173873261707264.0000 - val_loss: 165772785614848.0000\n",
      "Epoch 50/100\n",
      "71/71 [==============================] - 4s 51ms/step - loss: 174009257820160.0000 - val_loss: 168379864317952.0000\n",
      "2431/2431 [==============================] - 4s 2ms/step\n"
     ]
    }
   ],
   "source": [
    "features_used = X_train.shape[1]\n",
    "\n",
    "# Build the neural network\n",
    "os.environ[\"KERAS_BACKEND\"] = \"torch\"\n",
    "used.append(\"Keras With Torch Backend\")\n",
    "model = Sequential()\n",
    "model.add(Dense(360, input_dim=X_train.shape[1], activation='selu', kernel_regularizer=l2(0.01)))\n",
    "model.add(Dropout(0.3))  # You can use either dropout or early stopping\n",
    "model.add(Dense(280, activation='selu', kernel_regularizer=l2(0.01)))\n",
    "model.add(Dropout(0.3))\n",
    "model.add(Dense(190, activation='selu', kernel_regularizer=l2(0.01)))\n",
    "model.add(Dropout(0.3))\n",
    "model.add(Dense(130, activation='selu', kernel_regularizer=l2(0.01)))\n",
    "model.add(Dropout(0.3))\n",
    "model.add(Dense(1, activation='linear'))  # Output layer with linear activation for regression\n",
    "\n",
    "used.append(\"4 Hidden Layers: Hidden Layer 1 with 360 neurons selu activation L2 regularization, \\n\" +\n",
    "            \"Hidden Layer 2 with 280 neurons selu activation L2 regularization, \\n\" +\n",
    "            \"Hidden Layer 3 with 190 neurons selu activation L2 regularization, \\n\" +\n",
    "            \"Hidden Layer 4 with 130 neurons selu activation L2 regularization\")\n",
    "used.append(\"Output linear\")\n",
    "\n",
    "# optimizerUsing = Adam(lr=0.05)#, beta_1=0.9, beta_2=0.999, epsilon=1e-07, amsgrad=False)\n",
    "# used.append(\"Optimizer: Adam(lr=0.05)\")\n",
    "# optimizerUsing = RMSprop(lr=0.001)\n",
    "# used.append(\"Optimizer: RMSprop(lr=0.001)\")\n",
    "# optimizerUsing = Adagrad(lr=0.01)\n",
    "# used.append(\"Optimizer: Adagrad(lr=0.01)\")\n",
    "# optimizerUsing = Adadelta(lr=1.0, rho=0.95)\n",
    "# used.append(\"Optimizer: Adadelta(lr=1.0, rho=0.95)\")\n",
    "# optimizerUsing = Nadam(lr=0.002, beta_1=0.9, beta_2=0.999)\n",
    "# used.append(\"Optimizer: Nadam(lr=0.002, beta_1=0.9, beta_2=0.999)\")\n",
    "optimizerUsing = Ftrl(learning_rate=0.4)#, learning_rate_power=-0.5, initial_accumulator_value=0.1, l1_regularization_strength=0.01, l2_regularization_strength=0.01)\n",
    "used.append(\"Optimizer: Ftrl(learning_rate=0.4)\")\n",
    "\n",
    "# Compile the model\n",
    "model.compile(loss='mean_squared_error', optimizer=optimizerUsing)\n",
    "used.append(\"Loss Calculation: Mean Squared Error\")\n",
    "\n",
    "# Define early stopping\n",
    "early_stopping = EarlyStopping(monitor='val_loss', patience=10, restore_best_weights=True)\n",
    "used.append(\"EarlyStopping(monitor='val_loss', patience=10, restore_best_weights=True)\")\n",
    "\n",
    "# Train the model\n",
    "model.fit(X_train, y_train, epochs=100, batch_size=1800, validation_data=(X_val, y_val), callbacks=[early_stopping])\n",
    "used.append(\"batch_size=1800, epochs=100, early_stopping (patience 10), dropout=0.3, L2 Regularization\")\n",
    "\n",
    "# Train the model\n",
    "# model.fit(X_train, y_train, epochs=100, batch_size=1800, validation_data=(X_val, y_val))#, callbacks=[early_stopping])\n",
    "# used.append(\"batch_size=1800, epochs=100, dropout=0.3, L2 Regularization\")\n",
    "\n",
    "# used.append(\"batch_size=1800, epochs=100, early_stopping\")\n",
    "\n",
    "# Make predictions\n",
    "predictions = model.predict(X_test)"
   ]
  },
  {
   "cell_type": "markdown",
   "metadata": {},
   "source": [
    "<h1>With Skilearn<h1>"
   ]
  },
  {
   "cell_type": "code",
   "execution_count": 17,
   "metadata": {},
   "outputs": [],
   "source": [
    "# features_used = X_train.shape[1]\n",
    "\n",
    "# # # optimizerUsing = SGD(learning_rate=0.01, momentum=0.9)\n",
    "\n",
    "# # # optimizerUsing = Adam(lr=0.001, beta_1=0.9, beta_2=0.999, epsilon=1e-07, amsgrad=False)\n",
    "# # optimizerUsing = Adam(lr=0.001)#, epsilon=1e-07)\n",
    "\n",
    "# l2Regu = 0.001\n",
    "\n",
    "# # model = MLPRegressor(hidden_layer_sizes=(300,210,150,60), activation='relu', solver='adam', alpha = l2Regu, shuffle=False, max_iter=100,\n",
    "# #                      batch_size=1800, early_stopping=True, verbose=True, random_state=42)\n",
    "\n",
    "# # {'logistic', 'tanh', 'identity', 'relu'}. Got 'selu' instead.\n",
    "\n",
    "# model = MLPRegressor(hidden_layer_sizes=(300,210,150,60), activation='relu', solver='adam', alpha = l2Regu, shuffle=False, max_iter=100,\n",
    "#                      batch_size=1800, early_stopping=True, verbose=True, random_state=42)\n",
    "\n",
    "# used.append(\"MLPRegressor\")\n",
    "# used.append(\"4 Hidden Layers: Hidden Layer 1 with 300 neurons relu activation L2 regularization, \\n\" +\n",
    "#             \"Hidden Layer 2 with 210 neurons relu activation L2 regularization, \\n\" +\n",
    "#             \"Hidden Layer 3 with 150 neurons relu activation L2 regularization, \\n\" +\n",
    "#             \"Hidden Layer 4 with 60 neurons relu activation L2 regularization\")\n",
    "# used.append(\"Optimizer: adam\")\n",
    "# used.append(\"batch_size=1800, epochs=100, early_stopping\")\n",
    "\n",
    "# # Train the model\n",
    "# model.fit(X_train, y_train)\n",
    "\n",
    "# # Make predictions\n",
    "# predictions = model.predict(X_test)"
   ]
  },
  {
   "cell_type": "code",
   "execution_count": 18,
   "metadata": {},
   "outputs": [],
   "source": [
    "# Create a DataFrame with the results\n",
    "submission_df = pd.DataFrame({'row ID': test_data['row ID'], 'price_doc': predictions.flatten()})\n",
    "\n",
    "# Save the results to a CSV file\n",
    "submission_df.to_csv('Day12.1.csv', index=False)"
   ]
  },
  {
   "cell_type": "code",
   "execution_count": 19,
   "metadata": {},
   "outputs": [
    {
     "name": "stdout",
     "output_type": "stream",
     "text": [
      "Features Used = 14\n",
      "\n",
      "Forward Feature Selection (n=14)\n",
      "Converted All Columns To float32\n",
      "log Normalization\n",
      "StandardScaler\n",
      "Keras With Torch Backend\n",
      "4 Hidden Layers: Hidden Layer 1 with 360 neurons selu activation L2 regularization, \n",
      "Hidden Layer 2 with 280 neurons selu activation L2 regularization, \n",
      "Hidden Layer 3 with 190 neurons selu activation L2 regularization, \n",
      "Hidden Layer 4 with 130 neurons selu activation L2 regularization\n",
      "Output linear\n",
      "Optimizer: Ftrl(learning_rate=0.4)\n",
      "Loss Calculation: Mean Squared Error\n",
      "EarlyStopping(monitor='val_loss', patience=10, restore_best_weights=True)\n",
      "batch_size=1800, epochs=100, early_stopping (patience 10), dropout=0.3, L2 Regularization\n"
     ]
    }
   ],
   "source": [
    "print(\"Features Used = \" + str(features_used) + \"\\n\")\n",
    "for i in used:\n",
    "    print(i)"
   ]
  }
 ],
 "metadata": {
  "kernelspec": {
   "display_name": "Python 3",
   "language": "python",
   "name": "python3"
  },
  "language_info": {
   "codemirror_mode": {
    "name": "ipython",
    "version": 3
   },
   "file_extension": ".py",
   "mimetype": "text/x-python",
   "name": "python",
   "nbconvert_exporter": "python",
   "pygments_lexer": "ipython3",
   "version": "3.11.4"
  }
 },
 "nbformat": 4,
 "nbformat_minor": 2
}
