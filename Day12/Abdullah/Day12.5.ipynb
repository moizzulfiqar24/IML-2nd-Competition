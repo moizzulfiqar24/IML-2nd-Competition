{
  "cells": [
    {
      "cell_type": "code",
      "execution_count": 56,
      "metadata": {
        "id": "yIjTPgP_kZVt"
      },
      "outputs": [],
      "source": [
        "import pandas as pd\n",
        "from sklearn.model_selection import train_test_split\n",
        "from sklearn.preprocessing import StandardScaler\n",
        "from keras.models import Sequential\n",
        "from keras.layers import Dense, Dropout\n",
        "from keras.callbacks import EarlyStopping\n",
        "import os\n",
        "import torch\n",
        "from sklearn.neural_network import MLPRegressor\n",
        "from sklearn.ensemble import GradientBoostingRegressor\n",
        "from sklearn.metrics import mean_squared_error\n",
        "from sklearn.model_selection import GridSearchCV\n",
        "from keras.optimizers import SGD, Adam, Adadelta, RMSprop, Adagrad, Nadam, Ftrl\n",
        "from keras.regularizers import l2\n",
        "import numpy as np\n",
        "from sklearn.decomposition import PCA\n",
        "from sklearn.feature_selection import VarianceThreshold"
      ]
    },
    {
      "cell_type": "code",
      "source": [
        "from google.colab import drive\n",
        "drive.mount('/content/gdrive')"
      ],
      "metadata": {
        "colab": {
          "base_uri": "https://localhost:8080/"
        },
        "id": "Ad4GPij_kd5V",
        "outputId": "8f033029-a335-465b-ab5d-11143c344d46"
      },
      "execution_count": 57,
      "outputs": [
        {
          "output_type": "stream",
          "name": "stdout",
          "text": [
            "Drive already mounted at /content/gdrive; to attempt to forcibly remount, call drive.mount(\"/content/gdrive\", force_remount=True).\n"
          ]
        }
      ]
    },
    {
      "cell_type": "code",
      "execution_count": 58,
      "metadata": {
        "id": "vh0YdJ8OkZVx"
      },
      "outputs": [],
      "source": [
        "# Load the training data\n",
        "train_data = pd.read_csv('/content/gdrive/MyDrive/train.csv')\n",
        "test_data = pd.read_csv('/content/gdrive/MyDrive/test.csv')\n",
        "\n",
        "used = []\n",
        "\n",
        "# Extract features and target variable\n",
        "X = train_data.drop('price_doc', axis=1)\n",
        "y = train_data['price_doc']\n",
        "X_test = test_data.drop(['row ID'], axis=1)"
      ]
    },
    {
      "cell_type": "code",
      "execution_count": 59,
      "metadata": {
        "id": "nuY5qe6rkZVx"
      },
      "outputs": [],
      "source": [
        "X = X.drop('sub_area', axis=1)\n",
        "X_test = X_test.drop('sub_area', axis=1)\n",
        "used.append('Removed sub_area')"
      ]
    },
    {
      "cell_type": "code",
      "execution_count": 60,
      "metadata": {
        "id": "Sril7824kZVy"
      },
      "outputs": [],
      "source": [
        "X = pd.get_dummies(X)\n",
        "X_test = pd.get_dummies(X_test)\n",
        "used.append('OneHot Encoding')"
      ]
    },
    {
      "cell_type": "code",
      "execution_count": 61,
      "metadata": {
        "id": "NF7V3IZXkZVz"
      },
      "outputs": [],
      "source": [
        "# from sklearn.calibration import LabelEncoder\n",
        "\n",
        "# categorical_columns = X.select_dtypes(include=['object']).columns.tolist()\n",
        "# print(\"Train: Categorical columns:\", categorical_columns)\n",
        "\n",
        "# label_encoder = LabelEncoder()\n",
        "\n",
        "# for column in categorical_columns:\n",
        "#     X[column] = label_encoder.fit_transform(X[column])\n",
        "\n",
        "# categorical_columns_test = X_test.select_dtypes(include=['object']).columns.tolist()\n",
        "# print(\"Test: Categorical columns:\", categorical_columns_test)\n",
        "\n",
        "# label_encoder = LabelEncoder()\n",
        "\n",
        "# for column in categorical_columns_test:\n",
        "#     X_test[column] = label_encoder.fit_transform(X_test[column])\n",
        "\n",
        "# used.append('Label Encoding')"
      ]
    },
    {
      "cell_type": "code",
      "execution_count": 62,
      "metadata": {
        "id": "MjKh7Q3hkZV3"
      },
      "outputs": [],
      "source": [
        "# # drop all columns in X_train with dtypes object\n",
        "# for col in X.columns:\n",
        "#     if X[col].dtype == 'object':\n",
        "#         X.drop(col, axis=1, inplace=True)\n",
        "\n",
        "# # drop all columns in X_test with dtypes object\n",
        "# for col in X_test.columns:\n",
        "#     if X_test[col].dtype == 'object':\n",
        "#         X_test.drop(col, axis=1, inplace=True)\n",
        "\n",
        "# used.append(\"Removed Object Dtypes\")"
      ]
    },
    {
      "cell_type": "code",
      "source": [
        "threshold_value = 5000000\n",
        "variance_filter = VarianceThreshold(threshold=threshold_value)\n",
        "\n",
        "X = variance_filter.fit_transform(X)\n",
        "X_test = variance_filter.transform(X_test)"
      ],
      "metadata": {
        "id": "AlnK6bHt0kO6"
      },
      "execution_count": 63,
      "outputs": []
    },
    {
      "cell_type": "code",
      "execution_count": 64,
      "metadata": {
        "id": "q0qUSXMhkZV4"
      },
      "outputs": [],
      "source": [
        "X = X.astype('float32')\n",
        "X_test = X_test.astype('float32')\n",
        "used.append(\"Converted All Columns To float32\")"
      ]
    },
    {
      "cell_type": "code",
      "execution_count": 65,
      "metadata": {
        "id": "TKYXLW61kZV5"
      },
      "outputs": [],
      "source": [
        "X = np.log1p(X)\n",
        "X_test = np.log1p(X_test)\n",
        "used.append('log Normalization')"
      ]
    },
    {
      "cell_type": "code",
      "execution_count": 66,
      "metadata": {
        "id": "bQCI8xqZkZV7"
      },
      "outputs": [],
      "source": [
        "# Split the data into training and validation sets\n",
        "X_train, X_val, y_train, y_val = train_test_split(X, y, test_size=0.3, random_state=42)"
      ]
    },
    {
      "cell_type": "code",
      "execution_count": 67,
      "metadata": {
        "id": "M2NreX_AkZV-"
      },
      "outputs": [],
      "source": [
        "# Standardize the data\n",
        "scaler = StandardScaler()\n",
        "X_train = scaler.fit_transform(X_train)\n",
        "X_val = scaler.transform(X_val)\n",
        "X_test = scaler.transform(X_test)\n",
        "used.append(\"StandardScaler\")"
      ]
    },
    {
      "cell_type": "code",
      "execution_count": 68,
      "metadata": {
        "colab": {
          "base_uri": "https://localhost:8080/"
        },
        "id": "s747zu3lkZV_",
        "outputId": "2c5c5fee-c3a3-4266-8564-6bd915b3d819"
      },
      "outputs": [
        {
          "output_type": "execute_result",
          "data": {
            "text/plain": [
              "(127054, 39)"
            ]
          },
          "metadata": {},
          "execution_count": 68
        }
      ],
      "source": [
        "X_train.shape"
      ]
    },
    {
      "cell_type": "code",
      "execution_count": 69,
      "metadata": {
        "id": "ZUrtal0TkZWA"
      },
      "outputs": [],
      "source": [
        "# from sklearn.preprocessing import PolynomialFeatures\n",
        "# poly = PolynomialFeatures(2)#, interaction_only=True)\n",
        "# X_train = poly.fit_transform(X_train)\n",
        "# X_test = poly.fit_transform(X_test)\n",
        "# used.append('PolynomialFeatures W/O Interaction')\n",
        "# # used.append('PolynomialFeatures With Interaction')"
      ]
    },
    {
      "cell_type": "code",
      "execution_count": 70,
      "metadata": {
        "id": "azna7s36kZWB"
      },
      "outputs": [],
      "source": [
        "# # save X_train to csv\n",
        "# X_train.to_csv('train with poly w/o int.2.csv', index=False)\n",
        "# X_test.to_csv('test with poly w/o int.csv', index=False)"
      ]
    },
    {
      "cell_type": "code",
      "execution_count": 71,
      "metadata": {
        "id": "WAmDlf5jkZWC"
      },
      "outputs": [],
      "source": [
        "# pca = PCA(n_components=200)\n",
        "# principalComponents = pca.fit_transform(X_train)\n",
        "# X_train = pd.DataFrame(data = principalComponents)\n",
        "\n",
        "# pca2 = PCA(n_components=200)\n",
        "# principalComponents = pca2.fit_transform(X_test)\n",
        "# X_test = pd.DataFrame(data = principalComponents)\n",
        "\n",
        "# used.append('PCA (n=200)')"
      ]
    },
    {
      "cell_type": "markdown",
      "metadata": {
        "id": "lWhR-28RkZWD"
      },
      "source": [
        "<h1>With Keras<h1>"
      ]
    },
    {
      "cell_type": "code",
      "execution_count": 72,
      "metadata": {
        "colab": {
          "base_uri": "https://localhost:8080/"
        },
        "id": "E_EC5YgLkZWF",
        "outputId": "9657164f-f76b-4a84-bf61-f25821070485"
      },
      "outputs": [
        {
          "output_type": "stream",
          "name": "stdout",
          "text": [
            "Epoch 1/150\n",
            "85/85 [==============================] - 5s 39ms/step - loss: 452011417927680.0000 - val_loss: 230959433646080.0000\n",
            "Epoch 2/150\n",
            "85/85 [==============================] - 2s 27ms/step - loss: 225325376077824.0000 - val_loss: 199567987441664.0000\n",
            "Epoch 3/150\n",
            "85/85 [==============================] - 2s 28ms/step - loss: 212703759040512.0000 - val_loss: 193923410558976.0000\n",
            "Epoch 4/150\n",
            "85/85 [==============================] - 2s 27ms/step - loss: 209627069284352.0000 - val_loss: 191907862937600.0000\n",
            "Epoch 5/150\n",
            "85/85 [==============================] - 2s 29ms/step - loss: 209304711856128.0000 - val_loss: 190502687211520.0000\n",
            "Epoch 6/150\n",
            "85/85 [==============================] - 4s 49ms/step - loss: 206501977260032.0000 - val_loss: 189533383557120.0000\n",
            "Epoch 7/150\n",
            "85/85 [==============================] - 3s 38ms/step - loss: 205798223380480.0000 - val_loss: 190240107003904.0000\n",
            "Epoch 8/150\n",
            "85/85 [==============================] - 2s 27ms/step - loss: 204983035232256.0000 - val_loss: 188492642516992.0000\n",
            "Epoch 9/150\n",
            "85/85 [==============================] - 2s 27ms/step - loss: 205145103138816.0000 - val_loss: 187582159781888.0000\n",
            "Epoch 10/150\n",
            "85/85 [==============================] - 2s 27ms/step - loss: 203964591112192.0000 - val_loss: 187087617785856.0000\n",
            "Epoch 11/150\n",
            "85/85 [==============================] - 2s 28ms/step - loss: 202257459052544.0000 - val_loss: 186139503755264.0000\n",
            "Epoch 12/150\n",
            "85/85 [==============================] - 4s 49ms/step - loss: 202171878473728.0000 - val_loss: 187047537016832.0000\n",
            "Epoch 13/150\n",
            "85/85 [==============================] - 3s 38ms/step - loss: 201690103939072.0000 - val_loss: 184612106010624.0000\n",
            "Epoch 14/150\n",
            "85/85 [==============================] - 2s 27ms/step - loss: 200449344929792.0000 - val_loss: 183590558105600.0000\n",
            "Epoch 15/150\n",
            "85/85 [==============================] - 2s 26ms/step - loss: 199751731511296.0000 - val_loss: 186320748019712.0000\n",
            "Epoch 16/150\n",
            "85/85 [==============================] - 2s 26ms/step - loss: 198718489886720.0000 - val_loss: 182532821745664.0000\n",
            "Epoch 17/150\n",
            "85/85 [==============================] - 2s 27ms/step - loss: 198294781296640.0000 - val_loss: 181824454131712.0000\n",
            "Epoch 18/150\n",
            "85/85 [==============================] - 4s 47ms/step - loss: 197648942366720.0000 - val_loss: 181110499704832.0000\n",
            "Epoch 19/150\n",
            "85/85 [==============================] - 4s 42ms/step - loss: 196690376130560.0000 - val_loss: 182540992249856.0000\n",
            "Epoch 20/150\n",
            "85/85 [==============================] - 2s 27ms/step - loss: 194943247187968.0000 - val_loss: 181388347179008.0000\n",
            "Epoch 21/150\n",
            "85/85 [==============================] - 2s 26ms/step - loss: 194441407102976.0000 - val_loss: 179648885424128.0000\n",
            "Epoch 22/150\n",
            "85/85 [==============================] - 2s 27ms/step - loss: 193728962625536.0000 - val_loss: 179975470710784.0000\n",
            "Epoch 23/150\n",
            "85/85 [==============================] - 2s 27ms/step - loss: 191823574204416.0000 - val_loss: 178817490485248.0000\n",
            "Epoch 24/150\n",
            "85/85 [==============================] - 3s 41ms/step - loss: 192297211789312.0000 - val_loss: 179743156600832.0000\n",
            "Epoch 25/150\n",
            "85/85 [==============================] - 4s 48ms/step - loss: 193574931005440.0000 - val_loss: 178972679733248.0000\n",
            "Epoch 26/150\n",
            "85/85 [==============================] - 2s 26ms/step - loss: 194257814028288.0000 - val_loss: 179014907985920.0000\n",
            "Epoch 27/150\n",
            "85/85 [==============================] - 2s 26ms/step - loss: 192572173582336.0000 - val_loss: 178351603974144.0000\n",
            "Epoch 28/150\n",
            "85/85 [==============================] - 2s 28ms/step - loss: 192210490359808.0000 - val_loss: 179216150691840.0000\n",
            "Epoch 29/150\n",
            "85/85 [==============================] - 2s 26ms/step - loss: 192405944926208.0000 - val_loss: 177853656203264.0000\n",
            "Epoch 30/150\n",
            "85/85 [==============================] - 5s 62ms/step - loss: 192551571161088.0000 - val_loss: 179397847941120.0000\n",
            "Epoch 31/150\n",
            "85/85 [==============================] - 3s 39ms/step - loss: 190581842116608.0000 - val_loss: 178287162687488.0000\n",
            "Epoch 32/150\n",
            "85/85 [==============================] - 2s 27ms/step - loss: 190189641138176.0000 - val_loss: 177777252761600.0000\n",
            "Epoch 33/150\n",
            "85/85 [==============================] - 2s 27ms/step - loss: 191942356893696.0000 - val_loss: 178737043734528.0000\n",
            "Epoch 34/150\n",
            "85/85 [==============================] - 2s 27ms/step - loss: 192240722903040.0000 - val_loss: 178627790503936.0000\n",
            "Epoch 35/150\n",
            "85/85 [==============================] - 2s 26ms/step - loss: 191110123094016.0000 - val_loss: 183769856212992.0000\n",
            "Epoch 36/150\n",
            "85/85 [==============================] - 4s 47ms/step - loss: 191061485944832.0000 - val_loss: 180301284245504.0000\n",
            "Epoch 37/150\n",
            "85/85 [==============================] - 4s 42ms/step - loss: 190171756625920.0000 - val_loss: 177697258995712.0000\n",
            "Epoch 38/150\n",
            "85/85 [==============================] - 2s 26ms/step - loss: 190874369654784.0000 - val_loss: 177643219582976.0000\n",
            "Epoch 39/150\n",
            "85/85 [==============================] - 2s 27ms/step - loss: 190397275963392.0000 - val_loss: 177092004151296.0000\n",
            "Epoch 40/150\n",
            "85/85 [==============================] - 2s 27ms/step - loss: 188823338221568.0000 - val_loss: 176926396252160.0000\n",
            "Epoch 41/150\n",
            "85/85 [==============================] - 2s 27ms/step - loss: 189544288747520.0000 - val_loss: 178621146726400.0000\n",
            "Epoch 42/150\n",
            "85/85 [==============================] - 3s 40ms/step - loss: 189344975421440.0000 - val_loss: 177337572261888.0000\n",
            "Epoch 43/150\n",
            "85/85 [==============================] - 4s 45ms/step - loss: 189840490496000.0000 - val_loss: 178063673393152.0000\n",
            "Epoch 44/150\n",
            "85/85 [==============================] - 2s 28ms/step - loss: 189729844756480.0000 - val_loss: 176870561677312.0000\n",
            "Epoch 45/150\n",
            "85/85 [==============================] - 2s 26ms/step - loss: 189761033601024.0000 - val_loss: 176400615079936.0000\n",
            "Epoch 46/150\n",
            "85/85 [==============================] - 2s 27ms/step - loss: 190816303710208.0000 - val_loss: 176370114101248.0000\n",
            "Epoch 47/150\n",
            "85/85 [==============================] - 2s 27ms/step - loss: 189441830289408.0000 - val_loss: 178163766263808.0000\n",
            "Epoch 48/150\n",
            "85/85 [==============================] - 3s 38ms/step - loss: 191931770470400.0000 - val_loss: 176544681033728.0000\n",
            "Epoch 49/150\n",
            "85/85 [==============================] - 4s 45ms/step - loss: 188878048722944.0000 - val_loss: 176720808247296.0000\n",
            "Epoch 50/150\n",
            "85/85 [==============================] - 3s 32ms/step - loss: 190277285314560.0000 - val_loss: 176459536662528.0000\n",
            "Epoch 51/150\n",
            "85/85 [==============================] - 2s 26ms/step - loss: 189746907185152.0000 - val_loss: 176448765689856.0000\n",
            "Epoch 52/150\n",
            "85/85 [==============================] - 2s 27ms/step - loss: 189903304392704.0000 - val_loss: 180677949521920.0000\n",
            "Epoch 53/150\n",
            "85/85 [==============================] - 2s 27ms/step - loss: 190127397666816.0000 - val_loss: 176154610761728.0000\n",
            "Epoch 54/150\n",
            "85/85 [==============================] - 3s 35ms/step - loss: 188934285950976.0000 - val_loss: 176094581882880.0000\n",
            "Epoch 55/150\n",
            "85/85 [==============================] - 4s 45ms/step - loss: 188737942192128.0000 - val_loss: 176045139427328.0000\n",
            "Epoch 56/150\n",
            "85/85 [==============================] - 3s 37ms/step - loss: 187943859781632.0000 - val_loss: 177230802059264.0000\n",
            "Epoch 57/150\n",
            "85/85 [==============================] - 2s 27ms/step - loss: 189013893840896.0000 - val_loss: 177801495838720.0000\n",
            "Epoch 58/150\n",
            "85/85 [==============================] - 2s 27ms/step - loss: 189295516188672.0000 - val_loss: 175875605659648.0000\n",
            "Epoch 59/150\n",
            "85/85 [==============================] - 2s 27ms/step - loss: 189297764335616.0000 - val_loss: 176708795760640.0000\n",
            "Epoch 60/150\n",
            "85/85 [==============================] - 3s 33ms/step - loss: 188917559066624.0000 - val_loss: 178690688286720.0000\n",
            "Epoch 61/150\n",
            "85/85 [==============================] - 4s 48ms/step - loss: 188472610521088.0000 - val_loss: 176148034093056.0000\n",
            "Epoch 62/150\n",
            "85/85 [==============================] - 3s 35ms/step - loss: 187426400108544.0000 - val_loss: 177182919884800.0000\n",
            "Epoch 63/150\n",
            "85/85 [==============================] - 2s 28ms/step - loss: 188204107956224.0000 - val_loss: 175862922084352.0000\n",
            "Epoch 64/150\n",
            "85/85 [==============================] - 2s 27ms/step - loss: 189345864613888.0000 - val_loss: 176329798451200.0000\n",
            "Epoch 65/150\n",
            "85/85 [==============================] - 2s 27ms/step - loss: 188200987394048.0000 - val_loss: 178246696042496.0000\n",
            "Epoch 66/150\n",
            "85/85 [==============================] - 3s 35ms/step - loss: 188135472365568.0000 - val_loss: 177457613242368.0000\n",
            "Epoch 67/150\n",
            "85/85 [==============================] - 4s 49ms/step - loss: 188437596471296.0000 - val_loss: 175720013758464.0000\n",
            "Epoch 68/150\n",
            "85/85 [==============================] - 3s 34ms/step - loss: 189371298873344.0000 - val_loss: 176766308057088.0000\n",
            "Epoch 69/150\n",
            "85/85 [==============================] - 2s 27ms/step - loss: 187520016973824.0000 - val_loss: 175505382834176.0000\n",
            "Epoch 70/150\n",
            "85/85 [==============================] - 2s 27ms/step - loss: 187240760213504.0000 - val_loss: 176225796489216.0000\n",
            "Epoch 71/150\n",
            "85/85 [==============================] - 2s 27ms/step - loss: 186215454212096.0000 - val_loss: 176855613177856.0000\n",
            "Epoch 72/150\n",
            "85/85 [==============================] - 3s 35ms/step - loss: 188114567954432.0000 - val_loss: 175742126129152.0000\n",
            "Epoch 73/150\n",
            "85/85 [==============================] - 4s 48ms/step - loss: 189075281674240.0000 - val_loss: 176446383325184.0000\n",
            "Epoch 74/150\n",
            "85/85 [==============================] - 3s 33ms/step - loss: 188889977323520.0000 - val_loss: 175516439019520.0000\n",
            "Epoch 75/150\n",
            "85/85 [==============================] - 2s 27ms/step - loss: 187354811727872.0000 - val_loss: 175311236890624.0000\n",
            "Epoch 76/150\n",
            "85/85 [==============================] - 2s 26ms/step - loss: 188525861404672.0000 - val_loss: 175374369554432.0000\n",
            "Epoch 77/150\n",
            "85/85 [==============================] - 2s 27ms/step - loss: 186781886578688.0000 - val_loss: 175132744089600.0000\n",
            "Epoch 78/150\n",
            "85/85 [==============================] - 3s 34ms/step - loss: 187501645922304.0000 - val_loss: 175516321579008.0000\n",
            "Epoch 79/150\n",
            "85/85 [==============================] - 4s 46ms/step - loss: 185621087780864.0000 - val_loss: 175351133110272.0000\n",
            "Epoch 80/150\n",
            "85/85 [==============================] - 3s 35ms/step - loss: 186765763674112.0000 - val_loss: 175294140907520.0000\n",
            "Epoch 81/150\n",
            "85/85 [==============================] - 2s 27ms/step - loss: 186749439442944.0000 - val_loss: 175113634840576.0000\n",
            "Epoch 82/150\n",
            "85/85 [==============================] - 2s 27ms/step - loss: 187616754401280.0000 - val_loss: 175446763241472.0000\n",
            "Epoch 83/150\n",
            "85/85 [==============================] - 2s 27ms/step - loss: 187616972505088.0000 - val_loss: 175231947767808.0000\n",
            "Epoch 84/150\n",
            "85/85 [==============================] - 3s 33ms/step - loss: 186704728162304.0000 - val_loss: 175453474127872.0000\n",
            "Epoch 85/150\n",
            "85/85 [==============================] - 4s 49ms/step - loss: 187678310006784.0000 - val_loss: 175169536524288.0000\n",
            "Epoch 86/150\n",
            "85/85 [==============================] - 3s 35ms/step - loss: 186921942777856.0000 - val_loss: 176973137575936.0000\n",
            "Epoch 87/150\n",
            "85/85 [==============================] - 2s 28ms/step - loss: 186828711788544.0000 - val_loss: 177104670949376.0000\n",
            "Epoch 88/150\n",
            "85/85 [==============================] - 2s 27ms/step - loss: 186316989923328.0000 - val_loss: 179214456193024.0000\n",
            "Epoch 89/150\n",
            "85/85 [==============================] - 2s 27ms/step - loss: 186715968897024.0000 - val_loss: 181795882532864.0000\n",
            "Epoch 90/150\n",
            "85/85 [==============================] - 3s 33ms/step - loss: 186055382794240.0000 - val_loss: 175345563074560.0000\n",
            "Epoch 91/150\n",
            "85/85 [==============================] - 4s 48ms/step - loss: 186723183099904.0000 - val_loss: 175988935753728.0000\n",
            "2431/2431 [==============================] - 4s 2ms/step\n"
          ]
        }
      ],
      "source": [
        "features_used = X_train.shape[1]\n",
        "\n",
        "# Build the neural network\n",
        "os.environ[\"KERAS_BACKEND\"] = \"torch\"\n",
        "used.append(\"Keras With Torch Backend\")\n",
        "model = Sequential()\n",
        "model.add(Dense(250, input_dim=X_train.shape[1], activation='relu', kernel_regularizer=l2(0.01)))\n",
        "model.add(Dropout(0.3))  # You can use either dropout or early stopping\n",
        "model.add(Dense(170, activation='relu', kernel_regularizer=l2(0.01)))\n",
        "model.add(Dropout(0.3))\n",
        "model.add(Dense(100, activation='relu', kernel_regularizer=l2(0.01)))\n",
        "model.add(Dropout(0.3))\n",
        "model.add(Dense(50, activation='relu', kernel_regularizer=l2(0.01)))\n",
        "model.add(Dropout(0.3))\n",
        "model.add(Dense(1, activation='linear'))  # Output layer with linear activation for regression\n",
        "\n",
        "used.append(\"4 Hidden Layers: Hidden Layer 1 with 360 neurons selu activation L2 regularization, \\n\" +\n",
        "            \"Hidden Layer 2 with 280 neurons selu activation L2 regularization, \\n\" +\n",
        "            \"Hidden Layer 3 with 190 neurons selu activation L2 regularization, \\n\" +\n",
        "            \"Hidden Layer 4 with 130 neurons selu activation L2 regularization\")\n",
        "used.append(\"Output linear\")\n",
        "\n",
        "# optimizerUsing = Adam(lr=0.05)#, beta_1=0.9, beta_2=0.999, epsilon=1e-07, amsgrad=False)\n",
        "# used.append(\"Optimizer: Adam(lr=0.05)\")\n",
        "# optimizerUsing = RMSprop(lr=0.001)\n",
        "# used.append(\"Optimizer: RMSprop(lr=0.001)\")\n",
        "# optimizerUsing = Adagrad(lr=0.01)\n",
        "# used.append(\"Optimizer: Adagrad(lr=0.01)\")\n",
        "# optimizerUsing = Adadelta(lr=1.0, rho=0.95)\n",
        "# used.append(\"Optimizer: Adadelta(lr=1.0, rho=0.95)\")\n",
        "# optimizerUsing = Nadam(lr=0.002, beta_1=0.9, beta_2=0.999)\n",
        "# used.append(\"Optimizer: Nadam(lr=0.002, beta_1=0.9, beta_2=0.999)\")\n",
        "optimizerUsing = Adam(learning_rate=0.01)#, learning_rate_power=-0.5, initial_accumulator_value=0.1, l1_regularization_strength=0.01, l2_regularization_strength=0.01)\n",
        "used.append(\"Optimizer: Ftrl(learning_rate=0.4)\")\n",
        "\n",
        "# Compile the model\n",
        "model.compile(loss='mean_squared_error', optimizer=optimizerUsing)\n",
        "used.append(\"Loss Calculation: Mean Squared Error\")\n",
        "\n",
        "# Define early stopping\n",
        "early_stopping = EarlyStopping(monitor='val_loss', patience=10, restore_best_weights=True)\n",
        "used.append(\"EarlyStopping(monitor='val_loss', patience=10, restore_best_weights=True)\")\n",
        "\n",
        "# Train the model\n",
        "model.fit(X_train, y_train, epochs=150, batch_size=1500, validation_data=(X_val, y_val), callbacks=[early_stopping])\n",
        "used.append(\"batch_size=1800, epochs=100, early_stopping (patience 10), dropout=0.3, L2 Regularization\")\n",
        "\n",
        "# Train the model\n",
        "# model.fit(X_train, y_train, epochs=100, batch_size=1800, validation_data=(X_val, y_val))#, callbacks=[early_stopping])\n",
        "# used.append(\"batch_size=1800, epochs=100, dropout=0.3, L2 Regularization\")\n",
        "\n",
        "# used.append(\"batch_size=1800, epochs=100, early_stopping\")\n",
        "\n",
        "# Make predictions\n",
        "predictions = model.predict(X_test)"
      ]
    },
    {
      "cell_type": "markdown",
      "metadata": {
        "id": "nLQRSDwmkZWG"
      },
      "source": [
        "<h1>With Skilearn<h1>"
      ]
    },
    {
      "cell_type": "code",
      "execution_count": 73,
      "metadata": {
        "id": "-BjPXCQfkZWG"
      },
      "outputs": [],
      "source": [
        "# features_used = X_train.shape[1]\n",
        "\n",
        "# # # optimizerUsing = SGD(learning_rate=0.01, momentum=0.9)\n",
        "\n",
        "# # # optimizerUsing = Adam(lr=0.001, beta_1=0.9, beta_2=0.999, epsilon=1e-07, amsgrad=False)\n",
        "# # optimizerUsing = Adam(lr=0.001)#, epsilon=1e-07)\n",
        "\n",
        "# l2Regu = 0.001\n",
        "\n",
        "# # model = MLPRegressor(hidden_layer_sizes=(300,210,150,60), activation='relu', solver='adam', alpha = l2Regu, shuffle=False, max_iter=100,\n",
        "# #                      batch_size=1800, early_stopping=True, verbose=True, random_state=42)\n",
        "\n",
        "# # {'logistic', 'tanh', 'identity', 'relu'}. Got 'selu' instead.\n",
        "\n",
        "# model = MLPRegressor(hidden_layer_sizes=(300,210,150,60), activation='relu', solver='adam', alpha = l2Regu, shuffle=False, max_iter=100,\n",
        "#                      batch_size=1800, early_stopping=True, verbose=True, random_state=42)\n",
        "\n",
        "# used.append(\"MLPRegressor\")\n",
        "# used.append(\"4 Hidden Layers: Hidden Layer 1 with 300 neurons relu activation L2 regularization, \\n\" +\n",
        "#             \"Hidden Layer 2 with 210 neurons relu activation L2 regularization, \\n\" +\n",
        "#             \"Hidden Layer 3 with 150 neurons relu activation L2 regularization, \\n\" +\n",
        "#             \"Hidden Layer 4 with 60 neurons relu activation L2 regularization\")\n",
        "# used.append(\"Optimizer: adam\")\n",
        "# used.append(\"batch_size=1800, epochs=100, early_stopping\")\n",
        "\n",
        "# # Train the model\n",
        "# model.fit(X_train, y_train)\n",
        "\n",
        "# # Make predictions\n",
        "# predictions = model.predict(X_test)"
      ]
    },
    {
      "cell_type": "code",
      "execution_count": 74,
      "metadata": {
        "id": "LkT28B8BkZWH"
      },
      "outputs": [],
      "source": [
        "# Create a DataFrame with the results\n",
        "submission_df = pd.DataFrame({'row ID': test_data['row ID'], 'price_doc': predictions.flatten()})\n",
        "\n",
        "# Save the results to a CSV file\n",
        "submission_df.to_csv('Day11.9.csv', index=False)"
      ]
    },
    {
      "cell_type": "code",
      "execution_count": 75,
      "metadata": {
        "colab": {
          "base_uri": "https://localhost:8080/"
        },
        "id": "0B_y9zRBkZWH",
        "outputId": "22867597-e9bd-4701-8bd3-2ff73886f3c2"
      },
      "outputs": [
        {
          "output_type": "stream",
          "name": "stdout",
          "text": [
            "Features Used = 39\n",
            "\n",
            "Removed sub_area\n",
            "OneHot Encoding\n",
            "Converted All Columns To float32\n",
            "log Normalization\n",
            "StandardScaler\n",
            "Keras With Torch Backend\n",
            "4 Hidden Layers: Hidden Layer 1 with 360 neurons selu activation L2 regularization, \n",
            "Hidden Layer 2 with 280 neurons selu activation L2 regularization, \n",
            "Hidden Layer 3 with 190 neurons selu activation L2 regularization, \n",
            "Hidden Layer 4 with 130 neurons selu activation L2 regularization\n",
            "Output linear\n",
            "Optimizer: Ftrl(learning_rate=0.4)\n",
            "Loss Calculation: Mean Squared Error\n",
            "EarlyStopping(monitor='val_loss', patience=10, restore_best_weights=True)\n",
            "batch_size=1800, epochs=100, early_stopping (patience 10), dropout=0.3, L2 Regularization\n"
          ]
        }
      ],
      "source": [
        "print(\"Features Used = \" + str(features_used) + \"\\n\")\n",
        "for i in used:\n",
        "    print(i)"
      ]
    }
  ],
  "metadata": {
    "kernelspec": {
      "display_name": "Python 3",
      "language": "python",
      "name": "python3"
    },
    "language_info": {
      "codemirror_mode": {
        "name": "ipython",
        "version": 3
      },
      "file_extension": ".py",
      "mimetype": "text/x-python",
      "name": "python",
      "nbconvert_exporter": "python",
      "pygments_lexer": "ipython3",
      "version": "3.11.4"
    },
    "colab": {
      "provenance": []
    }
  },
  "nbformat": 4,
  "nbformat_minor": 0
}