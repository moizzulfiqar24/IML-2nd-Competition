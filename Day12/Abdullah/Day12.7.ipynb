{
  "cells": [
    {
      "cell_type": "code",
      "execution_count": 1,
      "metadata": {
        "id": "HBh3CltlBJO8"
      },
      "outputs": [],
      "source": [
        "import pandas as pd\n",
        "from sklearn.model_selection import train_test_split\n",
        "from sklearn.preprocessing import StandardScaler\n",
        "from keras.models import Sequential\n",
        "from keras.layers import Dense, Dropout\n",
        "from keras.callbacks import EarlyStopping\n",
        "import os\n",
        "import torch\n",
        "from sklearn.neural_network import MLPRegressor\n",
        "from sklearn.ensemble import GradientBoostingRegressor\n",
        "from sklearn.metrics import mean_squared_error\n",
        "from sklearn.model_selection import GridSearchCV\n",
        "from keras.optimizers import SGD, Adam, Adadelta, RMSprop, Adagrad, Nadam, Ftrl\n",
        "from keras.regularizers import l2\n",
        "import numpy as np\n",
        "from sklearn.decomposition import PCA"
      ]
    },
    {
      "cell_type": "code",
      "source": [
        "from google.colab import drive\n",
        "drive.mount('/content/gdrive')"
      ],
      "metadata": {
        "colab": {
          "base_uri": "https://localhost:8080/"
        },
        "id": "cE5x7J6_Bb6x",
        "outputId": "f68d4429-a699-49c3-d6aa-f902ec0723ee"
      },
      "execution_count": 2,
      "outputs": [
        {
          "output_type": "stream",
          "name": "stdout",
          "text": [
            "Mounted at /content/gdrive\n"
          ]
        }
      ]
    },
    {
      "cell_type": "code",
      "execution_count": 3,
      "metadata": {
        "id": "-5KTbpKQBJO_"
      },
      "outputs": [],
      "source": [
        "# Load the training data\n",
        "train_data = pd.read_csv('/content/gdrive/MyDrive/train.csv')\n",
        "test_data = pd.read_csv('/content/gdrive/MyDrive/test.csv')\n",
        "\n",
        "used = []\n",
        "\n",
        "# Extract features and target variable\n",
        "X = train_data.drop('price_doc', axis=1)\n",
        "y = train_data['price_doc']\n",
        "X_test = test_data.drop(['row ID'], axis=1)"
      ]
    },
    {
      "cell_type": "code",
      "execution_count": 4,
      "metadata": {
        "id": "_hHPtzYlBJPA"
      },
      "outputs": [],
      "source": [
        "# X = X.drop('sub_area', axis=1)\n",
        "# X_test = X_test.drop('sub_area', axis=1)\n",
        "# used.append('Removed sub_area')"
      ]
    },
    {
      "cell_type": "code",
      "execution_count": 5,
      "metadata": {
        "id": "eM0dAjRYBJPB"
      },
      "outputs": [],
      "source": [
        "# X = pd.get_dummies(X)\n",
        "# X_test = pd.get_dummies(X_test)\n",
        "# used.append('OneHot Encoding')"
      ]
    },
    {
      "cell_type": "code",
      "execution_count": 6,
      "metadata": {
        "id": "0UN5L25EBJPB"
      },
      "outputs": [],
      "source": [
        "# from sklearn.calibration import LabelEncoder\n",
        "\n",
        "# categorical_columns = X.select_dtypes(include=['object']).columns.tolist()\n",
        "# print(\"Train: Categorical columns:\", categorical_columns)\n",
        "\n",
        "# label_encoder = LabelEncoder()\n",
        "\n",
        "# for column in categorical_columns:\n",
        "#     X[column] = label_encoder.fit_transform(X[column])\n",
        "\n",
        "# categorical_columns_test = X_test.select_dtypes(include=['object']).columns.tolist()\n",
        "# print(\"Test: Categorical columns:\", categorical_columns_test)\n",
        "\n",
        "# label_encoder = LabelEncoder()\n",
        "\n",
        "# for column in categorical_columns_test:\n",
        "#     X_test[column] = label_encoder.fit_transform(X_test[column])\n",
        "\n",
        "# used.append('Label Encoding')"
      ]
    },
    {
      "cell_type": "code",
      "execution_count": 7,
      "metadata": {
        "id": "bse-0NDxBJPC"
      },
      "outputs": [],
      "source": [
        "# # drop all columns in X_train with dtypes object\n",
        "# for col in X.columns:\n",
        "#     if X[col].dtype == 'object':\n",
        "#         X.drop(col, axis=1, inplace=True)\n",
        "\n",
        "# # drop all columns in X_test with dtypes object\n",
        "# for col in X_test.columns:\n",
        "#     if X_test[col].dtype == 'object':\n",
        "#         X_test.drop(col, axis=1, inplace=True)\n",
        "\n",
        "# used.append(\"Removed Object Dtypes\")"
      ]
    },
    {
      "cell_type": "code",
      "source": [
        "X = X[['full_sq', 'floor', 'build_count_monolith', 'industrial_km', 'trc_sqm_500',\n",
        " 'mosque_count_500', 'leisure_count_500', 'office_sqm_1000',\n",
        " 'cafe_count_1000_price_high', 'leisure_count_1000', 'power_transmission_line_km', 'big_market_km', 'public_healthcare_km', 'workplaces_km']]\n",
        "X_test = X_test[['full_sq', 'floor', 'build_count_monolith', 'industrial_km', 'trc_sqm_500',\n",
        " 'mosque_count_500', 'leisure_count_500', 'office_sqm_1000',\n",
        " 'cafe_count_1000_price_high', 'leisure_count_1000', 'power_transmission_line_km', 'big_market_km', 'public_healthcare_km', 'workplaces_km']]"
      ],
      "metadata": {
        "id": "CHKDZzPnBiB3"
      },
      "execution_count": 8,
      "outputs": []
    },
    {
      "cell_type": "code",
      "execution_count": 9,
      "metadata": {
        "id": "l4LEcM4GBJPC"
      },
      "outputs": [],
      "source": [
        "X = X.astype('float32')\n",
        "X_test = X_test.astype('float32')\n",
        "used.append(\"Converted All Columns To float32\")"
      ]
    },
    {
      "cell_type": "code",
      "execution_count": 10,
      "metadata": {
        "id": "Mn_OHq_TBJPC"
      },
      "outputs": [],
      "source": [
        "X = np.log1p(X)\n",
        "X_test = np.log1p(X_test)\n",
        "used.append('log Normalization')"
      ]
    },
    {
      "cell_type": "code",
      "execution_count": 11,
      "metadata": {
        "id": "lLopfnC5BJPC"
      },
      "outputs": [],
      "source": [
        "# Split the data into training and validation sets\n",
        "X_train, X_val, y_train, y_val = train_test_split(X, y, test_size=0.3, random_state=42)"
      ]
    },
    {
      "cell_type": "code",
      "execution_count": 12,
      "metadata": {
        "id": "zKVS67OUBJPC"
      },
      "outputs": [],
      "source": [
        "# Standardize the data\n",
        "scaler = StandardScaler()\n",
        "X_train = scaler.fit_transform(X_train)\n",
        "X_val = scaler.transform(X_val)\n",
        "X_test = scaler.transform(X_test)\n",
        "used.append(\"StandardScaler\")"
      ]
    },
    {
      "cell_type": "code",
      "execution_count": 13,
      "metadata": {
        "colab": {
          "base_uri": "https://localhost:8080/"
        },
        "id": "w0yrTY6IBJPD",
        "outputId": "8603b64e-35cf-4194-9d08-e0c91aa96c46"
      },
      "outputs": [
        {
          "output_type": "execute_result",
          "data": {
            "text/plain": [
              "(127054, 14)"
            ]
          },
          "metadata": {},
          "execution_count": 13
        }
      ],
      "source": [
        "X_train.shape"
      ]
    },
    {
      "cell_type": "code",
      "execution_count": 14,
      "metadata": {
        "id": "zzzMbsnqBJPD"
      },
      "outputs": [],
      "source": [
        "# from sklearn.preprocessing import PolynomialFeatures\n",
        "# poly = PolynomialFeatures(2)#, interaction_only=True)\n",
        "# X_train = poly.fit_transform(X_train)\n",
        "# X_test = poly.fit_transform(X_test)\n",
        "# used.append('PolynomialFeatures W/O Interaction')\n",
        "# # used.append('PolynomialFeatures With Interaction')"
      ]
    },
    {
      "cell_type": "code",
      "execution_count": 15,
      "metadata": {
        "id": "b-OV6k1yBJPD"
      },
      "outputs": [],
      "source": [
        "# # save X_train to csv\n",
        "# X_train.to_csv('train with poly w/o int.2.csv', index=False)\n",
        "# X_test.to_csv('test with poly w/o int.csv', index=False)"
      ]
    },
    {
      "cell_type": "code",
      "execution_count": 16,
      "metadata": {
        "id": "YTRbMnd4BJPD"
      },
      "outputs": [],
      "source": [
        "# pca = PCA(n_components=200)\n",
        "# principalComponents = pca.fit_transform(X_train)\n",
        "# X_train = pd.DataFrame(data = principalComponents)\n",
        "\n",
        "# pca2 = PCA(n_components=200)\n",
        "# principalComponents = pca2.fit_transform(X_test)\n",
        "# X_test = pd.DataFrame(data = principalComponents)\n",
        "\n",
        "# used.append('PCA (n=200)')"
      ]
    },
    {
      "cell_type": "markdown",
      "metadata": {
        "id": "fNjLpjXoBJPD"
      },
      "source": [
        "<h1>With Keras<h1>"
      ]
    },
    {
      "cell_type": "code",
      "execution_count": 17,
      "metadata": {
        "id": "AEaucqaLBJPF"
      },
      "outputs": [],
      "source": [
        "# features_used = X_train.shape[1]\n",
        "\n",
        "# # Build the neural network\n",
        "# os.environ[\"KERAS_BACKEND\"] = \"torch\"\n",
        "# used.append(\"Keras With Torch Backend\")\n",
        "# model = Sequential()\n",
        "# model.add(Dense(360, input_dim=X_train.shape[1], activation='selu', kernel_regularizer=l2(0.01)))\n",
        "# model.add(Dropout(0.3))  # You can use either dropout or early stopping\n",
        "# model.add(Dense(280, activation='selu', kernel_regularizer=l2(0.01)))\n",
        "# model.add(Dropout(0.3))\n",
        "# model.add(Dense(190, activation='selu', kernel_regularizer=l2(0.01)))\n",
        "# model.add(Dropout(0.3))\n",
        "# model.add(Dense(130, activation='selu', kernel_regularizer=l2(0.01)))\n",
        "# model.add(Dropout(0.3))\n",
        "# model.add(Dense(1, activation='linear'))  # Output layer with linear activation for regression\n",
        "\n",
        "# used.append(\"4 Hidden Layers: Hidden Layer 1 with 360 neurons selu activation L2 regularization, \\n\" +\n",
        "#             \"Hidden Layer 2 with 280 neurons selu activation L2 regularization, \\n\" +\n",
        "#             \"Hidden Layer 3 with 190 neurons selu activation L2 regularization, \\n\" +\n",
        "#             \"Hidden Layer 4 with 130 neurons selu activation L2 regularization\")\n",
        "# used.append(\"Output linear\")\n",
        "\n",
        "# # optimizerUsing = Adam(lr=0.05)#, beta_1=0.9, beta_2=0.999, epsilon=1e-07, amsgrad=False)\n",
        "# # used.append(\"Optimizer: Adam(lr=0.05)\")\n",
        "# # optimizerUsing = RMSprop(lr=0.001)\n",
        "# # used.append(\"Optimizer: RMSprop(lr=0.001)\")\n",
        "# # optimizerUsing = Adagrad(lr=0.01)\n",
        "# # used.append(\"Optimizer: Adagrad(lr=0.01)\")\n",
        "# # optimizerUsing = Adadelta(lr=1.0, rho=0.95)\n",
        "# # used.append(\"Optimizer: Adadelta(lr=1.0, rho=0.95)\")\n",
        "# # optimizerUsing = Nadam(lr=0.002, beta_1=0.9, beta_2=0.999)\n",
        "# # used.append(\"Optimizer: Nadam(lr=0.002, beta_1=0.9, beta_2=0.999)\")\n",
        "# optimizerUsing = Ftrl(learning_rate=0.05)#, learning_rate_power=-0.5, initial_accumulator_value=0.1, l1_regularization_strength=0.01, l2_regularization_strength=0.01)\n",
        "# used.append(\"Optimizer: Ftrl(learning_rate=0.05)\")\n",
        "\n",
        "# # Compile the model\n",
        "# model.compile(loss='mean_squared_error', optimizer=optimizerUsing)\n",
        "# used.append(\"Loss Calculation: Mean Squared Error\")\n",
        "\n",
        "# # Define early stopping\n",
        "# early_stopping = EarlyStopping(monitor='val_loss', patience=10, restore_best_weights=True)\n",
        "# used.append(\"EarlyStopping(monitor='val_loss', patience=10, restore_best_weights=True)\")\n",
        "\n",
        "# # Train the model\n",
        "# model.fit(X_train, y_train, epochs=100, batch_size=1800, validation_data=(X_val, y_val), callbacks=[early_stopping])\n",
        "# used.append(\"batch_size=1800, epochs=100, early_stopping (patience 10), dropout=0.3, L2 Regularization\")\n",
        "\n",
        "# # Train the model\n",
        "# # model.fit(X_train, y_train, epochs=100, batch_size=1800, validation_data=(X_val, y_val))#, callbacks=[early_stopping])\n",
        "# # used.append(\"batch_size=1800, epochs=100, dropout=0.3, L2 Regularization\")\n",
        "\n",
        "# # used.append(\"batch_size=1800, epochs=100, early_stopping\")\n",
        "\n",
        "# # Make predictions\n",
        "# predictions = model.predict(X_test)"
      ]
    },
    {
      "cell_type": "markdown",
      "metadata": {
        "id": "F0-9D0jxBJPF"
      },
      "source": [
        "<h1>With Skilearn<h1>"
      ]
    },
    {
      "cell_type": "code",
      "execution_count": 18,
      "metadata": {
        "colab": {
          "base_uri": "https://localhost:8080/"
        },
        "id": "KNsk_M67BJPF",
        "outputId": "c27abb58-66c3-43bb-f231-243900c51637"
      },
      "outputs": [
        {
          "output_type": "stream",
          "name": "stdout",
          "text": [
            "Iteration 1, loss = 347733840283917.12500000\n",
            "Validation score: -0.453666\n",
            "Iteration 2, loss = 342604427799410.68750000\n",
            "Validation score: -0.372468\n",
            "Iteration 3, loss = 268752124590563.00000000\n",
            "Validation score: 0.269237\n",
            "Iteration 4, loss = 115683094027630.29687500\n",
            "Validation score: 0.594212\n",
            "Iteration 5, loss = 96409992723945.54687500\n",
            "Validation score: 0.600589\n",
            "Iteration 6, loss = 95226156673143.42187500\n",
            "Validation score: 0.604701\n",
            "Iteration 7, loss = 94354751843023.45312500\n",
            "Validation score: 0.607888\n",
            "Iteration 8, loss = 93649200427141.48437500\n",
            "Validation score: 0.610501\n",
            "Iteration 9, loss = 93056979699729.59375000\n",
            "Validation score: 0.612682\n",
            "Iteration 10, loss = 92551612748731.04687500\n",
            "Validation score: 0.614533\n",
            "Iteration 11, loss = 92113979389600.87500000\n",
            "Validation score: 0.616124\n",
            "Iteration 12, loss = 91730864606672.34375000\n",
            "Validation score: 0.617505\n",
            "Iteration 13, loss = 91389813673044.29687500\n",
            "Validation score: 0.618746\n",
            "Iteration 14, loss = 91075164519027.79687500\n",
            "Validation score: 0.619907\n",
            "Iteration 15, loss = 90776202489234.43750000\n",
            "Validation score: 0.621026\n",
            "Iteration 16, loss = 90482416709779.12500000\n",
            "Validation score: 0.622171\n",
            "Iteration 17, loss = 90180729025879.20312500\n",
            "Validation score: 0.623351\n",
            "Iteration 18, loss = 89864301826947.81250000\n",
            "Validation score: 0.624582\n",
            "Iteration 19, loss = 89525280951050.14062500\n",
            "Validation score: 0.625965\n",
            "Iteration 20, loss = 89161957586430.60937500\n",
            "Validation score: 0.627384\n",
            "Iteration 21, loss = 88806242340869.78125000\n",
            "Validation score: 0.628743\n",
            "Iteration 22, loss = 88475953996037.23437500\n",
            "Validation score: 0.629984\n",
            "Iteration 23, loss = 88167699067575.43750000\n",
            "Validation score: 0.631129\n",
            "Iteration 24, loss = 87886199101360.04687500\n",
            "Validation score: 0.632170\n",
            "Iteration 25, loss = 87638166998292.21875000\n",
            "Validation score: 0.633074\n",
            "Iteration 26, loss = 87430662355242.71875000\n",
            "Validation score: 0.633784\n",
            "Iteration 27, loss = 87260090981940.93750000\n",
            "Validation score: 0.634383\n",
            "Iteration 28, loss = 87117294528433.59375000\n",
            "Validation score: 0.634859\n",
            "Iteration 29, loss = 86999506791208.71875000\n",
            "Validation score: 0.635257\n",
            "Iteration 30, loss = 86901487556326.43750000\n",
            "Validation score: 0.635604\n",
            "Iteration 31, loss = 86817099368659.84375000\n",
            "Validation score: 0.635900\n",
            "Iteration 32, loss = 86744595634359.31250000\n",
            "Validation score: 0.636157\n",
            "Iteration 33, loss = 86681832558488.15625000\n",
            "Validation score: 0.636383\n",
            "Iteration 34, loss = 86626741783965.90625000\n",
            "Validation score: 0.636585\n",
            "Iteration 35, loss = 86577858137637.82812500\n",
            "Validation score: 0.636762\n",
            "Iteration 36, loss = 86534261062868.31250000\n",
            "Validation score: 0.636925\n",
            "Iteration 37, loss = 86494564331821.64062500\n",
            "Validation score: 0.637074\n",
            "Iteration 38, loss = 86458112517326.48437500\n",
            "Validation score: 0.637211\n",
            "Iteration 39, loss = 86424020783026.95312500\n",
            "Validation score: 0.637335\n",
            "Iteration 40, loss = 86392023328483.45312500\n",
            "Validation score: 0.637453\n",
            "Iteration 41, loss = 86361676756801.67187500\n",
            "Validation score: 0.637565\n",
            "Iteration 42, loss = 86332819587887.18750000\n",
            "Validation score: 0.637672\n",
            "Iteration 43, loss = 86305390842058.90625000\n",
            "Validation score: 0.637777\n",
            "Iteration 44, loss = 86279195737396.09375000\n",
            "Validation score: 0.637876\n",
            "Iteration 45, loss = 86254064117390.28125000\n",
            "Validation score: 0.637973\n",
            "Iteration 46, loss = 86229548695656.37500000\n",
            "Validation score: 0.638067\n",
            "Iteration 47, loss = 86205715129944.03125000\n",
            "Validation score: 0.638157\n",
            "Iteration 48, loss = 86182504737904.54687500\n",
            "Validation score: 0.638248\n",
            "Iteration 49, loss = 86159773398249.90625000\n",
            "Validation score: 0.638334\n",
            "Iteration 50, loss = 86137566662224.98437500\n",
            "Validation score: 0.638420\n",
            "Iteration 51, loss = 86115768826980.79687500\n",
            "Validation score: 0.638501\n",
            "Iteration 52, loss = 86094674424174.06250000\n",
            "Validation score: 0.638585\n",
            "Iteration 53, loss = 86073926799696.90625000\n",
            "Validation score: 0.638664\n",
            "Iteration 54, loss = 86053431129202.17187500\n",
            "Validation score: 0.638742\n",
            "Validation score did not improve more than tol=0.000100 for 10 consecutive epochs. Stopping.\n"
          ]
        }
      ],
      "source": [
        "features_used = X_train.shape[1]\n",
        "\n",
        "# # optimizerUsing = SGD(learning_rate=0.01, momentum=0.9)\n",
        "\n",
        "# # optimizerUsing = Adam(lr=0.001, beta_1=0.9, beta_2=0.999, epsilon=1e-07, amsgrad=False)\n",
        "# optimizerUsing = Adam(lr=0.001)#, epsilon=1e-07)\n",
        "\n",
        "l2Regu = 0.001\n",
        "\n",
        "# model = MLPRegressor(hidden_layer_sizes=(300,210,150,60), activation='relu', solver='adam', alpha = l2Regu, shuffle=False, max_iter=100,\n",
        "#                      batch_size=1800, early_stopping=True, verbose=True, random_state=42)\n",
        "\n",
        "# {'logistic', 'tanh', 'identity', 'relu'}. Got 'selu' instead.\n",
        "\n",
        "model = MLPRegressor(hidden_layer_sizes=(250, 170, 100, 50), activation='relu', solver='adam', alpha = l2Regu, shuffle=False, max_iter=150,\n",
        "                     batch_size=1500, early_stopping=True, verbose=True, random_state=42)\n",
        "\n",
        "used.append(\"MLPRegressor\")\n",
        "used.append(\"4 Hidden Layers: Hidden Layer 1 with 300 neurons logistic activation L2 regularization, \\n\" +\n",
        "            \"Hidden Layer 2 with 210 neurons logistic activation L2 regularization, \\n\" +\n",
        "            \"Hidden Layer 3 with 150 neurons logistic activation L2 regularization, \\n\" +\n",
        "            \"Hidden Layer 4 with 60 neurons logistic activation L2 regularization\")\n",
        "used.append(\"Optimizer: adam\")\n",
        "used.append(\"batch_size=1800, epochs=100, early_stopping\")\n",
        "\n",
        "# Train the model\n",
        "model.fit(X_train, y_train)\n",
        "\n",
        "# Make predictions\n",
        "predictions = model.predict(X_test)"
      ]
    },
    {
      "cell_type": "code",
      "execution_count": 19,
      "metadata": {
        "id": "_jo5is0dBJPF"
      },
      "outputs": [],
      "source": [
        "# Create a DataFrame with the results\n",
        "submission_df = pd.DataFrame({'row ID': test_data['row ID'], 'price_doc': predictions.flatten()})\n",
        "\n",
        "# Save the results to a CSV file\n",
        "submission_df.to_csv('Day11.4.csv', index=False)"
      ]
    },
    {
      "cell_type": "code",
      "execution_count": 20,
      "metadata": {
        "colab": {
          "base_uri": "https://localhost:8080/"
        },
        "id": "v4yVpBbKBJPF",
        "outputId": "d3bead89-de84-4f66-acb1-8e1b0e0a56c2"
      },
      "outputs": [
        {
          "output_type": "stream",
          "name": "stdout",
          "text": [
            "Features Used = 14\n",
            "\n",
            "Converted All Columns To float32\n",
            "log Normalization\n",
            "StandardScaler\n",
            "MLPRegressor\n",
            "4 Hidden Layers: Hidden Layer 1 with 300 neurons logistic activation L2 regularization, \n",
            "Hidden Layer 2 with 210 neurons logistic activation L2 regularization, \n",
            "Hidden Layer 3 with 150 neurons logistic activation L2 regularization, \n",
            "Hidden Layer 4 with 60 neurons logistic activation L2 regularization\n",
            "Optimizer: adam\n",
            "batch_size=1800, epochs=100, early_stopping\n"
          ]
        }
      ],
      "source": [
        "print(\"Features Used = \" + str(features_used) + \"\\n\")\n",
        "for i in used:\n",
        "    print(i)"
      ]
    }
  ],
  "metadata": {
    "kernelspec": {
      "display_name": "Python 3",
      "language": "python",
      "name": "python3"
    },
    "language_info": {
      "codemirror_mode": {
        "name": "ipython",
        "version": 3
      },
      "file_extension": ".py",
      "mimetype": "text/x-python",
      "name": "python",
      "nbconvert_exporter": "python",
      "pygments_lexer": "ipython3",
      "version": "3.11.4"
    },
    "colab": {
      "provenance": []
    }
  },
  "nbformat": 4,
  "nbformat_minor": 0
}