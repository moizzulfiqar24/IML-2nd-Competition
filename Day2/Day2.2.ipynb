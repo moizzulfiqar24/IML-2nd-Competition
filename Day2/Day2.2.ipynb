{
 "cells": [
  {
   "cell_type": "code",
   "execution_count": 1,
   "metadata": {},
   "outputs": [],
   "source": [
    "import numpy as np\n",
    "import pandas as pd\n",
    "from sklearn.linear_model import LinearRegression\n",
    "from sklearn.metrics import mean_squared_error, r2_score\n",
    "from sklearn.model_selection import train_test_split\n",
    "from sklearn.feature_selection import SequentialFeatureSelector\n",
    "from sklearn.preprocessing import MinMaxScaler"
   ]
  },
  {
   "cell_type": "code",
   "execution_count": 2,
   "metadata": {},
   "outputs": [],
   "source": [
    "from scipy.stats import skew\n",
    "\n",
    "def find_skewed_columns(dataframe, threshold=0.5):\n",
    "    \"\"\"\n",
    "    Identify skewed columns in a pandas DataFrame.\n",
    "\n",
    "    Parameters:\n",
    "    - dataframe: pandas DataFrame\n",
    "    - threshold: Skewness threshold to determine if a column is skewed (default is 0.5)\n",
    "\n",
    "    Returns:\n",
    "    - List of tuples containing (column_name, skewness_value) for skewed columns.\n",
    "    \"\"\"\n",
    "    skewed_columns = []\n",
    "    \n",
    "    for column in dataframe.columns:\n",
    "        if dataframe[column].dtype in ['int64', 'float64']:\n",
    "            skewness = skew(dataframe[column])\n",
    "            if abs(skewness) > threshold:\n",
    "                skewed_columns.append((column, skewness))\n",
    "    \n",
    "    return skewed_columns\n",
    "\n",
    "def check_scaling_needed(dataframe, threshold=5):\n",
    "    \"\"\"\n",
    "    Identify columns in a pandas DataFrame that may require scaling.\n",
    "\n",
    "    Parameters:\n",
    "    - dataframe: pandas DataFrame\n",
    "    - threshold: Range threshold to determine if a column requires scaling (default is 5)\n",
    "\n",
    "    Returns:\n",
    "    - List of tuples containing (column_name, range_value) for columns that may require scaling.\n",
    "    \"\"\"\n",
    "    scaling_needed_columns = []\n",
    "\n",
    "    for column in dataframe.columns:\n",
    "        if dataframe[column].dtype in ['int64', 'float64']:\n",
    "            column_range = dataframe[column].max() - dataframe[column].min()\n",
    "            if column_range > threshold:\n",
    "                scaling_needed_columns.append((column, column_range))\n",
    "\n",
    "    return scaling_needed_columns"
   ]
  },
  {
   "cell_type": "code",
   "execution_count": 3,
   "metadata": {},
   "outputs": [],
   "source": [
    "train = pd.read_csv('../../2nd-Comp-Data/train.csv')\n",
    "test = pd.read_csv('../../2nd-Comp-Data/test.csv')\n",
    "testOriginal = pd.read_csv('../../2nd-Comp-Data/test.csv')"
   ]
  },
  {
   "cell_type": "code",
   "execution_count": 4,
   "metadata": {},
   "outputs": [
    {
     "data": {
      "text/plain": [
       "(181507, 272)"
      ]
     },
     "execution_count": 4,
     "metadata": {},
     "output_type": "execute_result"
    }
   ],
   "source": [
    "train.shape"
   ]
  },
  {
   "cell_type": "code",
   "execution_count": 5,
   "metadata": {},
   "outputs": [],
   "source": [
    "test.drop('row ID', axis=1, inplace=True)\n",
    "test.drop('sub_area', axis=1, inplace=True)"
   ]
  },
  {
   "cell_type": "code",
   "execution_count": 6,
   "metadata": {},
   "outputs": [],
   "source": [
    "train.drop('sub_area', axis=1, inplace=True)"
   ]
  },
  {
   "cell_type": "markdown",
   "metadata": {},
   "source": [
    "Categorical To Numerical"
   ]
  },
  {
   "cell_type": "code",
   "execution_count": 7,
   "metadata": {},
   "outputs": [],
   "source": [
    "train = pd.get_dummies(train)\n",
    "test = pd.get_dummies(test)"
   ]
  },
  {
   "cell_type": "markdown",
   "metadata": {},
   "source": [
    "Scaling"
   ]
  },
  {
   "cell_type": "code",
   "execution_count": 8,
   "metadata": {},
   "outputs": [],
   "source": [
    "# scaling_needed_columns = check_scaling_needed(train)\n",
    "\n",
    "# if not scaling_needed_columns:\n",
    "#     print(\"No columns require scaling.\")\n",
    "# else:\n",
    "#     print(\"Columns that may require scaling:\")\n",
    "#     for column, column_range in scaling_needed_columns:\n",
    "#         print(f\"{column}: Range = {column_range}\")\n"
   ]
  },
  {
   "cell_type": "code",
   "execution_count": 9,
   "metadata": {},
   "outputs": [],
   "source": [
    "# scaling_needed_columns = check_scaling_needed(train)\n",
    "# scaler = MinMaxScaler()\n",
    "\n",
    "# for column, _ in scaling_needed_columns:\n",
    "#     if train[column].dtype in ['int64', 'float64']:\n",
    "#         train[column] = scaler.fit_transform(train[[column]])"
   ]
  },
  {
   "cell_type": "markdown",
   "metadata": {},
   "source": [
    "Normalization"
   ]
  },
  {
   "cell_type": "code",
   "execution_count": 10,
   "metadata": {},
   "outputs": [
    {
     "name": "stdout",
     "output_type": "stream",
     "text": [
      "Skewed columns:\n",
      "full_sq: Skewness = 2.9087842962497996\n",
      "life_sq: Skewness = 3.009192993375616\n",
      "floor: Skewness = 2.688649903999332\n",
      "area_m: Skewness = 2.2060704026588662\n",
      "raion_popul: Skewness = 0.5396642095318434\n",
      "green_zone_part: Skewness = 0.9783776212652736\n",
      "indust_part: Skewness = 0.9075324786679504\n",
      "children_preschool: Skewness = 1.2095665329895529\n",
      "preschool_education_centers_raion: Skewness = 0.597380337910174\n",
      "children_school: Skewness = 1.0794304517714368\n",
      "school_education_centers_top_20_raion: Skewness = 1.9556211831048462\n",
      "healthcare_centers_raion: Skewness = 0.7619618969715417\n",
      "university_top_20_raion: Skewness = 2.0220915540187976\n",
      "sport_objects_raion: Skewness = 1.1080408409523737\n",
      "additional_education_raion: Skewness = 1.8179306260988264\n",
      "culture_objects_top_25_raion: Skewness = 2.6715541515113923\n",
      "shopping_centers_raion: Skewness = 1.4692835773203703\n",
      "office_raion: Skewness = 2.210852135036375\n",
      "full_all: Skewness = 2.1505200560280215\n",
      "male_f: Skewness = 2.144854488783137\n",
      "female_f: Skewness = 2.154256948074303\n",
      "young_all: Skewness = 1.1430352084415802\n",
      "young_male: Skewness = 1.1669341024470163\n",
      "young_female: Skewness = 1.1111752079631083\n",
      "work_all: Skewness = 0.5974341363464185\n",
      "work_male: Skewness = 0.5475296223839626\n",
      "work_female: Skewness = 0.6646703985116815\n",
      "ekder_male: Skewness = 0.6474608086799107\n",
      "0_6_all: Skewness = 1.207334615371888\n",
      "0_6_male: Skewness = 1.244125415050626\n",
      "0_6_female: Skewness = 1.1601477462102434\n",
      "7_14_all: Skewness = 1.0798089255984993\n",
      "7_14_male: Skewness = 1.0872064336752383\n",
      "7_14_female: Skewness = 1.069003402033615\n",
      "0_17_all: Skewness = 1.1077966233104928\n",
      "0_17_male: Skewness = 1.133172187554201\n",
      "0_17_female: Skewness = 1.0934609556952297\n",
      "16_29_all: Skewness = 2.1499168776518007\n",
      "16_29_male: Skewness = 2.1394208425726426\n",
      "16_29_female: Skewness = 2.155988970725318\n",
      "0_13_all: Skewness = 1.152144691513259\n",
      "0_13_male: Skewness = 1.1747611056409755\n",
      "0_13_female: Skewness = 1.1178204082634404\n",
      "raion_build_count_with_material_info: Skewness = 1.9813865379300106\n",
      "build_count_block: Skewness = 1.392050840999849\n",
      "build_count_wood: Skewness = 2.388682736640699\n",
      "build_count_frame: Skewness = 2.2631386477710587\n",
      "build_count_brick: Skewness = 1.6005122335227708\n",
      "build_count_monolith: Skewness = 2.389072319997293\n",
      "build_count_panel: Skewness = 1.390683681600109\n",
      "build_count_foam: Skewness = 2.8975844857327817\n",
      "build_count_slag: Skewness = 2.4813206926296014\n",
      "build_count_mix: Skewness = 2.279872697230962\n",
      "raion_build_count_with_builddate_info: Skewness = 1.9890150233562638\n",
      "build_count_before_1920: Skewness = 2.277032679067637\n",
      "build_count_1921-1945: Skewness = 2.222379707982614\n",
      "build_count_1946-1970: Skewness = 1.6912737223163188\n",
      "build_count_1971-1995: Skewness = 0.9124855108360903\n",
      "build_count_after_1995: Skewness = 2.672205784783718\n",
      "ID_metro: Skewness = 0.6684603982542847\n",
      "metro_min_avto: Skewness = 1.857512003155936\n",
      "metro_km_avto: Skewness = 2.0696121787037707\n",
      "metro_min_walk: Skewness = 1.9526484894169036\n",
      "metro_km_walk: Skewness = 1.9547737004533465\n",
      "kindergarten_km: Skewness = 2.3811529077481164\n",
      "school_km: Skewness = 2.240600440513072\n",
      "park_km: Skewness = 2.0837061004868707\n",
      "green_zone_km: Skewness = 1.9752628607154386\n",
      "industrial_km: Skewness = 2.6863699185100827\n",
      "water_treatment_km: Skewness = 1.1091009380207755\n",
      "cemetery_km: Skewness = 2.2052327090550166\n",
      "incineration_km: Skewness = 1.687679085764353\n",
      "railroad_station_walk_km: Skewness = 1.8496479219374597\n",
      "railroad_station_walk_min: Skewness = 1.8533747869289545\n",
      "ID_railroad_station_walk: Skewness = 0.6990280796469865\n",
      "railroad_station_avto_km: Skewness = 1.9013821810212632\n",
      "railroad_station_avto_min: Skewness = 2.1571710137494886\n",
      "ID_railroad_station_avto: Skewness = 0.5719308158512483\n",
      "public_transport_station_km: Skewness = 2.438155580869527\n",
      "public_transport_station_min_walk: Skewness = 2.4420897811286046\n",
      "water_km: Skewness = 1.3109864361856969\n",
      "mkad_km: Skewness = 1.859213190856514\n",
      "ttk_km: Skewness = 1.5873359129791513\n",
      "sadovoe_km: Skewness = 1.5347155501716923\n",
      "bulvar_ring_km: Skewness = 1.5224427923547443\n",
      "kremlin_km: Skewness = 1.5306949400891592\n",
      "big_road1_km: Skewness = 1.0609707549295513\n",
      "ID_big_road1: Skewness = 1.1129250384531995\n",
      "big_road2_km: Skewness = 1.5370156679514657\n",
      "railroad_km: Skewness = 2.024694231444711\n",
      "zd_vokzaly_avto_km: Skewness = 1.6510100154607599\n",
      "bus_terminal_avto_km: Skewness = 1.7932816273892207\n",
      "oil_chemistry_km: Skewness = 1.2820368208460482\n",
      "nuclear_reactor_km: Skewness = 1.7108669151080662\n",
      "radiation_km: Skewness = 1.8929607003498332\n",
      "power_transmission_line_km: Skewness = 1.9744950686298495\n",
      "thermal_power_plant_km: Skewness = 1.903256579224287\n",
      "ts_km: Skewness = 1.968978964445849\n",
      "big_market_km: Skewness = 1.3838241690509054\n",
      "market_shop_km: Skewness = 2.2151802285114437\n",
      "fitness_km: Skewness = 2.2717228104923737\n",
      "swim_pool_km: Skewness = 2.026533293151313\n",
      "ice_rink_km: Skewness = 2.01081160739485\n",
      "stadium_km: Skewness = 1.9185447334104342\n",
      "basketball_km: Skewness = 1.9412397395101733\n",
      "hospice_morgue_km: Skewness = 2.2317775707681533\n",
      "detention_facility_km: Skewness = 1.6659791324629587\n",
      "public_healthcare_km: Skewness = 2.287482276754163\n",
      "university_km: Skewness = 2.1095180906391042\n",
      "workplaces_km: Skewness = 2.0407531867424242\n",
      "shopping_centers_km: Skewness = 2.1800242942795722\n",
      "office_km: Skewness = 1.9327574672954142\n",
      "additional_education_km: Skewness = 2.4880877787891347\n",
      "preschool_km: Skewness = 2.2371535798272473\n",
      "big_church_km: Skewness = 2.25192992710586\n",
      "church_synagogue_km: Skewness = 2.7503443788422994\n",
      "mosque_km: Skewness = 1.6608547687103115\n",
      "theater_km: Skewness = 2.039178278875045\n",
      "museum_km: Skewness = 1.9284230357565333\n",
      "exhibition_km: Skewness = 1.9074354091194368\n",
      "catering_km: Skewness = 2.1478287149725337\n",
      "green_part_500: Skewness = 1.8949208359928995\n",
      "prom_part_500: Skewness = 2.151839680144712\n",
      "office_count_500: Skewness = 2.512616078615498\n",
      "office_sqm_500: Skewness = 2.5030357220821884\n",
      "trc_count_500: Skewness = 2.0692770297094727\n",
      "trc_sqm_500: Skewness = 2.786030507423197\n",
      "cafe_count_500: Skewness = 2.489053144102638\n",
      "cafe_count_500_na_price: Skewness = 2.6012517712319476\n",
      "cafe_count_500_price_500: Skewness = 2.510840347073822\n",
      "cafe_count_500_price_1000: Skewness = 2.619411308591016\n",
      "cafe_count_500_price_1500: Skewness = 2.5000654260255697\n",
      "cafe_count_500_price_2500: Skewness = 2.56603581457084\n",
      "cafe_count_500_price_4000: Skewness = 2.6989686197474168\n",
      "cafe_count_500_price_high: Skewness = 2.6913584497252527\n",
      "big_church_count_500: Skewness = 2.6242159570471837\n",
      "church_count_500: Skewness = 2.62729106163713\n",
      "mosque_count_500: Skewness = 2.8064923623618285\n",
      "leisure_count_500: Skewness = 2.7229170545093835\n",
      "sport_count_500: Skewness = 2.084983703789977\n",
      "market_count_500: Skewness = 2.4548118639694096\n",
      "green_part_1000: Skewness = 1.7154512137895472\n",
      "prom_part_1000: Skewness = 1.5766878615011242\n",
      "office_count_1000: Skewness = 2.3405863350326013\n",
      "office_sqm_1000: Skewness = 2.54359659564863\n",
      "trc_count_1000: Skewness = 2.1613430063464136\n",
      "trc_sqm_1000: Skewness = 2.5098531838031914\n",
      "cafe_count_1000: Skewness = 2.530414507749832\n",
      "cafe_count_1000_na_price: Skewness = 2.4545434067466836\n",
      "cafe_count_1000_price_500: Skewness = 2.5324763069654033\n",
      "cafe_count_1000_price_1000: Skewness = 2.5132225172137\n",
      "cafe_count_1000_price_1500: Skewness = 2.5185475447491483\n",
      "cafe_count_1000_price_2500: Skewness = 2.612162544422534\n",
      "cafe_count_1000_price_4000: Skewness = 2.628921588847814\n",
      "cafe_count_1000_price_high: Skewness = 2.6579643760284277\n",
      "big_church_count_1000: Skewness = 2.531603356379352\n",
      "church_count_1000: Skewness = 2.508933712926805\n",
      "mosque_count_1000: Skewness = 2.6012950154134007\n",
      "leisure_count_1000: Skewness = 2.6947525352632016\n",
      "sport_count_1000: Skewness = 1.7780409535719903\n",
      "market_count_1000: Skewness = 2.1130494953996846\n",
      "green_part_1500: Skewness = 1.4094516045871\n",
      "prom_part_1500: Skewness = 1.3657865613879572\n",
      "office_count_1500: Skewness = 2.206546303136419\n",
      "office_sqm_1500: Skewness = 2.1614706799594363\n",
      "trc_count_1500: Skewness = 1.7703083599281657\n",
      "trc_sqm_1500: Skewness = 2.051140335178866\n",
      "cafe_count_1500: Skewness = 2.4441039007007603\n",
      "cafe_count_1500_na_price: Skewness = 2.4227685673683204\n",
      "cafe_count_1500_price_500: Skewness = 2.45519395058329\n",
      "cafe_count_1500_price_1000: Skewness = 2.3852598666657987\n",
      "cafe_count_1500_price_1500: Skewness = 2.4176034906256976\n",
      "cafe_count_1500_price_2500: Skewness = 2.494349030750732\n",
      "cafe_count_1500_price_4000: Skewness = 2.5237982552938942\n",
      "cafe_count_1500_price_high: Skewness = 2.556630003133859\n",
      "big_church_count_1500: Skewness = 2.4666409743955775\n",
      "church_count_1500: Skewness = 2.458232063227976\n",
      "mosque_count_1500: Skewness = 2.3216414554594014\n",
      "leisure_count_1500: Skewness = 2.586505205172411\n",
      "sport_count_1500: Skewness = 1.3343290174132054\n",
      "market_count_1500: Skewness = 1.65640632535541\n",
      "green_part_2000: Skewness = 1.144987986831141\n",
      "prom_part_2000: Skewness = 1.1839170243972967\n",
      "office_count_2000: Skewness = 2.089583595446694\n",
      "office_sqm_2000: Skewness = 1.8431770481786025\n",
      "trc_count_2000: Skewness = 1.5373004955910419\n",
      "trc_sqm_2000: Skewness = 2.0085405748185634\n",
      "cafe_count_2000: Skewness = 2.3516947732123374\n",
      "cafe_sum_2000_min_price_avg: Skewness = 2.2438457418616555\n",
      "cafe_sum_2000_max_price_avg: Skewness = 2.2925641494229687\n",
      "cafe_avg_price_2000: Skewness = 2.2781821678065826\n",
      "cafe_count_2000_na_price: Skewness = 2.2852374235184203\n",
      "cafe_count_2000_price_500: Skewness = 2.360726840473606\n",
      "cafe_count_2000_price_1000: Skewness = 2.320899164826308\n",
      "cafe_count_2000_price_1500: Skewness = 2.3425591991228587\n",
      "cafe_count_2000_price_2500: Skewness = 2.3608412433097197\n",
      "cafe_count_2000_price_4000: Skewness = 2.4427776519590383\n",
      "cafe_count_2000_price_high: Skewness = 2.416747223738799\n",
      "big_church_count_2000: Skewness = 2.3989194736435886\n",
      "church_count_2000: Skewness = 2.3854061262895963\n",
      "mosque_count_2000: Skewness = 1.8995233909415834\n",
      "leisure_count_2000: Skewness = 2.4180085776557028\n",
      "sport_count_2000: Skewness = 1.1281295532200342\n",
      "market_count_2000: Skewness = 1.3107239312492847\n",
      "green_part_3000: Skewness = 1.095177234117016\n",
      "prom_part_3000: Skewness = 0.9265459487105552\n",
      "office_count_3000: Skewness = 2.0046622078198033\n",
      "office_sqm_3000: Skewness = 1.6101445114108806\n",
      "trc_count_3000: Skewness = 1.3436630575634376\n",
      "trc_sqm_3000: Skewness = 1.1793662525865274\n",
      "cafe_count_3000: Skewness = 2.1792184579139375\n",
      "cafe_sum_3000_min_price_avg: Skewness = 2.0455894486071964\n",
      "cafe_sum_3000_max_price_avg: Skewness = 2.0953864794812627\n",
      "cafe_avg_price_3000: Skewness = 2.0805432752087882\n",
      "cafe_count_3000_na_price: Skewness = 2.15379846821594\n",
      "cafe_count_3000_price_500: Skewness = 2.1771446298647357\n",
      "cafe_count_3000_price_1000: Skewness = 2.13832403944558\n",
      "cafe_count_3000_price_1500: Skewness = 2.1838611713878993\n",
      "cafe_count_3000_price_2500: Skewness = 2.20173830028718\n",
      "cafe_count_3000_price_4000: Skewness = 2.2739924789080233\n",
      "cafe_count_3000_price_high: Skewness = 2.256430887045937\n",
      "big_church_count_3000: Skewness = 2.148065639438308\n",
      "church_count_3000: Skewness = 2.161787005953162\n",
      "mosque_count_3000: Skewness = 1.442328413287935\n",
      "leisure_count_3000: Skewness = 2.259626407822849\n",
      "sport_count_3000: Skewness = 0.9694799541533786\n",
      "market_count_3000: Skewness = 0.644868593440577\n",
      "green_part_5000: Skewness = 1.25667368333613\n",
      "office_count_5000: Skewness = 1.6016843822168005\n",
      "office_sqm_5000: Skewness = 1.4099123098745696\n",
      "trc_count_5000: Skewness = 0.74666055126276\n",
      "trc_sqm_5000: Skewness = 0.5976243528796287\n",
      "cafe_count_5000: Skewness = 1.6752129638619486\n",
      "cafe_sum_5000_min_price_avg: Skewness = 2.1025439224683056\n",
      "cafe_sum_5000_max_price_avg: Skewness = 2.0574587718454396\n",
      "cafe_avg_price_5000: Skewness = 2.069764147927837\n",
      "cafe_count_5000_na_price: Skewness = 1.6628664105136186\n",
      "cafe_count_5000_price_500: Skewness = 1.6526407576960631\n",
      "cafe_count_5000_price_1000: Skewness = 1.6193550036395552\n",
      "cafe_count_5000_price_1500: Skewness = 1.6822640713427282\n",
      "cafe_count_5000_price_2500: Skewness = 1.703373550126488\n",
      "cafe_count_5000_price_4000: Skewness = 1.769423129072552\n",
      "cafe_count_5000_price_high: Skewness = 1.7723814427284537\n",
      "big_church_count_5000: Skewness = 1.7248845545163396\n",
      "church_count_5000: Skewness = 1.6843795108241033\n",
      "mosque_count_5000: Skewness = 0.6724560955623223\n",
      "leisure_count_5000: Skewness = 1.7248006774049107\n",
      "sport_count_5000: Skewness = 0.7023399552187746\n",
      "price_doc: Skewness = 2.787138366833958\n"
     ]
    }
   ],
   "source": [
    "skewed_columns = find_skewed_columns(train)\n",
    "\n",
    "if not skewed_columns:\n",
    "    print(\"No skewed columns found.\")\n",
    "else:\n",
    "    print(\"Skewed columns:\")\n",
    "    for column, skewness in skewed_columns:\n",
    "        print(f\"{column}: Skewness = {skewness}\")"
   ]
  },
  {
   "cell_type": "code",
   "execution_count": 11,
   "metadata": {},
   "outputs": [],
   "source": [
    "for column, _ in skewed_columns:\n",
    "    if train[column].dtype in ['int64', 'float64']:\n",
    "        train[column] = train[column].apply(lambda x: 1 if x == 0 else np.log(x))"
   ]
  },
  {
   "cell_type": "code",
   "execution_count": 12,
   "metadata": {},
   "outputs": [],
   "source": [
    "X = train.loc[:, train.columns != 'price_doc']\n",
    "y = train[['price_doc']]"
   ]
  },
  {
   "cell_type": "code",
   "execution_count": 13,
   "metadata": {},
   "outputs": [],
   "source": [
    "# ols_reg = LinearRegression()\n",
    "# sfs = SequentialFeatureSelector(ols_reg, direction='forward',n_features_to_select=5)\n",
    "# sfs.fit(X, y)\n",
    "# print(sfs.get_feature_names_out())"
   ]
  },
  {
   "cell_type": "code",
   "execution_count": 14,
   "metadata": {},
   "outputs": [],
   "source": [
    "# X = X[['full_sq', 'mosque_count_500', 'leisure_count_500', 'cafe_count_1000_price_high', 'leisure_count_1000']]\n",
    "# test = test[['full_sq', 'mosque_count_500', 'leisure_count_500', 'cafe_count_1000_price_high', 'leisure_count_1000']]"
   ]
  },
  {
   "cell_type": "code",
   "execution_count": 15,
   "metadata": {},
   "outputs": [
    {
     "data": {
      "text/plain": [
       "(181507, 287)"
      ]
     },
     "execution_count": 15,
     "metadata": {},
     "output_type": "execute_result"
    }
   ],
   "source": [
    "X.shape"
   ]
  },
  {
   "cell_type": "code",
   "execution_count": 16,
   "metadata": {},
   "outputs": [
    {
     "data": {
      "text/plain": [
       "(77789, 287)"
      ]
     },
     "execution_count": 16,
     "metadata": {},
     "output_type": "execute_result"
    }
   ],
   "source": [
    "test.shape"
   ]
  },
  {
   "cell_type": "code",
   "execution_count": 17,
   "metadata": {},
   "outputs": [],
   "source": [
    "# X_train, X_test, y_train, y_test = train_test_split(X, y, test_size = 0.3)"
   ]
  },
  {
   "cell_type": "code",
   "execution_count": 18,
   "metadata": {},
   "outputs": [],
   "source": [
    "# reg2 = LinearRegression().fit(X_train, y_train)\n",
    "# y_pred = reg2.predict(X_test)\n",
    "# print(\"LR: R2 = %.4f and MSE = %.2f\" % (reg2.score(X_test,y_test), mean_squared_error(y_test, y_pred)))"
   ]
  },
  {
   "cell_type": "code",
   "execution_count": 19,
   "metadata": {},
   "outputs": [],
   "source": [
    "# reg2 = LinearRegression().fit(X_train, y_train)\n",
    "# y_pred = reg2.predict(X_test)\n",
    "# print(\"LR: R2 = %.4f and MSE = %.2f\" % (reg2.score(X_test,y_test), mean_squared_error(y_test, y_pred)))"
   ]
  },
  {
   "cell_type": "code",
   "execution_count": 20,
   "metadata": {},
   "outputs": [],
   "source": [
    "reg2 = LinearRegression().fit(X, y)\n",
    "\n",
    "# Make predictions\n",
    "y_pred = reg2.predict(test)"
   ]
  },
  {
   "cell_type": "code",
   "execution_count": null,
   "metadata": {},
   "outputs": [],
   "source": [
    "result_df = pd.DataFrame({'row ID': testOriginal['row ID'], 'price_doc': y_pred.flatten()})\n",
    "result_df.to_csv('Day2.2.csv', index=False)"
   ]
  }
 ],
 "metadata": {
  "kernelspec": {
   "display_name": "Python 3",
   "language": "python",
   "name": "python3"
  },
  "language_info": {
   "codemirror_mode": {
    "name": "ipython",
    "version": 3
   },
   "file_extension": ".py",
   "mimetype": "text/x-python",
   "name": "python",
   "nbconvert_exporter": "python",
   "pygments_lexer": "ipython3",
   "version": "3.11.4"
  }
 },
 "nbformat": 4,
 "nbformat_minor": 2
}
