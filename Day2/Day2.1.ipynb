{
 "cells": [
  {
   "cell_type": "code",
   "execution_count": 13,
   "metadata": {},
   "outputs": [],
   "source": [
    "import numpy as np\n",
    "import pandas as pd\n",
    "from sklearn.linear_model import LinearRegression\n",
    "from sklearn.metrics import mean_squared_error, r2_score\n",
    "from sklearn.model_selection import train_test_split\n",
    "from sklearn.feature_selection import SequentialFeatureSelector\n",
    "from sklearn.preprocessing import MinMaxScaler"
   ]
  },
  {
   "cell_type": "code",
   "execution_count": 14,
   "metadata": {},
   "outputs": [],
   "source": [
    "from scipy.stats import skew\n",
    "\n",
    "def find_skewed_columns(dataframe, threshold=0.5):\n",
    "    skewed_columns = []\n",
    "    \n",
    "    for column in dataframe.columns:\n",
    "        if dataframe[column].dtype in ['int64', 'float64']:\n",
    "            skewness = skew(dataframe[column])\n",
    "            if abs(skewness) > threshold:\n",
    "                skewed_columns.append((column, skewness))\n",
    "    \n",
    "    return skewed_columns\n",
    "\n",
    "def check_scaling_needed(dataframe, threshold=5):\n",
    "    scaling_needed_columns = []\n",
    "\n",
    "    for column in dataframe.columns:\n",
    "        if dataframe[column].dtype in ['int64', 'float64']:\n",
    "            column_range = dataframe[column].max() - dataframe[column].min()\n",
    "            if column_range > threshold:\n",
    "                scaling_needed_columns.append((column, column_range))\n",
    "\n",
    "    return scaling_needed_columns"
   ]
  },
  {
   "cell_type": "code",
   "execution_count": 15,
   "metadata": {},
   "outputs": [],
   "source": [
    "train = pd.read_csv('../../2nd-Comp-Data/train.csv')\n",
    "test = pd.read_csv('../../2nd-Comp-Data/test.csv')\n",
    "testOriginal = pd.read_csv('../../2nd-Comp-Data/test.csv')"
   ]
  },
  {
   "cell_type": "code",
   "execution_count": 16,
   "metadata": {},
   "outputs": [
    {
     "data": {
      "text/plain": [
       "(181507, 272)"
      ]
     },
     "execution_count": 16,
     "metadata": {},
     "output_type": "execute_result"
    }
   ],
   "source": [
    "train.shape"
   ]
  },
  {
   "cell_type": "code",
   "execution_count": 17,
   "metadata": {},
   "outputs": [],
   "source": [
    "test.drop('row ID', axis=1, inplace=True)\n",
    "test.drop('sub_area', axis=1, inplace=True)"
   ]
  },
  {
   "cell_type": "code",
   "execution_count": 18,
   "metadata": {},
   "outputs": [],
   "source": [
    "train.drop('sub_area', axis=1, inplace=True)"
   ]
  },
  {
   "cell_type": "markdown",
   "metadata": {},
   "source": [
    "<h1>Categorical To Numerical<h1>"
   ]
  },
  {
   "cell_type": "code",
   "execution_count": 19,
   "metadata": {},
   "outputs": [],
   "source": [
    "train = pd.get_dummies(train)\n",
    "test = pd.get_dummies(test)"
   ]
  },
  {
   "cell_type": "markdown",
   "metadata": {},
   "source": [
    "<h1>Scaling<h1>"
   ]
  },
  {
   "cell_type": "code",
   "execution_count": 20,
   "metadata": {},
   "outputs": [
    {
     "name": "stdout",
     "output_type": "stream",
     "text": [
      "Columns that may require scaling:\n",
      "full_sq: Range = 5326.0\n",
      "life_sq: Range = 7478.0\n",
      "floor: Range = 76.99862964695038\n",
      "area_m: Range = 203990181.43899998\n",
      "raion_popul: Range = 244923.0\n",
      "children_preschool: Range = 19048.0\n",
      "preschool_education_centers_raion: Range = 13.0\n",
      "children_school: Range = 18915.0\n",
      "school_education_centers_raion: Range = 14.0\n",
      "healthcare_centers_raion: Range = 6.0\n",
      "sport_objects_raion: Range = 29.0\n",
      "additional_education_raion: Range = 16.0\n",
      "culture_objects_top_25_raion: Range = 10.0\n",
      "shopping_centers_raion: Range = 23.0\n",
      "office_raion: Range = 141.0\n",
      "full_all: Range = 1714184.0\n",
      "male_f: Range = 773377.0\n",
      "female_f: Range = 940804.0\n",
      "young_all: Range = 40327.0\n",
      "young_male: Range = 20788.0\n",
      "young_female: Range = 19538.0\n",
      "work_all: Range = 159657.0\n",
      "work_male: Range = 78759.0\n",
      "work_female: Range = 80897.0\n",
      "ekder_all: Range = 56538.0\n",
      "ekder_male: Range = 19119.0\n",
      "ekder_female: Range = 37418.0\n",
      "0_6_all: Range = 19048.0\n",
      "0_6_male: Range = 9896.0\n",
      "0_6_female: Range = 9151.0\n",
      "7_14_all: Range = 18915.0\n",
      "7_14_male: Range = 9674.0\n",
      "7_14_female: Range = 9240.0\n",
      "0_17_all: Range = 44759.0\n",
      "0_17_male: Range = 23019.0\n",
      "0_17_female: Range = 21739.0\n",
      "16_29_all: Range = 367084.0\n",
      "16_29_male: Range = 172650.0\n",
      "16_29_female: Range = 194448.0\n",
      "0_13_all: Range = 35713.0\n",
      "0_13_male: Range = 18408.0\n",
      "0_13_female: Range = 17305.0\n",
      "raion_build_count_with_material_info: Range = 1680.0\n",
      "build_count_block: Range = 223.0\n",
      "build_count_wood: Range = 793.0\n",
      "build_count_frame: Range = 97.0\n",
      "build_count_brick: Range = 664.0\n",
      "build_count_monolith: Range = 127.0\n",
      "build_count_panel: Range = 431.0\n",
      "build_count_foam: Range = 11.0\n",
      "build_count_slag: Range = 84.0\n",
      "build_count_mix: Range = 9.0\n",
      "raion_build_count_with_builddate_info: Range = 1679.0\n",
      "build_count_before_1920: Range = 371.0\n",
      "build_count_1921-1945: Range = 382.0\n",
      "build_count_1946-1970: Range = 845.0\n",
      "build_count_1971-1995: Range = 246.0\n",
      "build_count_after_1995: Range = 799.0\n",
      "ID_metro: Range = 221.99680534861884\n",
      "metro_min_avto: Range = 61.437867722658744\n",
      "metro_km_avto: Range = 74.89711529941849\n",
      "metro_min_walk: Range = 711.1927284753799\n",
      "metro_km_walk: Range = 59.26722730397269\n",
      "kindergarten_km: Range = 29.084905547933257\n",
      "school_km: Range = 47.39470605\n",
      "park_km: Range = 47.34713146260013\n",
      "industrial_km: Range = 14.04816211\n",
      "water_treatment_km: Range = 47.317101\n",
      "cemetery_km: Range = 15.77781011606127\n",
      "incineration_km: Range = 58.433979\n",
      "railroad_station_walk_km: Range = 24.624887875\n",
      "railroad_station_walk_min: Range = 295.498654543\n",
      "ID_railroad_station_walk: Range = 132.0\n",
      "railroad_station_avto_km: Range = 24.625830645\n",
      "railroad_station_avto_min: Range = 38.656729786\n",
      "ID_railroad_station_avto: Range = 137.0\n",
      "public_transport_station_km: Range = 17.409596639242157\n",
      "public_transport_station_min_walk: Range = 208.92186336001342\n",
      "mkad_km: Range = 53.264206308\n",
      "ttk_km: Range = 66.031265515\n",
      "sadovoe_km: Range = 68.85191430500001\n",
      "bulvar_ring_km: Range = 69.982927543\n",
      "kremlin_km: Range = 70.66587259699999\n",
      "big_road1_km: Range = 6.995052552\n",
      "ID_big_road1: Range = 47.0\n",
      "big_road2_km: Range = 13.7964108\n",
      "ID_big_road2: Range = 57.0\n",
      "railroad_km: Range = 17.383881973527032\n",
      "zd_vokzaly_avto_km: Range = 91.07832473759812\n",
      "ID_railroad_terminal: Range = 116.0\n",
      "bus_terminal_avto_km: Range = 74.73393804541848\n",
      "ID_bus_terminal: Range = 13.0\n",
      "oil_chemistry_km: Range = 69.902724353\n",
      "nuclear_reactor_km: Range = 63.947146665\n",
      "radiation_km: Range = 53.88470025\n",
      "power_transmission_line_km: Range = 43.294105482999996\n",
      "thermal_power_plant_km: Range = 56.455583936\n",
      "ts_km: Range = 54.08091348\n",
      "big_market_km: Range = 58.83952022216736\n",
      "market_shop_km: Range = 41.096079394784354\n",
      "fitness_km: Range = 26.65195774708715\n",
      "swim_pool_km: Range = 53.35914664641849\n",
      "ice_rink_km: Range = 46.03719792\n",
      "stadium_km: Range = 83.2836209394185\n",
      "basketball_km: Range = 56.698335516\n",
      "hospice_morgue_km: Range = 43.692123577000004\n",
      "detention_facility_km: Range = 89.32576784285243\n",
      "public_healthcare_km: Range = 76.05498807641848\n",
      "university_km: Range = 84.86142598948821\n",
      "workplaces_km: Range = 55.27822463\n",
      "shopping_centers_km: Range = 26.25813419372944\n",
      "office_km: Range = 18.95893275\n",
      "additional_education_km: Range = 24.26820942\n",
      "preschool_km: Range = 47.39470605\n",
      "big_church_km: Range = 45.664851397\n",
      "church_synagogue_km: Range = 15.61572801\n",
      "mosque_km: Range = 44.841581193323115\n",
      "theater_km: Range = 87.5737548424185\n",
      "museum_km: Range = 59.195245437000004\n",
      "exhibition_km: Range = 54.42077182337606\n",
      "catering_km: Range = 12.161090085593568\n",
      "green_part_500: Range = 100.0\n",
      "prom_part_500: Range = 98.76623404603872\n",
      "office_count_500: Range = 34.0\n",
      "office_sqm_500: Range = 611015.0\n",
      "trc_count_500: Range = 8.0\n",
      "trc_sqm_500: Range = 1500000.0\n",
      "cafe_count_500: Range = 120.0\n",
      "cafe_count_500_na_price: Range = 13.0\n",
      "cafe_count_500_price_500: Range = 33.0\n",
      "cafe_count_500_price_1000: Range = 39.0\n",
      "cafe_count_500_price_1500: Range = 28.998426144222563\n",
      "cafe_count_500_price_2500: Range = 22.0\n",
      "cafe_count_500_price_4000: Range = 13.99935167850397\n",
      "big_church_count_500: Range = 10.998808368898366\n",
      "church_count_500: Range = 17.0\n",
      "leisure_count_500: Range = 9.0\n",
      "sport_count_500: Range = 11.0\n",
      "green_part_1000: Range = 100.0\n",
      "prom_part_1000: Range = 72.19955298743257\n",
      "office_count_1000: Range = 91.0\n",
      "office_sqm_1000: Range = 2244723.0\n",
      "trc_count_1000: Range = 20.0\n",
      "trc_sqm_1000: Range = 1500000.0\n",
      "cafe_count_1000: Range = 449.0\n",
      "cafe_count_1000_na_price: Range = 28.0\n",
      "cafe_count_1000_price_500: Range = 111.9993315169256\n",
      "cafe_count_1000_price_1000: Range = 107.0\n",
      "cafe_count_1000_price_1500: Range = 104.0\n",
      "cafe_count_1000_price_2500: Range = 79.0\n",
      "cafe_count_1000_price_4000: Range = 40.0\n",
      "cafe_count_1000_price_high: Range = 7.0\n",
      "big_church_count_1000: Range = 27.0\n",
      "church_count_1000: Range = 38.0\n",
      "leisure_count_1000: Range = 30.0\n",
      "sport_count_1000: Range = 25.0\n",
      "market_count_1000: Range = 6.0\n",
      "green_part_1500: Range = 90.41\n",
      "prom_part_1500: Range = 63.0\n",
      "office_count_1500: Range = 173.0\n",
      "office_sqm_1500: Range = 2908344.0\n",
      "trc_count_1500: Range = 27.0\n",
      "trc_sqm_1500: Range = 1533000.0\n",
      "cafe_count_1500: Range = 783.9979462683513\n",
      "cafe_count_1500_na_price: Range = 53.99995129998732\n",
      "cafe_count_1500_price_500: Range = 194.99957829489372\n",
      "cafe_count_1500_price_1000: Range = 177.0\n",
      "cafe_count_1500_price_1500: Range = 182.9883291186643\n",
      "cafe_count_1500_price_2500: Range = 127.0\n",
      "cafe_count_1500_price_4000: Range = 58.0\n",
      "cafe_count_1500_price_high: Range = 12.0\n",
      "big_church_count_1500: Range = 44.0\n",
      "church_count_1500: Range = 75.0\n",
      "leisure_count_1500: Range = 44.0\n",
      "sport_count_1500: Range = 37.0\n",
      "market_count_1500: Range = 7.0\n",
      "green_part_2000: Range = 75.28999999999999\n",
      "prom_part_2000: Range = 56.1\n",
      "office_count_2000: Range = 250.0\n",
      "office_sqm_2000: Range = 3602982.0\n",
      "trc_count_2000: Range = 37.0\n",
      "trc_sqm_2000: Range = 2448300.0\n",
      "cafe_count_2000: Range = 1115.0\n",
      "cafe_sum_2000_min_price_avg: Range = 1866.67\n",
      "cafe_sum_2000_max_price_avg: Range = 3000.0\n",
      "cafe_avg_price_2000: Range = 2433.33\n",
      "cafe_count_2000_na_price: Range = 70.0\n",
      "cafe_count_2000_price_500: Range = 278.0\n",
      "cafe_count_2000_price_1000: Range = 262.0\n",
      "cafe_count_2000_price_1500: Range = 261.0\n",
      "cafe_count_2000_price_2500: Range = 170.0\n",
      "cafe_count_2000_price_4000: Range = 80.99950574284543\n",
      "cafe_count_2000_price_high: Range = 16.0\n",
      "big_church_count_2000: Range = 70.0\n",
      "church_count_2000: Range = 108.0\n",
      "leisure_count_2000: Range = 55.0\n",
      "sport_count_2000: Range = 54.0\n",
      "market_count_2000: Range = 8.0\n",
      "green_part_3000: Range = 73.71\n",
      "prom_part_3000: Range = 45.1\n",
      "office_count_3000: Range = 493.0\n",
      "office_sqm_3000: Range = 6106000.111977488\n",
      "trc_count_3000: Range = 65.99986217989631\n",
      "trc_sqm_3000: Range = 2654102.0\n",
      "cafe_count_3000: Range = 1815.0\n",
      "cafe_sum_3000_min_price_avg: Range = 1533.33\n",
      "cafe_sum_3000_max_price_avg: Range = 2500.0\n",
      "cafe_avg_price_3000: Range = 2016.67\n",
      "cafe_count_3000_na_price: Range = 119.0\n",
      "cafe_count_3000_price_500: Range = 449.0\n",
      "cafe_count_3000_price_1000: Range = 440.960483280398\n",
      "cafe_count_3000_price_1500: Range = 446.0\n",
      "cafe_count_3000_price_2500: Range = 266.0\n",
      "cafe_count_3000_price_4000: Range = 113.0\n",
      "cafe_count_3000_price_high: Range = 23.0\n",
      "big_church_count_3000: Range = 102.0\n",
      "church_count_3000: Range = 164.0\n",
      "leisure_count_3000: Range = 85.0\n",
      "sport_count_3000: Range = 100.0\n",
      "market_count_3000: Range = 10.0\n",
      "green_part_5000: Range = 71.93642678089357\n",
      "prom_part_5000: Range = 28.349999999999998\n",
      "office_count_5000: Range = 789.0\n",
      "office_sqm_5000: Range = 12702114.0\n",
      "trc_count_5000: Range = 119.9910002071106\n",
      "trc_sqm_5000: Range = 4585477.0\n",
      "cafe_count_5000: Range = 2645.0\n",
      "cafe_sum_5000_min_price_avg: Range = 1575.0\n",
      "cafe_sum_5000_max_price_avg: Range = 2500.0\n",
      "cafe_avg_price_5000: Range = 2037.5\n",
      "cafe_count_5000_na_price: Range = 174.0\n",
      "cafe_count_5000_price_500: Range = 650.0\n",
      "cafe_count_5000_price_1000: Range = 648.0\n",
      "cafe_count_5000_price_1500: Range = 641.0\n",
      "cafe_count_5000_price_2500: Range = 377.0\n",
      "cafe_count_5000_price_4000: Range = 147.0\n",
      "cafe_count_5000_price_high: Range = 30.0\n",
      "big_church_count_5000: Range = 151.0\n",
      "church_count_5000: Range = 250.0\n",
      "leisure_count_5000: Range = 106.0\n",
      "sport_count_5000: Range = 218.0\n",
      "market_count_5000: Range = 20.999423151622423\n",
      "price_doc: Range = 111011112.0\n"
     ]
    }
   ],
   "source": [
    "scaling_needed_columns = check_scaling_needed(train)\n",
    "\n",
    "if not scaling_needed_columns:\n",
    "    print(\"No columns require scaling.\")\n",
    "else:\n",
    "    print(\"Columns that may require scaling:\")\n",
    "    for column, column_range in scaling_needed_columns:\n",
    "        print(f\"{column}: Range = {column_range}\")\n"
   ]
  },
  {
   "cell_type": "code",
   "execution_count": 21,
   "metadata": {},
   "outputs": [],
   "source": [
    "scaling_needed_columns = check_scaling_needed(train)\n",
    "scaler = MinMaxScaler()\n",
    "\n",
    "for column, _ in scaling_needed_columns:\n",
    "    if train[column].dtype in ['int64', 'float64']:\n",
    "        train[column] = scaler.fit_transform(train[[column]])"
   ]
  },
  {
   "cell_type": "markdown",
   "metadata": {},
   "source": [
    "<h1>Normalization<h1>"
   ]
  },
  {
   "cell_type": "code",
   "execution_count": 22,
   "metadata": {},
   "outputs": [],
   "source": [
    "# skewed_columns = find_skewed_columns(train)\n",
    "\n",
    "# if not skewed_columns:\n",
    "#     print(\"No skewed columns found.\")\n",
    "# else:\n",
    "#     print(\"Skewed columns:\")\n",
    "#     for column, skewness in skewed_columns:\n",
    "#         print(f\"{column}: Skewness = {skewness}\")"
   ]
  },
  {
   "cell_type": "code",
   "execution_count": 23,
   "metadata": {},
   "outputs": [],
   "source": [
    "# for column, _ in skewed_columns:\n",
    "#     if train[column].dtype in ['int64', 'float64']:\n",
    "#         train[column] = train[column].apply(lambda x: 1 if x == 0 else np.log(x))"
   ]
  },
  {
   "cell_type": "code",
   "execution_count": 24,
   "metadata": {},
   "outputs": [],
   "source": [
    "X = train.loc[:, train.columns != 'price_doc']\n",
    "y = train[['price_doc']]"
   ]
  },
  {
   "cell_type": "code",
   "execution_count": 25,
   "metadata": {},
   "outputs": [],
   "source": [
    "# ols_reg = LinearRegression()\n",
    "# sfs = SequentialFeatureSelector(ols_reg, direction='forward',n_features_to_select=5)\n",
    "# sfs.fit(X, y)\n",
    "# print(sfs.get_feature_names_out())"
   ]
  },
  {
   "cell_type": "code",
   "execution_count": 26,
   "metadata": {},
   "outputs": [],
   "source": [
    "# X = X[['full_sq', 'mosque_count_500', 'leisure_count_500', 'cafe_count_1000_price_high', 'leisure_count_1000']]\n",
    "# test = test[['full_sq', 'mosque_count_500', 'leisure_count_500', 'cafe_count_1000_price_high', 'leisure_count_1000']]"
   ]
  },
  {
   "cell_type": "code",
   "execution_count": 27,
   "metadata": {},
   "outputs": [
    {
     "data": {
      "text/plain": [
       "(181507, 287)"
      ]
     },
     "execution_count": 27,
     "metadata": {},
     "output_type": "execute_result"
    }
   ],
   "source": [
    "X.shape"
   ]
  },
  {
   "cell_type": "code",
   "execution_count": 28,
   "metadata": {},
   "outputs": [
    {
     "data": {
      "text/plain": [
       "(77789, 287)"
      ]
     },
     "execution_count": 28,
     "metadata": {},
     "output_type": "execute_result"
    }
   ],
   "source": [
    "test.shape"
   ]
  },
  {
   "cell_type": "code",
   "execution_count": 29,
   "metadata": {},
   "outputs": [],
   "source": [
    "# X_train, X_test, y_train, y_test = train_test_split(X, y, test_size = 0.3)"
   ]
  },
  {
   "cell_type": "code",
   "execution_count": 30,
   "metadata": {},
   "outputs": [],
   "source": [
    "# reg2 = LinearRegression().fit(X_train, y_train)\n",
    "# y_pred = reg2.predict(X_test)\n",
    "# print(\"LR: R2 = %.4f and MSE = %.2f\" % (reg2.score(X_test,y_test), mean_squared_error(y_test, y_pred)))"
   ]
  },
  {
   "cell_type": "code",
   "execution_count": 31,
   "metadata": {},
   "outputs": [],
   "source": [
    "# reg2 = LinearRegression().fit(X_train, y_train)\n",
    "# y_pred = reg2.predict(X_test)\n",
    "# print(\"LR: R2 = %.4f and MSE = %.2f\" % (reg2.score(X_test,y_test), mean_squared_error(y_test, y_pred)))"
   ]
  },
  {
   "cell_type": "code",
   "execution_count": 32,
   "metadata": {},
   "outputs": [],
   "source": [
    "reg2 = LinearRegression().fit(X, y)\n",
    "\n",
    "# Make predictions\n",
    "y_pred = reg2.predict(test)"
   ]
  },
  {
   "cell_type": "code",
   "execution_count": null,
   "metadata": {},
   "outputs": [],
   "source": [
    "result_df = pd.DataFrame({'row ID': testOriginal['row ID'], 'price_doc': y_pred.flatten()})\n",
    "result_df.to_csv('Day2.1.csv', index=False)"
   ]
  }
 ],
 "metadata": {
  "kernelspec": {
   "display_name": "Python 3",
   "language": "python",
   "name": "python3"
  },
  "language_info": {
   "codemirror_mode": {
    "name": "ipython",
    "version": 3
   },
   "file_extension": ".py",
   "mimetype": "text/x-python",
   "name": "python",
   "nbconvert_exporter": "python",
   "pygments_lexer": "ipython3",
   "version": "3.11.4"
  }
 },
 "nbformat": 4,
 "nbformat_minor": 2
}
