{
 "cells": [
  {
   "cell_type": "code",
   "execution_count": 1,
   "metadata": {},
   "outputs": [],
   "source": [
    "import pandas as pd\n",
    "from sklearn.model_selection import train_test_split\n",
    "from sklearn.preprocessing import StandardScaler\n",
    "from keras.models import Sequential\n",
    "from keras.layers import Dense, Dropout\n",
    "from keras.callbacks import EarlyStopping\n",
    "import os\n",
    "import torch\n",
    "from sklearn.neural_network import MLPRegressor\n",
    "from sklearn.ensemble import GradientBoostingRegressor\n",
    "from sklearn.metrics import mean_squared_error\n",
    "from sklearn.model_selection import GridSearchCV\n",
    "from keras.optimizers import SGD, Adam, Adadelta, RMSprop, Adagrad, Nadam, Ftrl\n",
    "from keras.regularizers import l2\n",
    "import numpy as np\n",
    "from sklearn.decomposition import PCA"
   ]
  },
  {
   "cell_type": "code",
   "execution_count": 2,
   "metadata": {},
   "outputs": [],
   "source": [
    "# Load the training data\n",
    "train_data = pd.read_csv('../../2nd-Comp-Data/train.csv')\n",
    "test_data = pd.read_csv('../../2nd-Comp-Data/test.csv')\n",
    "\n",
    "used = []\n",
    "\n",
    "# Extract features and target variable\n",
    "X = train_data.drop('price_doc', axis=1)\n",
    "y = train_data['price_doc']\n",
    "X_test = test_data.drop(['row ID'], axis=1)"
   ]
  },
  {
   "cell_type": "code",
   "execution_count": 3,
   "metadata": {},
   "outputs": [],
   "source": [
    "X = X.drop('sub_area', axis=1)\n",
    "X_test = X_test.drop('sub_area', axis=1)\n",
    "used.append('Removed sub_area')"
   ]
  },
  {
   "cell_type": "code",
   "execution_count": 4,
   "metadata": {},
   "outputs": [],
   "source": [
    "# X = pd.get_dummies(X)\n",
    "# X_test = pd.get_dummies(X_test) \n",
    "# used.append('OneHot Encoding')"
   ]
  },
  {
   "cell_type": "code",
   "execution_count": 5,
   "metadata": {},
   "outputs": [
    {
     "name": "stdout",
     "output_type": "stream",
     "text": [
      "Train: Categorical columns: ['product_type', 'culture_objects_top_25', 'thermal_power_plant_raion', 'incineration_raion', 'oil_chemistry_raion', 'radiation_raion', 'railroad_terminal_raion', 'big_market_raion', 'nuclear_reactor_raion', 'detention_facility_raion', 'water_1line', 'big_road1_1line', 'railroad_1line', 'ecology']\n",
      "Test: Categorical columns: ['product_type', 'culture_objects_top_25', 'thermal_power_plant_raion', 'incineration_raion', 'oil_chemistry_raion', 'radiation_raion', 'railroad_terminal_raion', 'big_market_raion', 'nuclear_reactor_raion', 'detention_facility_raion', 'water_1line', 'big_road1_1line', 'railroad_1line', 'ecology']\n"
     ]
    }
   ],
   "source": [
    "from sklearn.calibration import LabelEncoder\n",
    "\n",
    "categorical_columns = X.select_dtypes(include=['object']).columns.tolist()\n",
    "print(\"Train: Categorical columns:\", categorical_columns)\n",
    "\n",
    "label_encoder = LabelEncoder()\n",
    "\n",
    "for column in categorical_columns:\n",
    "    X[column] = label_encoder.fit_transform(X[column])\n",
    "\n",
    "categorical_columns_test = X_test.select_dtypes(include=['object']).columns.tolist()\n",
    "print(\"Test: Categorical columns:\", categorical_columns_test)\n",
    "\n",
    "label_encoder = LabelEncoder()\n",
    "\n",
    "for column in categorical_columns_test:\n",
    "    X_test[column] = label_encoder.fit_transform(X_test[column])\n",
    "\n",
    "used.append('Label Encoding')"
   ]
  },
  {
   "cell_type": "code",
   "execution_count": 6,
   "metadata": {},
   "outputs": [],
   "source": [
    "# # drop all columns in X_train with dtypes object\n",
    "# for col in X.columns:\n",
    "#     if X[col].dtype == 'object':\n",
    "#         X.drop(col, axis=1, inplace=True)\n",
    "\n",
    "# # drop all columns in X_test with dtypes object\n",
    "# for col in X_test.columns:\n",
    "#     if X_test[col].dtype == 'object':\n",
    "#         X_test.drop(col, axis=1, inplace=True)\n",
    "\n",
    "# used.append(\"Removed Object Dtypes\")"
   ]
  },
  {
   "cell_type": "code",
   "execution_count": 7,
   "metadata": {},
   "outputs": [],
   "source": [
    "X = X.astype('float32')\n",
    "X_test = X_test.astype('float32')\n",
    "used.append(\"Converted All Columns To float32\")"
   ]
  },
  {
   "cell_type": "code",
   "execution_count": 8,
   "metadata": {},
   "outputs": [],
   "source": [
    "X = np.log1p(X)\n",
    "X_test = np.log1p(X_test)\n",
    "used.append('log Normalization')"
   ]
  },
  {
   "cell_type": "code",
   "execution_count": 9,
   "metadata": {},
   "outputs": [],
   "source": [
    "# Split the data into training and validation sets\n",
    "X_train, X_val, y_train, y_val = train_test_split(X, y, test_size=0.3, random_state=42)"
   ]
  },
  {
   "cell_type": "code",
   "execution_count": 10,
   "metadata": {},
   "outputs": [],
   "source": [
    "# Standardize the data\n",
    "scaler = StandardScaler()\n",
    "X_train = scaler.fit_transform(X_train)\n",
    "X_val = scaler.transform(X_val)\n",
    "X_test = scaler.transform(X_test)\n",
    "used.append(\"StandardScaler\")"
   ]
  },
  {
   "cell_type": "code",
   "execution_count": 11,
   "metadata": {},
   "outputs": [
    {
     "data": {
      "text/plain": [
       "(127054, 270)"
      ]
     },
     "execution_count": 11,
     "metadata": {},
     "output_type": "execute_result"
    }
   ],
   "source": [
    "X_train.shape"
   ]
  },
  {
   "cell_type": "code",
   "execution_count": 12,
   "metadata": {},
   "outputs": [],
   "source": [
    "# from sklearn.preprocessing import PolynomialFeatures\n",
    "# poly = PolynomialFeatures(2)#, interaction_only=True)\n",
    "# X_train = poly.fit_transform(X_train)\n",
    "# X_test = poly.fit_transform(X_test)\n",
    "# used.append('PolynomialFeatures W/O Interaction')\n",
    "# # used.append('PolynomialFeatures With Interaction')"
   ]
  },
  {
   "cell_type": "code",
   "execution_count": 13,
   "metadata": {},
   "outputs": [],
   "source": [
    "# # save X_train to csv\n",
    "# X_train.to_csv('train with poly w/o int.2.csv', index=False)\n",
    "# X_test.to_csv('test with poly w/o int.csv', index=False)"
   ]
  },
  {
   "cell_type": "code",
   "execution_count": 14,
   "metadata": {},
   "outputs": [],
   "source": [
    "# pca = PCA(n_components=200)\n",
    "# principalComponents = pca.fit_transform(X_train)\n",
    "# X_train = pd.DataFrame(data = principalComponents)\n",
    "\n",
    "# pca2 = PCA(n_components=200)\n",
    "# principalComponents = pca2.fit_transform(X_test)\n",
    "# X_test = pd.DataFrame(data = principalComponents)\n",
    "\n",
    "# used.append('PCA (n=200)')"
   ]
  },
  {
   "cell_type": "markdown",
   "metadata": {},
   "source": [
    "<h1>With Keras<h1>"
   ]
  },
  {
   "cell_type": "code",
   "execution_count": 15,
   "metadata": {},
   "outputs": [],
   "source": [
    "# features_used = X_train.shape[1]\n",
    "\n",
    "# # Build the neural network\n",
    "# os.environ[\"KERAS_BACKEND\"] = \"torch\"\n",
    "# used.append(\"Keras With Torch Backend\")\n",
    "# model = Sequential()\n",
    "# model.add(Dense(360, input_dim=X_train.shape[1], activation='selu', kernel_regularizer=l2(0.01)))\n",
    "# model.add(Dropout(0.3))  # You can use either dropout or early stopping\n",
    "# model.add(Dense(280, activation='selu', kernel_regularizer=l2(0.01)))\n",
    "# model.add(Dropout(0.3))\n",
    "# model.add(Dense(190, activation='selu', kernel_regularizer=l2(0.01)))\n",
    "# model.add(Dropout(0.3))\n",
    "# model.add(Dense(130, activation='selu', kernel_regularizer=l2(0.01)))\n",
    "# model.add(Dropout(0.3))\n",
    "# model.add(Dense(1, activation='linear'))  # Output layer with linear activation for regression\n",
    "\n",
    "# used.append(\"4 Hidden Layers: Hidden Layer 1 with 360 neurons selu activation L2 regularization, \\n\" +\n",
    "#             \"Hidden Layer 2 with 280 neurons selu activation L2 regularization, \\n\" +\n",
    "#             \"Hidden Layer 3 with 190 neurons selu activation L2 regularization, \\n\" +\n",
    "#             \"Hidden Layer 4 with 130 neurons selu activation L2 regularization\")\n",
    "# used.append(\"Output linear\")\n",
    "\n",
    "# # optimizerUsing = Adam(lr=0.05)#, beta_1=0.9, beta_2=0.999, epsilon=1e-07, amsgrad=False)\n",
    "# # used.append(\"Optimizer: Adam(lr=0.05)\")\n",
    "# # optimizerUsing = RMSprop(lr=0.001)\n",
    "# # used.append(\"Optimizer: RMSprop(lr=0.001)\")\n",
    "# # optimizerUsing = Adagrad(lr=0.01)\n",
    "# # used.append(\"Optimizer: Adagrad(lr=0.01)\")\n",
    "# # optimizerUsing = Adadelta(lr=1.0, rho=0.95)\n",
    "# # used.append(\"Optimizer: Adadelta(lr=1.0, rho=0.95)\")\n",
    "# # optimizerUsing = Nadam(lr=0.002, beta_1=0.9, beta_2=0.999)\n",
    "# # used.append(\"Optimizer: Nadam(lr=0.002, beta_1=0.9, beta_2=0.999)\")\n",
    "# optimizerUsing = Ftrl(learning_rate=0.05)#, learning_rate_power=-0.5, initial_accumulator_value=0.1, l1_regularization_strength=0.01, l2_regularization_strength=0.01)\n",
    "# used.append(\"Optimizer: Ftrl(learning_rate=0.05)\")\n",
    "\n",
    "# # Compile the model\n",
    "# model.compile(loss='mean_squared_error', optimizer=optimizerUsing)\n",
    "# used.append(\"Loss Calculation: Mean Squared Error\")\n",
    "\n",
    "# # Define early stopping\n",
    "# early_stopping = EarlyStopping(monitor='val_loss', patience=10, restore_best_weights=True)\n",
    "# used.append(\"EarlyStopping(monitor='val_loss', patience=10, restore_best_weights=True)\")\n",
    "\n",
    "# # Train the model\n",
    "# model.fit(X_train, y_train, epochs=100, batch_size=1800, validation_data=(X_val, y_val), callbacks=[early_stopping])\n",
    "# used.append(\"batch_size=1800, epochs=100, early_stopping (patience 10), dropout=0.3, L2 Regularization\")\n",
    "\n",
    "# # Train the model\n",
    "# # model.fit(X_train, y_train, epochs=100, batch_size=1800, validation_data=(X_val, y_val))#, callbacks=[early_stopping])\n",
    "# # used.append(\"batch_size=1800, epochs=100, dropout=0.3, L2 Regularization\")\n",
    "\n",
    "# # used.append(\"batch_size=1800, epochs=100, early_stopping\")\n",
    "\n",
    "# # Make predictions\n",
    "# predictions = model.predict(X_test)"
   ]
  },
  {
   "cell_type": "markdown",
   "metadata": {},
   "source": [
    "<h1>With Skilearn<h1>"
   ]
  },
  {
   "cell_type": "code",
   "execution_count": 16,
   "metadata": {},
   "outputs": [
    {
     "name": "stdout",
     "output_type": "stream",
     "text": [
      "Iteration 1, loss = 346867267561437.75000000\n",
      "Validation score: -0.447248\n",
      "Iteration 2, loss = 300306635637622.43750000\n",
      "Validation score: 0.201977\n",
      "Iteration 3, loss = 108805473026331.71875000\n",
      "Validation score: 0.609564\n",
      "Iteration 4, loss = 90846366388658.96875000\n",
      "Validation score: 0.614712\n",
      "Iteration 5, loss = 89648779008419.57812500\n",
      "Validation score: 0.618451\n",
      "Iteration 6, loss = 88851403695687.81250000\n",
      "Validation score: 0.621042\n",
      "Iteration 7, loss = 88295290315722.84375000\n",
      "Validation score: 0.622913\n",
      "Iteration 8, loss = 87880177634626.60937500\n",
      "Validation score: 0.624347\n",
      "Iteration 9, loss = 87551068668714.17187500\n",
      "Validation score: 0.625496\n",
      "Iteration 10, loss = 87279550514120.17187500\n",
      "Validation score: 0.626451\n",
      "Iteration 11, loss = 87047782623971.78125000\n",
      "Validation score: 0.627261\n",
      "Iteration 12, loss = 86846024508106.62500000\n",
      "Validation score: 0.627967\n",
      "Iteration 13, loss = 86664682885796.71875000\n",
      "Validation score: 0.628604\n",
      "Iteration 14, loss = 86497271715838.06250000\n",
      "Validation score: 0.629192\n",
      "Iteration 15, loss = 86340464306286.50000000\n",
      "Validation score: 0.629739\n",
      "Iteration 16, loss = 86192287558892.64062500\n",
      "Validation score: 0.630272\n",
      "Iteration 17, loss = 86049343134742.43750000\n",
      "Validation score: 0.630753\n",
      "Iteration 18, loss = 85912154051712.17187500\n",
      "Validation score: 0.631224\n",
      "Iteration 19, loss = 85780616442036.12500000\n",
      "Validation score: 0.631677\n",
      "Iteration 20, loss = 85652247332016.65625000\n",
      "Validation score: 0.632108\n",
      "Iteration 21, loss = 85527572446444.87500000\n",
      "Validation score: 0.632534\n",
      "Iteration 22, loss = 85403954802057.29687500\n",
      "Validation score: 0.632951\n",
      "Iteration 23, loss = 85283751086146.29687500\n",
      "Validation score: 0.633358\n",
      "Iteration 24, loss = 85165176221118.31250000\n",
      "Validation score: 0.633759\n",
      "Iteration 25, loss = 85047435429848.48437500\n",
      "Validation score: 0.634153\n",
      "Iteration 26, loss = 84931067534760.40625000\n",
      "Validation score: 0.634538\n",
      "Iteration 27, loss = 84815381103057.09375000\n",
      "Validation score: 0.634920\n",
      "Iteration 28, loss = 84700632886867.03125000\n",
      "Validation score: 0.635296\n",
      "Iteration 29, loss = 84586714721293.68750000\n",
      "Validation score: 0.635669\n",
      "Iteration 30, loss = 84474168116287.18750000\n",
      "Validation score: 0.636015\n",
      "Iteration 31, loss = 84360192801335.62500000\n",
      "Validation score: 0.636390\n",
      "Iteration 32, loss = 84245871499418.89062500\n",
      "Validation score: 0.636757\n",
      "Iteration 33, loss = 84130049098591.59375000\n",
      "Validation score: 0.637110\n",
      "Iteration 34, loss = 84014880322339.81250000\n",
      "Validation score: 0.637460\n",
      "Iteration 35, loss = 83899287409655.04687500\n",
      "Validation score: 0.637800\n",
      "Iteration 36, loss = 83782930383315.68750000\n",
      "Validation score: 0.638127\n",
      "Iteration 37, loss = 83666781933781.12500000\n",
      "Validation score: 0.638426\n",
      "Iteration 38, loss = 83552195305561.64062500\n",
      "Validation score: 0.638733\n",
      "Iteration 39, loss = 83437574227085.43750000\n",
      "Validation score: 0.638998\n",
      "Iteration 40, loss = 83323360484848.09375000\n",
      "Validation score: 0.639242\n",
      "Iteration 41, loss = 83211791955518.65625000\n",
      "Validation score: 0.639565\n",
      "Iteration 42, loss = 83099355430912.39062500\n",
      "Validation score: 0.639793\n",
      "Iteration 43, loss = 82987226097191.89062500\n",
      "Validation score: 0.640041\n",
      "Iteration 44, loss = 82876355723535.48437500\n",
      "Validation score: 0.640286\n",
      "Iteration 45, loss = 82765522448770.67187500\n",
      "Validation score: 0.640517\n",
      "Iteration 46, loss = 82656067140202.14062500\n",
      "Validation score: 0.640755\n",
      "Iteration 47, loss = 82544231913062.93750000\n",
      "Validation score: 0.640977\n",
      "Iteration 48, loss = 82425618195505.03125000\n",
      "Validation score: 0.641255\n",
      "Iteration 49, loss = 82304384256940.82812500\n",
      "Validation score: 0.641452\n",
      "Iteration 50, loss = 82186403994085.20312500\n",
      "Validation score: 0.641762\n",
      "Iteration 51, loss = 82071730219718.29687500\n",
      "Validation score: 0.641910\n",
      "Iteration 52, loss = 81961971800126.53125000\n",
      "Validation score: 0.642152\n",
      "Iteration 53, loss = 81852782411846.81250000\n",
      "Validation score: 0.642329\n",
      "Iteration 54, loss = 81745006462701.78125000\n",
      "Validation score: 0.642483\n",
      "Iteration 55, loss = 81639668976191.45312500\n",
      "Validation score: 0.642646\n",
      "Iteration 56, loss = 81537113923922.64062500\n",
      "Validation score: 0.642821\n",
      "Iteration 57, loss = 81436481503325.87500000\n",
      "Validation score: 0.642929\n",
      "Iteration 58, loss = 81337082010206.81250000\n",
      "Validation score: 0.643042\n",
      "Iteration 59, loss = 81236518149054.03125000\n",
      "Validation score: 0.643111\n",
      "Iteration 60, loss = 81139515456556.78125000\n",
      "Validation score: 0.643182\n",
      "Iteration 61, loss = 81040748376400.67187500\n",
      "Validation score: 0.643248\n",
      "Iteration 62, loss = 80946507452009.89062500\n",
      "Validation score: 0.643344\n",
      "Iteration 63, loss = 80850188445115.87500000\n",
      "Validation score: 0.643402\n",
      "Iteration 64, loss = 80754556240538.21875000\n",
      "Validation score: 0.643385\n",
      "Iteration 65, loss = 80658782738755.42187500\n",
      "Validation score: 0.643502\n",
      "Iteration 66, loss = 80561136676666.03125000\n",
      "Validation score: 0.643534\n",
      "Iteration 67, loss = 80464690527017.46875000\n",
      "Validation score: 0.643619\n",
      "Iteration 68, loss = 80368637206142.95312500\n",
      "Validation score: 0.643661\n",
      "Iteration 69, loss = 80275600015260.20312500\n",
      "Validation score: 0.643695\n",
      "Validation score did not improve more than tol=0.000100 for 10 consecutive epochs. Stopping.\n"
     ]
    }
   ],
   "source": [
    "features_used = X_train.shape[1]\n",
    "\n",
    "# # optimizerUsing = SGD(learning_rate=0.01, momentum=0.9)\n",
    "\n",
    "# # optimizerUsing = Adam(lr=0.001, beta_1=0.9, beta_2=0.999, epsilon=1e-07, amsgrad=False)\n",
    "# optimizerUsing = Adam(lr=0.001)#, epsilon=1e-07)\n",
    "\n",
    "l2Regu = 0.001\n",
    "\n",
    "# model = MLPRegressor(hidden_layer_sizes=(300,210,150,60), activation='relu', solver='adam', alpha = l2Regu, shuffle=False, max_iter=100,\n",
    "#                      batch_size=1800, early_stopping=True, verbose=True, random_state=42)\n",
    "\n",
    "# {'logistic', 'tanh', 'identity', 'relu'}. Got 'selu' instead.\n",
    "\n",
    "model = MLPRegressor(hidden_layer_sizes=(300,210,150,60), activation='relu', solver='adam', alpha = l2Regu, shuffle=False, max_iter=100,\n",
    "                     batch_size=1800, early_stopping=True, verbose=True, random_state=42)\n",
    "\n",
    "used.append(\"MLPRegressor\")\n",
    "used.append(\"4 Hidden Layers: Hidden Layer 1 with 300 neurons relu activation L2 regularization, \\n\" +\n",
    "            \"Hidden Layer 2 with 210 neurons relu activation L2 regularization, \\n\" +\n",
    "            \"Hidden Layer 3 with 150 neurons relu activation L2 regularization, \\n\" +\n",
    "            \"Hidden Layer 4 with 60 neurons relu activation L2 regularization\")\n",
    "used.append(\"Optimizer: adam\")\n",
    "used.append(\"batch_size=1800, epochs=100, early_stopping\")\n",
    "\n",
    "# Train the model\n",
    "model.fit(X_train, y_train)\n",
    "\n",
    "# Make predictions\n",
    "predictions = model.predict(X_test)"
   ]
  },
  {
   "cell_type": "code",
   "execution_count": 17,
   "metadata": {},
   "outputs": [],
   "source": [
    "# Create a DataFrame with the results\n",
    "submission_df = pd.DataFrame({'row ID': test_data['row ID'], 'price_doc': predictions.flatten()})\n",
    "\n",
    "# Save the results to a CSV file\n",
    "submission_df.to_csv('Day11.6.csv', index=False)"
   ]
  },
  {
   "cell_type": "code",
   "execution_count": 18,
   "metadata": {},
   "outputs": [
    {
     "name": "stdout",
     "output_type": "stream",
     "text": [
      "Features Used = 270\n",
      "\n",
      "Removed sub_area\n",
      "Label Encoding\n",
      "Converted All Columns To float32\n",
      "log Normalization\n",
      "StandardScaler\n",
      "MLPRegressor\n",
      "4 Hidden Layers: Hidden Layer 1 with 300 neurons relu activation L2 regularization, \n",
      "Hidden Layer 2 with 210 neurons relu activation L2 regularization, \n",
      "Hidden Layer 3 with 150 neurons relu activation L2 regularization, \n",
      "Hidden Layer 4 with 60 neurons relu activation L2 regularization\n",
      "Optimizer: adam\n",
      "batch_size=1800, epochs=100, early_stopping\n"
     ]
    }
   ],
   "source": [
    "print(\"Features Used = \" + str(features_used) + \"\\n\")\n",
    "for i in used:\n",
    "    print(i)"
   ]
  }
 ],
 "metadata": {
  "kernelspec": {
   "display_name": "Python 3",
   "language": "python",
   "name": "python3"
  },
  "language_info": {
   "codemirror_mode": {
    "name": "ipython",
    "version": 3
   },
   "file_extension": ".py",
   "mimetype": "text/x-python",
   "name": "python",
   "nbconvert_exporter": "python",
   "pygments_lexer": "ipython3",
   "version": "3.11.4"
  }
 },
 "nbformat": 4,
 "nbformat_minor": 2
}
