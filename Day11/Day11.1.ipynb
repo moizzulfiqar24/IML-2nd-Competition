{
 "cells": [
  {
   "cell_type": "code",
   "execution_count": 1,
   "metadata": {},
   "outputs": [],
   "source": [
    "import pandas as pd\n",
    "from sklearn.model_selection import train_test_split\n",
    "from sklearn.preprocessing import StandardScaler\n",
    "from keras.models import Sequential\n",
    "from keras.layers import Dense, Dropout\n",
    "from keras.callbacks import EarlyStopping\n",
    "import os\n",
    "import torch\n",
    "from sklearn.neural_network import MLPRegressor\n",
    "from sklearn.ensemble import GradientBoostingRegressor\n",
    "from sklearn.metrics import mean_squared_error\n",
    "from sklearn.model_selection import GridSearchCV\n",
    "from keras.optimizers import SGD, Adam, Adadelta, RMSprop, Adagrad, Nadam, Ftrl\n",
    "from keras.regularizers import l2\n",
    "import numpy as np\n",
    "from sklearn.decomposition import PCA"
   ]
  },
  {
   "cell_type": "code",
   "execution_count": 2,
   "metadata": {},
   "outputs": [],
   "source": [
    "# Load the training data\n",
    "train_data = pd.read_csv('../../2nd-Comp-Data/train.csv')\n",
    "test_data = pd.read_csv('../../2nd-Comp-Data/test.csv')\n",
    "\n",
    "used = []\n",
    "\n",
    "# Extract features and target variable\n",
    "X = train_data.drop('price_doc', axis=1)\n",
    "y = train_data['price_doc']\n",
    "X_test = test_data.drop(['row ID'], axis=1)"
   ]
  },
  {
   "cell_type": "code",
   "execution_count": 3,
   "metadata": {},
   "outputs": [],
   "source": [
    "# X = X.drop('sub_area', axis=1)\n",
    "# X_test = X_test.drop('sub_area', axis=1)\n",
    "# used.append('Removed sub_area')"
   ]
  },
  {
   "cell_type": "code",
   "execution_count": 4,
   "metadata": {},
   "outputs": [],
   "source": [
    "# X = pd.get_dummies(X)\n",
    "# X_test = pd.get_dummies(X_test) \n",
    "# used.append('OneHot Encoding')"
   ]
  },
  {
   "cell_type": "code",
   "execution_count": 5,
   "metadata": {},
   "outputs": [
    {
     "name": "stdout",
     "output_type": "stream",
     "text": [
      "Train: Categorical columns: ['product_type', 'sub_area', 'culture_objects_top_25', 'thermal_power_plant_raion', 'incineration_raion', 'oil_chemistry_raion', 'radiation_raion', 'railroad_terminal_raion', 'big_market_raion', 'nuclear_reactor_raion', 'detention_facility_raion', 'water_1line', 'big_road1_1line', 'railroad_1line', 'ecology']\n",
      "Test: Categorical columns: ['product_type', 'sub_area', 'culture_objects_top_25', 'thermal_power_plant_raion', 'incineration_raion', 'oil_chemistry_raion', 'radiation_raion', 'railroad_terminal_raion', 'big_market_raion', 'nuclear_reactor_raion', 'detention_facility_raion', 'water_1line', 'big_road1_1line', 'railroad_1line', 'ecology']\n"
     ]
    }
   ],
   "source": [
    "from sklearn.calibration import LabelEncoder\n",
    "\n",
    "categorical_columns = X.select_dtypes(include=['object']).columns.tolist()\n",
    "print(\"Train: Categorical columns:\", categorical_columns)\n",
    "\n",
    "label_encoder = LabelEncoder()\n",
    "\n",
    "for column in categorical_columns:\n",
    "    X[column] = label_encoder.fit_transform(X[column])\n",
    "\n",
    "categorical_columns_test = X_test.select_dtypes(include=['object']).columns.tolist()\n",
    "print(\"Test: Categorical columns:\", categorical_columns_test)\n",
    "\n",
    "label_encoder = LabelEncoder()\n",
    "\n",
    "for column in categorical_columns_test:\n",
    "    X_test[column] = label_encoder.fit_transform(X_test[column])\n",
    "\n",
    "used.append('Label Encoding')"
   ]
  },
  {
   "cell_type": "code",
   "execution_count": 6,
   "metadata": {},
   "outputs": [],
   "source": [
    "# # drop all columns in X_train with dtypes object\n",
    "# for col in X.columns:\n",
    "#     if X[col].dtype == 'object':\n",
    "#         X.drop(col, axis=1, inplace=True)\n",
    "\n",
    "# # drop all columns in X_test with dtypes object\n",
    "# for col in X_test.columns:\n",
    "#     if X_test[col].dtype == 'object':\n",
    "#         X_test.drop(col, axis=1, inplace=True)\n",
    "\n",
    "# used.append(\"Removed Object Dtypes\")"
   ]
  },
  {
   "cell_type": "code",
   "execution_count": 7,
   "metadata": {},
   "outputs": [],
   "source": [
    "X = X.astype('float32')\n",
    "X_test = X_test.astype('float32')\n",
    "used.append(\"Converted All Columns To float32\")"
   ]
  },
  {
   "cell_type": "code",
   "execution_count": 8,
   "metadata": {},
   "outputs": [],
   "source": [
    "X = np.log1p(X)\n",
    "X_test = np.log1p(X_test)\n",
    "used.append('log Normalization')"
   ]
  },
  {
   "cell_type": "code",
   "execution_count": 9,
   "metadata": {},
   "outputs": [],
   "source": [
    "# Split the data into training and validation sets\n",
    "X_train, X_val, y_train, y_val = train_test_split(X, y, test_size=0.3, random_state=42)"
   ]
  },
  {
   "cell_type": "code",
   "execution_count": 10,
   "metadata": {},
   "outputs": [],
   "source": [
    "# Standardize the data\n",
    "scaler = StandardScaler()\n",
    "X_train = scaler.fit_transform(X_train)\n",
    "X_val = scaler.transform(X_val)\n",
    "X_test = scaler.transform(X_test)\n",
    "used.append(\"StandardScaler\")"
   ]
  },
  {
   "cell_type": "code",
   "execution_count": 11,
   "metadata": {},
   "outputs": [
    {
     "data": {
      "text/plain": [
       "(127054, 271)"
      ]
     },
     "execution_count": 11,
     "metadata": {},
     "output_type": "execute_result"
    }
   ],
   "source": [
    "X_train.shape"
   ]
  },
  {
   "cell_type": "code",
   "execution_count": 12,
   "metadata": {},
   "outputs": [],
   "source": [
    "# from sklearn.preprocessing import PolynomialFeatures\n",
    "# poly = PolynomialFeatures(2)#, interaction_only=True)\n",
    "# X_train = poly.fit_transform(X_train)\n",
    "# X_test = poly.fit_transform(X_test)\n",
    "# used.append('PolynomialFeatures W/O Interaction')\n",
    "# # used.append('PolynomialFeatures With Interaction')"
   ]
  },
  {
   "cell_type": "code",
   "execution_count": 13,
   "metadata": {},
   "outputs": [],
   "source": [
    "# # save X_train to csv\n",
    "# X_train.to_csv('train with poly w/o int.2.csv', index=False)\n",
    "# X_test.to_csv('test with poly w/o int.csv', index=False)"
   ]
  },
  {
   "cell_type": "code",
   "execution_count": 14,
   "metadata": {},
   "outputs": [],
   "source": [
    "# pca = PCA(n_components=200)\n",
    "# principalComponents = pca.fit_transform(X_train)\n",
    "# X_train = pd.DataFrame(data = principalComponents)\n",
    "\n",
    "# pca2 = PCA(n_components=200)\n",
    "# principalComponents = pca2.fit_transform(X_test)\n",
    "# X_test = pd.DataFrame(data = principalComponents)\n",
    "\n",
    "# used.append('PCA (n=200)')"
   ]
  },
  {
   "cell_type": "markdown",
   "metadata": {},
   "source": [
    "<h1>With Keras<h1>"
   ]
  },
  {
   "cell_type": "code",
   "execution_count": 15,
   "metadata": {},
   "outputs": [
    {
     "name": "stderr",
     "output_type": "stream",
     "text": [
      "WARNING:absl:At this time, the v2.11+ optimizer `tf.keras.optimizers.Ftrl` runs slowly on M1/M2 Macs, please use the legacy Keras optimizer instead, located at `tf.keras.optimizers.legacy.Ftrl`.\n"
     ]
    },
    {
     "name": "stdout",
     "output_type": "stream",
     "text": [
      "Epoch 1/100\n",
      "71/71 [==============================] - 2s 19ms/step - loss: 224228129374208.0000 - val_loss: 173872724836352.0000\n",
      "Epoch 2/100\n",
      "71/71 [==============================] - 1s 18ms/step - loss: 181170780241920.0000 - val_loss: 176215528833024.0000\n",
      "Epoch 3/100\n",
      "71/71 [==============================] - 1s 18ms/step - loss: 179637007155200.0000 - val_loss: 171455195119616.0000\n",
      "Epoch 4/100\n",
      "71/71 [==============================] - 1s 18ms/step - loss: 179140854546432.0000 - val_loss: 171510828367872.0000\n",
      "Epoch 5/100\n",
      "71/71 [==============================] - 1s 18ms/step - loss: 177062006489088.0000 - val_loss: 170532045586432.0000\n",
      "Epoch 6/100\n",
      "71/71 [==============================] - 1s 18ms/step - loss: 176989277257728.0000 - val_loss: 167960366809088.0000\n",
      "Epoch 7/100\n",
      "71/71 [==============================] - 1s 20ms/step - loss: 174954771382272.0000 - val_loss: 166577521557504.0000\n",
      "Epoch 8/100\n",
      "71/71 [==============================] - 1s 21ms/step - loss: 175331889643520.0000 - val_loss: 166134787604480.0000\n",
      "Epoch 9/100\n",
      "71/71 [==============================] - 2s 27ms/step - loss: 173973606236160.0000 - val_loss: 165824308445184.0000\n",
      "Epoch 10/100\n",
      "71/71 [==============================] - 1s 19ms/step - loss: 173790801690624.0000 - val_loss: 165384074297344.0000\n",
      "Epoch 11/100\n",
      "71/71 [==============================] - 1s 19ms/step - loss: 173748573437952.0000 - val_loss: 165711867543552.0000\n",
      "Epoch 12/100\n",
      "71/71 [==============================] - 1s 19ms/step - loss: 173024737230848.0000 - val_loss: 165050140590080.0000\n",
      "Epoch 13/100\n",
      "71/71 [==============================] - 1s 18ms/step - loss: 171775505727488.0000 - val_loss: 164666881867776.0000\n",
      "Epoch 14/100\n",
      "71/71 [==============================] - 1s 18ms/step - loss: 172017651286016.0000 - val_loss: 164525181501440.0000\n",
      "Epoch 15/100\n",
      "71/71 [==============================] - 1s 18ms/step - loss: 171563106172928.0000 - val_loss: 166318145798144.0000\n",
      "Epoch 16/100\n",
      "71/71 [==============================] - 1s 18ms/step - loss: 171191625056256.0000 - val_loss: 167077381931008.0000\n",
      "Epoch 17/100\n",
      "71/71 [==============================] - 1s 20ms/step - loss: 171297573175296.0000 - val_loss: 164433812783104.0000\n",
      "Epoch 18/100\n",
      "71/71 [==============================] - 1s 18ms/step - loss: 171303143211008.0000 - val_loss: 164404452655104.0000\n",
      "Epoch 19/100\n",
      "71/71 [==============================] - 1s 18ms/step - loss: 170828498993152.0000 - val_loss: 163877564186624.0000\n",
      "Epoch 20/100\n",
      "71/71 [==============================] - 1s 18ms/step - loss: 170135432200192.0000 - val_loss: 165576911618048.0000\n",
      "Epoch 21/100\n",
      "71/71 [==============================] - 1s 18ms/step - loss: 170384389308416.0000 - val_loss: 165590249504768.0000\n",
      "Epoch 22/100\n",
      "71/71 [==============================] - 1s 18ms/step - loss: 170786992160768.0000 - val_loss: 164521574400000.0000\n",
      "Epoch 23/100\n",
      "71/71 [==============================] - 1s 19ms/step - loss: 170091878547456.0000 - val_loss: 164040101855232.0000\n",
      "Epoch 24/100\n",
      "71/71 [==============================] - 1s 18ms/step - loss: 170129140744192.0000 - val_loss: 165381205393408.0000\n",
      "Epoch 25/100\n",
      "71/71 [==============================] - 1s 18ms/step - loss: 169395707969536.0000 - val_loss: 163698198970368.0000\n",
      "Epoch 26/100\n",
      "71/71 [==============================] - 1s 19ms/step - loss: 169585173069824.0000 - val_loss: 164459918131200.0000\n",
      "Epoch 27/100\n",
      "71/71 [==============================] - 1s 18ms/step - loss: 168282338361344.0000 - val_loss: 163893586427904.0000\n",
      "Epoch 28/100\n",
      "71/71 [==============================] - 1s 18ms/step - loss: 169024226852864.0000 - val_loss: 164245152989184.0000\n",
      "Epoch 29/100\n",
      "71/71 [==============================] - 1s 19ms/step - loss: 168721045782528.0000 - val_loss: 163562806837248.0000\n",
      "Epoch 30/100\n",
      "71/71 [==============================] - 1s 19ms/step - loss: 168369244340224.0000 - val_loss: 163537607458816.0000\n",
      "Epoch 31/100\n",
      "71/71 [==============================] - 1s 19ms/step - loss: 168811139432448.0000 - val_loss: 163642632830976.0000\n",
      "Epoch 32/100\n",
      "71/71 [==============================] - 1s 20ms/step - loss: 168715458969600.0000 - val_loss: 164573684432896.0000\n",
      "Epoch 33/100\n",
      "71/71 [==============================] - 1s 19ms/step - loss: 168291884597248.0000 - val_loss: 163720529444864.0000\n",
      "Epoch 34/100\n",
      "71/71 [==============================] - 1s 19ms/step - loss: 167885758529536.0000 - val_loss: 163635687063552.0000\n",
      "Epoch 35/100\n",
      "71/71 [==============================] - 1s 18ms/step - loss: 167019081105408.0000 - val_loss: 163481403785216.0000\n",
      "Epoch 36/100\n",
      "71/71 [==============================] - 1s 18ms/step - loss: 168539717632000.0000 - val_loss: 163701957066752.0000\n",
      "Epoch 37/100\n",
      "71/71 [==============================] - 1s 19ms/step - loss: 167874098364416.0000 - val_loss: 163434092036096.0000\n",
      "Epoch 38/100\n",
      "71/71 [==============================] - 1s 19ms/step - loss: 167315853279232.0000 - val_loss: 163463049510912.0000\n",
      "Epoch 39/100\n",
      "71/71 [==============================] - 1s 20ms/step - loss: 168113375019008.0000 - val_loss: 163600773677056.0000\n",
      "Epoch 40/100\n",
      "71/71 [==============================] - 1s 19ms/step - loss: 167050639048704.0000 - val_loss: 165142734045184.0000\n",
      "Epoch 41/100\n",
      "71/71 [==============================] - 1s 19ms/step - loss: 166358209789952.0000 - val_loss: 163885986349056.0000\n",
      "Epoch 42/100\n",
      "71/71 [==============================] - 1s 19ms/step - loss: 166289909743616.0000 - val_loss: 163710026907648.0000\n",
      "Epoch 43/100\n",
      "71/71 [==============================] - 1s 19ms/step - loss: 166322256216064.0000 - val_loss: 163653387026432.0000\n",
      "Epoch 44/100\n",
      "71/71 [==============================] - 1s 19ms/step - loss: 166749102145536.0000 - val_loss: 163723129913344.0000\n",
      "Epoch 45/100\n",
      "71/71 [==============================] - 1s 19ms/step - loss: 166164114178048.0000 - val_loss: 164806669631488.0000\n",
      "Epoch 46/100\n",
      "71/71 [==============================] - 1s 19ms/step - loss: 165551645130752.0000 - val_loss: 163802687471616.0000\n",
      "Epoch 47/100\n",
      "71/71 [==============================] - 1s 19ms/step - loss: 165761125449728.0000 - val_loss: 164415341068288.0000\n",
      "2431/2431 [==============================] - 1s 546us/step\n"
     ]
    }
   ],
   "source": [
    "features_used = X_train.shape[1]\n",
    "\n",
    "# Build the neural network\n",
    "os.environ[\"KERAS_BACKEND\"] = \"torch\"\n",
    "used.append(\"Keras With Torch Backend\")\n",
    "model = Sequential()\n",
    "model.add(Dense(360, input_dim=X_train.shape[1], activation='selu', kernel_regularizer=l2(0.01)))\n",
    "model.add(Dropout(0.3))  # You can use either dropout or early stopping\n",
    "model.add(Dense(280, activation='selu', kernel_regularizer=l2(0.01)))\n",
    "model.add(Dropout(0.3))\n",
    "model.add(Dense(190, activation='selu', kernel_regularizer=l2(0.01)))\n",
    "model.add(Dropout(0.3))\n",
    "model.add(Dense(130, activation='selu', kernel_regularizer=l2(0.01)))\n",
    "model.add(Dropout(0.3))\n",
    "model.add(Dense(1, activation='linear'))  # Output layer with linear activation for regression\n",
    "\n",
    "used.append(\"4 Hidden Layers: Hidden Layer 1 with 360 neurons selu activation L2 regularization, \\n\" +\n",
    "            \"Hidden Layer 2 with 280 neurons selu activation L2 regularization, \\n\" +\n",
    "            \"Hidden Layer 3 with 190 neurons selu activation L2 regularization, \\n\" +\n",
    "            \"Hidden Layer 4 with 130 neurons selu activation L2 regularization\")\n",
    "used.append(\"Output linear\")\n",
    "\n",
    "# optimizerUsing = Adam(lr=0.05)#, beta_1=0.9, beta_2=0.999, epsilon=1e-07, amsgrad=False)\n",
    "# used.append(\"Optimizer: Adam(lr=0.05)\")\n",
    "# optimizerUsing = RMSprop(lr=0.001)\n",
    "# used.append(\"Optimizer: RMSprop(lr=0.001)\")\n",
    "# optimizerUsing = Adagrad(lr=0.01)\n",
    "# used.append(\"Optimizer: Adagrad(lr=0.01)\")\n",
    "# optimizerUsing = Adadelta(lr=1.0, rho=0.95)\n",
    "# used.append(\"Optimizer: Adadelta(lr=1.0, rho=0.95)\")\n",
    "# optimizerUsing = Nadam(lr=0.002, beta_1=0.9, beta_2=0.999)\n",
    "# used.append(\"Optimizer: Nadam(lr=0.002, beta_1=0.9, beta_2=0.999)\")\n",
    "optimizerUsing = Ftrl(learning_rate=0.05)#, learning_rate_power=-0.5, initial_accumulator_value=0.1, l1_regularization_strength=0.01, l2_regularization_strength=0.01)\n",
    "used.append(\"Optimizer: Ftrl(learning_rate=0.05)\")\n",
    "\n",
    "# Compile the model\n",
    "model.compile(loss='mean_squared_error', optimizer=optimizerUsing)\n",
    "used.append(\"Loss Calculation: Mean Squared Error\")\n",
    "\n",
    "# Define early stopping\n",
    "early_stopping = EarlyStopping(monitor='val_loss', patience=10, restore_best_weights=True)\n",
    "used.append(\"EarlyStopping(monitor='val_loss', patience=10, restore_best_weights=True)\")\n",
    "\n",
    "# Train the model\n",
    "model.fit(X_train, y_train, epochs=100, batch_size=1800, validation_data=(X_val, y_val), callbacks=[early_stopping])\n",
    "used.append(\"batch_size=1800, epochs=100, early_stopping (patience 10), dropout=0.3, L2 Regularization\")\n",
    "\n",
    "# Train the model\n",
    "# model.fit(X_train, y_train, epochs=100, batch_size=1800, validation_data=(X_val, y_val))#, callbacks=[early_stopping])\n",
    "# used.append(\"batch_size=1800, epochs=100, dropout=0.3, L2 Regularization\")\n",
    "\n",
    "# used.append(\"batch_size=1800, epochs=100, early_stopping\")\n",
    "\n",
    "# Make predictions\n",
    "predictions = model.predict(X_test)"
   ]
  },
  {
   "cell_type": "markdown",
   "metadata": {},
   "source": [
    "<h1>With Skilearn<h1>"
   ]
  },
  {
   "cell_type": "code",
   "execution_count": 16,
   "metadata": {},
   "outputs": [],
   "source": [
    "# features_used = X_train.shape[1]\n",
    "\n",
    "# # # optimizerUsing = SGD(learning_rate=0.01, momentum=0.9)\n",
    "\n",
    "# # # optimizerUsing = Adam(lr=0.001, beta_1=0.9, beta_2=0.999, epsilon=1e-07, amsgrad=False)\n",
    "# # optimizerUsing = Adam(lr=0.001)#, epsilon=1e-07)\n",
    "\n",
    "# l2Regu = 0.001\n",
    "\n",
    "# model = MLPRegressor(hidden_layer_sizes=(300,210,150,60), activation='relu', solver='adam', alpha = l2Regu, shuffle=False, max_iter=100,\n",
    "#                      batch_size=1800, early_stopping=True, verbose=True, random_state=42)\n",
    "\n",
    "# used.append(\"MLPRegressor\")\n",
    "# used.append(\"4 Hidden Layers: Hidden Layer 1 with 300 neurons relu activation L2 regularization, \\n\" +\n",
    "#             \"Hidden Layer 2 with 210 neurons relu activation L2 regularization, \\n\" +\n",
    "#             \"Hidden Layer 3 with 150 neurons relu activation L2 regularization, \\n\" +\n",
    "#             \"Hidden Layer 4 with 60 neurons relu activation L2 regularization\")\n",
    "# used.append(\"Optimizer: adam\")\n",
    "# used.append(\"batch_size=1800, epochs=100, early_stopping\")\n",
    "\n",
    "# # Train the model\n",
    "# model.fit(X_train, y_train)\n",
    "\n",
    "# # Make predictions\n",
    "# predictions = model.predict(X_test)"
   ]
  },
  {
   "cell_type": "code",
   "execution_count": 17,
   "metadata": {},
   "outputs": [],
   "source": [
    "# Create a DataFrame with the results\n",
    "submission_df = pd.DataFrame({'row ID': test_data['row ID'], 'price_doc': predictions.flatten()})\n",
    "\n",
    "# Save the results to a CSV file\n",
    "submission_df.to_csv('Day11.1.csv', index=False)"
   ]
  },
  {
   "cell_type": "code",
   "execution_count": 18,
   "metadata": {},
   "outputs": [
    {
     "name": "stdout",
     "output_type": "stream",
     "text": [
      "Features Used = 271\n",
      "\n",
      "Label Encoding\n",
      "Converted All Columns To float32\n",
      "log Normalization\n",
      "StandardScaler\n",
      "Keras With Torch Backend\n",
      "4 Hidden Layers: Hidden Layer 1 with 360 neurons selu activation L2 regularization, \n",
      "Hidden Layer 2 with 280 neurons selu activation L2 regularization, \n",
      "Hidden Layer 3 with 190 neurons selu activation L2 regularization, \n",
      "Hidden Layer 4 with 130 neurons selu activation L2 regularization\n",
      "Output linear\n",
      "Optimizer: Ftrl(learning_rate=0.05)\n",
      "Loss Calculation: Mean Squared Error\n",
      "EarlyStopping(monitor='val_loss', patience=10, restore_best_weights=True)\n",
      "batch_size=1800, epochs=100, early_stopping (patience 10), dropout=0.3, L2 Regularization\n"
     ]
    }
   ],
   "source": [
    "print(\"Features Used = \" + str(features_used) + \"\\n\")\n",
    "for i in used:\n",
    "    print(i)"
   ]
  }
 ],
 "metadata": {
  "kernelspec": {
   "display_name": "Python 3",
   "language": "python",
   "name": "python3"
  },
  "language_info": {
   "codemirror_mode": {
    "name": "ipython",
    "version": 3
   },
   "file_extension": ".py",
   "mimetype": "text/x-python",
   "name": "python",
   "nbconvert_exporter": "python",
   "pygments_lexer": "ipython3",
   "version": "3.11.4"
  }
 },
 "nbformat": 4,
 "nbformat_minor": 2
}
