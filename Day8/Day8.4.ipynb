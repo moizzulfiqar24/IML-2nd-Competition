{
 "cells": [
  {
   "cell_type": "code",
   "execution_count": 1,
   "metadata": {},
   "outputs": [],
   "source": [
    "import pandas as pd\n",
    "from sklearn.model_selection import train_test_split\n",
    "from sklearn.preprocessing import StandardScaler\n",
    "from keras.models import Sequential\n",
    "from keras.layers import Dense, Dropout\n",
    "from keras.callbacks import EarlyStopping\n",
    "import os\n",
    "import torch\n",
    "from sklearn.neural_network import MLPRegressor\n",
    "from sklearn.ensemble import GradientBoostingRegressor\n",
    "from sklearn.metrics import mean_squared_error\n",
    "from sklearn.model_selection import GridSearchCV\n",
    "from keras.optimizers import SGD, Adam\n",
    "from keras.regularizers import l2\n",
    "import numpy as np\n",
    "from sklearn.decomposition import PCA"
   ]
  },
  {
   "cell_type": "code",
   "execution_count": 2,
   "metadata": {},
   "outputs": [],
   "source": [
    "# Load the training data\n",
    "train_data = pd.read_csv('../../2nd-Comp-Data/train.csv')\n",
    "test_data = pd.read_csv('../../2nd-Comp-Data/test.csv')\n",
    "\n",
    "used = []\n",
    "\n",
    "# Extract features and target variable\n",
    "X = train_data.drop('price_doc', axis=1)\n",
    "y = train_data['price_doc']\n",
    "X_test = test_data.drop(['row ID'], axis=1)"
   ]
  },
  {
   "cell_type": "code",
   "execution_count": 3,
   "metadata": {},
   "outputs": [],
   "source": [
    "X = X.drop('sub_area', axis=1)\n",
    "X_test = X_test.drop('sub_area', axis=1)\n",
    "used.append('Removed sub_area')"
   ]
  },
  {
   "cell_type": "code",
   "execution_count": 4,
   "metadata": {},
   "outputs": [],
   "source": [
    "X = pd.get_dummies(X)\n",
    "X_test = pd.get_dummies(X_test) \n",
    "used.append('OneHot Encoding')"
   ]
  },
  {
   "cell_type": "code",
   "execution_count": 5,
   "metadata": {},
   "outputs": [],
   "source": [
    "# from sklearn.calibration import LabelEncoder\n",
    "\n",
    "# categorical_columns = X.select_dtypes(include=['object']).columns.tolist()\n",
    "# print(\"Train: Categorical columns:\", categorical_columns)\n",
    "\n",
    "# label_encoder = LabelEncoder()\n",
    "\n",
    "# for column in categorical_columns:\n",
    "#     X[column] = label_encoder.fit_transform(X[column])\n",
    "\n",
    "# categorical_columns_test = X_test.select_dtypes(include=['object']).columns.tolist()\n",
    "# print(\"Test: Categorical columns:\", categorical_columns_test)\n",
    "\n",
    "# label_encoder = LabelEncoder()\n",
    "\n",
    "# for column in categorical_columns_test:\n",
    "#     X_test[column] = label_encoder.fit_transform(X_test[column])\n",
    "\n",
    "# used.append('Label Encoding')"
   ]
  },
  {
   "cell_type": "code",
   "execution_count": 6,
   "metadata": {},
   "outputs": [],
   "source": [
    "# # drop all columns in X_train with dtypes object\n",
    "# for col in X.columns:\n",
    "#     if X[col].dtype == 'object':\n",
    "#         X.drop(col, axis=1, inplace=True)\n",
    "\n",
    "# # drop all columns in X_test with dtypes object\n",
    "# for col in X_test.columns:\n",
    "#     if X_test[col].dtype == 'object':\n",
    "#         X_test.drop(col, axis=1, inplace=True)\n",
    "\n",
    "# used.append(\"Removed Object Dtypes\")"
   ]
  },
  {
   "cell_type": "code",
   "execution_count": 7,
   "metadata": {},
   "outputs": [],
   "source": [
    "X = X.astype('float32')\n",
    "X_test = X_test.astype('float32')\n",
    "used.append(\"Converted All Columns To float32\")"
   ]
  },
  {
   "cell_type": "code",
   "execution_count": 8,
   "metadata": {},
   "outputs": [],
   "source": [
    "X = np.log1p(X)\n",
    "X_test = np.log1p(X_test)\n",
    "used.append('log Normalization')"
   ]
  },
  {
   "cell_type": "code",
   "execution_count": 9,
   "metadata": {},
   "outputs": [],
   "source": [
    "# Split the data into training and validation sets\n",
    "X_train, X_val, y_train, y_val = train_test_split(X, y, test_size=0.3, random_state=42)"
   ]
  },
  {
   "cell_type": "code",
   "execution_count": 10,
   "metadata": {},
   "outputs": [],
   "source": [
    "# Standardize the data\n",
    "scaler = StandardScaler()\n",
    "X_train = scaler.fit_transform(X_train)\n",
    "X_val = scaler.transform(X_val)\n",
    "X_test = scaler.transform(X_test)\n",
    "used.append(\"StandardScaler\")"
   ]
  },
  {
   "cell_type": "code",
   "execution_count": 11,
   "metadata": {},
   "outputs": [
    {
     "data": {
      "text/plain": [
       "(127054, 287)"
      ]
     },
     "execution_count": 11,
     "metadata": {},
     "output_type": "execute_result"
    }
   ],
   "source": [
    "X_train.shape"
   ]
  },
  {
   "cell_type": "code",
   "execution_count": 12,
   "metadata": {},
   "outputs": [],
   "source": [
    "# from sklearn.preprocessing import PolynomialFeatures\n",
    "# poly = PolynomialFeatures(2)#, interaction_only=True)\n",
    "# X_train = poly.fit_transform(X_train)\n",
    "# X_test = poly.fit_transform(X_test)\n",
    "# used.append('PolynomialFeatures W/O Interaction')\n",
    "# # used.append('PolynomialFeatures With Interaction')"
   ]
  },
  {
   "cell_type": "code",
   "execution_count": 13,
   "metadata": {},
   "outputs": [],
   "source": [
    "# # save X_train to csv\n",
    "# X_train.to_csv('train with poly w/o int.2.csv', index=False)\n",
    "# X_test.to_csv('test with poly w/o int.csv', index=False)"
   ]
  },
  {
   "cell_type": "code",
   "execution_count": 14,
   "metadata": {},
   "outputs": [],
   "source": [
    "# pca = PCA(n_components=200)\n",
    "# principalComponents = pca.fit_transform(X_train)\n",
    "# X_train = pd.DataFrame(data = principalComponents)\n",
    "\n",
    "# pca2 = PCA(n_components=200)\n",
    "# principalComponents = pca2.fit_transform(X_test)\n",
    "# X_test = pd.DataFrame(data = principalComponents)\n",
    "\n",
    "# used.append('PCA (n=200)')"
   ]
  },
  {
   "cell_type": "markdown",
   "metadata": {},
   "source": [
    "<h1>With Keras<h1>"
   ]
  },
  {
   "cell_type": "code",
   "execution_count": 15,
   "metadata": {},
   "outputs": [],
   "source": [
    "# features_used = X_train.shape[1]\n",
    "\n",
    "# # optimizerUsing = SGD(learning_rate=0.01, momentum=0.9)\n",
    "\n",
    "# # optimizerUsing = Adam(lr=0.001, beta_1=0.9, beta_2=0.999, epsilon=1e-07, amsgrad=False)\n",
    "# optimizerUsing = Adam(lr=0.001)#, epsilon=1e-07)\n",
    "\n",
    "# # Build the neural network\n",
    "# os.environ[\"KERAS_BACKEND\"] = \"torch\"\n",
    "# model = Sequential()\n",
    "# model.add(Dense(128, input_dim=X_train.shape[1], activation='relu', kernel_regularizer=l2(0.01)))\n",
    "# model.add(Dropout(0.3))  # You can use either dropout or early stopping\n",
    "# model.add(Dense(68, activation='relu', kernel_regularizer=l2(0.01)))\n",
    "# model.add(Dropout(0.3))\n",
    "# model.add(Dense(40, activation='relu', kernel_regularizer=l2(0.01)))\n",
    "# model.add(Dropout(0.3))\n",
    "# model.add(Dense(1, activation='linear'))  # Output layer with linear activation for regression\n",
    "\n",
    "# # Compile the model\n",
    "# model.compile(loss='mean_squared_error', optimizer=optimizerUsing)\n",
    "\n",
    "# # Define early stopping\n",
    "# early_stopping = EarlyStopping(monitor='val_loss', patience=10, restore_best_weights=True)\n",
    "\n",
    "# # Train the model\n",
    "# model.fit(X_train, y_train, epochs=100, batch_size=1800, validation_data=(X_val, y_val), callbacks=[early_stopping])\n",
    "\n",
    "# used.append(\"Keras With Torch Backend\")\n",
    "# # used.append(\"1 Hidden Layer: Hidden Layer 1 with 140 neurons relu activation, Output linear\")\n",
    "# # used.append(\"2 Hidden Layers: Hidden Layer 1 with 100 neurons relu activation, Hidden Layer 2 with 50 neurons relu activation, Dropout 0.3, Output linear\")\n",
    "# used.append(\"3 Hidden Layers: Hidden Layer 1 with 128 neurons relu activation L2 regularization, Hidden Layer 2 with 64 neurons relu activation L2 regularization, Hidden Layer 3 with 40 neurons relu activation L2 regularization\")\n",
    "# used.append(\"Output linear\")\n",
    "# used.append(\"Optimizer: Adam(lr=0.01)\")\n",
    "# used.append(\"Loss Calculation: Mean Squared Error\")\n",
    "# used.append(\"EarlyStopping(monitor='val_loss', patience=10, restore_best_weights=True)\")\n",
    "# used.append(\"batch_size=1800, epochs=100, early_stopping, dropout=0.3 (used in hidden layers only)\")\n",
    "# # used.append(\"batch_size=1800, epochs=100, early_stopping\")\n",
    "\n",
    "# # Make predictions\n",
    "# predictions = model.predict(X_test)"
   ]
  },
  {
   "cell_type": "markdown",
   "metadata": {},
   "source": [
    "<h1>With Skilearn<h1>"
   ]
  },
  {
   "cell_type": "code",
   "execution_count": 16,
   "metadata": {},
   "outputs": [
    {
     "name": "stdout",
     "output_type": "stream",
     "text": [
      "Iteration 1, loss = 346964051773369.56250000\n",
      "Validation score: -0.453751\n",
      "Iteration 2, loss = 337870795206800.68750000\n",
      "Validation score: -0.314332\n",
      "Iteration 3, loss = 223754235626339.75000000\n",
      "Validation score: 0.519682\n",
      "Iteration 4, loss = 94402120276053.64062500\n",
      "Validation score: 0.618570\n",
      "Iteration 5, loss = 87731902297972.76562500\n",
      "Validation score: 0.632722\n",
      "Iteration 6, loss = 85485468796495.57812500\n",
      "Validation score: 0.637963\n",
      "Iteration 7, loss = 84654495222929.89062500\n",
      "Validation score: 0.639853\n",
      "Iteration 8, loss = 84294483470323.46875000\n",
      "Validation score: 0.640889\n",
      "Iteration 9, loss = 84056363043974.81250000\n",
      "Validation score: 0.641673\n",
      "Iteration 10, loss = 83862447474688.45312500\n",
      "Validation score: 0.642317\n",
      "Iteration 11, loss = 83694840017455.01562500\n",
      "Validation score: 0.642865\n",
      "Iteration 12, loss = 83545586048888.89062500\n",
      "Validation score: 0.643353\n",
      "Iteration 13, loss = 83409447288884.73437500\n",
      "Validation score: 0.643787\n",
      "Iteration 14, loss = 83284468769868.31250000\n",
      "Validation score: 0.644178\n",
      "Iteration 15, loss = 83169366584132.43750000\n",
      "Validation score: 0.644529\n",
      "Iteration 16, loss = 83062511800973.06250000\n",
      "Validation score: 0.644848\n",
      "Iteration 17, loss = 82961794195231.43750000\n",
      "Validation score: 0.645133\n",
      "Iteration 18, loss = 82867336253486.50000000\n",
      "Validation score: 0.645392\n",
      "Iteration 19, loss = 82779075073833.32812500\n",
      "Validation score: 0.645635\n",
      "Iteration 20, loss = 82696033603443.39062500\n",
      "Validation score: 0.645856\n",
      "Iteration 21, loss = 82616732092103.60937500\n",
      "Validation score: 0.646064\n",
      "Iteration 22, loss = 82540765774771.78125000\n",
      "Validation score: 0.646259\n",
      "Iteration 23, loss = 82467281742990.93750000\n",
      "Validation score: 0.646438\n",
      "Iteration 24, loss = 82396886741792.95312500\n",
      "Validation score: 0.646601\n",
      "Iteration 25, loss = 82328977845784.09375000\n",
      "Validation score: 0.646757\n",
      "Iteration 26, loss = 82263063954393.92187500\n",
      "Validation score: 0.646903\n",
      "Iteration 27, loss = 82198843836141.28125000\n",
      "Validation score: 0.647035\n",
      "Iteration 28, loss = 82136120652752.25000000\n",
      "Validation score: 0.647159\n",
      "Iteration 29, loss = 82074481505914.18750000\n",
      "Validation score: 0.647274\n",
      "Iteration 30, loss = 82014423488253.82812500\n",
      "Validation score: 0.647383\n",
      "Iteration 31, loss = 81954974619983.00000000\n",
      "Validation score: 0.647489\n",
      "Iteration 32, loss = 81896681982816.18750000\n",
      "Validation score: 0.647587\n",
      "Iteration 33, loss = 81839167123677.87500000\n",
      "Validation score: 0.647672\n",
      "Iteration 34, loss = 81781960859101.46875000\n",
      "Validation score: 0.647764\n",
      "Iteration 35, loss = 81725189932425.37500000\n",
      "Validation score: 0.647855\n",
      "Iteration 36, loss = 81667959463137.37500000\n",
      "Validation score: 0.647936\n",
      "Iteration 37, loss = 81610821601124.37500000\n",
      "Validation score: 0.648019\n",
      "Iteration 38, loss = 81553030926306.40625000\n",
      "Validation score: 0.648095\n",
      "Iteration 39, loss = 81495313846263.09375000\n",
      "Validation score: 0.648166\n",
      "Iteration 40, loss = 81437684034504.68750000\n",
      "Validation score: 0.648239\n",
      "Iteration 41, loss = 81379298274212.53125000\n",
      "Validation score: 0.648308\n",
      "Iteration 42, loss = 81320613039552.65625000\n",
      "Validation score: 0.648377\n",
      "Validation score did not improve more than tol=0.000100 for 10 consecutive epochs. Stopping.\n"
     ]
    }
   ],
   "source": [
    "features_used = X_train.shape[1]\n",
    "\n",
    "# # optimizerUsing = SGD(learning_rate=0.01, momentum=0.9)\n",
    "\n",
    "# # optimizerUsing = Adam(lr=0.001, beta_1=0.9, beta_2=0.999, epsilon=1e-07, amsgrad=False)\n",
    "# optimizerUsing = Adam(lr=0.001)#, epsilon=1e-07)\n",
    "\n",
    "# Build the neural network using MLPRegressor from scikit-learn\n",
    "model = MLPRegressor(hidden_layer_sizes=(300,210,180,130,70), activation='relu', solver='adam', shuffle=False, max_iter=100,\n",
    "                     batch_size=1800, early_stopping=True, verbose=True, random_state=42)\n",
    "\n",
    "# Train the model\n",
    "model.fit(X_train, y_train)\n",
    "\n",
    "used.append(\"MLPRegressor(hidden_layer_sizes=(128,64,40), activation='relu', solver='adam', shuffle=False, max_iter=100, batch_size=1800, early_stopping=True, verbose=True, random_state=42)\")\n",
    "# used.append(\"1 Hidden Layer: Hidden Layer 1 with 140 neurons relu activation, Output linear\")\n",
    "# used.append(\"2 Hidden Layers: Hidden Layer 1 with 100 neurons relu activation, Hidden Layer 2 with 50 neurons relu activation, Dropout 0.3, Output linear\")\n",
    "used.append(\"5 Hidden Layers: Hidden Layer 1 with 300 neurons, Hidden Layer 2 with 210 neurons, Hidden Layer 3 with 180 neurons, Hidden Layer 4 with 130 neurons, Hidden Layer 5 with 70 neurons\")\n",
    "# used.append(\"Output linear\")\n",
    "used.append(\"Optimizer: Adam\")\n",
    "# used.append(\"Loss Calculation: Mean Squared Error\")\n",
    "# used.append(\"EarlyStopping(monitor='val_loss', patience=10, restore_best_weights=True)\")\n",
    "# used.append(\"batch_size=1800, epochs=100, early_stopping, dropout=0.3 (used in hidden layers only)\")\n",
    "used.append(\"batch_size=1800, epochs=100, early_stopping\")\n",
    "\n",
    "# Make predictions\n",
    "predictions = model.predict(X_test)"
   ]
  },
  {
   "cell_type": "code",
   "execution_count": 17,
   "metadata": {},
   "outputs": [],
   "source": [
    "# Create a DataFrame with the results\n",
    "submission_df = pd.DataFrame({'row ID': test_data['row ID'], 'price_doc': predictions.flatten()})\n",
    "\n",
    "# Save the results to a CSV file\n",
    "submission_df.to_csv('Day8.4.csv', index=False)"
   ]
  },
  {
   "cell_type": "code",
   "execution_count": 18,
   "metadata": {},
   "outputs": [
    {
     "name": "stdout",
     "output_type": "stream",
     "text": [
      "Features Used = 200\n",
      "\n",
      "Removed sub_area\n",
      "OneHot Encoding\n",
      "Converted All Columns To float32\n",
      "log Normalization\n",
      "StandardScaler\n",
      "PCA (n=200)\n",
      "MLPRegressor(hidden_layer_sizes=(128,64,40), activation='relu', solver='adam', shuffle=False, max_iter=100, batch_size=1800, early_stopping=True, verbose=True, random_state=42)\n",
      "3 Hidden Layers: Hidden Layer 1 with 300 neurons, Hidden Layer 2 with 210 neurons, Hidden Layer 3 with 150 neurons, Hidden Layer 4 with 60 neurons\n",
      "Optimizer: Adam\n",
      "batch_size=1800, epochs=100, early_stopping\n"
     ]
    }
   ],
   "source": [
    "print(\"Features Used = \" + str(features_used) + \"\\n\")\n",
    "for i in used:\n",
    "    print(i)"
   ]
  }
 ],
 "metadata": {
  "kernelspec": {
   "display_name": "Python 3",
   "language": "python",
   "name": "python3"
  },
  "language_info": {
   "codemirror_mode": {
    "name": "ipython",
    "version": 3
   },
   "file_extension": ".py",
   "mimetype": "text/x-python",
   "name": "python",
   "nbconvert_exporter": "python",
   "pygments_lexer": "ipython3",
   "version": "3.11.4"
  }
 },
 "nbformat": 4,
 "nbformat_minor": 2
}
