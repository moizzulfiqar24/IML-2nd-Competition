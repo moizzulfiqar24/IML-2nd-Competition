{
 "cells": [
  {
   "cell_type": "code",
   "execution_count": 491,
   "metadata": {},
   "outputs": [],
   "source": [
    "import numpy as np\n",
    "import pandas as pd\n",
    "from sklearn.linear_model import Ridge\n",
    "from sklearn.linear_model import Lasso\n",
    "from sklearn.metrics import mean_squared_error, r2_score\n",
    "from sklearn.model_selection import train_test_split\n",
    "from sklearn.feature_selection import SequentialFeatureSelector\n",
    "from sklearn.preprocessing import MinMaxScaler\n",
    "from sklearn.preprocessing import StandardScaler\n",
    "from sklearn.preprocessing import LabelEncoder\n",
    "from scipy.stats import skew\n",
    "from sklearn.decomposition import PCA\n",
    "import statsmodels.api as sm\n",
    "from sklearn.preprocessing import PolynomialFeatures\n",
    "from matplotlib import pyplot as plt\n",
    "from sklearn.preprocessing import RobustScaler\n",
    "from sklearn.feature_selection import VarianceThreshold\n",
    "from sklearn.preprocessing import PowerTransformer"
   ]
  },
  {
   "cell_type": "code",
   "execution_count": 492,
   "metadata": {},
   "outputs": [],
   "source": [
    "used = []"
   ]
  },
  {
   "cell_type": "code",
   "execution_count": 493,
   "metadata": {},
   "outputs": [],
   "source": [
    "train = pd.read_csv('../../2nd-Comp-Data/train.csv')\n",
    "test = pd.read_csv('../../2nd-Comp-Data/test.csv')\n",
    "testOriginal = pd.read_csv('../../2nd-Comp-Data/test.csv')"
   ]
  },
  {
   "cell_type": "code",
   "execution_count": 494,
   "metadata": {},
   "outputs": [
    {
     "data": {
      "text/plain": [
       "(181507, 272)"
      ]
     },
     "execution_count": 494,
     "metadata": {},
     "output_type": "execute_result"
    }
   ],
   "source": [
    "train.shape"
   ]
  },
  {
   "cell_type": "code",
   "execution_count": 495,
   "metadata": {},
   "outputs": [],
   "source": [
    "test.drop('row ID', axis=1, inplace=True)"
   ]
  },
  {
   "cell_type": "markdown",
   "metadata": {},
   "source": [
    "<h3>SubArea Removal<h3>"
   ]
  },
  {
   "cell_type": "code",
   "execution_count": 496,
   "metadata": {},
   "outputs": [],
   "source": [
    "test.drop('sub_area', axis=1, inplace=True)\n",
    "train.drop('sub_area', axis=1, inplace=True)\n",
    "used.append('Removed sub_area')"
   ]
  },
  {
   "cell_type": "markdown",
   "metadata": {},
   "source": [
    "<h1>Categorical To Numerical<h1>"
   ]
  },
  {
   "cell_type": "markdown",
   "metadata": {},
   "source": [
    "<h3>OneHot<h3>"
   ]
  },
  {
   "cell_type": "code",
   "execution_count": 497,
   "metadata": {},
   "outputs": [],
   "source": [
    "train = pd.get_dummies(train)\n",
    "test = pd.get_dummies(test)\n",
    "used.append('One-hot Encoding')"
   ]
  },
  {
   "cell_type": "code",
   "execution_count": 498,
   "metadata": {},
   "outputs": [],
   "source": [
    "# train = train[['full_sq', 'floor', 'build_count_monolith', 'industrial_km', 'trc_sqm_500','mosque_count_500', 'leisure_count_500', 'office_sqm_1000', 'cafe_count_1000_price_high', 'leisure_count_1000', 'power_transmission_line_km', 'big_market_km', 'public_healthcare_km', 'workplaces_km', 'shopping_centers_raion', 'green_part_500']]\n",
    "# test = test[['full_sq', 'floor', 'build_count_monolith', 'industrial_km', 'trc_sqm_500','mosque_count_500', 'leisure_count_500', 'office_sqm_1000', 'cafe_count_1000_price_high', 'leisure_count_1000', 'power_transmission_line_km', 'big_market_km', 'public_healthcare_km', 'workplaces_km', 'shopping_centers_raion', 'green_part_500']]"
   ]
  },
  {
   "cell_type": "markdown",
   "metadata": {},
   "source": [
    "<h3>Label<h3>"
   ]
  },
  {
   "cell_type": "code",
   "execution_count": 499,
   "metadata": {},
   "outputs": [],
   "source": [
    "# categorical_columns = train.select_dtypes(include=['object']).columns.tolist()\n",
    "# print(\"Train: Categorical columns:\", categorical_columns)\n",
    "\n",
    "# label_encoder = LabelEncoder()\n",
    "\n",
    "# for column in categorical_columns:\n",
    "#     train[column] = label_encoder.fit_transform(train[column])\n",
    "\n",
    "# categorical_columns_test = test.select_dtypes(include=['object']).columns.tolist()\n",
    "# print(\"Test: Categorical columns:\", categorical_columns_test)\n",
    "\n",
    "# label_encoder = LabelEncoder()\n",
    "\n",
    "# for column in categorical_columns_test:\n",
    "#     test[column] = label_encoder.fit_transform(test[column])\n",
    "\n",
    "# used.append('Label Encoding')"
   ]
  },
  {
   "cell_type": "markdown",
   "metadata": {},
   "source": [
    "<h1>Scaling<h1>"
   ]
  },
  {
   "cell_type": "code",
   "execution_count": 500,
   "metadata": {},
   "outputs": [],
   "source": [
    "# def check_scaling_needed(dataframe, threshold=5):\n",
    "#     \"\"\"\n",
    "#     Identify columns in a pandas DataFrame that may require scaling.\n",
    "\n",
    "#     Parameters:\n",
    "#     - dataframe: pandas DataFrame\n",
    "#     - threshold: Range threshold to determine if a column requires scaling (default is 5)\n",
    "\n",
    "#     Returns:\n",
    "#     - List of tuples containing (column_name, range_value) for columns that may require scaling.\n",
    "#     \"\"\"\n",
    "#     scaling_needed_columns = []\n",
    "\n",
    "#     for column in dataframe.columns:\n",
    "#         if dataframe[column].dtype in ['int64', 'float64']:\n",
    "#             column_range = dataframe[column].max() - dataframe[column].min()\n",
    "#             if column_range > threshold:\n",
    "#                 scaling_needed_columns.append((column, column_range))\n",
    "\n",
    "#     return scaling_needed_columns\n",
    "\n",
    "# scaling_needed_columns = check_scaling_needed(train)\n",
    "\n",
    "# if not scaling_needed_columns:\n",
    "#     print(\"No columns require scaling.\")\n",
    "# else:\n",
    "#     print(\"Columns that may require scaling:\")\n",
    "#     for column, column_range in scaling_needed_columns:\n",
    "#         print(f\"{column}: Range = {column_range}\")\n"
   ]
  },
  {
   "cell_type": "code",
   "execution_count": 501,
   "metadata": {},
   "outputs": [],
   "source": [
    "# scaling_needed_columns = check_scaling_needed(train)\n",
    "# scaler = MinMaxScaler()\n",
    "\n",
    "# for column, _ in scaling_needed_columns:\n",
    "#     if train[column].dtype in ['int64', 'float64']:\n",
    "#         train[column] = scaler.fit_transform(train[[column]])\n",
    "\n",
    "# scaler = RobustScaler()\n",
    "# train = scaler.fit_transform(train)\n",
    "# test = scaler.fit_transform(test)  "
   ]
  },
  {
   "cell_type": "markdown",
   "metadata": {},
   "source": [
    "<h1>Normalization<h1>"
   ]
  },
  {
   "cell_type": "code",
   "execution_count": 502,
   "metadata": {},
   "outputs": [],
   "source": [
    "# def find_skewed_columns(dataframe, threshold=0.5):\n",
    "#     \"\"\"\n",
    "#     Identify skewed columns in a pandas DataFrame.\n",
    "\n",
    "#     Parameters:\n",
    "#     - dataframe: pandas DataFrame\n",
    "#     - threshold: Skewness threshold to determine if a column is skewed (default is 0.5)\n",
    "\n",
    "#     Returns:\n",
    "#     - List of tuples containing (column_name, skewness_value) for skewed columns.\n",
    "#     \"\"\"\n",
    "#     skewed_columns = []\n",
    "    \n",
    "#     for column in dataframe.columns:\n",
    "#         if dataframe[column].dtype in ['int64', 'float64']:\n",
    "#             skewness = skew(dataframe[column])\n",
    "#             if abs(skewness) > threshold:\n",
    "#                 skewed_columns.append((column, skewness))\n",
    "    \n",
    "#     return skewed_columns\n",
    "\n",
    "# skewed_columns = find_skewed_columns(train)\n",
    "\n",
    "# if not skewed_columns:\n",
    "#     print(\"No skewed columns found.\")\n",
    "# else:\n",
    "#     print(\"Skewed columns:\")\n",
    "#     for column, skewness in skewed_columns:\n",
    "#         print(f\"{column}: Skewness = {skewness}\")"
   ]
  },
  {
   "cell_type": "code",
   "execution_count": 503,
   "metadata": {},
   "outputs": [],
   "source": [
    "# for column, _ in skewed_columns:\n",
    "#     if train[column].dtype in ['int64', 'float64']:\n",
    "#         train[column] = train[column].apply(lambda x: 1 if x == 0 else np.log(x))"
   ]
  },
  {
   "cell_type": "markdown",
   "metadata": {},
   "source": [
    "<h1>Working<h1>"
   ]
  },
  {
   "cell_type": "code",
   "execution_count": 504,
   "metadata": {},
   "outputs": [],
   "source": [
    "X = train.loc[:, train.columns != 'price_doc']\n",
    "y = train[['price_doc']]\n",
    "\n",
    "# X = X[['full_sq', 'floor', 'build_count_monolith', 'industrial_km', 'trc_sqm_500','mosque_count_500', 'leisure_count_500', 'office_sqm_1000', 'cafe_count_1000_price_high', 'leisure_count_1000', 'power_transmission_line_km', 'big_market_km', 'public_healthcare_km', 'workplaces_km', 'shopping_centers_raion', 'green_part_500']]\n",
    "# test = test[['full_sq', 'floor', 'build_count_monolith', 'industrial_km', 'trc_sqm_500','mosque_count_500', 'leisure_count_500', 'office_sqm_1000', 'cafe_count_1000_price_high', 'leisure_count_1000', 'power_transmission_line_km', 'big_market_km', 'public_healthcare_km', 'workplaces_km', 'shopping_centers_raion', 'green_part_500']]\n",
    "\n",
    "# used.append('Forward Feataure Selection (n=16)')\n",
    "\n",
    "# scaler = RobustScaler()\n",
    "# X = scaler.fit_transform(X)\n",
    "# test = scaler.transform(test)  "
   ]
  },
  {
   "cell_type": "code",
   "execution_count": 505,
   "metadata": {},
   "outputs": [
    {
     "data": {
      "text/plain": [
       "(181507, 287)"
      ]
     },
     "execution_count": 505,
     "metadata": {},
     "output_type": "execute_result"
    }
   ],
   "source": [
    "X.shape"
   ]
  },
  {
   "cell_type": "code",
   "execution_count": 506,
   "metadata": {},
   "outputs": [
    {
     "data": {
      "text/plain": [
       "(77789, 287)"
      ]
     },
     "execution_count": 506,
     "metadata": {},
     "output_type": "execute_result"
    }
   ],
   "source": [
    "test.shape"
   ]
  },
  {
   "cell_type": "markdown",
   "metadata": {},
   "source": [
    "<h3>PCA<h3> \n",
    "<h5><i>Remember to set X2 & test2<i><h5>"
   ]
  },
  {
   "cell_type": "code",
   "execution_count": 507,
   "metadata": {},
   "outputs": [],
   "source": [
    "# X.shape"
   ]
  },
  {
   "cell_type": "code",
   "execution_count": 508,
   "metadata": {},
   "outputs": [],
   "source": [
    "# test.shape"
   ]
  },
  {
   "cell_type": "code",
   "execution_count": 509,
   "metadata": {},
   "outputs": [],
   "source": [
    "# pca = PCA(n_components=20)\n",
    "# principalComponents = pca.fit_transform(X)\n",
    "# X2 = pd.DataFrame(data = principalComponents)\n",
    "\n",
    "# pca2 = PCA(n_components=20)\n",
    "# principalComponents = pca2.fit_transform(test)\n",
    "# test2 = pd.DataFrame(data = principalComponents)"
   ]
  },
  {
   "cell_type": "code",
   "execution_count": 510,
   "metadata": {},
   "outputs": [],
   "source": [
    "# #plot an elbow graph to find the optimal number of components\n",
    "# import matplotlib.pyplot as plt\n",
    "# plt.plot(pca.explained_variance_ratio_)\n",
    "# plt.xlabel('number of components')\n",
    "# plt.ylabel('cumulative explained variance')"
   ]
  },
  {
   "cell_type": "code",
   "execution_count": 511,
   "metadata": {},
   "outputs": [],
   "source": [
    "# ols_reg = LinearRegression()\n",
    "# sfs = SequentialFeatureSelector(ols_reg, direction='forward',n_features_to_select=5)\n",
    "# sfs.fit(X, y)\n",
    "# print(sfs.get_feature_names_out())"
   ]
  },
  {
   "cell_type": "code",
   "execution_count": 512,
   "metadata": {},
   "outputs": [],
   "source": [
    "# X = X[['full_sq', 'mosque_count_500', 'leisure_count_500', 'cafe_count_1000_price_high', 'leisure_count_1000']]\n",
    "# test = test[['full_sq', 'mosque_count_500', 'leisure_count_500', 'cafe_count_1000_price_high', 'leisure_count_1000']]"
   ]
  },
  {
   "cell_type": "markdown",
   "metadata": {},
   "source": [
    "<h1>Feature Importance<h1>"
   ]
  },
  {
   "cell_type": "code",
   "execution_count": 513,
   "metadata": {},
   "outputs": [
    {
     "name": "stderr",
     "output_type": "stream",
     "text": [
      "/Library/Frameworks/Python.framework/Versions/3.11/lib/python3.11/site-packages/sklearn/linear_model/_ridge.py:211: LinAlgWarning: Ill-conditioned matrix (rcond=2.28619e-19): result may not be accurate.\n",
      "  return linalg.solve(A, Xy, assume_a=\"pos\", overwrite_a=True).T\n"
     ]
    },
    {
     "name": "stdout",
     "output_type": "stream",
     "text": [
      "Feature: 0, Score: 955.04472\n",
      "Feature: 1, Score: 290.97950\n",
      "Feature: 2, Score: 61222.51306\n",
      "Feature: 3, Score: 0.00086\n",
      "Feature: 4, Score: 3.55086\n",
      "Feature: 5, Score: 438111.00592\n",
      "Feature: 6, Score: -99472.59052\n",
      "Feature: 7, Score: 80.59011\n",
      "Feature: 8, Score: 126305.00285\n",
      "Feature: 9, Score: -37.11145\n",
      "Feature: 10, Score: 23462.43807\n",
      "Feature: 11, Score: 1084656.31390\n",
      "Feature: 12, Score: 169472.02745\n",
      "Feature: 13, Score: 314400.17567\n",
      "Feature: 14, Score: 13062.49279\n",
      "Feature: 15, Score: -45719.88117\n",
      "Feature: 16, Score: -1310.67014\n",
      "Feature: 17, Score: -25813.44264\n",
      "Feature: 18, Score: 5138.50915\n",
      "Feature: 19, Score: -0.00463\n",
      "Feature: 20, Score: 1.99840\n",
      "Feature: 21, Score: 0.74474\n",
      "Feature: 22, Score: 4.47960\n",
      "Feature: 23, Score: -10.63276\n",
      "Feature: 24, Score: 60.60555\n",
      "Feature: 25, Score: 1.52703\n",
      "Feature: 26, Score: -9.98208\n",
      "Feature: 27, Score: -7.01905\n",
      "Feature: 28, Score: 7.70687\n",
      "Feature: 29, Score: 51.54481\n",
      "Feature: 30, Score: 28.72374\n",
      "Feature: 31, Score: 0.04372\n",
      "Feature: 32, Score: 21.90555\n",
      "Feature: 33, Score: 135.30877\n",
      "Feature: 34, Score: -5.92481\n",
      "Feature: 35, Score: 2.42688\n",
      "Feature: 36, Score: -46.94095\n",
      "Feature: 37, Score: 11.52174\n",
      "Feature: 38, Score: 19.11640\n",
      "Feature: 39, Score: -22.46745\n",
      "Feature: 40, Score: 1.62182\n",
      "Feature: 41, Score: -4.92889\n",
      "Feature: 42, Score: 5.06024\n",
      "Feature: 43, Score: -7.72371\n",
      "Feature: 44, Score: -38.96712\n",
      "Feature: 45, Score: -31.38744\n",
      "Feature: 46, Score: -537.99305\n",
      "Feature: 47, Score: -2285.05836\n",
      "Feature: 48, Score: 606.96089\n",
      "Feature: 49, Score: 6591.33022\n",
      "Feature: 50, Score: -29.66115\n",
      "Feature: 51, Score: 20236.74531\n",
      "Feature: 52, Score: -2298.81062\n",
      "Feature: 53, Score: 58866.89054\n",
      "Feature: 54, Score: 5210.48914\n",
      "Feature: 55, Score: 71878.34308\n",
      "Feature: 56, Score: -1545.73381\n",
      "Feature: 57, Score: -367.53911\n",
      "Feature: 58, Score: 567.25211\n",
      "Feature: 59, Score: 232.38366\n",
      "Feature: 60, Score: -7860.59629\n",
      "Feature: 61, Score: 1556.16436\n",
      "Feature: 62, Score: 2270.28664\n",
      "Feature: 63, Score: 5145.18852\n",
      "Feature: 64, Score: 11829.03840\n",
      "Feature: 65, Score: -1395.00788\n",
      "Feature: 66, Score: -3127.26139\n",
      "Feature: 67, Score: 41860.81990\n",
      "Feature: 68, Score: -14065.03025\n",
      "Feature: 69, Score: 20852.64807\n",
      "Feature: 70, Score: 1112212.39648\n",
      "Feature: 71, Score: 263231.16632\n",
      "Feature: 72, Score: -26920.51347\n",
      "Feature: 73, Score: 62873.12924\n",
      "Feature: 74, Score: 7572.08910\n",
      "Feature: 75, Score: 11212.75694\n",
      "Feature: 76, Score: -1717.13812\n",
      "Feature: 77, Score: -2916.39508\n",
      "Feature: 78, Score: 20650.94103\n",
      "Feature: 79, Score: 24685.97273\n",
      "Feature: 80, Score: -2820.03305\n",
      "Feature: 81, Score: 27911.23317\n",
      "Feature: 82, Score: 5075.37276\n",
      "Feature: 83, Score: 504992.77092\n",
      "Feature: 84, Score: -34581.84319\n",
      "Feature: 85, Score: -15701.91582\n",
      "Feature: 86, Score: 21694.28671\n",
      "Feature: 87, Score: 3179.34605\n",
      "Feature: 88, Score: 11757.66855\n",
      "Feature: 89, Score: 4124.85926\n",
      "Feature: 90, Score: 9217.25930\n",
      "Feature: 91, Score: 86857.44547\n",
      "Feature: 92, Score: -4561.08005\n",
      "Feature: 93, Score: 19442.41153\n",
      "Feature: 94, Score: -13106.45533\n",
      "Feature: 95, Score: 5587.98415\n",
      "Feature: 96, Score: 6707.98072\n",
      "Feature: 97, Score: -23221.22873\n",
      "Feature: 98, Score: 8441.92015\n",
      "Feature: 99, Score: -30125.00572\n",
      "Feature: 100, Score: 4472.28243\n",
      "Feature: 101, Score: -1706.20913\n",
      "Feature: 102, Score: 17396.66669\n",
      "Feature: 103, Score: -6008.00100\n",
      "Feature: 104, Score: -12826.59818\n",
      "Feature: 105, Score: 662.97164\n",
      "Feature: 106, Score: 28531.27009\n",
      "Feature: 107, Score: -23349.34517\n",
      "Feature: 108, Score: -8884.53018\n",
      "Feature: 109, Score: 5556.62735\n",
      "Feature: 110, Score: 28895.80767\n",
      "Feature: 111, Score: 21456.96407\n",
      "Feature: 112, Score: 5041.14776\n",
      "Feature: 113, Score: 332.95661\n",
      "Feature: 114, Score: 6820.81311\n",
      "Feature: 115, Score: -16462.11718\n",
      "Feature: 116, Score: -31649.80477\n",
      "Feature: 117, Score: -30336.15407\n",
      "Feature: 118, Score: 46352.92908\n",
      "Feature: 119, Score: -5214.68801\n",
      "Feature: 120, Score: 7138.34892\n",
      "Feature: 121, Score: 153975.51125\n",
      "Feature: 122, Score: 3065.06546\n",
      "Feature: 123, Score: 7881.78023\n",
      "Feature: 124, Score: -11180.95484\n",
      "Feature: 125, Score: 661.34615\n",
      "Feature: 126, Score: 161810.14388\n",
      "Feature: 127, Score: 20869.80711\n",
      "Feature: 128, Score: 21637.60081\n",
      "Feature: 129, Score: 22330.48296\n",
      "Feature: 130, Score: 1.40828\n",
      "Feature: 131, Score: -24677.55222\n",
      "Feature: 132, Score: 1.21911\n",
      "Feature: 133, Score: 8036.46262\n",
      "Feature: 134, Score: 31323.98261\n",
      "Feature: 135, Score: 12050.82441\n",
      "Feature: 136, Score: 52902.94036\n",
      "Feature: 137, Score: 76781.67922\n",
      "Feature: 138, Score: -21264.12212\n",
      "Feature: 139, Score: 114109.72059\n",
      "Feature: 140, Score: 874836.91964\n",
      "Feature: 141, Score: 58810.54568\n",
      "Feature: 142, Score: 27150.11798\n",
      "Feature: 143, Score: 2953157.02114\n",
      "Feature: 144, Score: 542500.99841\n",
      "Feature: 145, Score: 40936.49474\n",
      "Feature: 146, Score: 331141.24554\n",
      "Feature: 147, Score: 27650.76299\n",
      "Feature: 148, Score: 15763.98857\n",
      "Feature: 149, Score: 25841.10439\n",
      "Feature: 150, Score: 1.11436\n",
      "Feature: 151, Score: -69746.51479\n",
      "Feature: 152, Score: 0.96929\n",
      "Feature: 153, Score: 140.02882\n",
      "Feature: 154, Score: 28881.01033\n",
      "Feature: 155, Score: -4813.18746\n",
      "Feature: 156, Score: 5203.48392\n",
      "Feature: 157, Score: 20723.37119\n",
      "Feature: 158, Score: -4849.67070\n",
      "Feature: 159, Score: -1418.19839\n",
      "Feature: 160, Score: 477787.07814\n",
      "Feature: 161, Score: 72368.17672\n",
      "Feature: 162, Score: -23060.28667\n",
      "Feature: 163, Score: 2175075.40877\n",
      "Feature: 164, Score: 117581.49737\n",
      "Feature: 165, Score: 8652.54400\n",
      "Feature: 166, Score: 348469.08045\n",
      "Feature: 167, Score: 14927.93961\n",
      "Feature: 168, Score: -6054.96061\n",
      "Feature: 169, Score: 645.42985\n",
      "Feature: 170, Score: 0.30503\n",
      "Feature: 171, Score: 57266.26041\n",
      "Feature: 172, Score: 0.06630\n",
      "Feature: 173, Score: -797.11088\n",
      "Feature: 174, Score: -17466.78696\n",
      "Feature: 175, Score: -786.18424\n",
      "Feature: 176, Score: -680.02016\n",
      "Feature: 177, Score: 1737.35006\n",
      "Feature: 178, Score: 8105.91816\n",
      "Feature: 179, Score: -10764.31416\n",
      "Feature: 180, Score: 38618.01155\n",
      "Feature: 181, Score: 8894.97104\n",
      "Feature: 182, Score: 16222.77137\n",
      "Feature: 183, Score: 1583082.18901\n",
      "Feature: 184, Score: 39563.50636\n",
      "Feature: 185, Score: 9371.58847\n",
      "Feature: 186, Score: 94787.45614\n",
      "Feature: 187, Score: -14355.06069\n",
      "Feature: 188, Score: -892.20399\n",
      "Feature: 189, Score: -4682.68125\n",
      "Feature: 190, Score: 0.22992\n",
      "Feature: 191, Score: -5708.67255\n",
      "Feature: 192, Score: 0.68450\n",
      "Feature: 193, Score: -523.30212\n",
      "Feature: 194, Score: 46.74709\n",
      "Feature: 195, Score: 578.24693\n",
      "Feature: 196, Score: 173.07176\n",
      "Feature: 197, Score: -1994.89715\n",
      "Feature: 198, Score: -980.78997\n",
      "Feature: 199, Score: -4405.06345\n",
      "Feature: 200, Score: -5267.41224\n",
      "Feature: 201, Score: -2426.96472\n",
      "Feature: 202, Score: -19826.81320\n",
      "Feature: 203, Score: 82613.34723\n",
      "Feature: 204, Score: 10005.47931\n",
      "Feature: 205, Score: -245.57964\n",
      "Feature: 206, Score: -1184787.74381\n",
      "Feature: 207, Score: -6190.73844\n",
      "Feature: 208, Score: 45565.78006\n",
      "Feature: 209, Score: -41656.96809\n",
      "Feature: 210, Score: -3610.12384\n",
      "Feature: 211, Score: 20938.55355\n",
      "Feature: 212, Score: -1394.80043\n",
      "Feature: 213, Score: 0.05133\n",
      "Feature: 214, Score: 8740.83513\n",
      "Feature: 215, Score: 0.11200\n",
      "Feature: 216, Score: 368.86920\n",
      "Feature: 217, Score: 197.37108\n",
      "Feature: 218, Score: 253.64052\n",
      "Feature: 219, Score: 353.07262\n",
      "Feature: 220, Score: -7484.23097\n",
      "Feature: 221, Score: -1537.81794\n",
      "Feature: 222, Score: -1392.60885\n",
      "Feature: 223, Score: -1654.18006\n",
      "Feature: 224, Score: -2077.34659\n",
      "Feature: 225, Score: -5551.48058\n",
      "Feature: 226, Score: 2525.64670\n",
      "Feature: 227, Score: -6034.47285\n",
      "Feature: 228, Score: -865.28866\n",
      "Feature: 229, Score: -462600.46468\n",
      "Feature: 230, Score: -8093.43933\n",
      "Feature: 231, Score: 7861.80312\n",
      "Feature: 232, Score: -41253.37785\n",
      "Feature: 233, Score: 11048.79364\n",
      "Feature: 234, Score: -32329.70846\n",
      "Feature: 235, Score: -389.39200\n",
      "Feature: 236, Score: 0.07702\n",
      "Feature: 237, Score: 3970.50499\n",
      "Feature: 238, Score: 0.18928\n",
      "Feature: 239, Score: -344.35894\n",
      "Feature: 240, Score: 215.57718\n",
      "Feature: 241, Score: -8.66553\n",
      "Feature: 242, Score: 453.29845\n",
      "Feature: 243, Score: 1014.14854\n",
      "Feature: 244, Score: -491.88707\n",
      "Feature: 245, Score: -791.35214\n",
      "Feature: 246, Score: -258.63068\n",
      "Feature: 247, Score: -252.47116\n",
      "Feature: 248, Score: 425.35427\n",
      "Feature: 249, Score: 3691.96549\n",
      "Feature: 250, Score: 957.63552\n",
      "Feature: 251, Score: 2572.93835\n",
      "Feature: 252, Score: 291574.24627\n",
      "Feature: 253, Score: 2232.54251\n",
      "Feature: 254, Score: 1300.71142\n",
      "Feature: 255, Score: 52290.60815\n",
      "Feature: 256, Score: -412647.50312\n",
      "Feature: 257, Score: 412647.50312\n",
      "Feature: 258, Score: -465861.44293\n",
      "Feature: 259, Score: 465861.44293\n",
      "Feature: 260, Score: 9281.58886\n",
      "Feature: 261, Score: -9281.58886\n",
      "Feature: 262, Score: -580983.01951\n",
      "Feature: 263, Score: 580983.01951\n",
      "Feature: 264, Score: -465675.47035\n",
      "Feature: 265, Score: 465675.47035\n",
      "Feature: 266, Score: 158071.60693\n",
      "Feature: 267, Score: -158071.60693\n",
      "Feature: 268, Score: -284712.05147\n",
      "Feature: 269, Score: 284712.05147\n",
      "Feature: 270, Score: -400622.51064\n",
      "Feature: 271, Score: 400622.51064\n",
      "Feature: 272, Score: -527209.35124\n",
      "Feature: 273, Score: 527209.35123\n",
      "Feature: 274, Score: 87443.04242\n",
      "Feature: 275, Score: -87443.04242\n",
      "Feature: 276, Score: -424691.21547\n",
      "Feature: 277, Score: 424691.21547\n",
      "Feature: 278, Score: -482257.92150\n",
      "Feature: 279, Score: 482257.92150\n",
      "Feature: 280, Score: -228519.97609\n",
      "Feature: 281, Score: 228519.97609\n",
      "Feature: 282, Score: -495613.15817\n",
      "Feature: 283, Score: 576617.53736\n",
      "Feature: 284, Score: -937969.52356\n",
      "Feature: 285, Score: 40921.47757\n",
      "Feature: 286, Score: 816043.66680\n",
      "75\n"
     ]
    },
    {
     "data": {
      "image/png": "[encoded data removed]",
      "text/plain": [
       "<Figure size 640x480 with 1 Axes>"
      ]
     },
     "metadata": {},
     "output_type": "display_data"
    }
   ],
   "source": [
    "#give me code for feature importance using linear regression\n",
    "from statistics import LinearRegression\n",
    "\n",
    "alpha_value = 100  # You can adjust the alpha parameter based on your needs\n",
    "\n",
    "model = Ridge(alpha=alpha_value, random_state=42)\n",
    "model.fit(X, y)\n",
    "# get importance\n",
    "importance = model.coef_[0]\n",
    "# summarize feature importance\n",
    "for i,v in enumerate(importance):\n",
    "    print('Feature: %0d, Score: %.5f' % (i,v))\n",
    "\n",
    "# drop features with low importance\n",
    "threshold = 20000  # Adjust the threshold as needed\n",
    "selected_features = [feature for feature, score in zip(X.columns, importance) if score >= threshold]\n",
    "print(len(selected_features))\n",
    "X= X[selected_features]\n",
    "test = test[selected_features]\n",
    "\n",
    "used.append('Feature Importance Based Selection (Ridge Regression (alpha=100))')\n",
    "\n",
    "# plot feature importance\n",
    "plt.bar([x for x in range(len(importance))], importance)\n",
    "plt.show()"
   ]
  },
  {
   "cell_type": "markdown",
   "metadata": {},
   "source": [
    "<h1>Forward Feature Selection<h1>"
   ]
  },
  {
   "cell_type": "code",
   "execution_count": 514,
   "metadata": {},
   "outputs": [],
   "source": [
    "# ols_reg = LinearRegression()\n",
    "# sfs = SequentialFeatureSelector(ols_reg, direction='forward',n_features_to_select=12)\n",
    "# sfs.fit(X, y)\n",
    "# print(sfs.get_feature_names_out())"
   ]
  },
  {
   "cell_type": "code",
   "execution_count": 515,
   "metadata": {},
   "outputs": [],
   "source": [
    "# X2 = X[['full_sq', 'floor', 'build_count_monolith', 'industrial_km', 'trc_sqm_500',\n",
    "#  'mosque_count_500', 'leisure_count_500', 'office_sqm_1000',\n",
    "#  'cafe_count_1000_price_high', 'leisure_count_1000', 'power_transmission_line_km', \n",
    "#  'big_market_km', 'public_healthcare_km', 'workplaces_km']]\n",
    "# test2 = test[['full_sq', 'floor', 'build_count_monolith', 'industrial_km', 'trc_sqm_500',\n",
    "#  'mosque_count_500', 'leisure_count_500', 'office_sqm_1000',\n",
    "#  'cafe_count_1000_price_high', 'leisure_count_1000', 'power_transmission_line_km', \n",
    "#  'big_market_km', 'public_healthcare_km', 'workplaces_km']]"
   ]
  },
  {
   "cell_type": "markdown",
   "metadata": {},
   "source": [
    "<h1>Min_Max Scaling<h1>"
   ]
  },
  {
   "cell_type": "code",
   "execution_count": 516,
   "metadata": {},
   "outputs": [],
   "source": [
    "scaler = MinMaxScaler()\n",
    "X3 = scaler.fit_transform(X)\n",
    "test3 = scaler.transform(test)  \n",
    "\n",
    "# used.append('StandardScaler')\n",
    "used.append('MinMaxScaler')\n",
    "\n",
    "pca = PCA(n_components=10)\n",
    "principalComponents = pca.fit_transform(X3)\n",
    "X3 = pd.DataFrame(data = principalComponents)\n",
    "\n",
    "pca2 = PCA(n_components=10)\n",
    "principalComponents = pca2.fit_transform(test3)\n",
    "test3 = pd.DataFrame(data = principalComponents)\n",
    "\n",
    "used.append('PCA (n=10)')"
   ]
  },
  {
   "cell_type": "markdown",
   "metadata": {},
   "source": [
    "<h1>Normalization For Robust<h1>"
   ]
  },
  {
   "cell_type": "code",
   "execution_count": 517,
   "metadata": {},
   "outputs": [],
   "source": [
    "# X2 = np.log(X2)\n",
    "# test2 = np.log(test2)"
   ]
  },
  {
   "cell_type": "code",
   "execution_count": 518,
   "metadata": {},
   "outputs": [],
   "source": [
    "# log_normalizer = PowerTransformer(method='box-cox', standardize=False)\n",
    "# X2 = log_normalizer.fit_transform(X2)\n",
    "# test2 = log_normalizer.transform(test2)"
   ]
  },
  {
   "cell_type": "code",
   "execution_count": 519,
   "metadata": {},
   "outputs": [],
   "source": [
    "# def find_skewed_columns(dataframe, threshold=0.5):\n",
    "#     \"\"\"\n",
    "#     Identify skewed columns in a pandas DataFrame.\n",
    "\n",
    "#     Parameters:\n",
    "#     - dataframe: pandas DataFrame\n",
    "#     - threshold: Skewness threshold to determine if a column is skewed (default is 0.5)\n",
    "\n",
    "#     Returns:\n",
    "#     - List of tuples containing (column_name, skewness_value) for skewed columns.\n",
    "#     \"\"\"\n",
    "#     skewed_columns = []\n",
    "    \n",
    "#     for column in dataframe.columns:\n",
    "#         if dataframe[column].dtype in ['int64', 'float64']:\n",
    "#             skewness = skew(dataframe[column])\n",
    "#             if abs(skewness) > threshold:\n",
    "#                 skewed_columns.append((column, skewness))\n",
    "    \n",
    "#     return skewed_columns\n",
    "\n",
    "# skewed_columns = find_skewed_columns(X2)\n",
    "\n",
    "# if not skewed_columns:\n",
    "#     print(\"No skewed columns found.\")\n",
    "# else:\n",
    "#     print(\"Skewed columns:\")\n",
    "#     for column, skewness in skewed_columns:\n",
    "#         print(f\"{column}: Skewness = {skewness}\")"
   ]
  },
  {
   "cell_type": "code",
   "execution_count": 520,
   "metadata": {},
   "outputs": [],
   "source": [
    "# for column, _ in skewed_columns:\n",
    "#     if X2[column].dtype in ['int64', 'float64']:\n",
    "#         X2[column] = X2[column].apply(lambda x: 1 if x == 0 else np.log(x))\n",
    "#         test2[column] = test2[column].apply(lambda x: 1 if x == 0 else np.log(x))"
   ]
  },
  {
   "cell_type": "markdown",
   "metadata": {},
   "source": [
    "<h1>P-Value Selection<h1>"
   ]
  },
  {
   "cell_type": "code",
   "execution_count": 521,
   "metadata": {},
   "outputs": [],
   "source": [
    "# # # Convert scaled_df1 to a DataFrame without specifying columns\n",
    "# # scaled_df1_df = pd.DataFrame(scaled_df1)\n",
    "\n",
    "# X_p = X.astype(float)\n",
    "\n",
    "# # Add a constant term to the feature matrix\n",
    "# X_with_const = sm.add_constant(X_p)\n",
    "\n",
    "# # Fit a linear regression model\n",
    "# model = sm.OLS(y, X_with_const).fit()\n",
    "\n",
    "# # Get p-values for each feature\n",
    "# p_values = model.pvalues[1:]  # Exclude the constant term\n",
    "\n",
    "# # Set your desired threshold for p-value\n",
    "# threshold = 0.000000000000000001\n",
    "\n",
    "# # Filter features based on p-value\n",
    "# selected_features = p_values[p_values < threshold].index\n",
    "\n",
    "# # Display selected features\n",
    "# print(\"Selected Features:\")\n",
    "# print(selected_features)\n",
    "# print(len(selected_features))\n",
    "\n",
    "# # Select columns in the DataFrame\n",
    "# X3 = X[selected_features]\n",
    "# test3 = test[selected_features]\n",
    "\n",
    "# used.append('p-Value Feature Selection')\n",
    "\n",
    "# # X = X.astype(float)\n",
    "# # X = sm.add_constant(X)\n",
    "# # mod = sm.OLS(y, X)\n",
    "# # res = mod.fit()\n",
    "# # pvalues = res.pvalues\n",
    "# # columns = pvalues[pvalues<0.05].index\n",
    "# # print(columns)\n",
    "# # print(len(columns))\n",
    "\n",
    "# # # Select columns in the DataFrame\n",
    "# # X2 = X[columns]\n",
    "# # test2 = test[columns]"
   ]
  },
  {
   "cell_type": "markdown",
   "metadata": {},
   "source": [
    "<h1>Variance Based Selection<h1>"
   ]
  },
  {
   "cell_type": "code",
   "execution_count": 522,
   "metadata": {},
   "outputs": [],
   "source": [
    "# threshold_value = 1000\n",
    "# variance_filter = VarianceThreshold(threshold=threshold_value)\n",
    "\n",
    "# X3 = variance_filter.fit_transform(X3)\n",
    "# test3 = variance_filter.transform(test3)\n",
    "\n",
    "# used.append('Variance Based Feature Selection')\n",
    "# X3.shape"
   ]
  },
  {
   "cell_type": "markdown",
   "metadata": {},
   "source": [
    "<h1> Poly Interaction ONNNNNNNNN<h1>"
   ]
  },
  {
   "cell_type": "code",
   "execution_count": 523,
   "metadata": {},
   "outputs": [],
   "source": [
    "poly = PolynomialFeatures(2)#, interaction_only=True)\n",
    "X3 = poly.fit_transform(X3)\n",
    "test3 = poly.fit_transform(test3)\n",
    "\n",
    "used.append('PolynomialFeatures W/O Interaction')\n",
    "# used.append('PolynomialFeatures With Interaction')"
   ]
  },
  {
   "cell_type": "markdown",
   "metadata": {},
   "source": [
    "<h1>Applying Model<h1>"
   ]
  },
  {
   "cell_type": "code",
   "execution_count": 524,
   "metadata": {},
   "outputs": [
    {
     "data": {
      "text/plain": [
       "(181507, 66)"
      ]
     },
     "execution_count": 524,
     "metadata": {},
     "output_type": "execute_result"
    }
   ],
   "source": [
    "X3.shape"
   ]
  },
  {
   "cell_type": "code",
   "execution_count": 525,
   "metadata": {},
   "outputs": [
    {
     "data": {
      "text/plain": [
       "(77789, 66)"
      ]
     },
     "execution_count": 525,
     "metadata": {},
     "output_type": "execute_result"
    }
   ],
   "source": [
    "test3.shape"
   ]
  },
  {
   "cell_type": "code",
   "execution_count": 526,
   "metadata": {},
   "outputs": [],
   "source": [
    "# X_train, X_test, y_train, y_test = train_test_split(X, y, test_size = 0.3)"
   ]
  },
  {
   "cell_type": "code",
   "execution_count": 527,
   "metadata": {},
   "outputs": [],
   "source": [
    "# reg2 = LinearRegression().fit(X_train, y_train)\n",
    "# y_pred = reg2.predict(X_test)\n",
    "# print(\"LR: R2 = %.4f and MSE = %.2f\" % (reg2.score(X_test,y_test), mean_squared_error(y_test, y_pred)))"
   ]
  },
  {
   "cell_type": "code",
   "execution_count": 528,
   "metadata": {},
   "outputs": [],
   "source": [
    "# reg2 = LinearRegression().fit(X_train, y_train)\n",
    "# y_pred = reg2.predict(X_test)\n",
    "# print(\"LR: R2 = %.4f and MSE = %.2f\" % (reg2.score(X_test,y_test), mean_squared_error(y_test, y_pred)))"
   ]
  },
  {
   "cell_type": "code",
   "execution_count": 529,
   "metadata": {},
   "outputs": [
    {
     "name": "stdout",
     "output_type": "stream",
     "text": [
      "Coefficients: [[ 0.00000000e+00  1.73796247e+07  1.17495051e+06  1.32509528e+06\n",
      "  -4.79705390e+05 -6.21345410e+05  2.33640119e+06 -8.23944382e+05\n",
      "  -3.29706388e+06 -1.30050262e+06  1.00122228e+05 -1.60776967e+06\n",
      "   5.39528442e+05 -2.59349232e+05 -1.14095240e+05 -5.53113927e+05\n",
      "  -1.14745314e+06 -4.65259910e+05  9.12657300e+05  3.05518514e+05\n",
      "  -2.10179047e+05 -4.42319165e+06 -3.86811367e+06  3.34792378e+06\n",
      "   2.80796447e+06 -6.79175321e+04  1.38904629e+06 -1.73063671e+05\n",
      "  -3.36541920e+06 -1.16033588e+06  1.25939789e+05 -8.78646179e+04\n",
      "  -2.65298740e+06 -2.89922791e+05  1.21134733e+06  4.23469310e+05\n",
      "  -1.81783627e+06  1.40251330e+03  5.22232699e+04 -4.73827535e+06\n",
      "   6.65830937e+05 -8.39408379e+05  8.87282925e+05  1.41201196e+06\n",
      "   4.00030473e+05 -1.24659090e+06 -3.67055972e+06  2.41891083e+06\n",
      "   4.09949215e+06  1.19081597e+06  1.17474796e+06 -1.73231389e+06\n",
      "  -2.04602333e+06 -8.87736061e+05  1.61179015e+06  3.72781788e+05\n",
      "  -1.34431722e+06  1.78186360e+06  1.23745024e+06  4.10449518e+04\n",
      "  -2.92218680e+06  2.42240897e+06  2.83614801e+05  4.41882971e+05\n",
      "   4.14449501e+05 -2.68043199e+06]]\n",
      "Intercept: [20326628.18318563]\n"
     ]
    }
   ],
   "source": [
    "# Create and train the Ridge regression model\n",
    "alpha_value = 100  # You can adjust the alpha parameter based on your needs\n",
    "ridge_reg = Ridge(alpha=alpha_value, random_state=42)\n",
    "ridge_reg.fit(X3, y)\n",
    "\n",
    "# Print the coefficients and intercept\n",
    "print(\"Coefficients:\", ridge_reg.coef_)\n",
    "print(\"Intercept:\", ridge_reg.intercept_)\n",
    "\n",
    "used.append('Ridge Regression Alpha = 100')\n",
    "\n",
    "# Make predictions on the test data\n",
    "y_pred_ridge = ridge_reg.predict(test3)"
   ]
  },
  {
   "cell_type": "code",
   "execution_count": 530,
   "metadata": {},
   "outputs": [],
   "source": [
    "# Save the predictions to a CSV file\n",
    "result_df_ridge = pd.DataFrame({'row ID': testOriginal['row ID'], 'price_doc': y_pred_ridge.flatten()})\n",
    "result_df_ridge.to_csv('Day6.3.csv', index=False)"
   ]
  },
  {
   "cell_type": "code",
   "execution_count": 531,
   "metadata": {},
   "outputs": [
    {
     "name": "stdout",
     "output_type": "stream",
     "text": [
      "Features Used: 66\n",
      "\n",
      "Removed sub_area\n",
      "One-hot Encoding\n",
      "Feature Importance Based Selection (Ridge Regression (alpha=100))\n",
      "MinMaxScaler\n",
      "PCA (n=10)\n",
      "PolynomialFeatures W/O Interaction\n",
      "Ridge Regression Alpha = 100\n"
     ]
    }
   ],
   "source": [
    "print(\"Features Used: \" + str(X3.shape[1]) + \"\\n\")\n",
    "for i in used:\n",
    "    print(i)"
   ]
  }
 ],
 "metadata": {
  "kernelspec": {
   "display_name": "Python 3",
   "language": "python",
   "name": "python3"
  },
  "language_info": {
   "codemirror_mode": {
    "name": "ipython",
    "version": 3
   },
   "file_extension": ".py",
   "mimetype": "text/x-python",
   "name": "python",
   "nbconvert_exporter": "python",
   "pygments_lexer": "ipython3",
   "version": "3.11.4"
  }
 },
 "nbformat": 4,
 "nbformat_minor": 2
}
