{
 "cells": [
  {
   "cell_type": "code",
   "execution_count": 1,
   "metadata": {},
   "outputs": [],
   "source": [
    "import pandas as pd\n",
    "from sklearn.model_selection import train_test_split\n",
    "from sklearn.preprocessing import StandardScaler\n",
    "from keras.models import Sequential\n",
    "from keras.layers import Dense, Dropout\n",
    "from keras.callbacks import EarlyStopping\n",
    "import os\n",
    "import torch\n",
    "from sklearn.neural_network import MLPRegressor\n",
    "from sklearn.ensemble import GradientBoostingRegressor\n",
    "from sklearn.metrics import mean_squared_error\n",
    "from sklearn.model_selection import GridSearchCV\n",
    "from keras.optimizers import SGD, Adam, Adadelta, RMSprop, Adagrad, Nadam, Ftrl\n",
    "from keras.regularizers import l2\n",
    "import numpy as np\n",
    "from sklearn.decomposition import PCA"
   ]
  },
  {
   "cell_type": "code",
   "execution_count": 2,
   "metadata": {},
   "outputs": [],
   "source": [
    "# Load the training data\n",
    "train_data = pd.read_csv('../../2nd-Comp-Data/train.csv')\n",
    "test_data = pd.read_csv('../../2nd-Comp-Data/test.csv')\n",
    "\n",
    "used = []\n",
    "\n",
    "# Extract features and target variable\n",
    "X = train_data.drop('price_doc', axis=1)\n",
    "y = train_data['price_doc']\n",
    "X_test = test_data.drop(['row ID'], axis=1)"
   ]
  },
  {
   "cell_type": "code",
   "execution_count": 3,
   "metadata": {},
   "outputs": [],
   "source": [
    "# X = X.drop('sub_area', axis=1)\n",
    "# X_test = X_test.drop('sub_area', axis=1)\n",
    "# used.append('Removed sub_area')"
   ]
  },
  {
   "cell_type": "code",
   "execution_count": 4,
   "metadata": {},
   "outputs": [],
   "source": [
    "# X = pd.get_dummies(X)\n",
    "# X_test = pd.get_dummies(X_test) \n",
    "# used.append('OneHot Encoding')"
   ]
  },
  {
   "cell_type": "code",
   "execution_count": 5,
   "metadata": {},
   "outputs": [
    {
     "name": "stdout",
     "output_type": "stream",
     "text": [
      "Train: Categorical columns: ['product_type', 'sub_area', 'culture_objects_top_25', 'thermal_power_plant_raion', 'incineration_raion', 'oil_chemistry_raion', 'radiation_raion', 'railroad_terminal_raion', 'big_market_raion', 'nuclear_reactor_raion', 'detention_facility_raion', 'water_1line', 'big_road1_1line', 'railroad_1line', 'ecology']\n",
      "Test: Categorical columns: ['product_type', 'sub_area', 'culture_objects_top_25', 'thermal_power_plant_raion', 'incineration_raion', 'oil_chemistry_raion', 'radiation_raion', 'railroad_terminal_raion', 'big_market_raion', 'nuclear_reactor_raion', 'detention_facility_raion', 'water_1line', 'big_road1_1line', 'railroad_1line', 'ecology']\n"
     ]
    }
   ],
   "source": [
    "from sklearn.calibration import LabelEncoder\n",
    "\n",
    "categorical_columns = X.select_dtypes(include=['object']).columns.tolist()\n",
    "print(\"Train: Categorical columns:\", categorical_columns)\n",
    "\n",
    "label_encoder = LabelEncoder()\n",
    "\n",
    "for column in categorical_columns:\n",
    "    X[column] = label_encoder.fit_transform(X[column])\n",
    "\n",
    "categorical_columns_test = X_test.select_dtypes(include=['object']).columns.tolist()\n",
    "print(\"Test: Categorical columns:\", categorical_columns_test)\n",
    "\n",
    "label_encoder = LabelEncoder()\n",
    "\n",
    "for column in categorical_columns_test:\n",
    "    X_test[column] = label_encoder.fit_transform(X_test[column])\n",
    "\n",
    "used.append('Label Encoding')"
   ]
  },
  {
   "cell_type": "code",
   "execution_count": 6,
   "metadata": {},
   "outputs": [],
   "source": [
    "# # drop all columns in X_train with dtypes object\n",
    "# for col in X.columns:\n",
    "#     if X[col].dtype == 'object':\n",
    "#         X.drop(col, axis=1, inplace=True)\n",
    "\n",
    "# # drop all columns in X_test with dtypes object\n",
    "# for col in X_test.columns:\n",
    "#     if X_test[col].dtype == 'object':\n",
    "#         X_test.drop(col, axis=1, inplace=True)\n",
    "\n",
    "# used.append(\"Removed Object Dtypes\")"
   ]
  },
  {
   "cell_type": "code",
   "execution_count": 7,
   "metadata": {},
   "outputs": [],
   "source": [
    "X = X.astype('float32')\n",
    "X_test = X_test.astype('float32')\n",
    "used.append(\"Converted All Columns To float32\")"
   ]
  },
  {
   "cell_type": "code",
   "execution_count": 8,
   "metadata": {},
   "outputs": [],
   "source": [
    "X = np.log1p(X)\n",
    "X_test = np.log1p(X_test)\n",
    "used.append('log Normalization')"
   ]
  },
  {
   "cell_type": "code",
   "execution_count": 9,
   "metadata": {},
   "outputs": [],
   "source": [
    "# Split the data into training and validation sets\n",
    "X_train, X_val, y_train, y_val = train_test_split(X, y, test_size=0.3, random_state=42)"
   ]
  },
  {
   "cell_type": "code",
   "execution_count": 10,
   "metadata": {},
   "outputs": [],
   "source": [
    "# Standardize the data\n",
    "scaler = StandardScaler()\n",
    "X_train = scaler.fit_transform(X_train)\n",
    "X_val = scaler.transform(X_val)\n",
    "X_test = scaler.transform(X_test)\n",
    "used.append(\"StandardScaler\")"
   ]
  },
  {
   "cell_type": "code",
   "execution_count": 11,
   "metadata": {},
   "outputs": [
    {
     "data": {
      "text/plain": [
       "(127054, 271)"
      ]
     },
     "execution_count": 11,
     "metadata": {},
     "output_type": "execute_result"
    }
   ],
   "source": [
    "X_train.shape"
   ]
  },
  {
   "cell_type": "code",
   "execution_count": 12,
   "metadata": {},
   "outputs": [],
   "source": [
    "# from sklearn.preprocessing import PolynomialFeatures\n",
    "# poly = PolynomialFeatures(2)#, interaction_only=True)\n",
    "# X_train = poly.fit_transform(X_train)\n",
    "# X_test = poly.fit_transform(X_test)\n",
    "# used.append('PolynomialFeatures W/O Interaction')\n",
    "# # used.append('PolynomialFeatures With Interaction')"
   ]
  },
  {
   "cell_type": "code",
   "execution_count": 13,
   "metadata": {},
   "outputs": [],
   "source": [
    "# # save X_train to csv\n",
    "# X_train.to_csv('train with poly w/o int.2.csv', index=False)\n",
    "# X_test.to_csv('test with poly w/o int.csv', index=False)"
   ]
  },
  {
   "cell_type": "code",
   "execution_count": 14,
   "metadata": {},
   "outputs": [],
   "source": [
    "# pca = PCA(n_components=200)\n",
    "# principalComponents = pca.fit_transform(X_train)\n",
    "# X_train = pd.DataFrame(data = principalComponents)\n",
    "\n",
    "# pca2 = PCA(n_components=200)\n",
    "# principalComponents = pca2.fit_transform(X_test)\n",
    "# X_test = pd.DataFrame(data = principalComponents)\n",
    "\n",
    "# used.append('PCA (n=200)')"
   ]
  },
  {
   "cell_type": "markdown",
   "metadata": {},
   "source": [
    "<h1>With Keras<h1>"
   ]
  },
  {
   "cell_type": "code",
   "execution_count": 15,
   "metadata": {},
   "outputs": [
    {
     "name": "stderr",
     "output_type": "stream",
     "text": [
      "WARNING:absl:At this time, the v2.11+ optimizer `tf.keras.optimizers.Nadam` runs slowly on M1/M2 Macs, please use the legacy Keras optimizer instead, located at `tf.keras.optimizers.legacy.Nadam`.\n",
      "WARNING:absl:`lr` is deprecated in Keras optimizer, please use `learning_rate` or use the legacy optimizer, e.g.,tf.keras.optimizers.legacy.Nadam.\n"
     ]
    },
    {
     "name": "stdout",
     "output_type": "stream",
     "text": [
      "Epoch 1/100\n",
      "71/71 [==============================] - 2s 14ms/step - loss: 689634308784128.0000 - val_loss: 663327164334080.0000\n",
      "Epoch 2/100\n",
      "71/71 [==============================] - 1s 19ms/step - loss: 421014605398016.0000 - val_loss: 185130387767296.0000\n",
      "Epoch 3/100\n",
      "71/71 [==============================] - 1s 17ms/step - loss: 193654270459904.0000 - val_loss: 181299948027904.0000\n",
      "Epoch 4/100\n",
      "71/71 [==============================] - 1s 12ms/step - loss: 190801103552512.0000 - val_loss: 178256795926528.0000\n",
      "Epoch 5/100\n",
      "71/71 [==============================] - 1s 14ms/step - loss: 189129673408512.0000 - val_loss: 176831286214656.0000\n",
      "Epoch 6/100\n",
      "71/71 [==============================] - 1s 14ms/step - loss: 187522600665088.0000 - val_loss: 176185430507520.0000\n",
      "Epoch 7/100\n",
      "71/71 [==============================] - 1s 15ms/step - loss: 185007125561344.0000 - val_loss: 176156506587136.0000\n",
      "Epoch 8/100\n",
      "71/71 [==============================] - 1s 14ms/step - loss: 186377304014848.0000 - val_loss: 174901017182208.0000\n",
      "Epoch 9/100\n",
      "71/71 [==============================] - 1s 12ms/step - loss: 185213434986496.0000 - val_loss: 174201205948416.0000\n",
      "Epoch 10/100\n",
      "71/71 [==============================] - 1s 13ms/step - loss: 183604516749312.0000 - val_loss: 174653989453824.0000\n",
      "Epoch 11/100\n",
      "71/71 [==============================] - 1s 15ms/step - loss: 183384248680448.0000 - val_loss: 174019793911808.0000\n",
      "Epoch 12/100\n",
      "71/71 [==============================] - 1s 15ms/step - loss: 184015692759040.0000 - val_loss: 173530335412224.0000\n",
      "Epoch 13/100\n",
      "71/71 [==============================] - 1s 13ms/step - loss: 183812554227712.0000 - val_loss: 172978297896960.0000\n",
      "Epoch 14/100\n",
      "71/71 [==============================] - 1s 13ms/step - loss: 183547038007296.0000 - val_loss: 172610054782976.0000\n",
      "Epoch 15/100\n",
      "71/71 [==============================] - 1s 13ms/step - loss: 183302493306880.0000 - val_loss: 172651611947008.0000\n",
      "Epoch 16/100\n",
      "71/71 [==============================] - 1s 14ms/step - loss: 182541025804288.0000 - val_loss: 172366936145920.0000\n",
      "Epoch 17/100\n",
      "71/71 [==============================] - 1s 13ms/step - loss: 182014070226944.0000 - val_loss: 171867327430656.0000\n",
      "Epoch 18/100\n",
      "71/71 [==============================] - 1s 14ms/step - loss: 181837104152576.0000 - val_loss: 171941113626624.0000\n",
      "Epoch 19/100\n",
      "71/71 [==============================] - 1s 13ms/step - loss: 181351135313920.0000 - val_loss: 171669574385664.0000\n",
      "Epoch 20/100\n",
      "71/71 [==============================] - 1s 14ms/step - loss: 181289680371712.0000 - val_loss: 171148943818752.0000\n",
      "Epoch 21/100\n",
      "71/71 [==============================] - 1s 15ms/step - loss: 180762791903232.0000 - val_loss: 170740217282560.0000\n",
      "Epoch 22/100\n",
      "71/71 [==============================] - 1s 15ms/step - loss: 180634295205888.0000 - val_loss: 170929682382848.0000\n",
      "Epoch 23/100\n",
      "71/71 [==============================] - 1s 13ms/step - loss: 180043049336832.0000 - val_loss: 170732751421440.0000\n",
      "Epoch 24/100\n",
      "71/71 [==============================] - 1s 13ms/step - loss: 180451658432512.0000 - val_loss: 170743488839680.0000\n",
      "Epoch 25/100\n",
      "71/71 [==============================] - 1s 12ms/step - loss: 179815231520768.0000 - val_loss: 170237420896256.0000\n",
      "Epoch 26/100\n",
      "71/71 [==============================] - 1s 13ms/step - loss: 179626051633152.0000 - val_loss: 169856863305728.0000\n",
      "Epoch 27/100\n",
      "71/71 [==============================] - 1s 13ms/step - loss: 179872743817216.0000 - val_loss: 169923368189952.0000\n",
      "Epoch 28/100\n",
      "71/71 [==============================] - 1s 13ms/step - loss: 178412421382144.0000 - val_loss: 169390758690816.0000\n",
      "Epoch 29/100\n",
      "71/71 [==============================] - 1s 13ms/step - loss: 179849926803456.0000 - val_loss: 170131556663296.0000\n",
      "Epoch 30/100\n",
      "71/71 [==============================] - 1s 12ms/step - loss: 179307250974720.0000 - val_loss: 169384970551296.0000\n",
      "Epoch 31/100\n",
      "71/71 [==============================] - 1s 14ms/step - loss: 179423114428416.0000 - val_loss: 169637803196416.0000\n",
      "Epoch 32/100\n",
      "71/71 [==============================] - 1s 13ms/step - loss: 177939874316288.0000 - val_loss: 168657560797184.0000\n",
      "Epoch 33/100\n",
      "71/71 [==============================] - 1s 13ms/step - loss: 178936524832768.0000 - val_loss: 168747084021760.0000\n",
      "Epoch 34/100\n",
      "71/71 [==============================] - 1s 13ms/step - loss: 178851061694464.0000 - val_loss: 169002248699904.0000\n",
      "Epoch 35/100\n",
      "71/71 [==============================] - 1s 13ms/step - loss: 177245800890368.0000 - val_loss: 168444355936256.0000\n",
      "Epoch 36/100\n",
      "71/71 [==============================] - 1s 13ms/step - loss: 177642917593088.0000 - val_loss: 168240814751744.0000\n",
      "Epoch 37/100\n",
      "71/71 [==============================] - 1s 14ms/step - loss: 176650360717312.0000 - val_loss: 168328626700288.0000\n",
      "Epoch 38/100\n",
      "71/71 [==============================] - 1s 14ms/step - loss: 177661406085120.0000 - val_loss: 168032391397376.0000\n",
      "Epoch 39/100\n",
      "71/71 [==============================] - 1s 14ms/step - loss: 176250744209408.0000 - val_loss: 168229590794240.0000\n",
      "Epoch 40/100\n",
      "71/71 [==============================] - 1s 13ms/step - loss: 177498264436736.0000 - val_loss: 167452403040256.0000\n",
      "Epoch 41/100\n",
      "71/71 [==============================] - 1s 14ms/step - loss: 176564058718208.0000 - val_loss: 167383633231872.0000\n",
      "Epoch 42/100\n",
      "71/71 [==============================] - 1s 13ms/step - loss: 176792715395072.0000 - val_loss: 167307498225664.0000\n",
      "Epoch 43/100\n",
      "71/71 [==============================] - 1s 13ms/step - loss: 176214371205120.0000 - val_loss: 168619912724480.0000\n",
      "Epoch 44/100\n",
      "71/71 [==============================] - 1s 14ms/step - loss: 176888479744000.0000 - val_loss: 167185964072960.0000\n",
      "Epoch 45/100\n",
      "71/71 [==============================] - 1s 14ms/step - loss: 175492665704448.0000 - val_loss: 167362376499200.0000\n",
      "Epoch 46/100\n",
      "71/71 [==============================] - 1s 14ms/step - loss: 176760217927680.0000 - val_loss: 166907797831680.0000\n",
      "Epoch 47/100\n",
      "71/71 [==============================] - 1s 14ms/step - loss: 175277917339648.0000 - val_loss: 166941822025728.0000\n",
      "Epoch 48/100\n",
      "71/71 [==============================] - 1s 14ms/step - loss: 174802249711616.0000 - val_loss: 166834582061056.0000\n",
      "Epoch 49/100\n",
      "71/71 [==============================] - 1s 14ms/step - loss: 175961370787840.0000 - val_loss: 166660602331136.0000\n",
      "Epoch 50/100\n",
      "71/71 [==============================] - 1s 14ms/step - loss: 175381197881344.0000 - val_loss: 166557372121088.0000\n",
      "Epoch 51/100\n",
      "71/71 [==============================] - 1s 14ms/step - loss: 174219576999936.0000 - val_loss: 167134944559104.0000\n",
      "Epoch 52/100\n",
      "71/71 [==============================] - 1s 14ms/step - loss: 174942960222208.0000 - val_loss: 166383962816512.0000\n",
      "Epoch 53/100\n",
      "71/71 [==============================] - 1s 13ms/step - loss: 173289884352512.0000 - val_loss: 167281896194048.0000\n",
      "Epoch 54/100\n",
      "71/71 [==============================] - 1s 13ms/step - loss: 173716008861696.0000 - val_loss: 166952978874368.0000\n",
      "Epoch 55/100\n",
      "71/71 [==============================] - 1s 13ms/step - loss: 173977381109760.0000 - val_loss: 166703602335744.0000\n",
      "Epoch 56/100\n",
      "71/71 [==============================] - 1s 13ms/step - loss: 175383093706752.0000 - val_loss: 166444276908032.0000\n",
      "Epoch 57/100\n",
      "71/71 [==============================] - 1s 13ms/step - loss: 174288330031104.0000 - val_loss: 166157520732160.0000\n",
      "Epoch 58/100\n",
      "71/71 [==============================] - 1s 13ms/step - loss: 174332890316800.0000 - val_loss: 166314672914432.0000\n",
      "Epoch 59/100\n",
      "71/71 [==============================] - 1s 13ms/step - loss: 173503860965376.0000 - val_loss: 166559922257920.0000\n",
      "Epoch 60/100\n",
      "71/71 [==============================] - 1s 14ms/step - loss: 174058784161792.0000 - val_loss: 166529421279232.0000\n",
      "Epoch 61/100\n",
      "71/71 [==============================] - 1s 13ms/step - loss: 174471738556416.0000 - val_loss: 166250751721472.0000\n",
      "Epoch 62/100\n",
      "71/71 [==============================] - 1s 14ms/step - loss: 173548807127040.0000 - val_loss: 167602542346240.0000\n",
      "Epoch 63/100\n",
      "71/71 [==============================] - 1s 13ms/step - loss: 172471810523136.0000 - val_loss: 166884863377408.0000\n",
      "Epoch 64/100\n",
      "71/71 [==============================] - 1s 13ms/step - loss: 173323254235136.0000 - val_loss: 166521267552256.0000\n",
      "Epoch 65/100\n",
      "71/71 [==============================] - 1s 13ms/step - loss: 171779045720064.0000 - val_loss: 166981500141568.0000\n",
      "Epoch 66/100\n",
      "71/71 [==============================] - 1s 15ms/step - loss: 171825367613440.0000 - val_loss: 166175237472256.0000\n",
      "Epoch 67/100\n",
      "71/71 [==============================] - 1s 14ms/step - loss: 172707228418048.0000 - val_loss: 166338043576320.0000\n",
      "2431/2431 [==============================] - 1s 441us/step\n"
     ]
    }
   ],
   "source": [
    "features_used = X_train.shape[1]\n",
    "\n",
    "# Build the neural network\n",
    "os.environ[\"KERAS_BACKEND\"] = \"torch\"\n",
    "used.append(\"Keras With Torch Backend\")\n",
    "model = Sequential()\n",
    "model.add(Dense(300, input_dim=X_train.shape[1], activation='relu', kernel_regularizer=l2(0.01)))\n",
    "model.add(Dropout(0.3))  # You can use either dropout or early stopping\n",
    "model.add(Dense(210, activation='relu', kernel_regularizer=l2(0.01)))\n",
    "model.add(Dropout(0.3))\n",
    "model.add(Dense(150, activation='relu', kernel_regularizer=l2(0.01)))\n",
    "model.add(Dropout(0.3))\n",
    "model.add(Dense(60, activation='relu', kernel_regularizer=l2(0.01)))\n",
    "model.add(Dropout(0.3))\n",
    "model.add(Dense(1, activation='linear'))  # Output layer with linear activation for regression\n",
    "\n",
    "used.append(\"4 Hidden Layers: Hidden Layer 1 with 300 neurons relu activation L2 regularization, \\n\" +\n",
    "            \"Hidden Layer 2 with 210 neurons relu activation L2 regularization, \\n\" +\n",
    "            \"Hidden Layer 3 with 150 neurons relu activation L2 regularization, \\n\" +\n",
    "            \"Hidden Layer 4 with 60 neurons relu activation L2 regularization\")\n",
    "used.append(\"Output linear\")\n",
    "\n",
    "# optimizerUsing = Adam(lr=0.001)#, beta_1=0.9, beta_2=0.999, epsilon=1e-07, amsgrad=False)\n",
    "# used.append(\"Optimizer: Adam(lr=0.01)\")\n",
    "# optimizerUsing = RMSprop(lr=0.001)\n",
    "# used.append(\"Optimizer: RMSprop(lr=0.001)\")\n",
    "# optimizerUsing = Adagrad(lr=0.01)\n",
    "# used.append(\"Optimizer: Adagrad(lr=0.01)\")\n",
    "# optimizerUsing = Adadelta(lr=1.0, rho=0.95)\n",
    "# used.append(\"Optimizer: Adadelta(lr=1.0, rho=0.95)\")\n",
    "optimizerUsing = Nadam(lr=0.002, beta_1=0.9, beta_2=0.999)\n",
    "used.append(\"Optimizer: Nadam(lr=0.002, beta_1=0.9, beta_2=0.999)\")\n",
    "# optimizerUsing = Ftrl(learning_rate=0.01, learning_rate_power=-0.5, initial_accumulator_value=0.1, l1_regularization_strength=0.0, l2_regularization_strength=0.0)\n",
    "\n",
    "# Compile the model\n",
    "model.compile(loss='mean_squared_error', optimizer=optimizerUsing)\n",
    "used.append(\"Loss Calculation: Mean Squared Error\")\n",
    "\n",
    "# Define early stopping\n",
    "early_stopping = EarlyStopping(monitor='val_loss', patience=10, restore_best_weights=True)\n",
    "used.append(\"EarlyStopping(monitor='val_loss', patience=10, restore_best_weights=True)\")\n",
    "\n",
    "# Train the model\n",
    "model.fit(X_train, y_train, epochs=100, batch_size=1800, validation_data=(X_val, y_val), callbacks=[early_stopping])\n",
    "used.append(\"batch_size=1800, epochs=100, early_stopping (patience 10), dropout=0.3, L2 Regularization\")\n",
    "\n",
    "# Train the model\n",
    "# model.fit(X_train, y_train, epochs=100, batch_size=1800, validation_data=(X_val, y_val))#, callbacks=[early_stopping])\n",
    "# used.append(\"batch_size=1800, epochs=100, dropout=0.3, L2 Regularization\")\n",
    "\n",
    "# used.append(\"batch_size=1800, epochs=100, early_stopping\")\n",
    "\n",
    "# Make predictions\n",
    "predictions = model.predict(X_test)"
   ]
  },
  {
   "cell_type": "markdown",
   "metadata": {},
   "source": [
    "<h1>With Skilearn<h1>"
   ]
  },
  {
   "cell_type": "code",
   "execution_count": 16,
   "metadata": {},
   "outputs": [],
   "source": [
    "# features_used = X_train.shape[1]\n",
    "\n",
    "# # # optimizerUsing = SGD(learning_rate=0.01, momentum=0.9)\n",
    "\n",
    "# # # optimizerUsing = Adam(lr=0.001, beta_1=0.9, beta_2=0.999, epsilon=1e-07, amsgrad=False)\n",
    "# # optimizerUsing = Adam(lr=0.001)#, epsilon=1e-07)\n",
    "\n",
    "# # Build the neural network using MLPRegressor from scikit-learn\n",
    "# model = MLPRegressor(hidden_layer_sizes=(300,210,180,70,10), activation='relu', solver='adam', shuffle=False, max_iter=100,\n",
    "#                      batch_size=1800, early_stopping=True, verbose=True, random_state=42)\n",
    "\n",
    "# # Train the model\n",
    "# model.fit(X_train, y_train)\n",
    "\n",
    "# used.append(\"MLPRegressor(hidden_layer_sizes=(300,210,180,70,10), activation='relu', solver='adam', shuffle=False, max_iter=100, batch_size=1800, early_stopping=True, verbose=True, random_state=42)\")\n",
    "# # used.append(\"1 Hidden Layer: Hidden Layer 1 with 140 neurons relu activation, Output linear\")\n",
    "# # used.append(\"2 Hidden Layers: Hidden Layer 1 with 100 neurons relu activation, Hidden Layer 2 with 50 neurons relu activation, Dropout 0.3, Output linear\")\n",
    "# used.append(\"5 Hidden Layers: Hidden Layer 1 with 300 neurons, Hidden Layer 2 with 210 neurons, Hidden Layer 3 with 180 neurons, Hidden Layer 4 with 70 neurons, Hidden Layer 5 with 10 neurons\")\n",
    "# # used.append(\"Output linear\")\n",
    "# used.append(\"Optimizer: Adam\")\n",
    "# # used.append(\"Loss Calculation: Mean Squared Error\")\n",
    "# # used.append(\"EarlyStopping(monitor='val_loss', patience=10, restore_best_weights=True)\")\n",
    "# # used.append(\"batch_size=1800, epochs=100, early_stopping, dropout=0.3 (used in hidden layers only)\")\n",
    "# used.append(\"batch_size=1800, epochs=100, early_stopping\")\n",
    "\n",
    "# # Make predictions\n",
    "# predictions = model.predict(X_test)"
   ]
  },
  {
   "cell_type": "code",
   "execution_count": 17,
   "metadata": {},
   "outputs": [],
   "source": [
    "# Create a DataFrame with the results\n",
    "submission_df = pd.DataFrame({'row ID': test_data['row ID'], 'price_doc': predictions.flatten()})\n",
    "\n",
    "# Save the results to a CSV file\n",
    "submission_df.to_csv('Day9.6.csv', index=False)"
   ]
  },
  {
   "cell_type": "code",
   "execution_count": 18,
   "metadata": {},
   "outputs": [
    {
     "name": "stdout",
     "output_type": "stream",
     "text": [
      "Features Used = 271\n",
      "\n",
      "Label Encoding\n",
      "Converted All Columns To float32\n",
      "log Normalization\n",
      "StandardScaler\n",
      "Keras With Torch Backend\n",
      "4 Hidden Layers: Hidden Layer 1 with 300 neurons relu activation L2 regularization, \n",
      "Hidden Layer 2 with 210 neurons relu activation L2 regularization, \n",
      "Hidden Layer 3 with 150 neurons relu activation L2 regularization, \n",
      "Hidden Layer 4 with 60 neurons relu activation L2 regularization\n",
      "Output linear\n",
      "Optimizer: Nadam(lr=0.002, beta_1=0.9, beta_2=0.999)\n",
      "Loss Calculation: Mean Squared Error\n",
      "EarlyStopping(monitor='val_loss', patience=10, restore_best_weights=True)\n",
      "batch_size=1800, epochs=100, early_stopping (patience 10), dropout=0.3, L2 Regularization\n"
     ]
    }
   ],
   "source": [
    "print(\"Features Used = \" + str(features_used) + \"\\n\")\n",
    "for i in used:\n",
    "    print(i)"
   ]
  }
 ],
 "metadata": {
  "kernelspec": {
   "display_name": "Python 3",
   "language": "python",
   "name": "python3"
  },
  "language_info": {
   "codemirror_mode": {
    "name": "ipython",
    "version": 3
   },
   "file_extension": ".py",
   "mimetype": "text/x-python",
   "name": "python",
   "nbconvert_exporter": "python",
   "pygments_lexer": "ipython3",
   "version": "3.11.4"
  }
 },
 "nbformat": 4,
 "nbformat_minor": 2
}
