{
 "cells": [
  {
   "cell_type": "code",
   "execution_count": 1,
   "metadata": {},
   "outputs": [],
   "source": [
    "import pandas as pd\n",
    "from sklearn.model_selection import train_test_split\n",
    "from sklearn.preprocessing import StandardScaler\n",
    "from keras.models import Sequential\n",
    "from keras.layers import Dense, Dropout\n",
    "from keras.callbacks import EarlyStopping\n",
    "import os\n",
    "import torch\n",
    "from sklearn.neural_network import MLPRegressor\n",
    "from sklearn.ensemble import GradientBoostingRegressor\n",
    "from sklearn.metrics import mean_squared_error\n",
    "from sklearn.model_selection import GridSearchCV\n",
    "from keras.optimizers import SGD, Adam, Adadelta, RMSprop, Adagrad\n",
    "from keras.regularizers import l2\n",
    "import numpy as np\n",
    "from sklearn.decomposition import PCA"
   ]
  },
  {
   "cell_type": "code",
   "execution_count": 2,
   "metadata": {},
   "outputs": [],
   "source": [
    "# Load the training data\n",
    "train_data = pd.read_csv('../../2nd-Comp-Data/train.csv')\n",
    "test_data = pd.read_csv('../../2nd-Comp-Data/test.csv')\n",
    "\n",
    "used = []\n",
    "\n",
    "# Extract features and target variable\n",
    "X = train_data.drop('price_doc', axis=1)\n",
    "y = train_data['price_doc']\n",
    "X_test = test_data.drop(['row ID'], axis=1)"
   ]
  },
  {
   "cell_type": "code",
   "execution_count": 3,
   "metadata": {},
   "outputs": [],
   "source": [
    "# X = X.drop('sub_area', axis=1)\n",
    "# X_test = X_test.drop('sub_area', axis=1)\n",
    "# used.append('Removed sub_area')"
   ]
  },
  {
   "cell_type": "code",
   "execution_count": 4,
   "metadata": {},
   "outputs": [],
   "source": [
    "# X = pd.get_dummies(X)\n",
    "# X_test = pd.get_dummies(X_test) \n",
    "# used.append('OneHot Encoding')"
   ]
  },
  {
   "cell_type": "code",
   "execution_count": 5,
   "metadata": {},
   "outputs": [
    {
     "name": "stdout",
     "output_type": "stream",
     "text": [
      "Train: Categorical columns: ['product_type', 'sub_area', 'culture_objects_top_25', 'thermal_power_plant_raion', 'incineration_raion', 'oil_chemistry_raion', 'radiation_raion', 'railroad_terminal_raion', 'big_market_raion', 'nuclear_reactor_raion', 'detention_facility_raion', 'water_1line', 'big_road1_1line', 'railroad_1line', 'ecology']\n",
      "Test: Categorical columns: ['product_type', 'sub_area', 'culture_objects_top_25', 'thermal_power_plant_raion', 'incineration_raion', 'oil_chemistry_raion', 'radiation_raion', 'railroad_terminal_raion', 'big_market_raion', 'nuclear_reactor_raion', 'detention_facility_raion', 'water_1line', 'big_road1_1line', 'railroad_1line', 'ecology']\n"
     ]
    }
   ],
   "source": [
    "from sklearn.calibration import LabelEncoder\n",
    "\n",
    "categorical_columns = X.select_dtypes(include=['object']).columns.tolist()\n",
    "print(\"Train: Categorical columns:\", categorical_columns)\n",
    "\n",
    "label_encoder = LabelEncoder()\n",
    "\n",
    "for column in categorical_columns:\n",
    "    X[column] = label_encoder.fit_transform(X[column])\n",
    "\n",
    "categorical_columns_test = X_test.select_dtypes(include=['object']).columns.tolist()\n",
    "print(\"Test: Categorical columns:\", categorical_columns_test)\n",
    "\n",
    "label_encoder = LabelEncoder()\n",
    "\n",
    "for column in categorical_columns_test:\n",
    "    X_test[column] = label_encoder.fit_transform(X_test[column])\n",
    "\n",
    "used.append('Label Encoding')"
   ]
  },
  {
   "cell_type": "code",
   "execution_count": 6,
   "metadata": {},
   "outputs": [],
   "source": [
    "# # drop all columns in X_train with dtypes object\n",
    "# for col in X.columns:\n",
    "#     if X[col].dtype == 'object':\n",
    "#         X.drop(col, axis=1, inplace=True)\n",
    "\n",
    "# # drop all columns in X_test with dtypes object\n",
    "# for col in X_test.columns:\n",
    "#     if X_test[col].dtype == 'object':\n",
    "#         X_test.drop(col, axis=1, inplace=True)\n",
    "\n",
    "# used.append(\"Removed Object Dtypes\")"
   ]
  },
  {
   "cell_type": "code",
   "execution_count": 7,
   "metadata": {},
   "outputs": [],
   "source": [
    "X = X.astype('float32')\n",
    "X_test = X_test.astype('float32')\n",
    "used.append(\"Converted All Columns To float32\")"
   ]
  },
  {
   "cell_type": "code",
   "execution_count": 8,
   "metadata": {},
   "outputs": [],
   "source": [
    "X = np.log1p(X)\n",
    "X_test = np.log1p(X_test)\n",
    "used.append('log Normalization')"
   ]
  },
  {
   "cell_type": "code",
   "execution_count": 9,
   "metadata": {},
   "outputs": [],
   "source": [
    "# Split the data into training and validation sets\n",
    "X_train, X_val, y_train, y_val = train_test_split(X, y, test_size=0.3, random_state=42)"
   ]
  },
  {
   "cell_type": "code",
   "execution_count": 10,
   "metadata": {},
   "outputs": [],
   "source": [
    "# Standardize the data\n",
    "scaler = StandardScaler()\n",
    "X_train = scaler.fit_transform(X_train)\n",
    "X_val = scaler.transform(X_val)\n",
    "X_test = scaler.transform(X_test)\n",
    "used.append(\"StandardScaler\")"
   ]
  },
  {
   "cell_type": "code",
   "execution_count": 11,
   "metadata": {},
   "outputs": [
    {
     "data": {
      "text/plain": [
       "(127054, 271)"
      ]
     },
     "execution_count": 11,
     "metadata": {},
     "output_type": "execute_result"
    }
   ],
   "source": [
    "X_train.shape"
   ]
  },
  {
   "cell_type": "code",
   "execution_count": 12,
   "metadata": {},
   "outputs": [],
   "source": [
    "# from sklearn.preprocessing import PolynomialFeatures\n",
    "# poly = PolynomialFeatures(2)#, interaction_only=True)\n",
    "# X_train = poly.fit_transform(X_train)\n",
    "# X_test = poly.fit_transform(X_test)\n",
    "# used.append('PolynomialFeatures W/O Interaction')\n",
    "# # used.append('PolynomialFeatures With Interaction')"
   ]
  },
  {
   "cell_type": "code",
   "execution_count": 13,
   "metadata": {},
   "outputs": [],
   "source": [
    "# # save X_train to csv\n",
    "# X_train.to_csv('train with poly w/o int.2.csv', index=False)\n",
    "# X_test.to_csv('test with poly w/o int.csv', index=False)"
   ]
  },
  {
   "cell_type": "code",
   "execution_count": 14,
   "metadata": {},
   "outputs": [],
   "source": [
    "# pca = PCA(n_components=200)\n",
    "# principalComponents = pca.fit_transform(X_train)\n",
    "# X_train = pd.DataFrame(data = principalComponents)\n",
    "\n",
    "# pca2 = PCA(n_components=200)\n",
    "# principalComponents = pca2.fit_transform(X_test)\n",
    "# X_test = pd.DataFrame(data = principalComponents)\n",
    "\n",
    "# used.append('PCA (n=200)')"
   ]
  },
  {
   "cell_type": "markdown",
   "metadata": {},
   "source": [
    "<h1>With Keras<h1>"
   ]
  },
  {
   "cell_type": "code",
   "execution_count": 15,
   "metadata": {},
   "outputs": [
    {
     "name": "stderr",
     "output_type": "stream",
     "text": [
      "WARNING:absl:At this time, the v2.11+ optimizer `tf.keras.optimizers.Adadelta` runs slowly on M1/M2 Macs, please use the legacy Keras optimizer instead, located at `tf.keras.optimizers.legacy.Adadelta`.\n",
      "WARNING:absl:`lr` is deprecated in Keras optimizer, please use `learning_rate` or use the legacy optimizer, e.g.,tf.keras.optimizers.legacy.Adadelta.\n"
     ]
    },
    {
     "name": "stdout",
     "output_type": "stream",
     "text": [
      "Epoch 1/100\n",
      "71/71 [==============================] - 2s 20ms/step - loss: 694026583932928.0000 - val_loss: 694874638647296.0000\n",
      "Epoch 2/100\n",
      "71/71 [==============================] - 1s 17ms/step - loss: 694026516824064.0000 - val_loss: 694874638647296.0000\n",
      "Epoch 3/100\n",
      "71/71 [==============================] - 1s 15ms/step - loss: 694026449715200.0000 - val_loss: 694874638647296.0000\n",
      "Epoch 4/100\n",
      "71/71 [==============================] - 1s 14ms/step - loss: 694026449715200.0000 - val_loss: 694874571538432.0000\n",
      "Epoch 5/100\n",
      "71/71 [==============================] - 1s 15ms/step - loss: 694026449715200.0000 - val_loss: 694874571538432.0000\n",
      "Epoch 6/100\n",
      "71/71 [==============================] - 1s 12ms/step - loss: 694026382606336.0000 - val_loss: 694874571538432.0000\n",
      "Epoch 7/100\n",
      "71/71 [==============================] - 1s 14ms/step - loss: 694026449715200.0000 - val_loss: 694874571538432.0000\n",
      "Epoch 8/100\n",
      "71/71 [==============================] - 1s 14ms/step - loss: 694026516824064.0000 - val_loss: 694874571538432.0000\n",
      "Epoch 9/100\n",
      "71/71 [==============================] - 1s 12ms/step - loss: 694026516824064.0000 - val_loss: 694874437320704.0000\n",
      "Epoch 10/100\n",
      "71/71 [==============================] - 1s 12ms/step - loss: 694026583932928.0000 - val_loss: 694874437320704.0000\n",
      "Epoch 11/100\n",
      "71/71 [==============================] - 1s 12ms/step - loss: 694026315497472.0000 - val_loss: 694874437320704.0000\n",
      "Epoch 12/100\n",
      "71/71 [==============================] - 1s 13ms/step - loss: 694026449715200.0000 - val_loss: 694874437320704.0000\n",
      "Epoch 13/100\n",
      "71/71 [==============================] - 1s 20ms/step - loss: 694026181279744.0000 - val_loss: 694874303102976.0000\n",
      "Epoch 14/100\n",
      "71/71 [==============================] - 1s 16ms/step - loss: 694026315497472.0000 - val_loss: 694874303102976.0000\n",
      "Epoch 15/100\n",
      "71/71 [==============================] - 1s 13ms/step - loss: 694026181279744.0000 - val_loss: 694874034667520.0000\n",
      "Epoch 16/100\n",
      "71/71 [==============================] - 1s 15ms/step - loss: 694025979953152.0000 - val_loss: 694873900449792.0000\n",
      "Epoch 17/100\n",
      "71/71 [==============================] - 1s 13ms/step - loss: 694025577299968.0000 - val_loss: 694872960925696.0000\n",
      "Epoch 18/100\n",
      "71/71 [==============================] - 1s 13ms/step - loss: 694021483659264.0000 - val_loss: 694851418980352.0000\n",
      "Epoch 19/100\n",
      "71/71 [==============================] - 1s 13ms/step - loss: 458558625808384.0000 - val_loss: 177066687332352.0000\n",
      "Epoch 20/100\n",
      "71/71 [==============================] - 1s 14ms/step - loss: 233626407010304.0000 - val_loss: 173357865631744.0000\n",
      "Epoch 21/100\n",
      "71/71 [==============================] - 1s 15ms/step - loss: 208736148783104.0000 - val_loss: 175566082801664.0000\n",
      "Epoch 22/100\n",
      "71/71 [==============================] - 1s 13ms/step - loss: 199593371369472.0000 - val_loss: 172381180002304.0000\n",
      "Epoch 23/100\n",
      "71/71 [==============================] - 1s 13ms/step - loss: 192363548901376.0000 - val_loss: 169587505102848.0000\n",
      "Epoch 24/100\n",
      "71/71 [==============================] - 1s 13ms/step - loss: 187981306527744.0000 - val_loss: 173015375544320.0000\n",
      "Epoch 25/100\n",
      "71/71 [==============================] - 1s 13ms/step - loss: 187495337689088.0000 - val_loss: 168925023174656.0000\n",
      "Epoch 26/100\n",
      "71/71 [==============================] - 1s 13ms/step - loss: 184731140358144.0000 - val_loss: 168708932632576.0000\n",
      "Epoch 27/100\n",
      "71/71 [==============================] - 1s 14ms/step - loss: 184027654914048.0000 - val_loss: 167515586035712.0000\n",
      "Epoch 28/100\n",
      "71/71 [==============================] - 1s 15ms/step - loss: 183286101966848.0000 - val_loss: 167488390168576.0000\n",
      "Epoch 29/100\n",
      "71/71 [==============================] - 1s 14ms/step - loss: 182473547841536.0000 - val_loss: 168510743379968.0000\n",
      "Epoch 30/100\n",
      "71/71 [==============================] - 1s 14ms/step - loss: 180296871837696.0000 - val_loss: 167315047972864.0000\n",
      "Epoch 31/100\n",
      "71/71 [==============================] - 1s 14ms/step - loss: 181094192250880.0000 - val_loss: 166877934387200.0000\n",
      "Epoch 32/100\n",
      "71/71 [==============================] - 1s 13ms/step - loss: 180709943672832.0000 - val_loss: 167563350769664.0000\n",
      "Epoch 33/100\n",
      "71/71 [==============================] - 1s 13ms/step - loss: 180740713086976.0000 - val_loss: 167096927387648.0000\n",
      "Epoch 34/100\n",
      "71/71 [==============================] - 1s 14ms/step - loss: 178795814322176.0000 - val_loss: 166928853237760.0000\n",
      "Epoch 35/100\n",
      "71/71 [==============================] - 2s 21ms/step - loss: 180501939748864.0000 - val_loss: 167049397534720.0000\n",
      "Epoch 36/100\n",
      "71/71 [==============================] - 1s 15ms/step - loss: 180609062273024.0000 - val_loss: 166798511046656.0000\n",
      "Epoch 37/100\n",
      "71/71 [==============================] - 1s 15ms/step - loss: 178935853744128.0000 - val_loss: 166505647964160.0000\n",
      "Epoch 38/100\n",
      "71/71 [==============================] - 1s 14ms/step - loss: 179762332958720.0000 - val_loss: 166867465404416.0000\n",
      "Epoch 39/100\n",
      "71/71 [==============================] - 1s 15ms/step - loss: 180590808662016.0000 - val_loss: 167042653093888.0000\n",
      "Epoch 40/100\n",
      "71/71 [==============================] - 1s 14ms/step - loss: 179532636094464.0000 - val_loss: 166977037402112.0000\n",
      "Epoch 41/100\n",
      "71/71 [==============================] - 1s 14ms/step - loss: 178708136591360.0000 - val_loss: 166692596482048.0000\n",
      "Epoch 42/100\n",
      "71/71 [==============================] - 1s 13ms/step - loss: 178513537662976.0000 - val_loss: 166736317906944.0000\n",
      "Epoch 43/100\n",
      "71/71 [==============================] - 1s 13ms/step - loss: 178225120542720.0000 - val_loss: 167075704209408.0000\n",
      "Epoch 44/100\n",
      "71/71 [==============================] - 1s 14ms/step - loss: 179049469050880.0000 - val_loss: 166669813022720.0000\n",
      "Epoch 45/100\n",
      "71/71 [==============================] - 1s 14ms/step - loss: 178448525950976.0000 - val_loss: 166570844225536.0000\n",
      "Epoch 46/100\n",
      "71/71 [==============================] - 1s 14ms/step - loss: 179432727773184.0000 - val_loss: 166777925402624.0000\n",
      "Epoch 47/100\n",
      "71/71 [==============================] - 1s 17ms/step - loss: 179506312642560.0000 - val_loss: 166981265260544.0000\n",
      "2431/2431 [==============================] - 1s 453us/step\n"
     ]
    }
   ],
   "source": [
    "features_used = X_train.shape[1]\n",
    "\n",
    "# Build the neural network\n",
    "os.environ[\"KERAS_BACKEND\"] = \"torch\"\n",
    "used.append(\"Keras With Torch Backend\")\n",
    "model = Sequential()\n",
    "model.add(Dense(300, input_dim=X_train.shape[1], activation='relu', kernel_regularizer=l2(0.01)))\n",
    "model.add(Dropout(0.3))  # You can use either dropout or early stopping\n",
    "model.add(Dense(210, activation='relu', kernel_regularizer=l2(0.01)))\n",
    "model.add(Dropout(0.3))\n",
    "model.add(Dense(150, activation='relu', kernel_regularizer=l2(0.01)))\n",
    "model.add(Dropout(0.3))\n",
    "model.add(Dense(60, activation='relu', kernel_regularizer=l2(0.01)))\n",
    "model.add(Dropout(0.3))\n",
    "model.add(Dense(1, activation='linear'))  # Output layer with linear activation for regression\n",
    "\n",
    "used.append(\"4 Hidden Layers: Hidden Layer 1 with 300 neurons relu activation L2 regularization, \\n\" +\n",
    "            \"Hidden Layer 2 with 210 neurons relu activation L2 regularization, \\n\" +\n",
    "            \"Hidden Layer 3 with 150 neurons relu activation L2 regularization, \\n\" +\n",
    "            \"Hidden Layer 4 with 60 neurons relu activation L2 regularization\")\n",
    "used.append(\"Output linear\")\n",
    "\n",
    "# optimizerUsing = Adam(lr=0.001)#, beta_1=0.9, beta_2=0.999, epsilon=1e-07, amsgrad=False)\n",
    "# used.append(\"Optimizer: Adam(lr=0.01)\")\n",
    "# optimizerUsing = RMSprop(lr=0.001)\n",
    "# used.append(\"Optimizer: RMSprop(lr=0.001)\")\n",
    "# optimizerUsing = Adagrad(lr=0.01)\n",
    "# used.append(\"Optimizer: Adagrad(lr=0.01)\")\n",
    "optimizerUsing = Adadelta(lr=1.0, rho=0.95)\n",
    "used.append(\"Optimizer: Adadelta(lr=1.0, rho=0.95)\")\n",
    "# optimizerUsing = Nadam(lr=0.002, beta_1=0.9, beta_2=0.999, epsilon=None, schedule_decay=0.004)\n",
    "# optimizerUsing = Ftrl(learning_rate=0.01, learning_rate_power=-0.5, initial_accumulator_value=0.1, l1_regularization_strength=0.0, l2_regularization_strength=0.0)\n",
    "\n",
    "# Compile the model\n",
    "model.compile(loss='mean_squared_error', optimizer=optimizerUsing)\n",
    "used.append(\"Loss Calculation: Mean Squared Error\")\n",
    "\n",
    "# Define early stopping\n",
    "early_stopping = EarlyStopping(monitor='val_loss', patience=10, restore_best_weights=True)\n",
    "used.append(\"EarlyStopping(monitor='val_loss', patience=10, restore_best_weights=True)\")\n",
    "\n",
    "# Train the model\n",
    "model.fit(X_train, y_train, epochs=100, batch_size=1800, validation_data=(X_val, y_val), callbacks=[early_stopping])\n",
    "used.append(\"batch_size=1800, epochs=100, early_stopping (patience 10), dropout=0.3, L2 Regularization\")\n",
    "\n",
    "# Train the model\n",
    "# model.fit(X_train, y_train, epochs=100, batch_size=1800, validation_data=(X_val, y_val))#, callbacks=[early_stopping])\n",
    "# used.append(\"batch_size=1800, epochs=100, dropout=0.3, L2 Regularization\")\n",
    "\n",
    "# used.append(\"batch_size=1800, epochs=100, early_stopping\")\n",
    "\n",
    "# Make predictions\n",
    "predictions = model.predict(X_test)"
   ]
  },
  {
   "cell_type": "markdown",
   "metadata": {},
   "source": [
    "<h1>With Skilearn<h1>"
   ]
  },
  {
   "cell_type": "code",
   "execution_count": 16,
   "metadata": {},
   "outputs": [],
   "source": [
    "# features_used = X_train.shape[1]\n",
    "\n",
    "# # # optimizerUsing = SGD(learning_rate=0.01, momentum=0.9)\n",
    "\n",
    "# # # optimizerUsing = Adam(lr=0.001, beta_1=0.9, beta_2=0.999, epsilon=1e-07, amsgrad=False)\n",
    "# # optimizerUsing = Adam(lr=0.001)#, epsilon=1e-07)\n",
    "\n",
    "# # Build the neural network using MLPRegressor from scikit-learn\n",
    "# model = MLPRegressor(hidden_layer_sizes=(300,210,180,70,10), activation='relu', solver='adam', shuffle=False, max_iter=100,\n",
    "#                      batch_size=1800, early_stopping=True, verbose=True, random_state=42)\n",
    "\n",
    "# # Train the model\n",
    "# model.fit(X_train, y_train)\n",
    "\n",
    "# used.append(\"MLPRegressor(hidden_layer_sizes=(300,210,180,70,10), activation='relu', solver='adam', shuffle=False, max_iter=100, batch_size=1800, early_stopping=True, verbose=True, random_state=42)\")\n",
    "# # used.append(\"1 Hidden Layer: Hidden Layer 1 with 140 neurons relu activation, Output linear\")\n",
    "# # used.append(\"2 Hidden Layers: Hidden Layer 1 with 100 neurons relu activation, Hidden Layer 2 with 50 neurons relu activation, Dropout 0.3, Output linear\")\n",
    "# used.append(\"5 Hidden Layers: Hidden Layer 1 with 300 neurons, Hidden Layer 2 with 210 neurons, Hidden Layer 3 with 180 neurons, Hidden Layer 4 with 70 neurons, Hidden Layer 5 with 10 neurons\")\n",
    "# # used.append(\"Output linear\")\n",
    "# used.append(\"Optimizer: Adam\")\n",
    "# # used.append(\"Loss Calculation: Mean Squared Error\")\n",
    "# # used.append(\"EarlyStopping(monitor='val_loss', patience=10, restore_best_weights=True)\")\n",
    "# # used.append(\"batch_size=1800, epochs=100, early_stopping, dropout=0.3 (used in hidden layers only)\")\n",
    "# used.append(\"batch_size=1800, epochs=100, early_stopping\")\n",
    "\n",
    "# # Make predictions\n",
    "# predictions = model.predict(X_test)"
   ]
  },
  {
   "cell_type": "code",
   "execution_count": 17,
   "metadata": {},
   "outputs": [],
   "source": [
    "# Create a DataFrame with the results\n",
    "submission_df = pd.DataFrame({'row ID': test_data['row ID'], 'price_doc': predictions.flatten()})\n",
    "\n",
    "# Save the results to a CSV file\n",
    "submission_df.to_csv('Day9.5.csv', index=False)"
   ]
  },
  {
   "cell_type": "code",
   "execution_count": 18,
   "metadata": {},
   "outputs": [
    {
     "name": "stdout",
     "output_type": "stream",
     "text": [
      "Features Used = 271\n",
      "\n",
      "Label Encoding\n",
      "Converted All Columns To float32\n",
      "log Normalization\n",
      "StandardScaler\n",
      "Keras With Torch Backend\n",
      "4 Hidden Layers: Hidden Layer 1 with 300 neurons relu activation L2 regularization, \n",
      "Hidden Layer 2 with 210 neurons relu activation L2 regularization, \n",
      "Hidden Layer 3 with 150 neurons relu activation L2 regularization, \n",
      "Hidden Layer 4 with 60 neurons relu activation L2 regularization\n",
      "Output linear\n",
      "Optimizer: Adadelta(lr=1.0, rho=0.95)\n",
      "Loss Calculation: Mean Squared Error\n",
      "EarlyStopping(monitor='val_loss', patience=10, restore_best_weights=True)\n",
      "batch_size=1800, epochs=100, early_stopping (patience 10), dropout=0.3, L2 Regularization\n"
     ]
    }
   ],
   "source": [
    "print(\"Features Used = \" + str(features_used) + \"\\n\")\n",
    "for i in used:\n",
    "    print(i)"
   ]
  }
 ],
 "metadata": {
  "kernelspec": {
   "display_name": "Python 3",
   "language": "python",
   "name": "python3"
  },
  "language_info": {
   "codemirror_mode": {
    "name": "ipython",
    "version": 3
   },
   "file_extension": ".py",
   "mimetype": "text/x-python",
   "name": "python",
   "nbconvert_exporter": "python",
   "pygments_lexer": "ipython3",
   "version": "3.11.4"
  }
 },
 "nbformat": 4,
 "nbformat_minor": 2
}
