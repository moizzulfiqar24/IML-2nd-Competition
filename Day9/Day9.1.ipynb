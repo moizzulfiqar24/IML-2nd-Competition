{
 "cells": [
  {
   "cell_type": "code",
   "execution_count": 1,
   "metadata": {},
   "outputs": [],
   "source": [
    "import pandas as pd\n",
    "from sklearn.model_selection import train_test_split\n",
    "from sklearn.preprocessing import StandardScaler\n",
    "from keras.models import Sequential\n",
    "from keras.layers import Dense, Dropout\n",
    "from keras.callbacks import EarlyStopping\n",
    "import os\n",
    "import torch\n",
    "from sklearn.neural_network import MLPRegressor\n",
    "from sklearn.ensemble import GradientBoostingRegressor\n",
    "from sklearn.metrics import mean_squared_error\n",
    "from sklearn.model_selection import GridSearchCV\n",
    "from keras.optimizers import SGD, Adam\n",
    "from keras.regularizers import l2\n",
    "import numpy as np\n",
    "from sklearn.decomposition import PCA"
   ]
  },
  {
   "cell_type": "code",
   "execution_count": 2,
   "metadata": {},
   "outputs": [],
   "source": [
    "# Load the training data\n",
    "train_data = pd.read_csv('../../2nd-Comp-Data/train.csv')\n",
    "test_data = pd.read_csv('../../2nd-Comp-Data/test.csv')\n",
    "\n",
    "used = []\n",
    "\n",
    "# Extract features and target variable\n",
    "X = train_data.drop('price_doc', axis=1)\n",
    "y = train_data['price_doc']\n",
    "X_test = test_data.drop(['row ID'], axis=1)"
   ]
  },
  {
   "cell_type": "code",
   "execution_count": 3,
   "metadata": {},
   "outputs": [],
   "source": [
    "# X = X.drop('sub_area', axis=1)\n",
    "# X_test = X_test.drop('sub_area', axis=1)\n",
    "# used.append('Removed sub_area')"
   ]
  },
  {
   "cell_type": "code",
   "execution_count": 4,
   "metadata": {},
   "outputs": [],
   "source": [
    "# X = pd.get_dummies(X)\n",
    "# X_test = pd.get_dummies(X_test) \n",
    "# used.append('OneHot Encoding')"
   ]
  },
  {
   "cell_type": "code",
   "execution_count": 5,
   "metadata": {},
   "outputs": [
    {
     "name": "stdout",
     "output_type": "stream",
     "text": [
      "Train: Categorical columns: ['product_type', 'sub_area', 'culture_objects_top_25', 'thermal_power_plant_raion', 'incineration_raion', 'oil_chemistry_raion', 'radiation_raion', 'railroad_terminal_raion', 'big_market_raion', 'nuclear_reactor_raion', 'detention_facility_raion', 'water_1line', 'big_road1_1line', 'railroad_1line', 'ecology']\n",
      "Test: Categorical columns: ['product_type', 'sub_area', 'culture_objects_top_25', 'thermal_power_plant_raion', 'incineration_raion', 'oil_chemistry_raion', 'radiation_raion', 'railroad_terminal_raion', 'big_market_raion', 'nuclear_reactor_raion', 'detention_facility_raion', 'water_1line', 'big_road1_1line', 'railroad_1line', 'ecology']\n"
     ]
    }
   ],
   "source": [
    "from sklearn.calibration import LabelEncoder\n",
    "\n",
    "categorical_columns = X.select_dtypes(include=['object']).columns.tolist()\n",
    "print(\"Train: Categorical columns:\", categorical_columns)\n",
    "\n",
    "label_encoder = LabelEncoder()\n",
    "\n",
    "for column in categorical_columns:\n",
    "    X[column] = label_encoder.fit_transform(X[column])\n",
    "\n",
    "categorical_columns_test = X_test.select_dtypes(include=['object']).columns.tolist()\n",
    "print(\"Test: Categorical columns:\", categorical_columns_test)\n",
    "\n",
    "label_encoder = LabelEncoder()\n",
    "\n",
    "for column in categorical_columns_test:\n",
    "    X_test[column] = label_encoder.fit_transform(X_test[column])\n",
    "\n",
    "used.append('Label Encoding')"
   ]
  },
  {
   "cell_type": "code",
   "execution_count": 6,
   "metadata": {},
   "outputs": [],
   "source": [
    "# # drop all columns in X_train with dtypes object\n",
    "# for col in X.columns:\n",
    "#     if X[col].dtype == 'object':\n",
    "#         X.drop(col, axis=1, inplace=True)\n",
    "\n",
    "# # drop all columns in X_test with dtypes object\n",
    "# for col in X_test.columns:\n",
    "#     if X_test[col].dtype == 'object':\n",
    "#         X_test.drop(col, axis=1, inplace=True)\n",
    "\n",
    "# used.append(\"Removed Object Dtypes\")"
   ]
  },
  {
   "cell_type": "code",
   "execution_count": 7,
   "metadata": {},
   "outputs": [],
   "source": [
    "X = X.astype('float32')\n",
    "X_test = X_test.astype('float32')\n",
    "used.append(\"Converted All Columns To float32\")"
   ]
  },
  {
   "cell_type": "code",
   "execution_count": 8,
   "metadata": {},
   "outputs": [],
   "source": [
    "X = np.log1p(X)\n",
    "X_test = np.log1p(X_test)\n",
    "used.append('log Normalization')"
   ]
  },
  {
   "cell_type": "code",
   "execution_count": 9,
   "metadata": {},
   "outputs": [],
   "source": [
    "# Split the data into training and validation sets\n",
    "X_train, X_val, y_train, y_val = train_test_split(X, y, test_size=0.3, random_state=42)"
   ]
  },
  {
   "cell_type": "code",
   "execution_count": 10,
   "metadata": {},
   "outputs": [],
   "source": [
    "# Standardize the data\n",
    "scaler = StandardScaler()\n",
    "X_train = scaler.fit_transform(X_train)\n",
    "X_val = scaler.transform(X_val)\n",
    "X_test = scaler.transform(X_test)\n",
    "used.append(\"StandardScaler\")"
   ]
  },
  {
   "cell_type": "code",
   "execution_count": 11,
   "metadata": {},
   "outputs": [
    {
     "data": {
      "text/plain": [
       "(127054, 271)"
      ]
     },
     "execution_count": 11,
     "metadata": {},
     "output_type": "execute_result"
    }
   ],
   "source": [
    "X_train.shape"
   ]
  },
  {
   "cell_type": "code",
   "execution_count": 12,
   "metadata": {},
   "outputs": [],
   "source": [
    "# from sklearn.preprocessing import PolynomialFeatures\n",
    "# poly = PolynomialFeatures(2)#, interaction_only=True)\n",
    "# X_train = poly.fit_transform(X_train)\n",
    "# X_test = poly.fit_transform(X_test)\n",
    "# used.append('PolynomialFeatures W/O Interaction')\n",
    "# # used.append('PolynomialFeatures With Interaction')"
   ]
  },
  {
   "cell_type": "code",
   "execution_count": 13,
   "metadata": {},
   "outputs": [],
   "source": [
    "# # save X_train to csv\n",
    "# X_train.to_csv('train with poly w/o int.2.csv', index=False)\n",
    "# X_test.to_csv('test with poly w/o int.csv', index=False)"
   ]
  },
  {
   "cell_type": "code",
   "execution_count": 14,
   "metadata": {},
   "outputs": [],
   "source": [
    "# pca = PCA(n_components=200)\n",
    "# principalComponents = pca.fit_transform(X_train)\n",
    "# X_train = pd.DataFrame(data = principalComponents)\n",
    "\n",
    "# pca2 = PCA(n_components=200)\n",
    "# principalComponents = pca2.fit_transform(X_test)\n",
    "# X_test = pd.DataFrame(data = principalComponents)\n",
    "\n",
    "# used.append('PCA (n=200)')"
   ]
  },
  {
   "cell_type": "markdown",
   "metadata": {},
   "source": [
    "<h1>With Keras<h1>"
   ]
  },
  {
   "cell_type": "code",
   "execution_count": 15,
   "metadata": {},
   "outputs": [
    {
     "name": "stderr",
     "output_type": "stream",
     "text": [
      "WARNING:absl:At this time, the v2.11+ optimizer `tf.keras.optimizers.Adam` runs slowly on M1/M2 Macs, please use the legacy Keras optimizer instead, located at `tf.keras.optimizers.legacy.Adam`.\n",
      "WARNING:absl:`lr` is deprecated in Keras optimizer, please use `learning_rate` or use the legacy optimizer, e.g.,tf.keras.optimizers.legacy.Adam.\n"
     ]
    },
    {
     "name": "stdout",
     "output_type": "stream",
     "text": [
      "Epoch 1/100\n",
      "71/71 [==============================] - 2s 18ms/step - loss: 691876684365824.0000 - val_loss: 678445986086912.0000\n",
      "Epoch 2/100\n",
      "71/71 [==============================] - 1s 12ms/step - loss: 474333638033408.0000 - val_loss: 186830741831680.0000\n",
      "Epoch 3/100\n",
      "71/71 [==============================] - 1s 12ms/step - loss: 195989960916992.0000 - val_loss: 181545147039744.0000\n",
      "Epoch 4/100\n",
      "71/71 [==============================] - 1s 12ms/step - loss: 191309167984640.0000 - val_loss: 179954230755328.0000\n",
      "Epoch 5/100\n",
      "71/71 [==============================] - 1s 12ms/step - loss: 189667886497792.0000 - val_loss: 177607014350848.0000\n",
      "Epoch 6/100\n",
      "71/71 [==============================] - 1s 18ms/step - loss: 189154252029952.0000 - val_loss: 176484887035904.0000\n",
      "Epoch 7/100\n",
      "71/71 [==============================] - 1s 12ms/step - loss: 187693828931584.0000 - val_loss: 175904697352192.0000\n",
      "Epoch 8/100\n",
      "71/71 [==============================] - 1s 12ms/step - loss: 186805542453248.0000 - val_loss: 175030856056832.0000\n",
      "Epoch 9/100\n",
      "71/71 [==============================] - 1s 13ms/step - loss: 185850264551424.0000 - val_loss: 174896554442752.0000\n",
      "Epoch 10/100\n",
      "71/71 [==============================] - 1s 12ms/step - loss: 185231806038016.0000 - val_loss: 173918241423360.0000\n",
      "Epoch 11/100\n",
      "71/71 [==============================] - 1s 12ms/step - loss: 185046870786048.0000 - val_loss: 173754663567360.0000\n",
      "Epoch 12/100\n",
      "71/71 [==============================] - 1s 12ms/step - loss: 185068614057984.0000 - val_loss: 173497267519488.0000\n",
      "Epoch 13/100\n",
      "71/71 [==============================] - 1s 12ms/step - loss: 184997310889984.0000 - val_loss: 173488912465920.0000\n",
      "Epoch 14/100\n",
      "71/71 [==============================] - 1s 13ms/step - loss: 183416544821248.0000 - val_loss: 173640964374528.0000\n",
      "Epoch 15/100\n",
      "71/71 [==============================] - 1s 13ms/step - loss: 182558557995008.0000 - val_loss: 172876829294592.0000\n",
      "Epoch 16/100\n",
      "71/71 [==============================] - 1s 14ms/step - loss: 183246021197824.0000 - val_loss: 172662500360192.0000\n",
      "Epoch 17/100\n",
      "71/71 [==============================] - 1s 13ms/step - loss: 182790804996096.0000 - val_loss: 172261910773760.0000\n",
      "Epoch 18/100\n",
      "71/71 [==============================] - 1s 12ms/step - loss: 182381340262400.0000 - val_loss: 171952455024640.0000\n",
      "Epoch 19/100\n",
      "71/71 [==============================] - 1s 12ms/step - loss: 183031306387456.0000 - val_loss: 173332498481152.0000\n",
      "Epoch 20/100\n",
      "71/71 [==============================] - 1s 12ms/step - loss: 183044359061504.0000 - val_loss: 171933832314880.0000\n",
      "Epoch 21/100\n",
      "71/71 [==============================] - 1s 12ms/step - loss: 182078645731328.0000 - val_loss: 171357920821248.0000\n",
      "Epoch 22/100\n",
      "71/71 [==============================] - 1s 12ms/step - loss: 182680511578112.0000 - val_loss: 171280376528896.0000\n",
      "Epoch 23/100\n",
      "71/71 [==============================] - 1s 15ms/step - loss: 180882061131776.0000 - val_loss: 171041401864192.0000\n",
      "Epoch 24/100\n",
      "71/71 [==============================] - 1s 12ms/step - loss: 179877743427584.0000 - val_loss: 171458399567872.0000\n",
      "Epoch 25/100\n",
      "71/71 [==============================] - 1s 12ms/step - loss: 180382251089920.0000 - val_loss: 170402710028288.0000\n",
      "Epoch 26/100\n",
      "71/71 [==============================] - 1s 12ms/step - loss: 180832836780032.0000 - val_loss: 170131120455680.0000\n",
      "Epoch 27/100\n",
      "71/71 [==============================] - 1s 12ms/step - loss: 179543759388672.0000 - val_loss: 169992691646464.0000\n",
      "Epoch 28/100\n",
      "71/71 [==============================] - 1s 12ms/step - loss: 180585439952896.0000 - val_loss: 170592091242496.0000\n",
      "Epoch 29/100\n",
      "71/71 [==============================] - 1s 12ms/step - loss: 179860714553344.0000 - val_loss: 169608694726656.0000\n",
      "Epoch 30/100\n",
      "71/71 [==============================] - 1s 12ms/step - loss: 180550912442368.0000 - val_loss: 169804317065216.0000\n",
      "Epoch 31/100\n",
      "71/71 [==============================] - 1s 12ms/step - loss: 179260106997760.0000 - val_loss: 170137294471168.0000\n",
      "Epoch 32/100\n",
      "71/71 [==============================] - 1s 12ms/step - loss: 178412773703680.0000 - val_loss: 169655268278272.0000\n",
      "Epoch 33/100\n",
      "71/71 [==============================] - 1s 13ms/step - loss: 179208030519296.0000 - val_loss: 168907054776320.0000\n",
      "Epoch 34/100\n",
      "71/71 [==============================] - 1s 12ms/step - loss: 179300607197184.0000 - val_loss: 169789787996160.0000\n",
      "Epoch 35/100\n",
      "71/71 [==============================] - 1s 12ms/step - loss: 178863141289984.0000 - val_loss: 169321653338112.0000\n",
      "Epoch 36/100\n",
      "71/71 [==============================] - 1s 12ms/step - loss: 178451629735936.0000 - val_loss: 168472927535104.0000\n",
      "Epoch 37/100\n",
      "71/71 [==============================] - 1s 12ms/step - loss: 178955600527360.0000 - val_loss: 168758626746368.0000\n",
      "Epoch 38/100\n",
      "71/71 [==============================] - 1s 12ms/step - loss: 178975011766272.0000 - val_loss: 170087214481408.0000\n",
      "Epoch 39/100\n",
      "71/71 [==============================] - 1s 12ms/step - loss: 177684709638144.0000 - val_loss: 167951978201088.0000\n",
      "Epoch 40/100\n",
      "71/71 [==============================] - 1s 12ms/step - loss: 177551917973504.0000 - val_loss: 168029723820032.0000\n",
      "Epoch 41/100\n",
      "71/71 [==============================] - 1s 12ms/step - loss: 178039732305920.0000 - val_loss: 168053765570560.0000\n",
      "Epoch 42/100\n",
      "71/71 [==============================] - 1s 12ms/step - loss: 177386914054144.0000 - val_loss: 169029578784768.0000\n",
      "Epoch 43/100\n",
      "71/71 [==============================] - 1s 12ms/step - loss: 177800187215872.0000 - val_loss: 168460428509184.0000\n",
      "Epoch 44/100\n",
      "71/71 [==============================] - 1s 12ms/step - loss: 176094464442368.0000 - val_loss: 167373264912384.0000\n",
      "Epoch 45/100\n",
      "71/71 [==============================] - 1s 12ms/step - loss: 176136457814016.0000 - val_loss: 167226783039488.0000\n",
      "Epoch 46/100\n",
      "71/71 [==============================] - 1s 12ms/step - loss: 178260419805184.0000 - val_loss: 167712735100928.0000\n",
      "Epoch 47/100\n",
      "71/71 [==============================] - 1s 13ms/step - loss: 176656668950528.0000 - val_loss: 167588986355712.0000\n",
      "Epoch 48/100\n",
      "71/71 [==============================] - 1s 13ms/step - loss: 176714281910272.0000 - val_loss: 167259012071424.0000\n",
      "Epoch 49/100\n",
      "71/71 [==============================] - 1s 12ms/step - loss: 176636922167296.0000 - val_loss: 167010910601216.0000\n",
      "Epoch 50/100\n",
      "71/71 [==============================] - 1s 13ms/step - loss: 177205921447936.0000 - val_loss: 167207975780352.0000\n",
      "Epoch 51/100\n",
      "71/71 [==============================] - 1s 12ms/step - loss: 175893741830144.0000 - val_loss: 166839061577728.0000\n",
      "Epoch 52/100\n",
      "71/71 [==============================] - 1s 12ms/step - loss: 176594006048768.0000 - val_loss: 167216699932672.0000\n",
      "Epoch 53/100\n",
      "71/71 [==============================] - 1s 12ms/step - loss: 175800913494016.0000 - val_loss: 166671708848128.0000\n",
      "Epoch 54/100\n",
      "71/71 [==============================] - 1s 12ms/step - loss: 174923750309888.0000 - val_loss: 166912310902784.0000\n",
      "Epoch 55/100\n",
      "71/71 [==============================] - 1s 13ms/step - loss: 175270166265856.0000 - val_loss: 166723181346816.0000\n",
      "Epoch 56/100\n",
      "71/71 [==============================] - 1s 12ms/step - loss: 176180397342720.0000 - val_loss: 166763564105728.0000\n",
      "Epoch 57/100\n",
      "71/71 [==============================] - 1s 12ms/step - loss: 175025890000896.0000 - val_loss: 167228343320576.0000\n",
      "Epoch 58/100\n",
      "71/71 [==============================] - 1s 12ms/step - loss: 175197705469952.0000 - val_loss: 166844648390656.0000\n",
      "Epoch 59/100\n",
      "71/71 [==============================] - 1s 13ms/step - loss: 173449502785536.0000 - val_loss: 166391311237120.0000\n",
      "Epoch 60/100\n",
      "71/71 [==============================] - 1s 12ms/step - loss: 176026097287168.0000 - val_loss: 166229763424256.0000\n",
      "Epoch 61/100\n",
      "71/71 [==============================] - 1s 13ms/step - loss: 175022484226048.0000 - val_loss: 166519103291392.0000\n",
      "Epoch 62/100\n",
      "71/71 [==============================] - 1s 12ms/step - loss: 173403650654208.0000 - val_loss: 166684828631040.0000\n",
      "Epoch 63/100\n",
      "71/71 [==============================] - 1s 12ms/step - loss: 175036526755840.0000 - val_loss: 166218640130048.0000\n",
      "Epoch 64/100\n",
      "71/71 [==============================] - 1s 12ms/step - loss: 173643430625280.0000 - val_loss: 166088398602240.0000\n",
      "Epoch 65/100\n",
      "71/71 [==============================] - 1s 13ms/step - loss: 174516382728192.0000 - val_loss: 166513466146816.0000\n",
      "Epoch 66/100\n",
      "71/71 [==============================] - 1s 12ms/step - loss: 174815000395776.0000 - val_loss: 166654260543488.0000\n",
      "Epoch 67/100\n",
      "71/71 [==============================] - 1s 13ms/step - loss: 174131765051392.0000 - val_loss: 166155859787776.0000\n",
      "Epoch 68/100\n",
      "71/71 [==============================] - 1s 12ms/step - loss: 173231986180096.0000 - val_loss: 167429200150528.0000\n",
      "Epoch 69/100\n",
      "71/71 [==============================] - 1s 12ms/step - loss: 173576170766336.0000 - val_loss: 166112423575552.0000\n",
      "Epoch 70/100\n",
      "71/71 [==============================] - 1s 13ms/step - loss: 173382595248128.0000 - val_loss: 166080597196800.0000\n",
      "Epoch 71/100\n",
      "71/71 [==============================] - 1s 13ms/step - loss: 173033981476864.0000 - val_loss: 167001062375424.0000\n",
      "Epoch 72/100\n",
      "71/71 [==============================] - 1s 14ms/step - loss: 172718653702144.0000 - val_loss: 166075194933248.0000\n",
      "Epoch 73/100\n",
      "71/71 [==============================] - 1s 13ms/step - loss: 172874681810944.0000 - val_loss: 166045784473600.0000\n",
      "Epoch 74/100\n",
      "71/71 [==============================] - 1s 14ms/step - loss: 173522685001728.0000 - val_loss: 165975102062592.0000\n",
      "Epoch 75/100\n",
      "71/71 [==============================] - 1s 13ms/step - loss: 174179999547392.0000 - val_loss: 166631762296832.0000\n",
      "Epoch 76/100\n",
      "71/71 [==============================] - 1s 13ms/step - loss: 173096426274816.0000 - val_loss: 166260717387776.0000\n",
      "Epoch 77/100\n",
      "71/71 [==============================] - 1s 15ms/step - loss: 172815391129600.0000 - val_loss: 166779552792576.0000\n",
      "Epoch 78/100\n",
      "71/71 [==============================] - 1s 13ms/step - loss: 172543784779776.0000 - val_loss: 166197265956864.0000\n",
      "Epoch 79/100\n",
      "71/71 [==============================] - 1s 13ms/step - loss: 173038779760640.0000 - val_loss: 166274877358080.0000\n",
      "Epoch 80/100\n",
      "71/71 [==============================] - 1s 14ms/step - loss: 170905758072832.0000 - val_loss: 167067063943168.0000\n",
      "Epoch 81/100\n",
      "71/71 [==============================] - 1s 14ms/step - loss: 172539523366912.0000 - val_loss: 166703065464832.0000\n",
      "Epoch 82/100\n",
      "71/71 [==============================] - 1s 13ms/step - loss: 172106184654848.0000 - val_loss: 166385120444416.0000\n",
      "Epoch 83/100\n",
      "71/71 [==============================] - 1s 13ms/step - loss: 173022623301632.0000 - val_loss: 165895729053696.0000\n",
      "Epoch 84/100\n",
      "71/71 [==============================] - 1s 13ms/step - loss: 171826089033728.0000 - val_loss: 166077912842240.0000\n",
      "Epoch 85/100\n",
      "71/71 [==============================] - 1s 13ms/step - loss: 171345556013056.0000 - val_loss: 166191612035072.0000\n",
      "Epoch 86/100\n",
      "71/71 [==============================] - 1s 13ms/step - loss: 172350259593216.0000 - val_loss: 166064105193472.0000\n",
      "Epoch 87/100\n",
      "71/71 [==============================] - 1s 13ms/step - loss: 172412368846848.0000 - val_loss: 166549537161216.0000\n",
      "Epoch 88/100\n",
      "71/71 [==============================] - 1s 13ms/step - loss: 171566998487040.0000 - val_loss: 166046472339456.0000\n",
      "Epoch 89/100\n",
      "71/71 [==============================] - 1s 15ms/step - loss: 171664256008192.0000 - val_loss: 166267747041280.0000\n",
      "Epoch 90/100\n",
      "71/71 [==============================] - 1s 13ms/step - loss: 171553073397760.0000 - val_loss: 166785324154880.0000\n",
      "Epoch 91/100\n",
      "71/71 [==============================] - 1s 13ms/step - loss: 172032583008256.0000 - val_loss: 167054900461568.0000\n",
      "Epoch 92/100\n",
      "71/71 [==============================] - 1s 13ms/step - loss: 171228971139072.0000 - val_loss: 166041774718976.0000\n",
      "Epoch 93/100\n",
      "71/71 [==============================] - 1s 14ms/step - loss: 170578988236800.0000 - val_loss: 166305260896256.0000\n",
      "2431/2431 [==============================] - 1s 436us/step\n"
     ]
    }
   ],
   "source": [
    "features_used = X_train.shape[1]\n",
    "\n",
    "# optimizerUsing = SGD(learning_rate=0.01, momentum=0.9)\n",
    "\n",
    "# optimizerUsing = Adam(lr=0.001, beta_1=0.9, beta_2=0.999, epsilon=1e-07, amsgrad=False)\n",
    "optimizerUsing = Adam(lr=0.001)#, epsilon=1e-07)\n",
    "\n",
    "# Build the neural network\n",
    "os.environ[\"KERAS_BACKEND\"] = \"torch\"\n",
    "model = Sequential()\n",
    "model.add(Dense(300, input_dim=X_train.shape[1], activation='relu', kernel_regularizer=l2(0.01)))\n",
    "model.add(Dropout(0.3))  # You can use either dropout or early stopping\n",
    "model.add(Dense(210, activation='relu', kernel_regularizer=l2(0.01)))\n",
    "model.add(Dropout(0.3))\n",
    "model.add(Dense(150, activation='relu', kernel_regularizer=l2(0.01)))\n",
    "model.add(Dropout(0.3))\n",
    "model.add(Dense(60, activation='relu', kernel_regularizer=l2(0.01)))\n",
    "model.add(Dropout(0.3))\n",
    "model.add(Dense(1, activation='linear'))  # Output layer with linear activation for regression\n",
    "\n",
    "# Compile the model\n",
    "model.compile(loss='mean_squared_error', optimizer=optimizerUsing)\n",
    "\n",
    "# Define early stopping\n",
    "early_stopping = EarlyStopping(monitor='val_loss', patience=10, restore_best_weights=True)\n",
    "\n",
    "# Train the model\n",
    "model.fit(X_train, y_train, epochs=100, batch_size=1800, validation_data=(X_val, y_val), callbacks=[early_stopping])\n",
    "\n",
    "used.append(\"Keras With Torch Backend\")\n",
    "# used.append(\"1 Hidden Layer: Hidden Layer 1 with 140 neurons relu activation, Output linear\")\n",
    "# used.append(\"2 Hidden Layers: Hidden Layer 1 with 100 neurons relu activation, Hidden Layer 2 with 50 neurons relu activation, Dropout 0.3, Output linear\")\n",
    "used.append(\"4 Hidden Layers: Hidden Layer 1 with 300 neurons relu activation L2 regularization, Hidden Layer 2 with 210 neurons relu activation L2 regularization, Hidden Layer 3 with 150 neurons relu activation L2 regularization, Hidden Layer 4 with 60 neurons relu activation L2 regularization\")\n",
    "used.append(\"Output linear\")\n",
    "used.append(\"Optimizer: Adam(lr=0.01)\")\n",
    "used.append(\"Loss Calculation: Mean Squared Error\")\n",
    "used.append(\"EarlyStopping(monitor='val_loss', patience=10, restore_best_weights=True)\")\n",
    "used.append(\"batch_size=1800, epochs=100, early_stopping (patience 10), dropout=0.3 (used in hidden layers only)\")\n",
    "# used.append(\"batch_size=1800, epochs=100, early_stopping\")\n",
    "\n",
    "# Make predictions\n",
    "predictions = model.predict(X_test)"
   ]
  },
  {
   "cell_type": "markdown",
   "metadata": {},
   "source": [
    "<h1>With Skilearn<h1>"
   ]
  },
  {
   "cell_type": "code",
   "execution_count": 16,
   "metadata": {},
   "outputs": [],
   "source": [
    "# features_used = X_train.shape[1]\n",
    "\n",
    "# # # optimizerUsing = SGD(learning_rate=0.01, momentum=0.9)\n",
    "\n",
    "# # # optimizerUsing = Adam(lr=0.001, beta_1=0.9, beta_2=0.999, epsilon=1e-07, amsgrad=False)\n",
    "# # optimizerUsing = Adam(lr=0.001)#, epsilon=1e-07)\n",
    "\n",
    "# # Build the neural network using MLPRegressor from scikit-learn\n",
    "# model = MLPRegressor(hidden_layer_sizes=(300,210,180,70,10), activation='relu', solver='adam', shuffle=False, max_iter=100,\n",
    "#                      batch_size=1800, early_stopping=True, verbose=True, random_state=42)\n",
    "\n",
    "# # Train the model\n",
    "# model.fit(X_train, y_train)\n",
    "\n",
    "# used.append(\"MLPRegressor(hidden_layer_sizes=(300,210,180,70,10), activation='relu', solver='adam', shuffle=False, max_iter=100, batch_size=1800, early_stopping=True, verbose=True, random_state=42)\")\n",
    "# # used.append(\"1 Hidden Layer: Hidden Layer 1 with 140 neurons relu activation, Output linear\")\n",
    "# # used.append(\"2 Hidden Layers: Hidden Layer 1 with 100 neurons relu activation, Hidden Layer 2 with 50 neurons relu activation, Dropout 0.3, Output linear\")\n",
    "# used.append(\"5 Hidden Layers: Hidden Layer 1 with 300 neurons, Hidden Layer 2 with 210 neurons, Hidden Layer 3 with 180 neurons, Hidden Layer 4 with 70 neurons, Hidden Layer 5 with 10 neurons\")\n",
    "# # used.append(\"Output linear\")\n",
    "# used.append(\"Optimizer: Adam\")\n",
    "# # used.append(\"Loss Calculation: Mean Squared Error\")\n",
    "# # used.append(\"EarlyStopping(monitor='val_loss', patience=10, restore_best_weights=True)\")\n",
    "# # used.append(\"batch_size=1800, epochs=100, early_stopping, dropout=0.3 (used in hidden layers only)\")\n",
    "# used.append(\"batch_size=1800, epochs=100, early_stopping\")\n",
    "\n",
    "# # Make predictions\n",
    "# predictions = model.predict(X_test)"
   ]
  },
  {
   "cell_type": "code",
   "execution_count": 17,
   "metadata": {},
   "outputs": [],
   "source": [
    "# Create a DataFrame with the results\n",
    "submission_df = pd.DataFrame({'row ID': test_data['row ID'], 'price_doc': predictions.flatten()})\n",
    "\n",
    "# Save the results to a CSV file\n",
    "submission_df.to_csv('Day9.1.csv', index=False)"
   ]
  },
  {
   "cell_type": "code",
   "execution_count": 18,
   "metadata": {},
   "outputs": [
    {
     "name": "stdout",
     "output_type": "stream",
     "text": [
      "Features Used = 271\n",
      "\n",
      "Label Encoding\n",
      "Converted All Columns To float32\n",
      "log Normalization\n",
      "StandardScaler\n",
      "Keras With Torch Backend\n",
      "4 Hidden Layers: Hidden Layer 1 with 300 neurons relu activation L2 regularization, Hidden Layer 2 with 210 neurons relu activation L2 regularization, Hidden Layer 3 with 150 neurons relu activation L2 regularization, Hidden Layer 4 with 60 neurons relu activation L2 regularization\n",
      "Output linear\n",
      "Optimizer: Adam(lr=0.01)\n",
      "Loss Calculation: Mean Squared Error\n",
      "EarlyStopping(monitor='val_loss', patience=10, restore_best_weights=True)\n",
      "batch_size=1800, epochs=100, early_stopping (patience 10), dropout=0.3 (used in hidden layers only)\n"
     ]
    }
   ],
   "source": [
    "print(\"Features Used = \" + str(features_used) + \"\\n\")\n",
    "for i in used:\n",
    "    print(i)"
   ]
  }
 ],
 "metadata": {
  "kernelspec": {
   "display_name": "Python 3",
   "language": "python",
   "name": "python3"
  },
  "language_info": {
   "codemirror_mode": {
    "name": "ipython",
    "version": 3
   },
   "file_extension": ".py",
   "mimetype": "text/x-python",
   "name": "python",
   "nbconvert_exporter": "python",
   "pygments_lexer": "ipython3",
   "version": "3.11.4"
  }
 },
 "nbformat": 4,
 "nbformat_minor": 2
}
