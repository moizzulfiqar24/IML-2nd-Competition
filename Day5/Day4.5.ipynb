{
 "cells": [
  {
   "cell_type": "code",
   "execution_count": 1,
   "metadata": {},
   "outputs": [],
   "source": [
    "import numpy as np\n",
    "import pandas as pd\n",
    "from sklearn.linear_model import LinearRegression\n",
    "from sklearn.metrics import mean_squared_error, r2_score\n",
    "from sklearn.model_selection import train_test_split\n",
    "from sklearn.feature_selection import SequentialFeatureSelector\n",
    "from sklearn.preprocessing import MinMaxScaler\n",
    "from sklearn.preprocessing import LabelEncoder\n",
    "from scipy.stats import skew\n",
    "from sklearn.decomposition import PCA\n",
    "import statsmodels.api as sm\n",
    "from sklearn.preprocessing import PolynomialFeatures\n",
    "from matplotlib import pyplot as plt"
   ]
  },
  {
   "cell_type": "code",
   "execution_count": 2,
   "metadata": {},
   "outputs": [],
   "source": [
    "train = pd.read_csv('../../2nd-Comp-Data/train.csv')\n",
    "test = pd.read_csv('../../2nd-Comp-Data/test.csv')\n",
    "testOriginal = pd.read_csv('../../2nd-Comp-Data/test.csv')"
   ]
  },
  {
   "cell_type": "code",
   "execution_count": 3,
   "metadata": {},
   "outputs": [
    {
     "data": {
      "text/plain": [
       "(181507, 272)"
      ]
     },
     "execution_count": 3,
     "metadata": {},
     "output_type": "execute_result"
    }
   ],
   "source": [
    "train.shape"
   ]
  },
  {
   "cell_type": "code",
   "execution_count": 4,
   "metadata": {},
   "outputs": [],
   "source": [
    "test.drop('row ID', axis=1, inplace=True)"
   ]
  },
  {
   "cell_type": "markdown",
   "metadata": {},
   "source": [
    "<h3>SubArea Removal<h3>"
   ]
  },
  {
   "cell_type": "code",
   "execution_count": 5,
   "metadata": {},
   "outputs": [],
   "source": [
    "test.drop('sub_area', axis=1, inplace=True)\n",
    "train.drop('sub_area', axis=1, inplace=True)"
   ]
  },
  {
   "cell_type": "markdown",
   "metadata": {},
   "source": [
    "<h1>Categorical To Numerical<h1>"
   ]
  },
  {
   "cell_type": "markdown",
   "metadata": {},
   "source": [
    "<h3>OneHot<h3>"
   ]
  },
  {
   "cell_type": "code",
   "execution_count": 6,
   "metadata": {},
   "outputs": [],
   "source": [
    "train = pd.get_dummies(train)\n",
    "test = pd.get_dummies(test)"
   ]
  },
  {
   "cell_type": "markdown",
   "metadata": {},
   "source": [
    "<h3>Label<h3>"
   ]
  },
  {
   "cell_type": "code",
   "execution_count": 7,
   "metadata": {},
   "outputs": [],
   "source": [
    "# categorical_columns = train.select_dtypes(include=['object']).columns.tolist()\n",
    "# print(\"Train: Categorical columns:\", categorical_columns)\n",
    "\n",
    "# label_encoder = LabelEncoder()\n",
    "\n",
    "# for column in categorical_columns:\n",
    "#     train[column] = label_encoder.fit_transform(train[column])\n",
    "\n",
    "# categorical_columns_test = test.select_dtypes(include=['object']).columns.tolist()\n",
    "# print(\"Test: Categorical columns:\", categorical_columns_test)\n",
    "\n",
    "# label_encoder = LabelEncoder()\n",
    "\n",
    "# for column in categorical_columns_test:\n",
    "#     test[column] = label_encoder.fit_transform(test[column])"
   ]
  },
  {
   "cell_type": "markdown",
   "metadata": {},
   "source": [
    "<h1>Scaling<h1>"
   ]
  },
  {
   "cell_type": "code",
   "execution_count": 8,
   "metadata": {},
   "outputs": [],
   "source": [
    "# def check_scaling_needed(dataframe, threshold=5):\n",
    "#     \"\"\"\n",
    "#     Identify columns in a pandas DataFrame that may require scaling.\n",
    "\n",
    "#     Parameters:\n",
    "#     - dataframe: pandas DataFrame\n",
    "#     - threshold: Range threshold to determine if a column requires scaling (default is 5)\n",
    "\n",
    "#     Returns:\n",
    "#     - List of tuples containing (column_name, range_value) for columns that may require scaling.\n",
    "#     \"\"\"\n",
    "#     scaling_needed_columns = []\n",
    "\n",
    "#     for column in dataframe.columns:\n",
    "#         if dataframe[column].dtype in ['int64', 'float64']:\n",
    "#             column_range = dataframe[column].max() - dataframe[column].min()\n",
    "#             if column_range > threshold:\n",
    "#                 scaling_needed_columns.append((column, column_range))\n",
    "\n",
    "#     return scaling_needed_columns\n",
    "\n",
    "# scaling_needed_columns = check_scaling_needed(train)\n",
    "\n",
    "# if not scaling_needed_columns:\n",
    "#     print(\"No columns require scaling.\")\n",
    "# else:\n",
    "#     print(\"Columns that may require scaling:\")\n",
    "#     for column, column_range in scaling_needed_columns:\n",
    "#         print(f\"{column}: Range = {column_range}\")\n"
   ]
  },
  {
   "cell_type": "code",
   "execution_count": 9,
   "metadata": {},
   "outputs": [],
   "source": [
    "# scaling_needed_columns = check_scaling_needed(train)\n",
    "# scaler = MinMaxScaler()\n",
    "\n",
    "# for column, _ in scaling_needed_columns:\n",
    "#     if train[column].dtype in ['int64', 'float64']:\n",
    "#         train[column] = scaler.fit_transform(train[[column]])"
   ]
  },
  {
   "cell_type": "markdown",
   "metadata": {},
   "source": [
    "<h1>Normalization<h1>"
   ]
  },
  {
   "cell_type": "code",
   "execution_count": 10,
   "metadata": {},
   "outputs": [],
   "source": [
    "# def find_skewed_columns(dataframe, threshold=0.5):\n",
    "#     \"\"\"\n",
    "#     Identify skewed columns in a pandas DataFrame.\n",
    "\n",
    "#     Parameters:\n",
    "#     - dataframe: pandas DataFrame\n",
    "#     - threshold: Skewness threshold to determine if a column is skewed (default is 0.5)\n",
    "\n",
    "#     Returns:\n",
    "#     - List of tuples containing (column_name, skewness_value) for skewed columns.\n",
    "#     \"\"\"\n",
    "#     skewed_columns = []\n",
    "    \n",
    "#     for column in dataframe.columns:\n",
    "#         if dataframe[column].dtype in ['int64', 'float64']:\n",
    "#             skewness = skew(dataframe[column])\n",
    "#             if abs(skewness) > threshold:\n",
    "#                 skewed_columns.append((column, skewness))\n",
    "    \n",
    "#     return skewed_columns\n",
    "\n",
    "# skewed_columns = find_skewed_columns(train)\n",
    "\n",
    "# if not skewed_columns:\n",
    "#     print(\"No skewed columns found.\")\n",
    "# else:\n",
    "#     print(\"Skewed columns:\")\n",
    "#     for column, skewness in skewed_columns:\n",
    "#         print(f\"{column}: Skewness = {skewness}\")"
   ]
  },
  {
   "cell_type": "code",
   "execution_count": 11,
   "metadata": {},
   "outputs": [],
   "source": [
    "# for column, _ in skewed_columns:\n",
    "#     if train[column].dtype in ['int64', 'float64']:\n",
    "#         train[column] = train[column].apply(lambda x: 1 if x == 0 else np.log(x))"
   ]
  },
  {
   "cell_type": "markdown",
   "metadata": {},
   "source": [
    "<h1>Working<h1>"
   ]
  },
  {
   "cell_type": "code",
   "execution_count": 12,
   "metadata": {},
   "outputs": [],
   "source": [
    "X = train.loc[:, train.columns != 'price_doc']\n",
    "y = train[['price_doc']]"
   ]
  },
  {
   "cell_type": "code",
   "execution_count": 13,
   "metadata": {},
   "outputs": [
    {
     "data": {
      "text/plain": [
       "(181507, 287)"
      ]
     },
     "execution_count": 13,
     "metadata": {},
     "output_type": "execute_result"
    }
   ],
   "source": [
    "X.shape"
   ]
  },
  {
   "cell_type": "code",
   "execution_count": 14,
   "metadata": {},
   "outputs": [
    {
     "data": {
      "text/plain": [
       "(77789, 287)"
      ]
     },
     "execution_count": 14,
     "metadata": {},
     "output_type": "execute_result"
    }
   ],
   "source": [
    "test.shape"
   ]
  },
  {
   "cell_type": "markdown",
   "metadata": {},
   "source": [
    "<h3>PCA<h3> \n",
    "<h5><i>Remember to set X2 & test2<i><h5>"
   ]
  },
  {
   "cell_type": "code",
   "execution_count": 15,
   "metadata": {},
   "outputs": [],
   "source": [
    "# X.shape"
   ]
  },
  {
   "cell_type": "code",
   "execution_count": 16,
   "metadata": {},
   "outputs": [],
   "source": [
    "# test.shape"
   ]
  },
  {
   "cell_type": "code",
   "execution_count": 17,
   "metadata": {},
   "outputs": [],
   "source": [
    "# pca = PCA(n_components=20)\n",
    "# principalComponents = pca.fit_transform(X)\n",
    "# X2 = pd.DataFrame(data = principalComponents)\n",
    "\n",
    "# pca2 = PCA(n_components=20)\n",
    "# principalComponents = pca2.fit_transform(test)\n",
    "# test2 = pd.DataFrame(data = principalComponents)"
   ]
  },
  {
   "cell_type": "code",
   "execution_count": 18,
   "metadata": {},
   "outputs": [],
   "source": [
    "# #plot an elbow graph to find the optimal number of components\n",
    "# import matplotlib.pyplot as plt\n",
    "# plt.plot(pca.explained_variance_ratio_)\n",
    "# plt.xlabel('number of components')\n",
    "# plt.ylabel('cumulative explained variance')"
   ]
  },
  {
   "cell_type": "code",
   "execution_count": 19,
   "metadata": {},
   "outputs": [],
   "source": [
    "# ols_reg = LinearRegression()\n",
    "# sfs = SequentialFeatureSelector(ols_reg, direction='forward',n_features_to_select=5)\n",
    "# sfs.fit(X, y)\n",
    "# print(sfs.get_feature_names_out())"
   ]
  },
  {
   "cell_type": "code",
   "execution_count": 20,
   "metadata": {},
   "outputs": [],
   "source": [
    "# X = X[['full_sq', 'mosque_count_500', 'leisure_count_500', 'cafe_count_1000_price_high', 'leisure_count_1000']]\n",
    "# test = test[['full_sq', 'mosque_count_500', 'leisure_count_500', 'cafe_count_1000_price_high', 'leisure_count_1000']]"
   ]
  },
  {
   "cell_type": "markdown",
   "metadata": {},
   "source": [
    "<h1>Feature Importance<h1>"
   ]
  },
  {
   "cell_type": "code",
   "execution_count": 21,
   "metadata": {},
   "outputs": [
    {
     "name": "stdout",
     "output_type": "stream",
     "text": [
      "Feature: 0, Score: 952.95224\n",
      "Feature: 1, Score: 290.01412\n",
      "Feature: 2, Score: 61106.39325\n",
      "Feature: 3, Score: 0.00084\n",
      "Feature: 4, Score: 3.54503\n",
      "Feature: 5, Score: 448886.27176\n",
      "Feature: 6, Score: -107868.81970\n",
      "Feature: 7, Score: 80.52946\n",
      "Feature: 8, Score: 125917.86018\n",
      "Feature: 9, Score: -37.11222\n",
      "Feature: 10, Score: 23054.81118\n",
      "Feature: 11, Score: 1088070.21973\n",
      "Feature: 12, Score: 169302.58063\n",
      "Feature: 13, Score: 312970.33038\n",
      "Feature: 14, Score: 13129.94495\n",
      "Feature: 15, Score: -45430.12752\n",
      "Feature: 16, Score: -1496.01322\n",
      "Feature: 17, Score: -25659.34240\n",
      "Feature: 18, Score: 5132.98169\n",
      "Feature: 19, Score: -0.00496\n",
      "Feature: 20, Score: 1.99733\n",
      "Feature: 21, Score: 0.74503\n",
      "Feature: 22, Score: 4.46075\n",
      "Feature: 23, Score: -10.68996\n",
      "Feature: 24, Score: 60.62037\n",
      "Feature: 25, Score: 1.52002\n",
      "Feature: 26, Score: -9.97482\n",
      "Feature: 27, Score: -7.02796\n",
      "Feature: 28, Score: 7.70234\n",
      "Feature: 29, Score: 51.40941\n",
      "Feature: 30, Score: 28.72281\n",
      "Feature: 31, Score: 0.00336\n",
      "Feature: 32, Score: 21.69726\n",
      "Feature: 33, Score: 135.21603\n",
      "Feature: 34, Score: -5.90252\n",
      "Feature: 35, Score: 2.35085\n",
      "Feature: 36, Score: -46.66568\n",
      "Feature: 37, Score: 11.53773\n",
      "Feature: 38, Score: 19.16066\n",
      "Feature: 39, Score: -22.53263\n",
      "Feature: 40, Score: 1.61726\n",
      "Feature: 41, Score: -4.93584\n",
      "Feature: 42, Score: 5.05501\n",
      "Feature: 43, Score: -7.72148\n",
      "Feature: 44, Score: -38.95254\n",
      "Feature: 45, Score: -31.36322\n",
      "Feature: 46, Score: -536.00093\n",
      "Feature: 47, Score: -2282.12535\n",
      "Feature: 48, Score: 603.44386\n",
      "Feature: 49, Score: 6579.18688\n",
      "Feature: 50, Score: -24.09709\n",
      "Feature: 51, Score: 20214.47433\n",
      "Feature: 52, Score: -2298.94053\n",
      "Feature: 53, Score: 58594.47181\n",
      "Feature: 54, Score: 5161.04493\n",
      "Feature: 55, Score: 71972.65681\n",
      "Feature: 56, Score: -1544.86782\n",
      "Feature: 57, Score: -362.57206\n",
      "Feature: 58, Score: 561.62406\n",
      "Feature: 59, Score: 233.37898\n",
      "Feature: 60, Score: -7847.33178\n",
      "Feature: 61, Score: 1550.32620\n",
      "Feature: 62, Score: 2268.57503\n",
      "Feature: 63, Score: 5191.20524\n",
      "Feature: 64, Score: 11829.16949\n",
      "Feature: 65, Score: -1394.97472\n",
      "Feature: 66, Score: -3116.25028\n",
      "Feature: 67, Score: 41756.55177\n",
      "Feature: 68, Score: -14044.54200\n",
      "Feature: 69, Score: 20833.57542\n",
      "Feature: 70, Score: 1116592.47067\n",
      "Feature: 71, Score: 262879.91134\n",
      "Feature: 72, Score: -26887.98097\n",
      "Feature: 73, Score: 62758.80058\n",
      "Feature: 74, Score: 7604.31031\n",
      "Feature: 75, Score: 11156.89296\n",
      "Feature: 76, Score: -1721.54365\n",
      "Feature: 77, Score: -2894.17625\n",
      "Feature: 78, Score: 20638.56887\n",
      "Feature: 79, Score: 24633.77158\n",
      "Feature: 80, Score: -2810.76080\n",
      "Feature: 81, Score: 27781.04628\n",
      "Feature: 82, Score: 5062.12367\n",
      "Feature: 83, Score: 506399.13284\n",
      "Feature: 84, Score: -34518.26170\n",
      "Feature: 85, Score: -15686.21679\n",
      "Feature: 86, Score: 21694.48716\n",
      "Feature: 87, Score: 3173.02347\n",
      "Feature: 88, Score: 11768.27497\n",
      "Feature: 89, Score: 4278.78973\n",
      "Feature: 90, Score: 9182.06772\n",
      "Feature: 91, Score: 87043.89285\n",
      "Feature: 92, Score: -4573.07060\n",
      "Feature: 93, Score: 19341.21457\n",
      "Feature: 94, Score: -13119.28525\n",
      "Feature: 95, Score: 5570.34199\n",
      "Feature: 96, Score: 6709.72251\n",
      "Feature: 97, Score: -23232.76050\n",
      "Feature: 98, Score: 8474.91145\n",
      "Feature: 99, Score: -30109.67404\n",
      "Feature: 100, Score: 4503.82968\n",
      "Feature: 101, Score: -1630.82462\n",
      "Feature: 102, Score: 17411.49856\n",
      "Feature: 103, Score: -5983.81183\n",
      "Feature: 104, Score: -12810.84770\n",
      "Feature: 105, Score: 624.34916\n",
      "Feature: 106, Score: 28390.34612\n",
      "Feature: 107, Score: -23330.68207\n",
      "Feature: 108, Score: -8891.93707\n",
      "Feature: 109, Score: 5545.44184\n",
      "Feature: 110, Score: 28893.41413\n",
      "Feature: 111, Score: 21457.22129\n",
      "Feature: 112, Score: 5044.49186\n",
      "Feature: 113, Score: 315.69246\n",
      "Feature: 114, Score: 6789.81827\n",
      "Feature: 115, Score: -16479.63109\n",
      "Feature: 116, Score: -31668.43690\n",
      "Feature: 117, Score: -30429.27558\n",
      "Feature: 118, Score: 46143.16324\n",
      "Feature: 119, Score: -5257.17426\n",
      "Feature: 120, Score: 7116.78142\n",
      "Feature: 121, Score: 153547.86770\n",
      "Feature: 122, Score: 3064.73207\n",
      "Feature: 123, Score: 7866.78611\n",
      "Feature: 124, Score: -11207.79070\n",
      "Feature: 125, Score: 666.69702\n",
      "Feature: 126, Score: 161458.89936\n",
      "Feature: 127, Score: 20853.54246\n",
      "Feature: 128, Score: 21595.27760\n",
      "Feature: 129, Score: 22197.65359\n",
      "Feature: 130, Score: 1.40360\n",
      "Feature: 131, Score: -24634.81829\n",
      "Feature: 132, Score: 1.21484\n",
      "Feature: 133, Score: 8040.53339\n",
      "Feature: 134, Score: 31389.28798\n",
      "Feature: 135, Score: 12057.90048\n",
      "Feature: 136, Score: 52798.39010\n",
      "Feature: 137, Score: 76692.20350\n",
      "Feature: 138, Score: -21350.62637\n",
      "Feature: 139, Score: 113896.45561\n",
      "Feature: 140, Score: 876910.60377\n",
      "Feature: 141, Score: 58524.48523\n",
      "Feature: 142, Score: 27013.56601\n",
      "Feature: 143, Score: 3046172.97037\n",
      "Feature: 144, Score: 541857.77386\n",
      "Feature: 145, Score: 41107.57636\n",
      "Feature: 146, Score: 331447.87475\n",
      "Feature: 147, Score: 27625.37221\n",
      "Feature: 148, Score: 15756.71168\n",
      "Feature: 149, Score: 25798.65714\n",
      "Feature: 150, Score: 1.11272\n",
      "Feature: 151, Score: -69745.80419\n",
      "Feature: 152, Score: 0.96755\n",
      "Feature: 153, Score: 137.50245\n",
      "Feature: 154, Score: 28946.97659\n",
      "Feature: 155, Score: -4803.69554\n",
      "Feature: 156, Score: 5167.63323\n",
      "Feature: 157, Score: 20714.12915\n",
      "Feature: 158, Score: -4874.17210\n",
      "Feature: 159, Score: -1441.60300\n",
      "Feature: 160, Score: 477015.45326\n",
      "Feature: 161, Score: 72211.58031\n",
      "Feature: 162, Score: -23111.60177\n",
      "Feature: 163, Score: 2211209.44003\n",
      "Feature: 164, Score: 117433.68051\n",
      "Feature: 165, Score: 8617.13493\n",
      "Feature: 166, Score: 348101.21164\n",
      "Feature: 167, Score: 14898.39070\n",
      "Feature: 168, Score: -6084.08352\n",
      "Feature: 169, Score: 643.86756\n",
      "Feature: 170, Score: 0.30418\n",
      "Feature: 171, Score: 57343.42165\n",
      "Feature: 172, Score: 0.06641\n",
      "Feature: 173, Score: -797.84683\n",
      "Feature: 174, Score: -17454.70326\n",
      "Feature: 175, Score: -790.99670\n",
      "Feature: 176, Score: -679.32432\n",
      "Feature: 177, Score: 1736.84771\n",
      "Feature: 178, Score: 8099.79766\n",
      "Feature: 179, Score: -10746.22157\n",
      "Feature: 180, Score: 38217.55311\n",
      "Feature: 181, Score: 8874.38297\n",
      "Feature: 182, Score: 16190.19155\n",
      "Feature: 183, Score: 1605046.87139\n",
      "Feature: 184, Score: 39487.98344\n",
      "Feature: 185, Score: 9356.37999\n",
      "Feature: 186, Score: 94467.90055\n",
      "Feature: 187, Score: -14347.62985\n",
      "Feature: 188, Score: -946.69134\n",
      "Feature: 189, Score: -4676.11387\n",
      "Feature: 190, Score: 0.22954\n",
      "Feature: 191, Score: -5715.57029\n",
      "Feature: 192, Score: 0.68372\n",
      "Feature: 193, Score: -521.71045\n",
      "Feature: 194, Score: 45.91608\n",
      "Feature: 195, Score: 577.49848\n",
      "Feature: 196, Score: 172.82850\n",
      "Feature: 197, Score: -1956.05503\n",
      "Feature: 198, Score: -973.63250\n",
      "Feature: 199, Score: -4399.20857\n",
      "Feature: 200, Score: -5264.21691\n",
      "Feature: 201, Score: -2427.24096\n",
      "Feature: 202, Score: -19815.46322\n",
      "Feature: 203, Score: 82493.98185\n",
      "Feature: 204, Score: 9998.16784\n",
      "Feature: 205, Score: -241.53513\n",
      "Feature: 206, Score: -1215330.31080\n",
      "Feature: 207, Score: -6151.55722\n",
      "Feature: 208, Score: 45488.15650\n",
      "Feature: 209, Score: -42142.31888\n",
      "Feature: 210, Score: -3611.67441\n",
      "Feature: 211, Score: 20886.04857\n",
      "Feature: 212, Score: -1391.22470\n",
      "Feature: 213, Score: 0.05142\n",
      "Feature: 214, Score: 8707.96119\n",
      "Feature: 215, Score: 0.11172\n",
      "Feature: 216, Score: 368.68682\n",
      "Feature: 217, Score: 197.12271\n",
      "Feature: 218, Score: 253.23500\n",
      "Feature: 219, Score: 352.88516\n",
      "Feature: 220, Score: -7474.95240\n",
      "Feature: 221, Score: -1539.50955\n",
      "Feature: 222, Score: -1392.52248\n",
      "Feature: 223, Score: -1658.97772\n",
      "Feature: 224, Score: -2073.42372\n",
      "Feature: 225, Score: -5537.25627\n",
      "Feature: 226, Score: 2439.97776\n",
      "Feature: 227, Score: -6041.37309\n",
      "Feature: 228, Score: -865.58941\n",
      "Feature: 229, Score: -462636.65320\n",
      "Feature: 230, Score: -8094.96213\n",
      "Feature: 231, Score: 7820.41534\n",
      "Feature: 232, Score: -41146.84019\n",
      "Feature: 233, Score: 11015.93227\n",
      "Feature: 234, Score: -32244.21652\n",
      "Feature: 235, Score: -389.14088\n",
      "Feature: 236, Score: 0.07708\n",
      "Feature: 237, Score: 3964.99027\n",
      "Feature: 238, Score: 0.18901\n",
      "Feature: 239, Score: -343.97039\n",
      "Feature: 240, Score: 215.39181\n",
      "Feature: 241, Score: -9.73615\n",
      "Feature: 242, Score: 453.27855\n",
      "Feature: 243, Score: 1019.65109\n",
      "Feature: 244, Score: -491.00325\n",
      "Feature: 245, Score: -792.25673\n",
      "Feature: 246, Score: -256.91536\n",
      "Feature: 247, Score: -250.62086\n",
      "Feature: 248, Score: 446.40731\n",
      "Feature: 249, Score: 3668.49393\n",
      "Feature: 250, Score: 966.76875\n",
      "Feature: 251, Score: 2575.55345\n",
      "Feature: 252, Score: 292716.75314\n",
      "Feature: 253, Score: 2240.96101\n",
      "Feature: 254, Score: 1305.96740\n",
      "Feature: 255, Score: 52210.45352\n",
      "Feature: 256, Score: -413979.32723\n",
      "Feature: 257, Score: 413979.32723\n",
      "Feature: 258, Score: -467878.76136\n",
      "Feature: 259, Score: 467878.76136\n",
      "Feature: 260, Score: 9829.26095\n",
      "Feature: 261, Score: -9829.26095\n",
      "Feature: 262, Score: -582840.27719\n",
      "Feature: 263, Score: 582840.27719\n",
      "Feature: 264, Score: -467427.47932\n",
      "Feature: 265, Score: 467427.47932\n",
      "Feature: 266, Score: 158527.87861\n",
      "Feature: 267, Score: -158527.87861\n",
      "Feature: 268, Score: -286568.49333\n",
      "Feature: 269, Score: 286568.49333\n",
      "Feature: 270, Score: -401798.01626\n",
      "Feature: 271, Score: 401798.01626\n",
      "Feature: 272, Score: -529236.88184\n",
      "Feature: 273, Score: 529236.88184\n",
      "Feature: 274, Score: 87073.68013\n",
      "Feature: 275, Score: -87073.68013\n",
      "Feature: 276, Score: -425087.47485\n",
      "Feature: 277, Score: 425087.47485\n",
      "Feature: 278, Score: -483584.76482\n",
      "Feature: 279, Score: 483584.76482\n",
      "Feature: 280, Score: -228269.64253\n",
      "Feature: 281, Score: 228269.64253\n",
      "Feature: 282, Score: -495962.18836\n",
      "Feature: 283, Score: 579429.52363\n",
      "Feature: 284, Score: -946167.60291\n",
      "Feature: 285, Score: 42129.87977\n",
      "Feature: 286, Score: 820570.38787\n",
      "53\n"
     ]
    },
    {
     "data": {
      "image/png": "[encoded data removed]",
      "text/plain": [
       "<Figure size 640x480 with 1 Axes>"
      ]
     },
     "metadata": {},
     "output_type": "display_data"
    }
   ],
   "source": [
    "#give me code for feature importance using linear regression\n",
    "model = LinearRegression()\n",
    "model.fit(X, y)\n",
    "# get importance\n",
    "importance = model.coef_[0]\n",
    "# summarize feature importance\n",
    "for i,v in enumerate(importance):\n",
    "    print('Feature: %0d, Score: %.5f' % (i,v))\n",
    "\n",
    "# drop features with low importance\n",
    "threshold = 40000  # Adjust the threshold as needed\n",
    "selected_features = [feature for feature, score in zip(X.columns, importance) if score >= threshold]\n",
    "print(len(selected_features))\n",
    "X = X[selected_features]\n",
    "test = test[selected_features]\n",
    "\n",
    "# plot feature importance\n",
    "plt.bar([x for x in range(len(importance))], importance)\n",
    "plt.show()"
   ]
  },
  {
   "cell_type": "markdown",
   "metadata": {},
   "source": [
    "<h1>Forward Feature Selection<h1>"
   ]
  },
  {
   "cell_type": "code",
   "execution_count": 22,
   "metadata": {},
   "outputs": [],
   "source": [
    "# ols_reg = LinearRegression()\n",
    "# sfs = SequentialFeatureSelector(ols_reg, direction='forward',n_features_to_select=15)\n",
    "# sfs.fit(X, y)\n",
    "# print(sfs.get_feature_names_out())"
   ]
  },
  {
   "cell_type": "code",
   "execution_count": 23,
   "metadata": {},
   "outputs": [],
   "source": [
    "# X2 = X[['full_sq', 'mosque_count_500', 'leisure_count_500', 'cafe_count_1000_price_high', 'leisure_count_1000']]\n",
    "# test2 = test[['full_sq', 'mosque_count_500', 'leisure_count_500', 'cafe_count_1000_price_high', 'leisure_count_1000']]"
   ]
  },
  {
   "cell_type": "markdown",
   "metadata": {},
   "source": [
    "<h1>P-Value Selection<h1>"
   ]
  },
  {
   "cell_type": "code",
   "execution_count": 24,
   "metadata": {},
   "outputs": [],
   "source": [
    "# def find_significant_columns(df, target_variable_name):\n",
    "#     # Initialize lists to store column names and corresponding p-values\n",
    "#     significant_columns = []\n",
    "#     p_values = []\n",
    "\n",
    "#     # Loop through each column in the DataFrame\n",
    "#     for column in df.columns:\n",
    "#         # Skip the target variable itself\n",
    "#         if column == target_variable_name:\n",
    "#             continue\n",
    "        \n",
    "#         # Add a constant term for the intercept\n",
    "#         X = sm.add_constant(df[column])\n",
    "        \n",
    "#         # Fit the linear regression model\n",
    "#         model = sm.OLS(df[target_variable_name], X).fit()\n",
    "        \n",
    "#         # Get the p-value for the coefficient of the predictor variable\n",
    "#         p_value = model.pvalues[1]\n",
    "        \n",
    "#         # Print information about the current column\n",
    "#         print(f\"{column}: p-value = {p_value}\")\n",
    "        \n",
    "#         # Check if the p-value is less than or equal to 0.05\n",
    "#         if p_value <= 0.05:\n",
    "#             significant_columns.append(column)\n",
    "#             p_values.append(p_value)\n",
    "\n",
    "#     # Print total significant columns\n",
    "#     print(\"\\nTotal columns with p-value <= 0.05:\", len(significant_columns))\n",
    "    \n",
    "#     # Print names of significant columns\n",
    "#     print(\"\\nColumns with p-value <= 0.05:\", significant_columns)\n",
    "    \n",
    "#     # Create a new DataFrame with only the significant columns\n",
    "#     df_significant = df[significant_columns]\n",
    "    \n",
    "#     return df_significant\n",
    "\n",
    "# # Example usage:\n",
    "# target_variable_name = 'price_doc'\n",
    "# X2 = find_significant_columns(train, target_variable_name)\n",
    "# print(\"\\nDataFrame with significant columns:\")\n",
    "# print(X2)\n",
    "\n",
    "# test2 = test[X2.columns]\n",
    "\n",
    "# X = X.astype(float)\n",
    "# X = sm.add_constant(X)\n",
    "# mod = sm.OLS(y, X)\n",
    "# res = mod.fit()\n",
    "# print(res.summary())"
   ]
  },
  {
   "cell_type": "code",
   "execution_count": 25,
   "metadata": {},
   "outputs": [],
   "source": [
    "# X3 = X\n",
    "\n",
    "# def find_significant_columns(X, y):\n",
    "#     # Convert the entire DataFrame to float\n",
    "#     X = X.astype(float)\n",
    "\n",
    "#     significant_columns = []\n",
    "\n",
    "#     for column in X.columns:\n",
    "#         if X[column].dtype == float:  # Only consider float columns\n",
    "#             X_with_constant = sm.add_constant(X[column])\n",
    "#             model = sm.OLS(y, X_with_constant).fit()\n",
    "#             p_value = model.pvalues[1]  # Extract the p-value for the independent variable\n",
    "\n",
    "#             if p_value <= 0.05:\n",
    "#                 significant_columns.append(column)\n",
    "#                 print(f\"{column}: p-value = {p_value:.4f}\")\n",
    "\n",
    "#     print(\"\\nTotal columns with p-value <= 0.05:\", len(significant_columns))\n",
    "\n",
    "#     # Create a new DataFrame with only significant columns\n",
    "#     significant_df = X[significant_columns]\n",
    "\n",
    "#     return significant_df\n",
    "\n",
    "# X2 = find_significant_columns(X, y)\n",
    "# print(\"\\nDataFrame with significant columns:\")\n",
    "# print(X2)\n",
    "\n",
    "# # print columns in X but not in X2\n",
    "# print(\"\\nColumns in X but not in X2:\")\n",
    "# print(set(X3.columns) - set(X2.columns))\n",
    "\n",
    "# test2 = test[X2.columns]"
   ]
  },
  {
   "cell_type": "code",
   "execution_count": 26,
   "metadata": {},
   "outputs": [],
   "source": [
    "# # print columns in X but not in X2\n",
    "# print(\"\\nColumns in X but not in X2:\")\n",
    "# print(set(X3.columns) - set(X2.columns))"
   ]
  },
  {
   "cell_type": "code",
   "execution_count": 27,
   "metadata": {},
   "outputs": [],
   "source": [
    "# # X = X.astype(float)\n",
    "# # X = sm.add_constant(X)\n",
    "# # mod = sm.OLS(y, X)\n",
    "# # res = mod.fit()\n",
    "# # print(res.summary())\n",
    "\n",
    "# X = X.astype(float)\n",
    "# X = sm.add_constant(X)\n",
    "# mod = sm.OLS(y, X)\n",
    "# res = mod.fit()\n",
    "\n",
    "# file_name = \"output_summary.txt\"\n",
    "\n",
    "# with open(file_name, 'w') as file:\n",
    "#     print(res.summary(), file=file)\n",
    "\n",
    "# print(f\"Summary saved to {file_name}\")"
   ]
  },
  {
   "cell_type": "code",
   "execution_count": 28,
   "metadata": {},
   "outputs": [],
   "source": [
    "# import pandas as pd\n",
    "\n",
    "# def find_significant_columns(file_path):\n",
    "#     # Read the file into a DataFrame\n",
    "#     df = pd.read_table(file_path, skiprows=63)  # Skip the initial rows until the column names\n",
    "\n",
    "#     # Print column names for inspection\n",
    "#     print(\"Column Names:\")\n",
    "#     print(df.columns)\n",
    "\n",
    "#     # Replace 'P>|t|' with the correct column name\n",
    "#     # Extract the column names and p-values\n",
    "#     column_names = df.columns\n",
    "#     p_values = df['Replace_With_Correct_Column_Name']\n",
    "\n",
    "#     # Find columns where p < 0.05\n",
    "#     significant_columns = column_names[p_values < 0.05]\n",
    "\n",
    "#     return significant_columns\n",
    "\n",
    "# # Replace 'output_summary.txt' with the actual file path\n",
    "# file_path = 'output_summary.txt'\n",
    "# significant_columns = find_significant_columns(file_path)\n",
    "\n",
    "# # Print or use the significant columns as needed\n",
    "# print(\"Significant Columns:\")\n",
    "# print(significant_columns)\n"
   ]
  },
  {
   "cell_type": "markdown",
   "metadata": {},
   "source": [
    "<h1> Poly Interaction NOT ONNNNNNNNN<h1>"
   ]
  },
  {
   "cell_type": "code",
   "execution_count": 29,
   "metadata": {},
   "outputs": [],
   "source": [
    "poly = PolynomialFeatures(2)#, interaction_only=True)\n",
    "X2 = poly.fit_transform(X)\n",
    "test2 = poly.fit_transform(test)"
   ]
  },
  {
   "cell_type": "markdown",
   "metadata": {},
   "source": [
    "<h1>Applying Model<h1>"
   ]
  },
  {
   "cell_type": "code",
   "execution_count": 30,
   "metadata": {},
   "outputs": [
    {
     "data": {
      "text/plain": [
       "(181507, 1485)"
      ]
     },
     "execution_count": 30,
     "metadata": {},
     "output_type": "execute_result"
    }
   ],
   "source": [
    "X2.shape"
   ]
  },
  {
   "cell_type": "code",
   "execution_count": 31,
   "metadata": {},
   "outputs": [
    {
     "data": {
      "text/plain": [
       "(77789, 1485)"
      ]
     },
     "execution_count": 31,
     "metadata": {},
     "output_type": "execute_result"
    }
   ],
   "source": [
    "test2.shape"
   ]
  },
  {
   "cell_type": "code",
   "execution_count": 32,
   "metadata": {},
   "outputs": [],
   "source": [
    "# X_train, X_test, y_train, y_test = train_test_split(X, y, test_size = 0.3)"
   ]
  },
  {
   "cell_type": "code",
   "execution_count": 33,
   "metadata": {},
   "outputs": [],
   "source": [
    "# reg2 = LinearRegression().fit(X_train, y_train)\n",
    "# y_pred = reg2.predict(X_test)\n",
    "# print(\"LR: R2 = %.4f and MSE = %.2f\" % (reg2.score(X_test,y_test), mean_squared_error(y_test, y_pred)))"
   ]
  },
  {
   "cell_type": "code",
   "execution_count": 34,
   "metadata": {},
   "outputs": [],
   "source": [
    "# reg2 = LinearRegression().fit(X_train, y_train)\n",
    "# y_pred = reg2.predict(X_test)\n",
    "# print(\"LR: R2 = %.4f and MSE = %.2f\" % (reg2.score(X_test,y_test), mean_squared_error(y_test, y_pred)))"
   ]
  },
  {
   "cell_type": "code",
   "execution_count": 35,
   "metadata": {},
   "outputs": [
    {
     "name": "stdout",
     "output_type": "stream",
     "text": [
      "[[ 8.40320198e+08  2.26845819e+05  5.11978843e+06 ... -6.37063078e+13\n",
      "   0.00000000e+00  2.54933654e+13]]\n",
      "[-8.38259501e+08]\n"
     ]
    }
   ],
   "source": [
    "reg2 = LinearRegression().fit(X2, y)\n",
    "print(reg2.coef_)\n",
    "print(reg2.intercept_)\n",
    "y_pred = reg2.predict(test2)"
   ]
  },
  {
   "cell_type": "code",
   "execution_count": 36,
   "metadata": {},
   "outputs": [],
   "source": [
    "result_df = pd.DataFrame({'row ID': testOriginal['row ID'], 'price_doc': y_pred.flatten()})\n",
    "result_df.to_csv('Day4.5.csv', index=False)"
   ]
  }
 ],
 "metadata": {
  "kernelspec": {
   "display_name": "Python 3",
   "language": "python",
   "name": "python3"
  },
  "language_info": {
   "codemirror_mode": {
    "name": "ipython",
    "version": 3
   },
   "file_extension": ".py",
   "mimetype": "text/x-python",
   "name": "python",
   "nbconvert_exporter": "python",
   "pygments_lexer": "ipython3",
   "version": "3.11.4"
  }
 },
 "nbformat": 4,
 "nbformat_minor": 2
}
